{
 "cells": [
  {
   "cell_type": "markdown",
   "id": "relevant-director",
   "metadata": {},
   "source": [
    "# Controlador de vuelo para vehículos aéreos no tripulados multi-rotor basado en técnicas de aprendizaje profundo\n",
    "\n",
    "## Entrenamiento Red LSTM\n",
    "\n",
    "### Javier Cárdenas - Uriel Carrero"
   ]
  },
  {
   "cell_type": "markdown",
   "id": "binary-dodge",
   "metadata": {},
   "source": [
    "## 1. Descripción del Dataset"
   ]
  },
  {
   "cell_type": "markdown",
   "id": "korean-absorption",
   "metadata": {},
   "source": [
    "#### Importar Librerías"
   ]
  },
  {
   "cell_type": "code",
   "execution_count": 1,
   "id": "formal-genetics",
   "metadata": {
    "scrolled": true
   },
   "outputs": [
    {
     "name": "stdout",
     "output_type": "stream",
     "text": [
      "1.19.5\n"
     ]
    },
    {
     "data": {
      "text/plain": [
       "{'divide': 'warn', 'over': 'warn', 'under': 'ignore', 'invalid': 'warn'}"
      ]
     },
     "execution_count": 1,
     "metadata": {},
     "output_type": "execute_result"
    }
   ],
   "source": [
    "import os\n",
    "import sys\n",
    "import random\n",
    "import csv\n",
    "\n",
    "import matplotlib.pyplot as plt     # Gráficos\n",
    "import pandas as pd\n",
    "pd.set_option('display.max_columns', None) #Para mostrar todas las columnas\n",
    "\n",
    "import numpy as np                  # Cómputo Numérico\n",
    "print(np.__version__)\n",
    "assert (np.__version__=='1.19.5'), 'Versión incorrecta de numpy, por favor instale 1.19.5'\n",
    "seed = 5\n",
    "np.random.seed(seed)\n",
    "np.seterr(divide = 'ignore')"
   ]
  },
  {
   "cell_type": "code",
   "execution_count": 2,
   "id": "trained-source",
   "metadata": {},
   "outputs": [
    {
     "name": "stdout",
     "output_type": "stream",
     "text": [
      "2.5.0\n",
      "Num GPUs Available:  1\n"
     ]
    }
   ],
   "source": [
    "import keras as kr\n",
    "\n",
    "import tensorflow as tf\n",
    "from tensorflow.keras import models, layers\n",
    "print(tf.__version__)\n",
    "assert (tf.__version__=='2.5.0'), 'Versión incorrecta de Tensorflow, por favor instale 2.5.0'\n",
    "print(\"Num GPUs Available: \", len(tf.config.list_physical_devices('GPU')))\n",
    "\n",
    "from tensorflow.compat.v1 import ConfigProto\n",
    "from tensorflow.compat.v1 import InteractiveSession\n",
    "\n",
    "from sklearn.utils import shuffle\n",
    "from sklearn.model_selection import train_test_split\n",
    "\n",
    "from IPython.display import clear_output"
   ]
  },
  {
   "cell_type": "code",
   "execution_count": 3,
   "id": "changing-chain",
   "metadata": {},
   "outputs": [
    {
     "name": "stdout",
     "output_type": "stream",
     "text": [
      "1 Physical GPUs, 1 Logical GPUs\n"
     ]
    }
   ],
   "source": [
    "gpus = tf.config.list_physical_devices('GPU')\n",
    "config = ConfigProto()\n",
    "if gpus:\n",
    "    try:\n",
    "        config.gpu_options.allow_growth = True\n",
    "        tf.compat.v1.enable_eager_execution()\n",
    "\n",
    "        os.environ[\"TF_CPP_MIN_LOG_LEVEL\"] = \"2\"\n",
    "        # Currently, memory growth needs to be the same across GPUs\n",
    "        for gpu in gpus:\n",
    "            tf.config.experimental.set_memory_growth(gpu, True)\n",
    "        logical_gpus = tf.config.experimental.list_logical_devices('GPU')\n",
    "        print(len(gpus), \"Physical GPUs,\", len(logical_gpus), \"Logical GPUs\")\n",
    "    except RuntimeError as e:\n",
    "        # Memory growth must be set before GPUs have been initialized\n",
    "        print(e)\n",
    "session = InteractiveSession(config=config)"
   ]
  },
  {
   "cell_type": "code",
   "execution_count": 4,
   "id": "northern-shame",
   "metadata": {},
   "outputs": [],
   "source": [
    "import gc #garbage collector\n",
    "import gc; gc.enable()"
   ]
  },
  {
   "cell_type": "markdown",
   "id": "offensive-chambers",
   "metadata": {},
   "source": [
    "## Cargar Datos"
   ]
  },
  {
   "cell_type": "markdown",
   "id": "combined-generic",
   "metadata": {},
   "source": [
    "### Leemos el Dataset"
   ]
  },
  {
   "cell_type": "code",
   "execution_count": 5,
   "id": "continental-wheat",
   "metadata": {},
   "outputs": [],
   "source": [
    "root = '../logs/Datasets/'\n",
    "dataset_name = 'Dataset_XYZ_1'\n",
    "rootdir = root+dataset_name\n",
    "ext_csv = False\n",
    "if not os.path.exists(rootdir):\n",
    "    print(f\"{rootdir} not exist\")\n",
    "if ext_csv:\n",
    "    # Colocar la extensión csv porque ajá\n",
    "    for filename in os.listdir(rootdir):\n",
    "        if not filename.endswith(\".csv\"):\n",
    "            os.rename(f'{rootdir}/{filename}',f'{rootdir}/{filename+\".csv\"}')"
   ]
  },
  {
   "cell_type": "markdown",
   "id": "e42ebf33",
   "metadata": {},
   "source": [
    "### Desplazar estados de RPM (solo se hace 1 vez en todo el dataset)\n",
    "Los estados que guarda Pybullet no es el RPM actual, sino el anterior, por lo que hay que desplazar los estados\n"
   ]
  },
  {
   "cell_type": "code",
   "execution_count": 6,
   "id": "given-relative",
   "metadata": {},
   "outputs": [],
   "source": [
    "df = pd.read_csv(os.path.join(rootdir, random.choice(os.listdir(rootdir))))\n",
    "delete_list = ['timestamps',\n",
    "               'Q1', 'Q2', 'Q3', 'Q4', \n",
    "               'uvx', 'uvy', 'uvz', \n",
    "               'up', 'uq', 'ur', \n",
    "               'uwp', 'uwq', 'uwr']\n",
    "df_list = df.columns.to_list()\n",
    "rpm_list = [i for i in df_list if (\"RPM\" in i)]\n",
    "states_list = [i for i in df_list if not ((i in delete_list) or (i in rpm_list))]"
   ]
  },
  {
   "cell_type": "code",
   "execution_count": 7,
   "id": "77972751",
   "metadata": {},
   "outputs": [],
   "source": [
    "for filename in os.listdir(rootdir):\n",
    "    if not filename.endswith(\".csv\"):\n",
    "        continue\n",
    "    df = pd.read_csv(os.path.join(rootdir, filename))\n",
    "    if any(df['z']<=1) or any(abs(df['vz'])>=10) or any(abs(df['p'])>=0.6) or any(abs(df['q'])>=0.6): #Eliminar si el dron se cae\n",
    "        print(filename)\n",
    "    else:\n",
    "        if any(df[rpm_list].loc[0]==0): #Desplazar los estados de RPM si es necesario\n",
    "            df[rpm_list] = df[rpm_list].shift(periods=-1)\n",
    "            df = df.dropna()\n",
    "            df.to_csv(os.path.join(rootdir, filename), index=False)"
   ]
  },
  {
   "cell_type": "code",
   "execution_count": 8,
   "id": "thermal-weight",
   "metadata": {},
   "outputs": [],
   "source": [
    "df_desc = []\n",
    "for filename in os.listdir(rootdir):\n",
    "    if not filename.endswith(\".csv\"):\n",
    "        continue\n",
    "    df = pd.read_csv(os.path.join(rootdir, filename))\n",
    "    df =  df.drop(delete_list, axis=1)\n",
    "    df_desc.append(df)\n",
    "df_desc = pd.concat(df_desc)\n",
    "df_desc = df_desc.describe()"
   ]
  },
  {
   "cell_type": "code",
   "execution_count": 9,
   "id": "primary-variable",
   "metadata": {},
   "outputs": [],
   "source": [
    "dataset = []\n",
    "for filename in os.listdir(rootdir):\n",
    "    if not filename.endswith(\".csv\"):\n",
    "        continue\n",
    "        \n",
    "    df = pd.read_csv(os.path.join(rootdir, filename))\n",
    "    df =  df.drop(delete_list, axis=1)\n",
    "    x = df.drop(rpm_list, axis=1)\n",
    "    y = df.drop(states_list, axis=1)\n",
    "    dataset.append([x, y])\n",
    "\n",
    "df = None\n",
    "x = None\n",
    "y= None"
   ]
  },
  {
   "cell_type": "markdown",
   "id": "metric-sierra",
   "metadata": {},
   "source": [
    "#### Descripton del dataset "
   ]
  },
  {
   "cell_type": "code",
   "execution_count": 10,
   "id": "recognized-librarian",
   "metadata": {},
   "outputs": [
    {
     "data": {
      "text/html": [
       "<div>\n",
       "<style scoped>\n",
       "    .dataframe tbody tr th:only-of-type {\n",
       "        vertical-align: middle;\n",
       "    }\n",
       "\n",
       "    .dataframe tbody tr th {\n",
       "        vertical-align: top;\n",
       "    }\n",
       "\n",
       "    .dataframe thead th {\n",
       "        text-align: right;\n",
       "    }\n",
       "</style>\n",
       "<table border=\"1\" class=\"dataframe\">\n",
       "  <thead>\n",
       "    <tr style=\"text-align: right;\">\n",
       "      <th></th>\n",
       "      <th>x</th>\n",
       "      <th>y</th>\n",
       "      <th>z</th>\n",
       "      <th>p</th>\n",
       "      <th>q</th>\n",
       "      <th>r</th>\n",
       "      <th>vx</th>\n",
       "      <th>vy</th>\n",
       "      <th>vz</th>\n",
       "      <th>wp</th>\n",
       "      <th>wq</th>\n",
       "      <th>wr</th>\n",
       "      <th>ax</th>\n",
       "      <th>ay</th>\n",
       "      <th>az</th>\n",
       "      <th>ap</th>\n",
       "      <th>aq</th>\n",
       "      <th>ar</th>\n",
       "      <th>RPM0</th>\n",
       "      <th>RPM1</th>\n",
       "      <th>RPM2</th>\n",
       "      <th>RPM3</th>\n",
       "      <th>ux</th>\n",
       "      <th>uy</th>\n",
       "      <th>uz</th>\n",
       "    </tr>\n",
       "  </thead>\n",
       "  <tbody>\n",
       "    <tr>\n",
       "      <th>count</th>\n",
       "      <td>3.527853e+06</td>\n",
       "      <td>3.527853e+06</td>\n",
       "      <td>3.527853e+06</td>\n",
       "      <td>3.527853e+06</td>\n",
       "      <td>3.527853e+06</td>\n",
       "      <td>3.527853e+06</td>\n",
       "      <td>3.527853e+06</td>\n",
       "      <td>3.527853e+06</td>\n",
       "      <td>3.527853e+06</td>\n",
       "      <td>3.527853e+06</td>\n",
       "      <td>3.527853e+06</td>\n",
       "      <td>3.527853e+06</td>\n",
       "      <td>3.527853e+06</td>\n",
       "      <td>3.527853e+06</td>\n",
       "      <td>3.527853e+06</td>\n",
       "      <td>3.527853e+06</td>\n",
       "      <td>3.527853e+06</td>\n",
       "      <td>3.527853e+06</td>\n",
       "      <td>3.527853e+06</td>\n",
       "      <td>3.527853e+06</td>\n",
       "      <td>3.527853e+06</td>\n",
       "      <td>3.527853e+06</td>\n",
       "      <td>3.527853e+06</td>\n",
       "      <td>3.527853e+06</td>\n",
       "      <td>3.527853e+06</td>\n",
       "    </tr>\n",
       "    <tr>\n",
       "      <th>mean</th>\n",
       "      <td>2.310331e-05</td>\n",
       "      <td>4.113925e-04</td>\n",
       "      <td>5.000429e+01</td>\n",
       "      <td>3.334596e-03</td>\n",
       "      <td>3.312662e-03</td>\n",
       "      <td>2.892267e-04</td>\n",
       "      <td>4.929419e-05</td>\n",
       "      <td>-1.507729e-05</td>\n",
       "      <td>-3.507774e-05</td>\n",
       "      <td>-5.228565e-05</td>\n",
       "      <td>4.707021e-05</td>\n",
       "      <td>-1.530671e-05</td>\n",
       "      <td>-5.094776e-05</td>\n",
       "      <td>1.866220e-05</td>\n",
       "      <td>-1.223772e-04</td>\n",
       "      <td>1.693270e-04</td>\n",
       "      <td>8.505683e-05</td>\n",
       "      <td>8.307975e-09</td>\n",
       "      <td>1.445175e+04</td>\n",
       "      <td>1.445138e+04</td>\n",
       "      <td>1.445156e+04</td>\n",
       "      <td>1.445126e+04</td>\n",
       "      <td>1.726115e-04</td>\n",
       "      <td>2.491381e-04</td>\n",
       "      <td>5.000260e+01</td>\n",
       "    </tr>\n",
       "    <tr>\n",
       "      <th>std</th>\n",
       "      <td>4.135657e-02</td>\n",
       "      <td>3.583566e-02</td>\n",
       "      <td>2.401695e-01</td>\n",
       "      <td>2.751587e-02</td>\n",
       "      <td>2.939064e-02</td>\n",
       "      <td>2.064894e-03</td>\n",
       "      <td>5.731798e-02</td>\n",
       "      <td>5.216292e-02</td>\n",
       "      <td>2.204571e-01</td>\n",
       "      <td>1.899378e-01</td>\n",
       "      <td>2.040112e-01</td>\n",
       "      <td>1.722879e-02</td>\n",
       "      <td>2.742345e-01</td>\n",
       "      <td>2.542271e-01</td>\n",
       "      <td>1.104083e+00</td>\n",
       "      <td>2.717356e+00</td>\n",
       "      <td>2.825516e+00</td>\n",
       "      <td>7.902848e-01</td>\n",
       "      <td>8.012353e+02</td>\n",
       "      <td>8.080458e+02</td>\n",
       "      <td>8.042578e+02</td>\n",
       "      <td>8.095612e+02</td>\n",
       "      <td>4.065436e-02</td>\n",
       "      <td>3.531389e-02</td>\n",
       "      <td>2.539755e-01</td>\n",
       "    </tr>\n",
       "    <tr>\n",
       "      <th>min</th>\n",
       "      <td>-2.844562e-01</td>\n",
       "      <td>-2.334487e-01</td>\n",
       "      <td>4.849964e+01</td>\n",
       "      <td>-3.504194e-01</td>\n",
       "      <td>-3.376329e-01</td>\n",
       "      <td>-3.190321e-02</td>\n",
       "      <td>-7.371819e-01</td>\n",
       "      <td>-7.395070e-01</td>\n",
       "      <td>-2.722194e+00</td>\n",
       "      <td>-2.639785e+00</td>\n",
       "      <td>-2.871807e+00</td>\n",
       "      <td>-5.378655e-01</td>\n",
       "      <td>-3.443468e+00</td>\n",
       "      <td>-3.278184e+00</td>\n",
       "      <td>-9.800000e+00</td>\n",
       "      <td>-1.712242e+01</td>\n",
       "      <td>-1.699758e+01</td>\n",
       "      <td>-1.533793e+01</td>\n",
       "      <td>9.440300e+03</td>\n",
       "      <td>9.440300e+03</td>\n",
       "      <td>9.440300e+03</td>\n",
       "      <td>9.440300e+03</td>\n",
       "      <td>-2.382233e-01</td>\n",
       "      <td>-2.110583e-01</td>\n",
       "      <td>4.850547e+01</td>\n",
       "    </tr>\n",
       "    <tr>\n",
       "      <th>25%</th>\n",
       "      <td>-1.230418e-02</td>\n",
       "      <td>-9.067972e-03</td>\n",
       "      <td>4.995978e+01</td>\n",
       "      <td>-7.455779e-04</td>\n",
       "      <td>-8.908973e-04</td>\n",
       "      <td>-2.321023e-05</td>\n",
       "      <td>-2.251397e-03</td>\n",
       "      <td>-1.481129e-03</td>\n",
       "      <td>-8.977526e-03</td>\n",
       "      <td>-7.117361e-03</td>\n",
       "      <td>-7.929697e-03</td>\n",
       "      <td>-9.844740e-06</td>\n",
       "      <td>-1.535262e-02</td>\n",
       "      <td>-8.740359e-03</td>\n",
       "      <td>-3.266844e-02</td>\n",
       "      <td>-4.637506e-02</td>\n",
       "      <td>-5.207105e-02</td>\n",
       "      <td>-9.307531e-06</td>\n",
       "      <td>1.442062e+04</td>\n",
       "      <td>1.441715e+04</td>\n",
       "      <td>1.442051e+04</td>\n",
       "      <td>1.441219e+04</td>\n",
       "      <td>-8.090172e-03</td>\n",
       "      <td>-6.339776e-03</td>\n",
       "      <td>4.996662e+01</td>\n",
       "    </tr>\n",
       "    <tr>\n",
       "      <th>50%</th>\n",
       "      <td>1.555330e-03</td>\n",
       "      <td>-1.398581e-03</td>\n",
       "      <td>5.000002e+01</td>\n",
       "      <td>1.337275e-06</td>\n",
       "      <td>1.532473e-06</td>\n",
       "      <td>-6.973757e-06</td>\n",
       "      <td>-1.949592e-04</td>\n",
       "      <td>1.849366e-04</td>\n",
       "      <td>6.569698e-06</td>\n",
       "      <td>-1.301418e-09</td>\n",
       "      <td>-9.153135e-09</td>\n",
       "      <td>3.665698e-09</td>\n",
       "      <td>1.330970e-05</td>\n",
       "      <td>-1.084250e-05</td>\n",
       "      <td>-5.212341e-06</td>\n",
       "      <td>5.723699e-15</td>\n",
       "      <td>0.000000e+00</td>\n",
       "      <td>1.220055e-14</td>\n",
       "      <td>1.446844e+04</td>\n",
       "      <td>1.446844e+04</td>\n",
       "      <td>1.446844e+04</td>\n",
       "      <td>1.446843e+04</td>\n",
       "      <td>0.000000e+00</td>\n",
       "      <td>0.000000e+00</td>\n",
       "      <td>5.000000e+01</td>\n",
       "    </tr>\n",
       "    <tr>\n",
       "      <th>75%</th>\n",
       "      <td>1.308599e-02</td>\n",
       "      <td>1.091220e-02</td>\n",
       "      <td>5.003954e+01</td>\n",
       "      <td>1.394519e-03</td>\n",
       "      <td>1.510764e-03</td>\n",
       "      <td>1.003836e-05</td>\n",
       "      <td>2.311155e-03</td>\n",
       "      <td>2.184755e-03</td>\n",
       "      <td>8.701546e-03</td>\n",
       "      <td>7.097714e-03</td>\n",
       "      <td>8.270367e-03</td>\n",
       "      <td>1.080841e-06</td>\n",
       "      <td>9.447640e-03</td>\n",
       "      <td>1.277413e-02</td>\n",
       "      <td>2.953424e-02</td>\n",
       "      <td>5.287786e-02</td>\n",
       "      <td>6.096444e-02</td>\n",
       "      <td>5.515364e-05</td>\n",
       "      <td>1.452411e+04</td>\n",
       "      <td>1.453152e+04</td>\n",
       "      <td>1.452392e+04</td>\n",
       "      <td>1.452386e+04</td>\n",
       "      <td>1.102578e-02</td>\n",
       "      <td>5.991366e-03</td>\n",
       "      <td>5.003237e+01</td>\n",
       "    </tr>\n",
       "    <tr>\n",
       "      <th>max</th>\n",
       "      <td>2.764898e-01</td>\n",
       "      <td>2.555599e-01</td>\n",
       "      <td>5.150011e+01</td>\n",
       "      <td>3.305579e-01</td>\n",
       "      <td>3.529356e-01</td>\n",
       "      <td>1.064356e-01</td>\n",
       "      <td>7.988406e-01</td>\n",
       "      <td>6.157203e-01</td>\n",
       "      <td>3.654732e+00</td>\n",
       "      <td>2.545611e+00</td>\n",
       "      <td>2.785587e+00</td>\n",
       "      <td>4.612461e-01</td>\n",
       "      <td>3.873067e+00</td>\n",
       "      <td>3.427109e+00</td>\n",
       "      <td>1.218345e+01</td>\n",
       "      <td>1.704203e+01</td>\n",
       "      <td>1.701316e+01</td>\n",
       "      <td>1.395340e+01</td>\n",
       "      <td>2.166645e+04</td>\n",
       "      <td>2.166645e+04</td>\n",
       "      <td>2.166645e+04</td>\n",
       "      <td>2.166645e+04</td>\n",
       "      <td>2.281982e-01</td>\n",
       "      <td>2.061275e-01</td>\n",
       "      <td>5.149453e+01</td>\n",
       "    </tr>\n",
       "  </tbody>\n",
       "</table>\n",
       "</div>"
      ],
      "text/plain": [
       "                  x             y             z             p             q  \\\n",
       "count  3.527853e+06  3.527853e+06  3.527853e+06  3.527853e+06  3.527853e+06   \n",
       "mean   2.310331e-05  4.113925e-04  5.000429e+01  3.334596e-03  3.312662e-03   \n",
       "std    4.135657e-02  3.583566e-02  2.401695e-01  2.751587e-02  2.939064e-02   \n",
       "min   -2.844562e-01 -2.334487e-01  4.849964e+01 -3.504194e-01 -3.376329e-01   \n",
       "25%   -1.230418e-02 -9.067972e-03  4.995978e+01 -7.455779e-04 -8.908973e-04   \n",
       "50%    1.555330e-03 -1.398581e-03  5.000002e+01  1.337275e-06  1.532473e-06   \n",
       "75%    1.308599e-02  1.091220e-02  5.003954e+01  1.394519e-03  1.510764e-03   \n",
       "max    2.764898e-01  2.555599e-01  5.150011e+01  3.305579e-01  3.529356e-01   \n",
       "\n",
       "                  r            vx            vy            vz            wp  \\\n",
       "count  3.527853e+06  3.527853e+06  3.527853e+06  3.527853e+06  3.527853e+06   \n",
       "mean   2.892267e-04  4.929419e-05 -1.507729e-05 -3.507774e-05 -5.228565e-05   \n",
       "std    2.064894e-03  5.731798e-02  5.216292e-02  2.204571e-01  1.899378e-01   \n",
       "min   -3.190321e-02 -7.371819e-01 -7.395070e-01 -2.722194e+00 -2.639785e+00   \n",
       "25%   -2.321023e-05 -2.251397e-03 -1.481129e-03 -8.977526e-03 -7.117361e-03   \n",
       "50%   -6.973757e-06 -1.949592e-04  1.849366e-04  6.569698e-06 -1.301418e-09   \n",
       "75%    1.003836e-05  2.311155e-03  2.184755e-03  8.701546e-03  7.097714e-03   \n",
       "max    1.064356e-01  7.988406e-01  6.157203e-01  3.654732e+00  2.545611e+00   \n",
       "\n",
       "                 wq            wr            ax            ay            az  \\\n",
       "count  3.527853e+06  3.527853e+06  3.527853e+06  3.527853e+06  3.527853e+06   \n",
       "mean   4.707021e-05 -1.530671e-05 -5.094776e-05  1.866220e-05 -1.223772e-04   \n",
       "std    2.040112e-01  1.722879e-02  2.742345e-01  2.542271e-01  1.104083e+00   \n",
       "min   -2.871807e+00 -5.378655e-01 -3.443468e+00 -3.278184e+00 -9.800000e+00   \n",
       "25%   -7.929697e-03 -9.844740e-06 -1.535262e-02 -8.740359e-03 -3.266844e-02   \n",
       "50%   -9.153135e-09  3.665698e-09  1.330970e-05 -1.084250e-05 -5.212341e-06   \n",
       "75%    8.270367e-03  1.080841e-06  9.447640e-03  1.277413e-02  2.953424e-02   \n",
       "max    2.785587e+00  4.612461e-01  3.873067e+00  3.427109e+00  1.218345e+01   \n",
       "\n",
       "                 ap            aq            ar          RPM0          RPM1  \\\n",
       "count  3.527853e+06  3.527853e+06  3.527853e+06  3.527853e+06  3.527853e+06   \n",
       "mean   1.693270e-04  8.505683e-05  8.307975e-09  1.445175e+04  1.445138e+04   \n",
       "std    2.717356e+00  2.825516e+00  7.902848e-01  8.012353e+02  8.080458e+02   \n",
       "min   -1.712242e+01 -1.699758e+01 -1.533793e+01  9.440300e+03  9.440300e+03   \n",
       "25%   -4.637506e-02 -5.207105e-02 -9.307531e-06  1.442062e+04  1.441715e+04   \n",
       "50%    5.723699e-15  0.000000e+00  1.220055e-14  1.446844e+04  1.446844e+04   \n",
       "75%    5.287786e-02  6.096444e-02  5.515364e-05  1.452411e+04  1.453152e+04   \n",
       "max    1.704203e+01  1.701316e+01  1.395340e+01  2.166645e+04  2.166645e+04   \n",
       "\n",
       "               RPM2          RPM3            ux            uy            uz  \n",
       "count  3.527853e+06  3.527853e+06  3.527853e+06  3.527853e+06  3.527853e+06  \n",
       "mean   1.445156e+04  1.445126e+04  1.726115e-04  2.491381e-04  5.000260e+01  \n",
       "std    8.042578e+02  8.095612e+02  4.065436e-02  3.531389e-02  2.539755e-01  \n",
       "min    9.440300e+03  9.440300e+03 -2.382233e-01 -2.110583e-01  4.850547e+01  \n",
       "25%    1.442051e+04  1.441219e+04 -8.090172e-03 -6.339776e-03  4.996662e+01  \n",
       "50%    1.446844e+04  1.446843e+04  0.000000e+00  0.000000e+00  5.000000e+01  \n",
       "75%    1.452392e+04  1.452386e+04  1.102578e-02  5.991366e-03  5.003237e+01  \n",
       "max    2.166645e+04  2.166645e+04  2.281982e-01  2.061275e-01  5.149453e+01  "
      ]
     },
     "execution_count": 10,
     "metadata": {},
     "output_type": "execute_result"
    }
   ],
   "source": [
    "df_desc.to_csv('data_description.csv', index=False)\n",
    "#df_desc = pd.read_csv(\"data_description.csv\")\n",
    "df_desc"
   ]
  },
  {
   "cell_type": "markdown",
   "id": "earlier-reasoning",
   "metadata": {},
   "source": [
    "Conteo de longitud de trayectorias"
   ]
  },
  {
   "cell_type": "code",
   "execution_count": 11,
   "id": "running-corrections",
   "metadata": {},
   "outputs": [
    {
     "name": "stdout",
     "output_type": "stream",
     "text": [
      "{23999: 147}\n"
     ]
    },
    {
     "data": {
      "image/png": "[encoded data removed]",
      "text/plain": [
       "<Figure size 432x288 with 1 Axes>"
      ]
     },
     "metadata": {
      "needs_background": "light"
     },
     "output_type": "display_data"
    }
   ],
   "source": [
    "class Counter:\n",
    "    def __init__(self):\n",
    "        self.dict = {}\n",
    "    def add(self, item):\n",
    "        count = self.dict.get(item, 0)\n",
    "        self.dict[item] = count + 1\n",
    "        \n",
    "    def counts(self, desc=None):\n",
    "        result = [(val, key) for key, val in self.dict.items()]\n",
    "        result.sort()\n",
    "        if desc: result.reverse()\n",
    "        print(self.dict)\n",
    "        return result\n",
    "    \n",
    "    def mean(self):\n",
    "        result = [val*key for key, val in self.dict.items()]\n",
    "        return sum(result)/len(result)\n",
    "    \n",
    "    def total(self):\n",
    "        result = [val*key for key, val in self.dict.items()]\n",
    "        return sum(result)\n",
    "\n",
    "c = Counter()\n",
    "for data in dataset:\n",
    "    x, _ = data\n",
    "    c.add(len(x))\n",
    "c_hist = c.counts(desc=True)\n",
    "\n",
    "x = []\n",
    "y = [] \n",
    "for i in c_hist:\n",
    "    x.append(str(i[1]))\n",
    "    y.append(i[0])\n",
    "\n",
    "plt.bar(x, y, width = 0.8)\n",
    "plt.title('Number of steps per trayectory')\n",
    "plt.xlabel('N steps per trajectory')\n",
    "plt.ylabel('count')\n",
    "plt.show()"
   ]
  },
  {
   "cell_type": "code",
   "execution_count": 12,
   "id": "operating-plenty",
   "metadata": {},
   "outputs": [],
   "source": [
    "df = pd.read_csv(os.path.join(rootdir, random.choice(os.listdir(rootdir))))\n",
    "Ts = df['timestamps'].to_list()[1]-df['timestamps'].to_list()[0]    # Sample Time\n",
    "T = df['timestamps'].to_list()[-1]-df['timestamps'].to_list()[0]    # Signal Duration\n",
    "N = len(df)                                   # Average Number of Samples\n",
    "df = None"
   ]
  },
  {
   "cell_type": "code",
   "execution_count": 13,
   "id": "flying-violence",
   "metadata": {},
   "outputs": [
    {
     "name": "stdout",
     "output_type": "stream",
     "text": [
      "Dataset Size: 0.6571532562375069 GB\n",
      "Dataset len: 147 Signals\n",
      "Inputs len: 21, Inputs: ['x', 'y', 'z', 'p', 'q', 'r', 'vx', 'vy', 'vz', 'wp', 'wq', 'wr', 'ax', 'ay', 'az', 'ap', 'aq', 'ar', 'ux', 'uy', 'uz']\n",
      "Outputs len: 4, Outputs: ['RPM0', 'RPM1', 'RPM2', 'RPM3']\n",
      "Sample Time: 4.17 ms, Sample Freq: 240.00 Hz\n",
      "Time Signal Duration: 99.99\n",
      "Number of Samples per Signal: 23999\n",
      "Number of Samples: 3527853\n"
     ]
    }
   ],
   "source": [
    "print(f'Dataset Size: {( ( (sys.getsizeof(dataset[0][0])+sys.getsizeof(dataset[0][1])) *len(dataset)/1024) /1024)/1024} GB')\n",
    "print(f'Dataset len: {len(dataset)} Signals')\n",
    "print(f'Inputs len: {len(states_list)}, Inputs: {states_list}')\n",
    "print(f'Outputs len: {len(rpm_list)}, Outputs: {rpm_list}')\n",
    "print(f'Sample Time: {\"{:.2f}\".format(Ts*1000)} ms, Sample Freq: {\"{:.2f}\".format(1/Ts)} Hz')\n",
    "print(f'Time Signal Duration: {\"{:.2f}\".format(T)}')\n",
    "print(f'Number of Samples per Signal: {\"{:.0f}\".format(N)}')\n",
    "print(f'Number of Samples: {\"{:.0f}\".format(c.total())}')"
   ]
  },
  {
   "cell_type": "markdown",
   "id": "signal-fireplace",
   "metadata": {},
   "source": [
    "#### Normalización de Estados (Entradas) y Acciones (Salidas)"
   ]
  },
  {
   "cell_type": "code",
   "execution_count": 14,
   "id": "commercial-asian",
   "metadata": {},
   "outputs": [],
   "source": [
    "def Norm(df, df_desc):\n",
    "    for prop in list(df.columns):\n",
    "        try:\n",
    "            df[prop] = (df[prop]-df_desc[prop][\"mean\"])/(df_desc[prop][\"max\"]-df_desc[prop][\"min\"])\n",
    "        except:\n",
    "            pass\n",
    "    return df"
   ]
  },
  {
   "cell_type": "code",
   "execution_count": 15,
   "id": "lesser-latino",
   "metadata": {},
   "outputs": [],
   "source": [
    "for i, data in enumerate(dataset):\n",
    "    x, y = data\n",
    "    x = Norm(x, df_desc)\n",
    "    y = Norm(y, df_desc)\n",
    "    dataset[i]=[x,y]"
   ]
  },
  {
   "cell_type": "code",
   "execution_count": 16,
   "id": "flying-variance",
   "metadata": {},
   "outputs": [
    {
     "data": {
      "text/html": [
       "<div>\n",
       "<style scoped>\n",
       "    .dataframe tbody tr th:only-of-type {\n",
       "        vertical-align: middle;\n",
       "    }\n",
       "\n",
       "    .dataframe tbody tr th {\n",
       "        vertical-align: top;\n",
       "    }\n",
       "\n",
       "    .dataframe thead th {\n",
       "        text-align: right;\n",
       "    }\n",
       "</style>\n",
       "<table border=\"1\" class=\"dataframe\">\n",
       "  <thead>\n",
       "    <tr style=\"text-align: right;\">\n",
       "      <th></th>\n",
       "      <th>x</th>\n",
       "      <th>y</th>\n",
       "      <th>z</th>\n",
       "      <th>p</th>\n",
       "      <th>q</th>\n",
       "      <th>r</th>\n",
       "      <th>vx</th>\n",
       "      <th>vy</th>\n",
       "      <th>vz</th>\n",
       "      <th>wp</th>\n",
       "      <th>wq</th>\n",
       "      <th>wr</th>\n",
       "      <th>ax</th>\n",
       "      <th>ay</th>\n",
       "      <th>az</th>\n",
       "      <th>ap</th>\n",
       "      <th>aq</th>\n",
       "      <th>ar</th>\n",
       "      <th>ux</th>\n",
       "      <th>uy</th>\n",
       "      <th>uz</th>\n",
       "    </tr>\n",
       "  </thead>\n",
       "  <tbody>\n",
       "    <tr>\n",
       "      <th>count</th>\n",
       "      <td>23999.000000</td>\n",
       "      <td>23999.000000</td>\n",
       "      <td>23999.000000</td>\n",
       "      <td>23999.000000</td>\n",
       "      <td>23999.000000</td>\n",
       "      <td>23999.000000</td>\n",
       "      <td>23999.000000</td>\n",
       "      <td>23999.000000</td>\n",
       "      <td>23999.000000</td>\n",
       "      <td>23999.000000</td>\n",
       "      <td>2.399900e+04</td>\n",
       "      <td>23999.000000</td>\n",
       "      <td>23999.000000</td>\n",
       "      <td>23999.000000</td>\n",
       "      <td>23999.000000</td>\n",
       "      <td>23999.000000</td>\n",
       "      <td>23999.000000</td>\n",
       "      <td>2.399900e+04</td>\n",
       "      <td>23999.000000</td>\n",
       "      <td>23999.000000</td>\n",
       "      <td>2.399900e+04</td>\n",
       "    </tr>\n",
       "    <tr>\n",
       "      <th>mean</th>\n",
       "      <td>-0.000871</td>\n",
       "      <td>0.028556</td>\n",
       "      <td>0.086016</td>\n",
       "      <td>-0.001677</td>\n",
       "      <td>0.001006</td>\n",
       "      <td>-0.001369</td>\n",
       "      <td>-0.000005</td>\n",
       "      <td>-0.000615</td>\n",
       "      <td>0.000417</td>\n",
       "      <td>-0.000010</td>\n",
       "      <td>-9.115094e-07</td>\n",
       "      <td>0.000056</td>\n",
       "      <td>0.000005</td>\n",
       "      <td>-0.000053</td>\n",
       "      <td>0.000006</td>\n",
       "      <td>-0.000027</td>\n",
       "      <td>-0.000002</td>\n",
       "      <td>5.697876e-09</td>\n",
       "      <td>-0.001083</td>\n",
       "      <td>0.032162</td>\n",
       "      <td>8.691391e-02</td>\n",
       "    </tr>\n",
       "    <tr>\n",
       "      <th>std</th>\n",
       "      <td>0.021870</td>\n",
       "      <td>0.145365</td>\n",
       "      <td>0.004132</td>\n",
       "      <td>0.063545</td>\n",
       "      <td>0.032927</td>\n",
       "      <td>0.010734</td>\n",
       "      <td>0.022956</td>\n",
       "      <td>0.071846</td>\n",
       "      <td>0.004682</td>\n",
       "      <td>0.058618</td>\n",
       "      <td>2.753987e-02</td>\n",
       "      <td>0.015700</td>\n",
       "      <td>0.027390</td>\n",
       "      <td>0.062895</td>\n",
       "      <td>0.011045</td>\n",
       "      <td>0.103324</td>\n",
       "      <td>0.069262</td>\n",
       "      <td>2.646499e-02</td>\n",
       "      <td>0.015711</td>\n",
       "      <td>0.175666</td>\n",
       "      <td>1.387808e-17</td>\n",
       "    </tr>\n",
       "    <tr>\n",
       "      <th>min</th>\n",
       "      <td>-0.097468</td>\n",
       "      <td>-0.191962</td>\n",
       "      <td>-0.001486</td>\n",
       "      <td>-0.300626</td>\n",
       "      <td>-0.078861</td>\n",
       "      <td>-0.057045</td>\n",
       "      <td>-0.106820</td>\n",
       "      <td>-0.272512</td>\n",
       "      <td>-0.006398</td>\n",
       "      <td>-0.320573</td>\n",
       "      <td>-1.411640e-01</td>\n",
       "      <td>-0.245023</td>\n",
       "      <td>-0.090338</td>\n",
       "      <td>-0.231365</td>\n",
       "      <td>-0.445784</td>\n",
       "      <td>-0.460367</td>\n",
       "      <td>-0.367044</td>\n",
       "      <td>-3.996695e-01</td>\n",
       "      <td>-0.018217</td>\n",
       "      <td>-0.195956</td>\n",
       "      <td>8.691391e-02</td>\n",
       "    </tr>\n",
       "    <tr>\n",
       "      <th>25%</th>\n",
       "      <td>-0.009590</td>\n",
       "      <td>-0.144736</td>\n",
       "      <td>0.086093</td>\n",
       "      <td>-0.008890</td>\n",
       "      <td>-0.006053</td>\n",
       "      <td>-0.002341</td>\n",
       "      <td>-0.000978</td>\n",
       "      <td>-0.003176</td>\n",
       "      <td>-0.000010</td>\n",
       "      <td>-0.005210</td>\n",
       "      <td>-1.101447e-03</td>\n",
       "      <td>0.000007</td>\n",
       "      <td>-0.001960</td>\n",
       "      <td>-0.004648</td>\n",
       "      <td>-0.000029</td>\n",
       "      <td>-0.004469</td>\n",
       "      <td>-0.001224</td>\n",
       "      <td>-5.345012e-06</td>\n",
       "      <td>-0.018217</td>\n",
       "      <td>-0.195225</td>\n",
       "      <td>8.691391e-02</td>\n",
       "    </tr>\n",
       "    <tr>\n",
       "      <th>50%</th>\n",
       "      <td>0.000793</td>\n",
       "      <td>0.096878</td>\n",
       "      <td>0.086207</td>\n",
       "      <td>-0.004901</td>\n",
       "      <td>-0.004794</td>\n",
       "      <td>-0.002221</td>\n",
       "      <td>-0.000173</td>\n",
       "      <td>-0.000243</td>\n",
       "      <td>0.000005</td>\n",
       "      <td>0.000010</td>\n",
       "      <td>-8.450651e-06</td>\n",
       "      <td>0.000016</td>\n",
       "      <td>0.000006</td>\n",
       "      <td>0.000004</td>\n",
       "      <td>0.000005</td>\n",
       "      <td>-0.000005</td>\n",
       "      <td>-0.000002</td>\n",
       "      <td>-5.225439e-10</td>\n",
       "      <td>-0.003901</td>\n",
       "      <td>0.125974</td>\n",
       "      <td>8.691391e-02</td>\n",
       "    </tr>\n",
       "    <tr>\n",
       "      <th>75%</th>\n",
       "      <td>0.015520</td>\n",
       "      <td>0.171131</td>\n",
       "      <td>0.086516</td>\n",
       "      <td>0.002268</td>\n",
       "      <td>-0.003103</td>\n",
       "      <td>-0.002092</td>\n",
       "      <td>0.001046</td>\n",
       "      <td>0.003041</td>\n",
       "      <td>0.000040</td>\n",
       "      <td>0.004015</td>\n",
       "      <td>1.272898e-03</td>\n",
       "      <td>0.000081</td>\n",
       "      <td>0.001119</td>\n",
       "      <td>0.004749</td>\n",
       "      <td>0.000020</td>\n",
       "      <td>0.004865</td>\n",
       "      <td>0.001518</td>\n",
       "      <td>6.019174e-06</td>\n",
       "      <td>0.017477</td>\n",
       "      <td>0.194762</td>\n",
       "      <td>8.691391e-02</td>\n",
       "    </tr>\n",
       "    <tr>\n",
       "      <th>max</th>\n",
       "      <td>0.026837</td>\n",
       "      <td>0.175731</td>\n",
       "      <td>0.087397</td>\n",
       "      <td>0.260341</td>\n",
       "      <td>0.179528</td>\n",
       "      <td>0.098505</td>\n",
       "      <td>0.096369</td>\n",
       "      <td>0.282650</td>\n",
       "      <td>0.087075</td>\n",
       "      <td>0.280026</td>\n",
       "      <td>2.143040e-01</td>\n",
       "      <td>0.257848</td>\n",
       "      <td>0.149295</td>\n",
       "      <td>0.292545</td>\n",
       "      <td>0.550239</td>\n",
       "      <td>0.348027</td>\n",
       "      <td>0.374942</td>\n",
       "      <td>4.042199e-01</td>\n",
       "      <td>0.017477</td>\n",
       "      <td>0.194762</td>\n",
       "      <td>8.691391e-02</td>\n",
       "    </tr>\n",
       "  </tbody>\n",
       "</table>\n",
       "</div>"
      ],
      "text/plain": [
       "                  x             y             z             p             q  \\\n",
       "count  23999.000000  23999.000000  23999.000000  23999.000000  23999.000000   \n",
       "mean      -0.000871      0.028556      0.086016     -0.001677      0.001006   \n",
       "std        0.021870      0.145365      0.004132      0.063545      0.032927   \n",
       "min       -0.097468     -0.191962     -0.001486     -0.300626     -0.078861   \n",
       "25%       -0.009590     -0.144736      0.086093     -0.008890     -0.006053   \n",
       "50%        0.000793      0.096878      0.086207     -0.004901     -0.004794   \n",
       "75%        0.015520      0.171131      0.086516      0.002268     -0.003103   \n",
       "max        0.026837      0.175731      0.087397      0.260341      0.179528   \n",
       "\n",
       "                  r            vx            vy            vz            wp  \\\n",
       "count  23999.000000  23999.000000  23999.000000  23999.000000  23999.000000   \n",
       "mean      -0.001369     -0.000005     -0.000615      0.000417     -0.000010   \n",
       "std        0.010734      0.022956      0.071846      0.004682      0.058618   \n",
       "min       -0.057045     -0.106820     -0.272512     -0.006398     -0.320573   \n",
       "25%       -0.002341     -0.000978     -0.003176     -0.000010     -0.005210   \n",
       "50%       -0.002221     -0.000173     -0.000243      0.000005      0.000010   \n",
       "75%       -0.002092      0.001046      0.003041      0.000040      0.004015   \n",
       "max        0.098505      0.096369      0.282650      0.087075      0.280026   \n",
       "\n",
       "                 wq            wr            ax            ay            az  \\\n",
       "count  2.399900e+04  23999.000000  23999.000000  23999.000000  23999.000000   \n",
       "mean  -9.115094e-07      0.000056      0.000005     -0.000053      0.000006   \n",
       "std    2.753987e-02      0.015700      0.027390      0.062895      0.011045   \n",
       "min   -1.411640e-01     -0.245023     -0.090338     -0.231365     -0.445784   \n",
       "25%   -1.101447e-03      0.000007     -0.001960     -0.004648     -0.000029   \n",
       "50%   -8.450651e-06      0.000016      0.000006      0.000004      0.000005   \n",
       "75%    1.272898e-03      0.000081      0.001119      0.004749      0.000020   \n",
       "max    2.143040e-01      0.257848      0.149295      0.292545      0.550239   \n",
       "\n",
       "                 ap            aq            ar            ux            uy  \\\n",
       "count  23999.000000  23999.000000  2.399900e+04  23999.000000  23999.000000   \n",
       "mean      -0.000027     -0.000002  5.697876e-09     -0.001083      0.032162   \n",
       "std        0.103324      0.069262  2.646499e-02      0.015711      0.175666   \n",
       "min       -0.460367     -0.367044 -3.996695e-01     -0.018217     -0.195956   \n",
       "25%       -0.004469     -0.001224 -5.345012e-06     -0.018217     -0.195225   \n",
       "50%       -0.000005     -0.000002 -5.225439e-10     -0.003901      0.125974   \n",
       "75%        0.004865      0.001518  6.019174e-06      0.017477      0.194762   \n",
       "max        0.348027      0.374942  4.042199e-01      0.017477      0.194762   \n",
       "\n",
       "                 uz  \n",
       "count  2.399900e+04  \n",
       "mean   8.691391e-02  \n",
       "std    1.387808e-17  \n",
       "min    8.691391e-02  \n",
       "25%    8.691391e-02  \n",
       "50%    8.691391e-02  \n",
       "75%    8.691391e-02  \n",
       "max    8.691391e-02  "
      ]
     },
     "execution_count": 16,
     "metadata": {},
     "output_type": "execute_result"
    }
   ],
   "source": [
    "data[0].describe()"
   ]
  },
  {
   "cell_type": "code",
   "execution_count": 17,
   "id": "capable-thought",
   "metadata": {},
   "outputs": [
    {
     "data": {
      "text/html": [
       "<div>\n",
       "<style scoped>\n",
       "    .dataframe tbody tr th:only-of-type {\n",
       "        vertical-align: middle;\n",
       "    }\n",
       "\n",
       "    .dataframe tbody tr th {\n",
       "        vertical-align: top;\n",
       "    }\n",
       "\n",
       "    .dataframe thead th {\n",
       "        text-align: right;\n",
       "    }\n",
       "</style>\n",
       "<table border=\"1\" class=\"dataframe\">\n",
       "  <thead>\n",
       "    <tr style=\"text-align: right;\">\n",
       "      <th></th>\n",
       "      <th>RPM0</th>\n",
       "      <th>RPM1</th>\n",
       "      <th>RPM2</th>\n",
       "      <th>RPM3</th>\n",
       "    </tr>\n",
       "  </thead>\n",
       "  <tbody>\n",
       "    <tr>\n",
       "      <th>count</th>\n",
       "      <td>23999.000000</td>\n",
       "      <td>23999.000000</td>\n",
       "      <td>23999.000000</td>\n",
       "      <td>23999.000000</td>\n",
       "    </tr>\n",
       "    <tr>\n",
       "      <th>mean</th>\n",
       "      <td>0.001941</td>\n",
       "      <td>0.001958</td>\n",
       "      <td>0.001947</td>\n",
       "      <td>0.001956</td>\n",
       "    </tr>\n",
       "    <tr>\n",
       "      <th>std</th>\n",
       "      <td>0.017281</td>\n",
       "      <td>0.018224</td>\n",
       "      <td>0.018118</td>\n",
       "      <td>0.019178</td>\n",
       "    </tr>\n",
       "    <tr>\n",
       "      <th>min</th>\n",
       "      <td>-0.113307</td>\n",
       "      <td>-0.150908</td>\n",
       "      <td>-0.134796</td>\n",
       "      <td>-0.115564</td>\n",
       "    </tr>\n",
       "    <tr>\n",
       "      <th>25%</th>\n",
       "      <td>0.000536</td>\n",
       "      <td>0.000359</td>\n",
       "      <td>0.000708</td>\n",
       "      <td>0.000416</td>\n",
       "    </tr>\n",
       "    <tr>\n",
       "      <th>50%</th>\n",
       "      <td>0.001364</td>\n",
       "      <td>0.001394</td>\n",
       "      <td>0.001380</td>\n",
       "      <td>0.001404</td>\n",
       "    </tr>\n",
       "    <tr>\n",
       "      <th>75%</th>\n",
       "      <td>0.002393</td>\n",
       "      <td>0.002593</td>\n",
       "      <td>0.002625</td>\n",
       "      <td>0.002523</td>\n",
       "    </tr>\n",
       "    <tr>\n",
       "      <th>max</th>\n",
       "      <td>0.576799</td>\n",
       "      <td>0.590134</td>\n",
       "      <td>0.590119</td>\n",
       "      <td>0.590144</td>\n",
       "    </tr>\n",
       "  </tbody>\n",
       "</table>\n",
       "</div>"
      ],
      "text/plain": [
       "               RPM0          RPM1          RPM2          RPM3\n",
       "count  23999.000000  23999.000000  23999.000000  23999.000000\n",
       "mean       0.001941      0.001958      0.001947      0.001956\n",
       "std        0.017281      0.018224      0.018118      0.019178\n",
       "min       -0.113307     -0.150908     -0.134796     -0.115564\n",
       "25%        0.000536      0.000359      0.000708      0.000416\n",
       "50%        0.001364      0.001394      0.001380      0.001404\n",
       "75%        0.002393      0.002593      0.002625      0.002523\n",
       "max        0.576799      0.590134      0.590119      0.590144"
      ]
     },
     "execution_count": 17,
     "metadata": {},
     "output_type": "execute_result"
    }
   ],
   "source": [
    "data[1].describe()"
   ]
  },
  {
   "cell_type": "markdown",
   "id": "developing-administrator",
   "metadata": {},
   "source": [
    "#### División del dataset para entrenamiento, validación, prueba"
   ]
  },
  {
   "cell_type": "code",
   "execution_count": 18,
   "id": "intermediate-catch",
   "metadata": {},
   "outputs": [],
   "source": [
    "X = []\n",
    "Y = []\n",
    "\n",
    "for sample in dataset:\n",
    "    x, y = sample\n",
    "    X.append(x)\n",
    "    Y.append(y)\n",
    "\n",
    "X_train, X_test, Y_train, Y_test = train_test_split(X, Y, test_size=0.02, random_state=42)\n",
    "X_train,  X_val, Y_train, Y_val  = train_test_split(X_train, Y_train, test_size=0.08)\n",
    "\n",
    "del X\n",
    "del Y"
   ]
  },
  {
   "cell_type": "code",
   "execution_count": 19,
   "id": "metropolitan-object",
   "metadata": {},
   "outputs": [
    {
     "name": "stdout",
     "output_type": "stream",
     "text": [
      "Total=147, Entrenamiento=132 (90%),Validación=12 (8%),Prueba=3 (2%)\n"
     ]
    }
   ],
   "source": [
    "print(f'Total={len(dataset)}, Entrenamiento={len(X_train)} ({round(100*len(X_train)/len(dataset))}%),'\\\n",
    "      f'Validación={len(X_val)} ({round(100*len(X_val)/len(dataset))}%),'\\\n",
    "      f'Prueba={len(X_test)} ({round(100*len(X_test)/len(dataset))}%)')"
   ]
  },
  {
   "cell_type": "markdown",
   "id": "previous-bottom",
   "metadata": {},
   "source": [
    "#### Generador de Ejemplos de entrenamiento"
   ]
  },
  {
   "cell_type": "markdown",
   "id": "residential-baptist",
   "metadata": {},
   "source": [
    "Entrenar un modelo con una señal de 50000 datos en cada iteración sería una tarea que tomaría demasiado tiempo, así mismo, cuando se necesite realizar la inferencia del modelo, se necesitaría esa misma cantidad de datos, por lo que no se utiliza toda la señal de entrenamiento, sino pequeños segmentos de tamaño N, por lo que se generarán M-N (longitud de toda la señal, 50000) señales de longitud N para el entrenamiento, lo que aumentaría el consumo de memoria. Por tal motivo se define un generador."
   ]
  },
  {
   "cell_type": "code",
   "execution_count": 20,
   "id": "everyday-princeton",
   "metadata": {},
   "outputs": [],
   "source": [
    "class DataGenerator:\n",
    "    def __init__(self, X=[], Y=[], dataset = None, batch_size=512, window=512, sequence_out=False, variable_window=False, delta_window=1):\n",
    "        if dataset:\n",
    "            for data in dataset:\n",
    "                X.append(data[0])\n",
    "                Y.append(data[1])\n",
    "            self.X = X\n",
    "            self.Y = Y\n",
    "        elif X and Y:\n",
    "            if len(X)!=len(Y):\n",
    "                raise Exception(\"La longitud de datos de X e Y deben ser iguales\")\n",
    "            self.X = X\n",
    "            self.Y = Y\n",
    "        else:\n",
    "            raise Exception(\"Debe especificar dataset o X, Y\")\n",
    "            \n",
    "        self.n  = len(X)                 ### Número de ejemplos de entrenamiento\n",
    "        x_shape = X[0].shape\n",
    "        y_shape = Y[0].shape\n",
    "        self.i  = x_shape[1]             ### Número de características\n",
    "        self.j  = y_shape[1]             ### Número de salidas\n",
    "        self.batch_size = batch_size\n",
    "        self.window = window\n",
    "        self.variable_window = variable_window\n",
    "        self.delta_window = delta_window\n",
    "        if self.variable_window:\n",
    "            self.window_max = self.window+self.delta_window\n",
    "            self.window_min = self.window-self.delta_window\n",
    "            if self.window_min<1:\n",
    "                raise IndexError(f'delta_window no puede ser igual o mayor a la ventana')\n",
    "        self.sequence_out = sequence_out\n",
    "        self.set_shapes()\n",
    "        \n",
    "    def set_shapes(self):\n",
    "        if self.sequence_out:\n",
    "            self.shapes = ((self.batch_size, self.window, self.i),\n",
    "                           (self.batch_size, self.window, self.j))\n",
    "        else:\n",
    "            self.shapes = ((self.batch_size, self.window, self.i),\n",
    "                           (self.batch_size, self.j))\n",
    "\n",
    "    def buid_init(self):\n",
    "        if self.variable_window:\n",
    "            self.window = np.random.randint(self.window_min, self.window_max)\n",
    "            self.set_shapes()\n",
    "        self.samples = np.empty(shape= self.shapes[0], dtype='float32') \n",
    "        self.labels  = np.empty(shape= self.shapes[1], dtype='float32') \n",
    "        self.batchcount = 0\n",
    "        \n",
    "    def build_data(self):\n",
    "        self.buid_init()\n",
    "        while True:\n",
    "            try:\n",
    "                index = np.random.randint(0, self.n-1)            ### Trayectoria a seleccionar\n",
    "                m = len(self.X[index])          ### Número de steps por ejemplo\n",
    "                if m-self.window-1<=0:\n",
    "                    raise IndexError(f'El tamaño de la ventana es mayor a la trayectoria')\n",
    "                else:\n",
    "                    start_index = np.random.randint(0, int(m-self.window-1))\n",
    "                    final_index = start_index+self.window\n",
    "                    self.samples[self.batchcount] = self.X[index][start_index:final_index].to_numpy()\n",
    "                    if self.sequence_out:\n",
    "                        self.labels[self.batchcount] = self.Y[index][start_index:final_index].to_numpy()\n",
    "                    else:\n",
    "                        self.labels[self.batchcount] = self.Y[index].loc[final_index]\n",
    "            except IndexError as e:\n",
    "                print(f'ERROR: Ejemplo {self.batchcount}: {e}')\n",
    "                raise e\n",
    "                \n",
    "            self.batchcount += 1\n",
    "            if self.batchcount >= self.batch_size:\n",
    "                yield self.samples.astype(np.float32), self.labels.astype(np.float32)\n",
    "                self.buid_init()"
   ]
  },
  {
   "cell_type": "code",
   "execution_count": 21,
   "id": "artistic-cosmetic",
   "metadata": {},
   "outputs": [],
   "source": [
    "window = 64                    ### Número de steps por ejemplo\n",
    "batch_size = 512               ### Número de ejemplos por batch\n",
    "sequence_out = False\n",
    "variable_window=True\n",
    "delta_window=window/2"
   ]
  },
  {
   "cell_type": "code",
   "execution_count": 22,
   "id": "aerial-nicholas",
   "metadata": {},
   "outputs": [],
   "source": [
    "train_generator = DataGenerator(X=X_train, Y=Y_train, batch_size=batch_size, window=window, sequence_out=sequence_out, variable_window=variable_window, delta_window=delta_window)\n",
    "val_generator   = DataGenerator(X=X_val,   Y=Y_val,   batch_size=batch_size, window=window, sequence_out=sequence_out, variable_window=variable_window, delta_window=delta_window)\n",
    "test_generator  = DataGenerator(X=X_test,  Y=Y_test,  batch_size=batch_size, window=window, sequence_out=sequence_out, variable_window=variable_window, delta_window=delta_window)"
   ]
  },
  {
   "cell_type": "code",
   "execution_count": 23,
   "id": "strong-transsexual",
   "metadata": {},
   "outputs": [],
   "source": [
    "dataset_train = tf.data.Dataset.from_generator(train_generator.build_data,\n",
    "                                        output_types = (tf.float32, tf.float32))\n",
    "dataset_val = tf.data.Dataset.from_generator(val_generator.build_data,\n",
    "                                        output_types = (tf.float32, tf.float32))\n",
    "dataset_test = tf.data.Dataset.from_generator(test_generator.build_data,\n",
    "                                        output_types = (tf.float32, tf.float32))"
   ]
  },
  {
   "cell_type": "code",
   "execution_count": 24,
   "id": "fossil-problem",
   "metadata": {},
   "outputs": [
    {
     "name": "stdout",
     "output_type": "stream",
     "text": [
      "x.shape=(512, 34, 21), y.shape=(512, 4)\n",
      "x.shape=(512, 95, 21), y.shape=(512, 4)\n",
      "x.shape=(512, 46, 21), y.shape=(512, 4)\n",
      "x.shape=(512, 76, 21), y.shape=(512, 4)\n",
      "x.shape=(512, 51, 21), y.shape=(512, 4)\n"
     ]
    }
   ],
   "source": [
    "for _ in range(5):\n",
    "    x, y = next(train_generator.build_data())\n",
    "    print(f'x.shape={x.shape}, y.shape={y.shape}')"
   ]
  },
  {
   "cell_type": "markdown",
   "id": "conservative-nowhere",
   "metadata": {},
   "source": [
    "## Keras Model"
   ]
  },
  {
   "cell_type": "markdown",
   "id": "realistic-clear",
   "metadata": {},
   "source": [
    "## Callbacks"
   ]
  },
  {
   "cell_type": "code",
   "execution_count": 25,
   "id": "encouraging-pound",
   "metadata": {},
   "outputs": [],
   "source": [
    "main_metric = 'mean_squared_error'\n",
    "#metrics = [main_metric, 'cosine_similarity', 'logcosh']\n",
    "metrics = main_metric"
   ]
  },
  {
   "cell_type": "markdown",
   "id": "returning-stamp",
   "metadata": {},
   "source": [
    "#### Early Stopping"
   ]
  },
  {
   "cell_type": "code",
   "execution_count": 26,
   "id": "tribal-annex",
   "metadata": {},
   "outputs": [],
   "source": [
    "Early_Stopping = tf.keras.callbacks.EarlyStopping(monitor=f'val_{main_metric}', min_delta=0, patience=25, verbose=0, mode='auto')"
   ]
  },
  {
   "cell_type": "markdown",
   "id": "written-publicity",
   "metadata": {},
   "source": [
    "#### Plotting"
   ]
  },
  {
   "cell_type": "code",
   "execution_count": 27,
   "id": "dated-assumption",
   "metadata": {},
   "outputs": [],
   "source": [
    "class PlotLosses(tf.keras.callbacks.Callback):\n",
    "    def __init__(self, loss, figsize=(10,10)):\n",
    "        self.loss = loss\n",
    "        self.figsize = figsize\n",
    "        \n",
    "    def on_train_begin(self, logs={}):\n",
    "        self.i = 0\n",
    "        self.x = []\n",
    "        self.losses = []\n",
    "        self.val_losses = []\n",
    "        self.logs = []\n",
    "        self.fig = plt.figure(figsize=self.figsize)\n",
    "        if type(self.loss)==list:\n",
    "            self.N = len(self.loss)\n",
    "            for i in range(self.N):\n",
    "                self.losses.append([])\n",
    "                self.val_losses.append([])\n",
    "        else:\n",
    "            self.N = 1\n",
    "        \n",
    "    def on_epoch_end(self, epoch, logs={}):\n",
    "        self.logs.append(logs)\n",
    "        self.x.append(self.i+1)\n",
    "        if self.N>1:\n",
    "            for i, l in enumerate(self.loss):\n",
    "                self.losses[i].append(logs.get(f'{l}'))\n",
    "                self.val_losses[i].append(logs.get(f'val_{l}'))\n",
    "        else:\n",
    "            self.losses.append(logs.get(f'{self.loss}'))\n",
    "            self.val_losses.append(logs.get(f'val_{self.loss}'))\n",
    "        self.i += 1\n",
    "        \n",
    "        clear_output(wait=True)\n",
    "        if self.N>1:\n",
    "            self.fig, self.axs = plt.subplots(self.N, sharex=True, figsize=self.figsize)\n",
    "            for i, l in enumerate(self.loss):\n",
    "                self.axs[i].plot(self.x, self.losses[i], label=f\"Train\")\n",
    "                self.axs[i].plot(self.x, self.val_losses[i], label=f\"Validation\")\n",
    "                self.axs[i].set_title(f'{l}')\n",
    "                self.axs[i].set_yscale('log')\n",
    "                self.axs[i].grid()\n",
    "                self.axs[i].legend()\n",
    "            self.axs[i].set_xlabel('Epochs')\n",
    "        else:\n",
    "            plt.plot(self.x, self.losses, label=f\"Train\")\n",
    "            plt.plot(self.x, self.val_losses, label=f\"Validation\")\n",
    "            plt.suptitle(f'{self.loss}')\n",
    "            plt.yscale('log')\n",
    "            plt.xlabel('Epochs')\n",
    "            plt.grid()\n",
    "            plt.legend()\n",
    "        plt.show()"
   ]
  },
  {
   "cell_type": "markdown",
   "id": "therapeutic-finger",
   "metadata": {},
   "source": [
    "#### Checkpoints"
   ]
  },
  {
   "cell_type": "code",
   "execution_count": 28,
   "id": "floating-bibliography",
   "metadata": {},
   "outputs": [],
   "source": [
    "checkpoint_filepath = './tmp/checkpoint'\n",
    "model_checkpoint_callback = tf.keras.callbacks.ModelCheckpoint(\n",
    "    filepath=checkpoint_filepath,\n",
    "    save_weights_only=True,\n",
    "    monitor=f'val_{main_metric}',\n",
    "    mode='min',\n",
    "    save_best_only=True)"
   ]
  },
  {
   "cell_type": "code",
   "execution_count": 29,
   "id": "fresh-enlargement",
   "metadata": {},
   "outputs": [],
   "source": [
    "plot_losses = PlotLosses(loss=metrics)\n",
    "callbacks = [model_checkpoint_callback, Early_Stopping, plot_losses]"
   ]
  },
  {
   "cell_type": "markdown",
   "id": "delayed-neighborhood",
   "metadata": {},
   "source": [
    "#### Definición del Modelo"
   ]
  },
  {
   "cell_type": "code",
   "execution_count": 30,
   "id": "invisible-allergy",
   "metadata": {},
   "outputs": [],
   "source": [
    "model = models.Sequential()\n",
    "model.add(layers.LSTM(256, input_shape=(None, len(states_list)), return_sequences=True))\n",
    "model.add(layers.Conv1D(filters=256, kernel_size=7, padding='same', activation='relu'))\n",
    "model.add(layers.LSTM(128, return_sequences=True))\n",
    "model.add(layers.Conv1D(filters=128, kernel_size=7, padding='same', activation='relu'))\n",
    "model.add(layers.LSTM(64, return_sequences=True))\n",
    "model.add(layers.Conv1D(filters=64, kernel_size=7, padding='same', activation='relu'))\n",
    "model.add(layers.LSTM(32))\n",
    "#model.add(layers.LSTM(shapes[1][1]))#, return_sequences=True))\n",
    "model.add(layers.Dense(256, activation='relu'))\n",
    "model.add(layers.Dense(128, activation='relu'))\n",
    "model.add(layers.Dense(64, activation='relu'))\n",
    "model.add(layers.Dense(32, activation='relu'))\n",
    "model.add(layers.Dense(len(rpm_list)))"
   ]
  },
  {
   "cell_type": "markdown",
   "id": "e6ae0ff8",
   "metadata": {},
   "source": [
    "#### Optimizador con learning decay"
   ]
  },
  {
   "cell_type": "code",
   "execution_count": 31,
   "id": "5ceb63c6",
   "metadata": {},
   "outputs": [],
   "source": [
    "lr_schedule = tf.keras.optimizers.schedules.ExponentialDecay(\n",
    "    initial_learning_rate=5e-3,\n",
    "    decay_steps=len(X_train),\n",
    "    decay_rate=0.9)\n",
    "optimizer = tf.keras.optimizers.Adam(learning_rate=lr_schedule)\n",
    "#optimizer = tf.keras.optimizers.Adam(learning_rate=1e-4)\n",
    "#optimizer = tf.keras.optimizers.Adam()"
   ]
  },
  {
   "cell_type": "markdown",
   "id": "destroyed-witness",
   "metadata": {},
   "source": [
    "#### Compilado el Modelo"
   ]
  },
  {
   "cell_type": "code",
   "execution_count": 32,
   "id": "unavailable-fight",
   "metadata": {},
   "outputs": [
    {
     "name": "stdout",
     "output_type": "stream",
     "text": [
      "Model: \"sequential\"\n",
      "_________________________________________________________________\n",
      "Layer (type)                 Output Shape              Param #   \n",
      "=================================================================\n",
      "lstm (LSTM)                  (None, None, 256)         284672    \n",
      "_________________________________________________________________\n",
      "conv1d (Conv1D)              (None, None, 256)         459008    \n",
      "_________________________________________________________________\n",
      "lstm_1 (LSTM)                (None, None, 128)         197120    \n",
      "_________________________________________________________________\n",
      "conv1d_1 (Conv1D)            (None, None, 128)         114816    \n",
      "_________________________________________________________________\n",
      "lstm_2 (LSTM)                (None, None, 64)          49408     \n",
      "_________________________________________________________________\n",
      "conv1d_2 (Conv1D)            (None, None, 64)          28736     \n",
      "_________________________________________________________________\n",
      "lstm_3 (LSTM)                (None, 32)                12416     \n",
      "_________________________________________________________________\n",
      "dense (Dense)                (None, 256)               8448      \n",
      "_________________________________________________________________\n",
      "dense_1 (Dense)              (None, 128)               32896     \n",
      "_________________________________________________________________\n",
      "dense_2 (Dense)              (None, 64)                8256      \n",
      "_________________________________________________________________\n",
      "dense_3 (Dense)              (None, 32)                2080      \n",
      "_________________________________________________________________\n",
      "dense_4 (Dense)              (None, 4)                 132       \n",
      "=================================================================\n",
      "Total params: 1,197,988\n",
      "Trainable params: 1,197,988\n",
      "Non-trainable params: 0\n",
      "_________________________________________________________________\n"
     ]
    }
   ],
   "source": [
    "model.compile(loss=main_metric, optimizer=optimizer, metrics=metrics)\n",
    "model.summary()"
   ]
  },
  {
   "cell_type": "markdown",
   "id": "biological-keeping",
   "metadata": {},
   "source": [
    "#### Entrenamiento del Modelo"
   ]
  },
  {
   "cell_type": "code",
   "execution_count": 33,
   "id": "offshore-riverside",
   "metadata": {},
   "outputs": [
    {
     "data": {
      "image/png": "[encoded data removed]",
      "text/plain": [
       "<Figure size 432x288 with 1 Axes>"
      ]
     },
     "metadata": {
      "needs_background": "light"
     },
     "output_type": "display_data"
    },
    {
     "name": "stdout",
     "output_type": "stream",
     "text": [
      "Wall time: 1h 1min 48s\n"
     ]
    }
   ],
   "source": [
    "%%time\n",
    "EPOCHS = 120\n",
    "#se usa el repeat para llamar al generador mas de una vez\n",
    "#steps_per_epoch  = numero de batches de los datos para determinar una epoca terminada \n",
    "#Por defecto -> number of samples in your dataset divided by the batch size (LEN_DT//BATCH_SIZE_TRAIN)\n",
    "#verbose = mostrar el avance del entrenamiento\n",
    "#validation_steps = numero de batches de datos para validar en cada epoca\n",
    "#workers?\n",
    "#max_queue_size?\n",
    "history = model.fit(dataset_train.repeat(), \n",
    "                    epochs=EPOCHS, \n",
    "                    steps_per_epoch = len(X_train),\n",
    "                    callbacks=callbacks, \n",
    "                    verbose=1,\n",
    "                    validation_data = dataset_val.repeat(),\n",
    "                    validation_steps= len(X_val))"
   ]
  },
  {
   "cell_type": "markdown",
   "id": "accepting-photography",
   "metadata": {},
   "source": [
    "#### Se guarda el Modelo"
   ]
  },
  {
   "cell_type": "code",
   "execution_count": 34,
   "id": "cf95e5db",
   "metadata": {},
   "outputs": [],
   "source": [
    "I = 2"
   ]
  },
  {
   "cell_type": "code",
   "execution_count": 35,
   "id": "universal-fraud",
   "metadata": {},
   "outputs": [],
   "source": [
    "model.save(f'../Models/{dataset_name}_{I}.h5')"
   ]
  },
  {
   "cell_type": "code",
   "execution_count": 36,
   "id": "2492427d",
   "metadata": {},
   "outputs": [
    {
     "name": "stdout",
     "output_type": "stream",
     "text": [
      "../Models/Dataset_XYZ_1_2.h5\n"
     ]
    }
   ],
   "source": [
    "print(f'../Models/{dataset_name}_{I}.h5')"
   ]
  },
  {
   "cell_type": "markdown",
   "id": "sized-differential",
   "metadata": {},
   "source": [
    "### Evaluación del Modelo"
   ]
  },
  {
   "cell_type": "markdown",
   "id": "pending-climate",
   "metadata": {},
   "source": [
    "#### Se carga el modelo"
   ]
  },
  {
   "cell_type": "code",
   "execution_count": 37,
   "id": "excessive-meaning",
   "metadata": {},
   "outputs": [
    {
     "name": "stdout",
     "output_type": "stream",
     "text": [
      "Model: \"sequential\"\n",
      "_________________________________________________________________\n",
      "Layer (type)                 Output Shape              Param #   \n",
      "=================================================================\n",
      "lstm (LSTM)                  (None, None, 256)         284672    \n",
      "_________________________________________________________________\n",
      "conv1d (Conv1D)              (None, None, 256)         459008    \n",
      "_________________________________________________________________\n",
      "lstm_1 (LSTM)                (None, None, 128)         197120    \n",
      "_________________________________________________________________\n",
      "conv1d_1 (Conv1D)            (None, None, 128)         114816    \n",
      "_________________________________________________________________\n",
      "lstm_2 (LSTM)                (None, None, 64)          49408     \n",
      "_________________________________________________________________\n",
      "conv1d_2 (Conv1D)            (None, None, 64)          28736     \n",
      "_________________________________________________________________\n",
      "lstm_3 (LSTM)                (None, 32)                12416     \n",
      "_________________________________________________________________\n",
      "dense (Dense)                (None, 256)               8448      \n",
      "_________________________________________________________________\n",
      "dense_1 (Dense)              (None, 128)               32896     \n",
      "_________________________________________________________________\n",
      "dense_2 (Dense)              (None, 64)                8256      \n",
      "_________________________________________________________________\n",
      "dense_3 (Dense)              (None, 32)                2080      \n",
      "_________________________________________________________________\n",
      "dense_4 (Dense)              (None, 4)                 132       \n",
      "=================================================================\n",
      "Total params: 1,197,988\n",
      "Trainable params: 1,197,988\n",
      "Non-trainable params: 0\n",
      "_________________________________________________________________\n"
     ]
    }
   ],
   "source": [
    "model = tf.keras.models.load_model(f'../Models/{dataset_name}_{I}.h5')\n",
    "model.summary()"
   ]
  },
  {
   "cell_type": "markdown",
   "id": "monetary-commons",
   "metadata": {},
   "source": [
    "#### Evaluación con dataset de prueba"
   ]
  },
  {
   "cell_type": "code",
   "execution_count": 38,
   "id": "ahead-delhi",
   "metadata": {},
   "outputs": [
    {
     "name": "stdout",
     "output_type": "stream",
     "text": [
      "1/1 [==============================] - 2s 2s/step - loss: 2.0137e-04 - mean_squared_error: 2.0137e-04\n",
      "K=12226.15\n",
      "loss: 2.01e-04 -> 2.46 RPM\n",
      "mean_squared_error: 2.01e-04 -> 2.46 RPM\n",
      "Wall time: 1.9 s\n"
     ]
    }
   ],
   "source": [
    "%%time\n",
    "n_batches = np.ceil((len(X_test)*len(X_test[0])/N)/batch_size)\n",
    "losses = model.evaluate(dataset_test, steps = n_batches)\n",
    "K = df_desc[rpm_list[0]][\"max\"]-df_desc[rpm_list[0]][\"min\"] #Ganancia del actuador\n",
    "print(f'K={\"{:.2f}\".format(K)}')\n",
    "if not type(metrics) == list:\n",
    "    metrics = [metrics]\n",
    "for i, l in enumerate(['loss']+metrics):\n",
    "    print(f'{l}: {\"{:.2e}\".format(losses[i])} -> {\"{:.2f}\".format(losses[i]*K)} RPM')"
   ]
  },
  {
   "cell_type": "markdown",
   "id": "detected-grace",
   "metadata": {},
   "source": [
    "#### Evaluación con 1 trayectoria"
   ]
  },
  {
   "cell_type": "code",
   "execution_count": 39,
   "id": "outstanding-tower",
   "metadata": {},
   "outputs": [],
   "source": [
    "window_test = 3000\n",
    "test_traj_generator  = DataGenerator(X=X_test,  Y=Y_test,  batch_size=1, window=window_test, sequence_out=True)"
   ]
  },
  {
   "cell_type": "code",
   "execution_count": 40,
   "id": "lesbian-promotion",
   "metadata": {},
   "outputs": [
    {
     "name": "stdout",
     "output_type": "stream",
     "text": [
      "Wall time: 2min 34s\n"
     ]
    }
   ],
   "source": [
    "%%time\n",
    "X, Y = next(test_traj_generator.build_data())\n",
    "x = X[0]\n",
    "y = Y[0]\n",
    "y_pred = []\n",
    "for i in range(0, len(x)):\n",
    "    if i == 0:\n",
    "        x_temp = x[0].reshape(1,  1, X.shape[2])\n",
    "    elif i<=window:\n",
    "        x_temp = x[0:i].reshape(1,  i, X.shape[2])\n",
    "    else:\n",
    "        x_temp = x[i-window:i].reshape(1,  window, X.shape[2])\n",
    "    y_temp = model.predict(x_temp)\n",
    "    y_pred.append(y_temp)\n",
    "y_pred = np.array(y_pred).reshape(y.shape)"
   ]
  },
  {
   "cell_type": "code",
   "execution_count": 41,
   "id": "8a9db72d",
   "metadata": {},
   "outputs": [
    {
     "data": {
      "text/plain": [
       "(3000, 21)"
      ]
     },
     "execution_count": 41,
     "metadata": {},
     "output_type": "execute_result"
    }
   ],
   "source": [
    "X, Y = next(test_traj_generator.build_data())\n",
    "X[0].shape"
   ]
  },
  {
   "cell_type": "markdown",
   "id": "selected-habitat",
   "metadata": {},
   "source": [
    "#### Visualización con 1 trayectoria"
   ]
  },
  {
   "cell_type": "code",
   "execution_count": 42,
   "id": "critical-bleeding",
   "metadata": {},
   "outputs": [],
   "source": [
    "t = np.arange(0, len(y)*Ts, Ts)"
   ]
  },
  {
   "cell_type": "code",
   "execution_count": 43,
   "id": "advanced-greek",
   "metadata": {
    "scrolled": true
   },
   "outputs": [
    {
     "data": {
      "image/png": "[encoded data removed]",
      "text/plain": [
       "<Figure size 504x1080 with 4 Axes>"
      ]
     },
     "metadata": {
      "needs_background": "light"
     },
     "output_type": "display_data"
    }
   ],
   "source": [
    "fig, axs = plt.subplots(Y.shape[2], figsize = (7,15))\n",
    "for i in range(Y.shape[2]):\n",
    "    axs[i].plot(t, y_pred[:,i], t, y[:,i])\n",
    "    axs[i].grid()"
   ]
  },
  {
   "cell_type": "code",
   "execution_count": 44,
   "id": "contained-constitution",
   "metadata": {},
   "outputs": [
    {
     "data": {
      "image/png": "[encoded data removed]",
      "text/plain": [
       "<Figure size 504x1080 with 4 Axes>"
      ]
     },
     "metadata": {
      "needs_background": "light"
     },
     "output_type": "display_data"
    }
   ],
   "source": [
    "fig, axs = plt.subplots(Y.shape[2], figsize = (7,15))\n",
    "L1 = 4*len(t)//5\n",
    "L2 = 5*len(t)//5\n",
    "for i in range(Y.shape[2]):\n",
    "    axs[i].plot(t[L1:L2], y_pred[L1:L2,i], t[L1:L2:], y[L1:L2:,i])\n",
    "    axs[i].grid()"
   ]
  },
  {
   "cell_type": "markdown",
   "id": "experienced-gravity",
   "metadata": {},
   "source": [
    "#### Tiempo de inferencia tamaño entrada"
   ]
  },
  {
   "cell_type": "code",
   "execution_count": 45,
   "id": "knowing-appearance",
   "metadata": {},
   "outputs": [],
   "source": [
    "import time\n",
    "\n",
    "def MSE(y, y_pred):\n",
    "    return (y-y_pred)**2\n",
    "\n",
    "window_test = 1000\n",
    "test_traj_batch = 100\n",
    "test_traj_generator  = DataGenerator(X=X_test,  Y=Y_test,  batch_size=test_traj_batch, window=window_test, sequence_out=True)\n",
    "\n",
    "window_len = []\n",
    "inf_time = []\n",
    "loss = []\n",
    "\n",
    "x, y = next(test_traj_generator.build_data())"
   ]
  },
  {
   "cell_type": "code",
   "execution_count": 46,
   "id": "italic-demonstration",
   "metadata": {},
   "outputs": [
    {
     "name": "stdout",
     "output_type": "stream",
     "text": [
      "iter = 74 de 75, i = 999, execution time = 413.05s\n",
      "Wall time: 6min 53s\n"
     ]
    }
   ],
   "source": [
    "%%time\n",
    "accum_time = 0\n",
    "n_iter = 100\n",
    "test_range = list(set(np.rint(np.logspace(0, np.log10(x.shape[1]-1), num=n_iter, endpoint=True))))\n",
    "test_range.sort()\n",
    "n_iter = len(test_range)\n",
    "for k, i in enumerate(list(map(int,test_range))):\n",
    "    inf_time_aux = []    # Tiempo de inferencia auxiliar\n",
    "    loss_aux = []    # Costo Auxiliar\n",
    "    init_time = time.time()\n",
    "    for j in range(len(x)):\n",
    "        x_5 = x[j][0:i].reshape(1,  i, x.shape[2])\n",
    "        start_time = time.time()\n",
    "        y_pred = model.predict(x_5)\n",
    "        finish_time = time.time() - start_time\n",
    "        inf_time_aux.append(finish_time)\n",
    "        loss_aux.append(\n",
    "            np.mean(\n",
    "                MSE(y[j][i], y_pred)\n",
    "            )\n",
    "        )\n",
    "    \n",
    "    window_len.append(i)\n",
    "    inf_time.append(np.mean(inf_time_aux))\n",
    "    loss.append(np.mean(loss_aux))\n",
    "    clear_output(wait=True)\n",
    "    accum_time += time.time()-init_time\n",
    "    print(f'iter = {k} de {len(test_range)}, i = {i}, execution time = {\"{:.2f}\".format(np.max(accum_time))}s')"
   ]
  },
  {
   "cell_type": "code",
   "execution_count": 47,
   "id": "unnecessary-broadcast",
   "metadata": {},
   "outputs": [],
   "source": [
    "inf_time_norm = np.array(inf_time)/max(inf_time)\n",
    "loss_norm = np.array(loss)/max(loss)\n",
    "performance = 1/(np.array(loss)*np.array(inf_time))\n",
    "performance = np.array(performance)/max(performance)"
   ]
  },
  {
   "cell_type": "code",
   "execution_count": 48,
   "id": "premium-advance",
   "metadata": {},
   "outputs": [
    {
     "name": "stdout",
     "output_type": "stream",
     "text": [
      "Best window inference time=5 steps, time=33.73 ms\n",
      "Best window MSE loss=31 steps, MSE=2.20e-05\n",
      "Best window Performance (MSExTime)=31 steps, Value=2.22e-02\n"
     ]
    },
    {
     "data": {
      "image/png": "[encoded data removed]",
      "text/plain": [
       "<Figure size 432x288 with 1 Axes>"
      ]
     },
     "metadata": {
      "needs_background": "light"
     },
     "output_type": "display_data"
    }
   ],
   "source": [
    "plt.figure()\n",
    "plt.plot(window_len, inf_time_norm, label='Normalized inference time', alpha=0.7)\n",
    "plt.plot(window_len, loss_norm, label='Normalized average MSE', alpha=0.7)\n",
    "plt.plot(window_len, performance, label='Performance=1/(MSE*Time)', alpha=0.7)\n",
    "plt.xlabel(\"Window Size\")\n",
    "plt.legend(loc=1)\n",
    "plt.grid()\n",
    "\n",
    "print(f'Best window inference time={np.argmin(inf_time_norm)} steps, time={\"{:.2f}\".format(np.min(inf_time)*1000)} ms')\n",
    "print(f'Best window MSE loss={np.argmin(loss_norm)} steps, MSE={\"{:.2e}\".format(np.min(loss))}')\n",
    "print(f'Best window Performance (MSExTime)={np.argmax(performance)} steps, Value={\"{:.2e}\".format(np.max(loss)/np.min(inf_time))}')"
   ]
  },
  {
   "cell_type": "code",
   "execution_count": 49,
   "id": "contrary-forest",
   "metadata": {},
   "outputs": [
    {
     "data": {
      "image/png": "[encoded data removed]",
      "text/plain": [
       "<Figure size 432x288 with 1 Axes>"
      ]
     },
     "metadata": {
      "needs_background": "light"
     },
     "output_type": "display_data"
    }
   ],
   "source": [
    "plt.figure()\n",
    "plt.semilogx(window_len, inf_time_norm, label='Normalized inference time', alpha=0.7)\n",
    "plt.semilogx(window_len, loss_norm, label='Normalized average MSE', alpha=0.7)\n",
    "plt.semilogx(window_len, performance, label='Performance=1/(MSE*Time)', alpha=0.7)\n",
    "plt.xlabel(\"Window Size\")\n",
    "plt.legend(loc=1)\n",
    "plt.grid()"
   ]
  },
  {
   "cell_type": "code",
   "execution_count": null,
   "id": "collective-alexandria",
   "metadata": {},
   "outputs": [],
   "source": []
  }
 ],
 "metadata": {
  "kernelspec": {
   "display_name": "Python 3",
   "language": "python",
   "name": "python3"
  },
  "language_info": {
   "codemirror_mode": {
    "name": "ipython",
    "version": 3
   },
   "file_extension": ".py",
   "mimetype": "text/x-python",
   "name": "python",
   "nbconvert_exporter": "python",
   "pygments_lexer": "ipython3",
   "version": "3.8.10"
  }
 },
 "nbformat": 4,
 "nbformat_minor": 5
}
