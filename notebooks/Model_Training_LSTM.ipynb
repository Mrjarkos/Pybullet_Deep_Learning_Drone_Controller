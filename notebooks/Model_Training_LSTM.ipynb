{
 "cells": [
  {
   "cell_type": "markdown",
   "id": "relevant-director",
   "metadata": {},
   "source": [
    "# Controlador de vuelo para vehículos aéreos no tripulados multi-rotor basado en técnicas de aprendizaje profundo\n",
    "\n",
    "## Entrenamiento Red LSTM\n",
    "\n",
    "### Javier Cárdenas - Uriel Carrero"
   ]
  },
  {
   "cell_type": "markdown",
   "id": "binary-dodge",
   "metadata": {},
   "source": [
    "## 1. Descripción del Dataset"
   ]
  },
  {
   "cell_type": "markdown",
   "id": "korean-absorption",
   "metadata": {},
   "source": [
    "#### Importar Librerías"
   ]
  },
  {
   "cell_type": "code",
   "execution_count": 1,
   "id": "formal-genetics",
   "metadata": {
    "scrolled": true
   },
   "outputs": [
    {
     "name": "stdout",
     "output_type": "stream",
     "text": [
      "1.19.5\n"
     ]
    },
    {
     "data": {
      "text/plain": [
       "{'divide': 'warn', 'over': 'warn', 'under': 'ignore', 'invalid': 'warn'}"
      ]
     },
     "execution_count": 1,
     "metadata": {},
     "output_type": "execute_result"
    }
   ],
   "source": [
    "import os\n",
    "import sys\n",
    "import random\n",
    "\n",
    "import pandas as pd\n",
    "pd.set_option('display.max_columns', None) #Para mostrar todas las columnas\n",
    "import matplotlib.pyplot as plt\n",
    "\n",
    "import numpy as np                  # Cómputo Numérico\n",
    "print(np.__version__)\n",
    "assert (np.__version__=='1.19.5'), 'Versión incorrecta de numpy, por favor instale 1.19.5'\n",
    "seed = 5\n",
    "np.random.seed(seed)\n",
    "np.seterr(divide = 'ignore')"
   ]
  },
  {
   "cell_type": "code",
   "execution_count": 2,
   "id": "trained-source",
   "metadata": {},
   "outputs": [
    {
     "name": "stdout",
     "output_type": "stream",
     "text": [
      "2.5.0\n",
      "Num GPUs Available:  1\n"
     ]
    }
   ],
   "source": [
    "import keras as kr\n",
    "\n",
    "import tensorflow as tf\n",
    "from tensorflow.keras import models, layers\n",
    "print(tf.__version__)\n",
    "assert (tf.__version__=='2.5.0'), 'Versión incorrecta de Tensorflow, por favor instale 2.5.0'\n",
    "print(\"Num GPUs Available: \", len(tf.config.list_physical_devices('GPU')))\n",
    "\n",
    "from tensorflow.compat.v1 import ConfigProto\n",
    "from tensorflow.compat.v1 import InteractiveSession\n",
    "\n",
    "from sklearn.utils import shuffle\n",
    "from sklearn.model_selection import train_test_split\n",
    "\n",
    "\n",
    "from IPython.display import clear_output"
   ]
  },
  {
   "cell_type": "code",
   "execution_count": 3,
   "id": "changing-chain",
   "metadata": {},
   "outputs": [
    {
     "name": "stdout",
     "output_type": "stream",
     "text": [
      "1 Physical GPUs, 1 Logical GPUs\n"
     ]
    }
   ],
   "source": [
    "gpus = tf.config.list_physical_devices('GPU')\n",
    "config = ConfigProto()\n",
    "if gpus:\n",
    "    try:\n",
    "        config.gpu_options.allow_growth = True\n",
    "        tf.compat.v1.enable_eager_execution()\n",
    "\n",
    "        os.environ[\"TF_CPP_MIN_LOG_LEVEL\"] = \"2\"\n",
    "        # Currently, memory growth needs to be the same across GPUs\n",
    "        for gpu in gpus:\n",
    "            tf.config.experimental.set_memory_growth(gpu, True)\n",
    "        logical_gpus = tf.config.experimental.list_logical_devices('GPU')\n",
    "        print(len(gpus), \"Physical GPUs,\", len(logical_gpus), \"Logical GPUs\")\n",
    "    except RuntimeError as e:\n",
    "        # Memory growth must be set before GPUs have been initialized\n",
    "        print(e)\n",
    "session = InteractiveSession(config=config)"
   ]
  },
  {
   "cell_type": "code",
   "execution_count": 4,
   "id": "northern-shame",
   "metadata": {},
   "outputs": [],
   "source": [
    "import gc #garbage collector\n",
    "import gc; gc.enable()"
   ]
  },
  {
   "cell_type": "markdown",
   "id": "offensive-chambers",
   "metadata": {},
   "source": [
    "## Cargar Datos"
   ]
  },
  {
   "cell_type": "markdown",
   "id": "combined-generic",
   "metadata": {},
   "source": [
    "### Leemos el Dataset"
   ]
  },
  {
   "cell_type": "code",
   "execution_count": 5,
   "id": "continental-wheat",
   "metadata": {},
   "outputs": [],
   "source": [
    "root = '../logs/Datasets/'\n",
    "dataset_name = 'Dataset_Final'\n",
    "rootdir = root+dataset_name\n",
    "if not os.path.exists(rootdir):\n",
    "    print(f\"{rootdir} not exist\")"
   ]
  },
  {
   "cell_type": "code",
   "execution_count": 6,
   "id": "given-relative",
   "metadata": {},
   "outputs": [],
   "source": [
    "df = pd.read_csv(os.path.join(rootdir, random.choice(os.listdir(rootdir))))\n",
    "delete_list = ['timestamps',\n",
    "               'Q1', 'Q2', 'Q3', 'Q4', \n",
    "               'uvx', 'uvy', 'uvz', \n",
    "               'up', 'uq', \n",
    "               'uwp', 'uwq', 'uwr']\n",
    "df_list = df.columns.to_list()\n",
    "rpm_list = [i for i in df_list if (\"RPM\" in i)]\n",
    "states_list = [i for i in df_list if not ((i in delete_list) or (i in rpm_list))]\n",
    "Ts = df['timestamps'][1]-df['timestamps'][0]\n",
    "fs = 1/Ts"
   ]
  },
  {
   "cell_type": "code",
   "execution_count": 7,
   "id": "primary-variable",
   "metadata": {},
   "outputs": [],
   "source": [
    "dataset = []\n",
    "for filename in os.listdir(rootdir):\n",
    "    if not filename.endswith(\".csv\"):\n",
    "        continue\n",
    "        \n",
    "    df = pd.read_csv(os.path.join(rootdir, filename))\n",
    "    df =  df.drop(delete_list, axis=1)\n",
    "    x = df.drop(rpm_list, axis=1)\n",
    "    y = df.drop(states_list, axis=1)\n",
    "    dataset.append([x, y])\n",
    "\n",
    "df = None\n",
    "x = None\n",
    "y= None"
   ]
  },
  {
   "cell_type": "code",
   "execution_count": 8,
   "id": "45b7844a",
   "metadata": {},
   "outputs": [
    {
     "data": {
      "text/plain": [
       "['RPM0', 'RPM1', 'RPM2', 'RPM3']"
      ]
     },
     "execution_count": 8,
     "metadata": {},
     "output_type": "execute_result"
    }
   ],
   "source": [
    "rpm_list"
   ]
  },
  {
   "cell_type": "markdown",
   "id": "signal-fireplace",
   "metadata": {},
   "source": [
    "#### Normalización de Estados (Entradas) y Acciones (Salidas)"
   ]
  },
  {
   "cell_type": "code",
   "execution_count": 9,
   "id": "commercial-asian",
   "metadata": {},
   "outputs": [],
   "source": [
    "def Norm(df, df_desc):\n",
    "    for prop in list(df.columns):\n",
    "        try:\n",
    "            # 1 ~ Mean  7 ~ Max  3 ~ Min\n",
    "            df[prop] = (df[prop]-df_desc[prop]['mean'])/(df_desc[prop]['max']-df_desc[prop]['min'])\n",
    "        except e:\n",
    "            print(e)\n",
    "    return df"
   ]
  },
  {
   "cell_type": "code",
   "execution_count": 10,
   "id": "d65024d6",
   "metadata": {
    "scrolled": true
   },
   "outputs": [
    {
     "data": {
      "text/html": [
       "<div>\n",
       "<style scoped>\n",
       "    .dataframe tbody tr th:only-of-type {\n",
       "        vertical-align: middle;\n",
       "    }\n",
       "\n",
       "    .dataframe tbody tr th {\n",
       "        vertical-align: top;\n",
       "    }\n",
       "\n",
       "    .dataframe thead th {\n",
       "        text-align: right;\n",
       "    }\n",
       "</style>\n",
       "<table border=\"1\" class=\"dataframe\">\n",
       "  <thead>\n",
       "    <tr style=\"text-align: right;\">\n",
       "      <th></th>\n",
       "      <th>x</th>\n",
       "      <th>y</th>\n",
       "      <th>z</th>\n",
       "      <th>p</th>\n",
       "      <th>q</th>\n",
       "      <th>r</th>\n",
       "      <th>vx</th>\n",
       "      <th>vy</th>\n",
       "      <th>vz</th>\n",
       "      <th>wp</th>\n",
       "      <th>wq</th>\n",
       "      <th>wr</th>\n",
       "      <th>ax</th>\n",
       "      <th>ay</th>\n",
       "      <th>az</th>\n",
       "      <th>ap</th>\n",
       "      <th>aq</th>\n",
       "      <th>ar</th>\n",
       "      <th>RPM0</th>\n",
       "      <th>RPM1</th>\n",
       "      <th>RPM2</th>\n",
       "      <th>RPM3</th>\n",
       "      <th>ux</th>\n",
       "      <th>uy</th>\n",
       "      <th>uz</th>\n",
       "      <th>ur</th>\n",
       "    </tr>\n",
       "  </thead>\n",
       "  <tbody>\n",
       "    <tr>\n",
       "      <th>count</th>\n",
       "      <td>3.068233e+06</td>\n",
       "      <td>3.068233e+06</td>\n",
       "      <td>3.068233e+06</td>\n",
       "      <td>3.068233e+06</td>\n",
       "      <td>3.068233e+06</td>\n",
       "      <td>3.068233e+06</td>\n",
       "      <td>3.068233e+06</td>\n",
       "      <td>3.068233e+06</td>\n",
       "      <td>3.068233e+06</td>\n",
       "      <td>3.068233e+06</td>\n",
       "      <td>3.068233e+06</td>\n",
       "      <td>3.068233e+06</td>\n",
       "      <td>3.068233e+06</td>\n",
       "      <td>3.068233e+06</td>\n",
       "      <td>3.068233e+06</td>\n",
       "      <td>3.068233e+06</td>\n",
       "      <td>3.068233e+06</td>\n",
       "      <td>3.068233e+06</td>\n",
       "      <td>3.068233e+06</td>\n",
       "      <td>3.068233e+06</td>\n",
       "      <td>3.068233e+06</td>\n",
       "      <td>3.068233e+06</td>\n",
       "      <td>3.068233e+06</td>\n",
       "      <td>3.068233e+06</td>\n",
       "      <td>3.068233e+06</td>\n",
       "      <td>3.068233e+06</td>\n",
       "    </tr>\n",
       "    <tr>\n",
       "      <th>mean</th>\n",
       "      <td>6.352137e-03</td>\n",
       "      <td>3.631930e-03</td>\n",
       "      <td>8.701060e-01</td>\n",
       "      <td>8.113104e-04</td>\n",
       "      <td>7.632901e-04</td>\n",
       "      <td>1.239124e-02</td>\n",
       "      <td>-1.253432e-04</td>\n",
       "      <td>-2.641033e-04</td>\n",
       "      <td>1.198860e-03</td>\n",
       "      <td>4.372706e-06</td>\n",
       "      <td>1.434372e-04</td>\n",
       "      <td>2.558978e-03</td>\n",
       "      <td>-1.772714e-05</td>\n",
       "      <td>3.597617e-05</td>\n",
       "      <td>-2.469848e-05</td>\n",
       "      <td>1.224907e-04</td>\n",
       "      <td>5.466858e-05</td>\n",
       "      <td>-3.303912e-05</td>\n",
       "      <td>1.441162e+04</td>\n",
       "      <td>1.441290e+04</td>\n",
       "      <td>1.440977e+04</td>\n",
       "      <td>1.441093e+04</td>\n",
       "      <td>6.439717e-03</td>\n",
       "      <td>3.417250e-03</td>\n",
       "      <td>8.782731e-01</td>\n",
       "      <td>1.285404e-02</td>\n",
       "    </tr>\n",
       "    <tr>\n",
       "      <th>std</th>\n",
       "      <td>1.067096e-01</td>\n",
       "      <td>1.015022e-01</td>\n",
       "      <td>7.571069e-01</td>\n",
       "      <td>3.005110e-02</td>\n",
       "      <td>3.288610e-02</td>\n",
       "      <td>4.450773e-01</td>\n",
       "      <td>7.177616e-02</td>\n",
       "      <td>6.552093e-02</td>\n",
       "      <td>2.601583e-01</td>\n",
       "      <td>1.942947e-01</td>\n",
       "      <td>2.135545e-01</td>\n",
       "      <td>5.107082e-01</td>\n",
       "      <td>3.168708e-01</td>\n",
       "      <td>2.945918e-01</td>\n",
       "      <td>1.454656e+00</td>\n",
       "      <td>7.742095e+00</td>\n",
       "      <td>6.830287e+00</td>\n",
       "      <td>3.325449e+00</td>\n",
       "      <td>1.055152e+03</td>\n",
       "      <td>1.058528e+03</td>\n",
       "      <td>1.058532e+03</td>\n",
       "      <td>1.058966e+03</td>\n",
       "      <td>1.058331e-01</td>\n",
       "      <td>1.010920e-01</td>\n",
       "      <td>7.641660e-01</td>\n",
       "      <td>4.414466e-01</td>\n",
       "    </tr>\n",
       "    <tr>\n",
       "      <th>min</th>\n",
       "      <td>-8.166897e-01</td>\n",
       "      <td>-8.176113e-01</td>\n",
       "      <td>2.113373e-04</td>\n",
       "      <td>-4.872289e-01</td>\n",
       "      <td>-4.386099e-01</td>\n",
       "      <td>-3.141419e+00</td>\n",
       "      <td>-1.156056e+00</td>\n",
       "      <td>-8.621260e-01</td>\n",
       "      <td>-6.841123e+00</td>\n",
       "      <td>-1.045986e+01</td>\n",
       "      <td>-7.981405e+00</td>\n",
       "      <td>-7.181414e+00</td>\n",
       "      <td>-4.279933e+01</td>\n",
       "      <td>-3.656422e+01</td>\n",
       "      <td>-9.800000e+00</td>\n",
       "      <td>-2.510366e+03</td>\n",
       "      <td>-3.059815e+03</td>\n",
       "      <td>-2.531001e+02</td>\n",
       "      <td>9.440300e+03</td>\n",
       "      <td>9.440300e+03</td>\n",
       "      <td>9.440300e+03</td>\n",
       "      <td>9.440300e+03</td>\n",
       "      <td>-8.000000e-01</td>\n",
       "      <td>-8.000000e-01</td>\n",
       "      <td>0.000000e+00</td>\n",
       "      <td>-3.140685e+00</td>\n",
       "    </tr>\n",
       "    <tr>\n",
       "      <th>25%</th>\n",
       "      <td>-7.023093e-03</td>\n",
       "      <td>-4.566531e-03</td>\n",
       "      <td>3.597720e-01</td>\n",
       "      <td>-7.548420e-04</td>\n",
       "      <td>-1.295726e-03</td>\n",
       "      <td>-3.379343e-04</td>\n",
       "      <td>-2.080171e-03</td>\n",
       "      <td>-1.373874e-03</td>\n",
       "      <td>-1.070760e-02</td>\n",
       "      <td>-5.708022e-03</td>\n",
       "      <td>-8.702793e-03</td>\n",
       "      <td>-6.507613e-05</td>\n",
       "      <td>-1.356462e-02</td>\n",
       "      <td>-7.912034e-03</td>\n",
       "      <td>-4.078746e-02</td>\n",
       "      <td>-4.151471e-02</td>\n",
       "      <td>-6.752393e-02</td>\n",
       "      <td>-2.696169e-04</td>\n",
       "      <td>1.438274e+04</td>\n",
       "      <td>1.438057e+04</td>\n",
       "      <td>1.438241e+04</td>\n",
       "      <td>1.437958e+04</td>\n",
       "      <td>0.000000e+00</td>\n",
       "      <td>0.000000e+00</td>\n",
       "      <td>3.549988e-01</td>\n",
       "      <td>0.000000e+00</td>\n",
       "    </tr>\n",
       "    <tr>\n",
       "      <th>50%</th>\n",
       "      <td>9.264773e-05</td>\n",
       "      <td>8.164912e-06</td>\n",
       "      <td>9.371726e-01</td>\n",
       "      <td>0.000000e+00</td>\n",
       "      <td>2.258764e-17</td>\n",
       "      <td>0.000000e+00</td>\n",
       "      <td>-1.518968e-08</td>\n",
       "      <td>1.364815e-17</td>\n",
       "      <td>3.785519e-05</td>\n",
       "      <td>0.000000e+00</td>\n",
       "      <td>0.000000e+00</td>\n",
       "      <td>0.000000e+00</td>\n",
       "      <td>0.000000e+00</td>\n",
       "      <td>0.000000e+00</td>\n",
       "      <td>-1.865757e-05</td>\n",
       "      <td>0.000000e+00</td>\n",
       "      <td>0.000000e+00</td>\n",
       "      <td>0.000000e+00</td>\n",
       "      <td>1.446835e+04</td>\n",
       "      <td>1.446836e+04</td>\n",
       "      <td>1.446834e+04</td>\n",
       "      <td>1.446834e+04</td>\n",
       "      <td>0.000000e+00</td>\n",
       "      <td>0.000000e+00</td>\n",
       "      <td>9.364582e-01</td>\n",
       "      <td>0.000000e+00</td>\n",
       "    </tr>\n",
       "    <tr>\n",
       "      <th>75%</th>\n",
       "      <td>2.154385e-02</td>\n",
       "      <td>1.321506e-02</td>\n",
       "      <td>1.092425e+00</td>\n",
       "      <td>9.607826e-04</td>\n",
       "      <td>1.469981e-03</td>\n",
       "      <td>5.312049e-04</td>\n",
       "      <td>2.095210e-03</td>\n",
       "      <td>1.519517e-03</td>\n",
       "      <td>1.501362e-02</td>\n",
       "      <td>5.440229e-03</td>\n",
       "      <td>8.939743e-03</td>\n",
       "      <td>3.879907e-05</td>\n",
       "      <td>1.237756e-02</td>\n",
       "      <td>8.299066e-03</td>\n",
       "      <td>3.374101e-02</td>\n",
       "      <td>4.180967e-02</td>\n",
       "      <td>6.758204e-02</td>\n",
       "      <td>3.539114e-04</td>\n",
       "      <td>1.452948e+04</td>\n",
       "      <td>1.453062e+04</td>\n",
       "      <td>1.452831e+04</td>\n",
       "      <td>1.452817e+04</td>\n",
       "      <td>1.838854e-02</td>\n",
       "      <td>8.750144e-03</td>\n",
       "      <td>1.144531e+00</td>\n",
       "      <td>0.000000e+00</td>\n",
       "    </tr>\n",
       "    <tr>\n",
       "      <th>max</th>\n",
       "      <td>8.194435e-01</td>\n",
       "      <td>8.146467e-01</td>\n",
       "      <td>8.073860e+00</td>\n",
       "      <td>3.767827e-01</td>\n",
       "      <td>4.339304e-01</td>\n",
       "      <td>3.141577e+00</td>\n",
       "      <td>8.494385e-01</td>\n",
       "      <td>8.597021e-01</td>\n",
       "      <td>6.373837e+00</td>\n",
       "      <td>7.147506e+00</td>\n",
       "      <td>1.179763e+01</td>\n",
       "      <td>7.300762e+00</td>\n",
       "      <td>3.906528e+01</td>\n",
       "      <td>3.332884e+01</td>\n",
       "      <td>1.921161e+02</td>\n",
       "      <td>2.711637e+03</td>\n",
       "      <td>2.831431e+03</td>\n",
       "      <td>1.630572e+02</td>\n",
       "      <td>2.166645e+04</td>\n",
       "      <td>2.166645e+04</td>\n",
       "      <td>2.166645e+04</td>\n",
       "      <td>2.166645e+04</td>\n",
       "      <td>8.000000e-01</td>\n",
       "      <td>8.000000e-01</td>\n",
       "      <td>7.998727e+00</td>\n",
       "      <td>3.141519e+00</td>\n",
       "    </tr>\n",
       "  </tbody>\n",
       "</table>\n",
       "</div>"
      ],
      "text/plain": [
       "                  x             y             z             p             q  \\\n",
       "count  3.068233e+06  3.068233e+06  3.068233e+06  3.068233e+06  3.068233e+06   \n",
       "mean   6.352137e-03  3.631930e-03  8.701060e-01  8.113104e-04  7.632901e-04   \n",
       "std    1.067096e-01  1.015022e-01  7.571069e-01  3.005110e-02  3.288610e-02   \n",
       "min   -8.166897e-01 -8.176113e-01  2.113373e-04 -4.872289e-01 -4.386099e-01   \n",
       "25%   -7.023093e-03 -4.566531e-03  3.597720e-01 -7.548420e-04 -1.295726e-03   \n",
       "50%    9.264773e-05  8.164912e-06  9.371726e-01  0.000000e+00  2.258764e-17   \n",
       "75%    2.154385e-02  1.321506e-02  1.092425e+00  9.607826e-04  1.469981e-03   \n",
       "max    8.194435e-01  8.146467e-01  8.073860e+00  3.767827e-01  4.339304e-01   \n",
       "\n",
       "                  r            vx            vy            vz            wp  \\\n",
       "count  3.068233e+06  3.068233e+06  3.068233e+06  3.068233e+06  3.068233e+06   \n",
       "mean   1.239124e-02 -1.253432e-04 -2.641033e-04  1.198860e-03  4.372706e-06   \n",
       "std    4.450773e-01  7.177616e-02  6.552093e-02  2.601583e-01  1.942947e-01   \n",
       "min   -3.141419e+00 -1.156056e+00 -8.621260e-01 -6.841123e+00 -1.045986e+01   \n",
       "25%   -3.379343e-04 -2.080171e-03 -1.373874e-03 -1.070760e-02 -5.708022e-03   \n",
       "50%    0.000000e+00 -1.518968e-08  1.364815e-17  3.785519e-05  0.000000e+00   \n",
       "75%    5.312049e-04  2.095210e-03  1.519517e-03  1.501362e-02  5.440229e-03   \n",
       "max    3.141577e+00  8.494385e-01  8.597021e-01  6.373837e+00  7.147506e+00   \n",
       "\n",
       "                 wq            wr            ax            ay            az  \\\n",
       "count  3.068233e+06  3.068233e+06  3.068233e+06  3.068233e+06  3.068233e+06   \n",
       "mean   1.434372e-04  2.558978e-03 -1.772714e-05  3.597617e-05 -2.469848e-05   \n",
       "std    2.135545e-01  5.107082e-01  3.168708e-01  2.945918e-01  1.454656e+00   \n",
       "min   -7.981405e+00 -7.181414e+00 -4.279933e+01 -3.656422e+01 -9.800000e+00   \n",
       "25%   -8.702793e-03 -6.507613e-05 -1.356462e-02 -7.912034e-03 -4.078746e-02   \n",
       "50%    0.000000e+00  0.000000e+00  0.000000e+00  0.000000e+00 -1.865757e-05   \n",
       "75%    8.939743e-03  3.879907e-05  1.237756e-02  8.299066e-03  3.374101e-02   \n",
       "max    1.179763e+01  7.300762e+00  3.906528e+01  3.332884e+01  1.921161e+02   \n",
       "\n",
       "                 ap            aq            ar          RPM0          RPM1  \\\n",
       "count  3.068233e+06  3.068233e+06  3.068233e+06  3.068233e+06  3.068233e+06   \n",
       "mean   1.224907e-04  5.466858e-05 -3.303912e-05  1.441162e+04  1.441290e+04   \n",
       "std    7.742095e+00  6.830287e+00  3.325449e+00  1.055152e+03  1.058528e+03   \n",
       "min   -2.510366e+03 -3.059815e+03 -2.531001e+02  9.440300e+03  9.440300e+03   \n",
       "25%   -4.151471e-02 -6.752393e-02 -2.696169e-04  1.438274e+04  1.438057e+04   \n",
       "50%    0.000000e+00  0.000000e+00  0.000000e+00  1.446835e+04  1.446836e+04   \n",
       "75%    4.180967e-02  6.758204e-02  3.539114e-04  1.452948e+04  1.453062e+04   \n",
       "max    2.711637e+03  2.831431e+03  1.630572e+02  2.166645e+04  2.166645e+04   \n",
       "\n",
       "               RPM2          RPM3            ux            uy            uz  \\\n",
       "count  3.068233e+06  3.068233e+06  3.068233e+06  3.068233e+06  3.068233e+06   \n",
       "mean   1.440977e+04  1.441093e+04  6.439717e-03  3.417250e-03  8.782731e-01   \n",
       "std    1.058532e+03  1.058966e+03  1.058331e-01  1.010920e-01  7.641660e-01   \n",
       "min    9.440300e+03  9.440300e+03 -8.000000e-01 -8.000000e-01  0.000000e+00   \n",
       "25%    1.438241e+04  1.437958e+04  0.000000e+00  0.000000e+00  3.549988e-01   \n",
       "50%    1.446834e+04  1.446834e+04  0.000000e+00  0.000000e+00  9.364582e-01   \n",
       "75%    1.452831e+04  1.452817e+04  1.838854e-02  8.750144e-03  1.144531e+00   \n",
       "max    2.166645e+04  2.166645e+04  8.000000e-01  8.000000e-01  7.998727e+00   \n",
       "\n",
       "                 ur  \n",
       "count  3.068233e+06  \n",
       "mean   1.285404e-02  \n",
       "std    4.414466e-01  \n",
       "min   -3.140685e+00  \n",
       "25%    0.000000e+00  \n",
       "50%    0.000000e+00  \n",
       "75%    0.000000e+00  \n",
       "max    3.141519e+00  "
      ]
     },
     "execution_count": 10,
     "metadata": {},
     "output_type": "execute_result"
    }
   ],
   "source": [
    "norm_data_path = f\"{root}/data_description_{dataset_name}.csv\"\n",
    "df_desc = pd.read_csv(norm_data_path, index_col=0)  \n",
    "df_desc"
   ]
  },
  {
   "cell_type": "code",
   "execution_count": 11,
   "id": "lesser-latino",
   "metadata": {},
   "outputs": [],
   "source": [
    "for i, data in enumerate(dataset):\n",
    "    x, y = data\n",
    "    Norm(x, df_desc)\n",
    "    Norm(y, df_desc)\n",
    "    dataset[i]=[x,y]"
   ]
  },
  {
   "cell_type": "markdown",
   "id": "developing-administrator",
   "metadata": {},
   "source": [
    "#### División del dataset para entrenamiento, validación, prueba"
   ]
  },
  {
   "cell_type": "code",
   "execution_count": 12,
   "id": "intermediate-catch",
   "metadata": {},
   "outputs": [],
   "source": [
    "X = []\n",
    "Y = []\n",
    "\n",
    "for sample in dataset:\n",
    "    x, y = sample\n",
    "    X.append(x)\n",
    "    Y.append(y)\n",
    "\n",
    "X_train, X_test, Y_train, Y_test = train_test_split(X, Y, test_size=0.05, random_state=42)\n",
    "X_train,  X_val, Y_train, Y_val  = train_test_split(X_train, Y_train, test_size=0.1)\n",
    "\n",
    "del X\n",
    "del Y"
   ]
  },
  {
   "cell_type": "code",
   "execution_count": 13,
   "id": "metropolitan-object",
   "metadata": {},
   "outputs": [
    {
     "name": "stdout",
     "output_type": "stream",
     "text": [
      "Total=167, Entrenamiento=142 (85%),Validación=16 (10%),Prueba=9 (5%)\n"
     ]
    }
   ],
   "source": [
    "print(f'Total={len(dataset)}, Entrenamiento={len(X_train)} ({round(100*len(X_train)/len(dataset))}%),'\\\n",
    "      f'Validación={len(X_val)} ({round(100*len(X_val)/len(dataset))}%),'\\\n",
    "      f'Prueba={len(X_test)} ({round(100*len(X_test)/len(dataset))}%)')"
   ]
  },
  {
   "cell_type": "markdown",
   "id": "previous-bottom",
   "metadata": {},
   "source": [
    "#### Generador de Ejemplos de entrenamiento"
   ]
  },
  {
   "cell_type": "markdown",
   "id": "residential-baptist",
   "metadata": {},
   "source": [
    "Entrenar un modelo con una señal de 50000 datos en cada iteración sería una tarea que tomaría demasiado tiempo, así mismo, cuando se necesite realizar la inferencia del modelo, se necesitaría esa misma cantidad de datos, por lo que no se utiliza toda la señal de entrenamiento, sino pequeños segmentos de tamaño N, por lo que se generarán M-N (longitud de toda la señal, 50000) señales de longitud N para el entrenamiento, lo que aumentaría el consumo de memoria. Por tal motivo se define un generador."
   ]
  },
  {
   "cell_type": "code",
   "execution_count": 14,
   "id": "everyday-princeton",
   "metadata": {},
   "outputs": [],
   "source": [
    "class DataGenerator:\n",
    "    def __init__(self, X=[], Y=[], dataset = None, batch_size=512, window=512, sequence_out=False, variable_window=False, delta_window=1, feedback=False, window_feedback=1):\n",
    "        if dataset:\n",
    "            for data in dataset:\n",
    "                X.append(data[0])\n",
    "                Y.append(data[1])\n",
    "            self.X = X\n",
    "            self.Y = Y\n",
    "        elif X and Y:\n",
    "            if len(X)!=len(Y):\n",
    "                raise Exception(\"La longitud de datos de X e Y deben ser iguales\")\n",
    "            self.X = X\n",
    "            self.Y = Y\n",
    "        else:\n",
    "            raise Exception(\"Debe especificar dataset o X, Y\")\n",
    "            \n",
    "        self.n  = len(X)                 ### Número de ejemplos de entrenamiento\n",
    "        x_shape = X[0].shape\n",
    "        y_shape = Y[0].shape\n",
    "        self.batch_size = batch_size\n",
    "        self.window = window\n",
    "        self.variable_window = variable_window\n",
    "        self.delta_window = delta_window\n",
    "        self.feedback = feedback\n",
    "        self.i  = x_shape[1] if not self.feedback else x_shape[1]+y_shape[1]   ### Número de características\n",
    "        self.j  = y_shape[1]                                                   ### Número de salidas\n",
    "        #self.window_feedback = window_feedback\n",
    "        if self.variable_window:\n",
    "            self.window_max = self.window+self.delta_window\n",
    "            self.window_min = self.window-self.delta_window\n",
    "            if self.window_min<1:\n",
    "                raise IndexError(f'delta_window no puede ser igual o mayor a la ventana')\n",
    "        self.sequence_out = sequence_out\n",
    "        self.set_shapes()\n",
    "        \n",
    "    def set_shapes(self):\n",
    "        if self.sequence_out:\n",
    "            self.shapes = ((self.batch_size, self.window, self.i),\n",
    "                           (self.batch_size, self.window, self.j))\n",
    "        else:\n",
    "            self.shapes = ((self.batch_size, self.window, self.i),\n",
    "                           (self.batch_size, self.j))\n",
    "\n",
    "    def buid_init(self):\n",
    "        if self.variable_window:\n",
    "            self.window = np.random.randint(self.window_min, self.window_max)\n",
    "            self.set_shapes()\n",
    "        self.samples = np.empty(shape= self.shapes[0], dtype='float32') \n",
    "        self.labels  = np.empty(shape= self.shapes[1], dtype='float32') \n",
    "        self.batchcount = 0\n",
    "        \n",
    "    def build_data(self):\n",
    "        self.buid_init()\n",
    "        if self.feedback:\n",
    "            i_0 = 1\n",
    "        else:\n",
    "            i_0 = 0\n",
    "        while True:\n",
    "            try:\n",
    "                index = np.random.randint(0, self.n-1)            ### Trayectoria a seleccionar\n",
    "                m = len(self.X[index])          ### Número de steps por ejemplo\n",
    "                if m-self.window-1<=0:\n",
    "                    raise IndexError(f'El tamaño de la ventana es mayor a la trayectoria')\n",
    "                else:\n",
    "                    start_index = np.random.randint(i_0, int(m-self.window-1))\n",
    "                    final_index = start_index+self.window\n",
    "                    x = self.X[index][start_index:final_index].to_numpy()\n",
    "                    if self.feedback:\n",
    "                        y = self.Y[index][start_index-1:final_index-1].to_numpy()\n",
    "                        self.samples[self.batchcount] = np.concatenate((x,y), axis=1)\n",
    "                    else:\n",
    "                        self.samples[self.batchcount] = x\n",
    "                        \n",
    "                    if self.sequence_out:\n",
    "                        self.labels[self.batchcount] = self.Y[index][start_index:final_index].to_numpy()\n",
    "                    else:\n",
    "                        self.labels[self.batchcount] = self.Y[index].loc[final_index]\n",
    "            except IndexError as e:\n",
    "                print(f'ERROR: Ejemplo {self.batchcount}: {e}')\n",
    "                raise e\n",
    "                \n",
    "            self.batchcount += 1\n",
    "            if self.batchcount >= self.batch_size:\n",
    "                yield self.samples.astype(np.float32), self.labels.astype(np.float32)\n",
    "                self.buid_init()"
   ]
  },
  {
   "cell_type": "code",
   "execution_count": 15,
   "id": "artistic-cosmetic",
   "metadata": {},
   "outputs": [],
   "source": [
    "window = 64                    ### Número de steps por ejemplo\n",
    "batch_size = 512              ### Número de ejemplos por batch\n",
    "sequence_out = False\n",
    "variable_window=True\n",
    "feedback = False\n",
    "delta_window=window/3"
   ]
  },
  {
   "cell_type": "code",
   "execution_count": 16,
   "id": "aerial-nicholas",
   "metadata": {},
   "outputs": [],
   "source": [
    "train_generator = DataGenerator(X=X_train, Y=Y_train, batch_size=batch_size, window=window, sequence_out=sequence_out, variable_window=variable_window, delta_window=delta_window, feedback=feedback)\n",
    "val_generator   = DataGenerator(X=X_val,   Y=Y_val,   batch_size=batch_size, window=window, sequence_out=sequence_out, variable_window=variable_window, delta_window=delta_window, feedback=feedback)\n",
    "test_generator  = DataGenerator(X=X_test,  Y=Y_test,  batch_size=batch_size, window=window, sequence_out=sequence_out, variable_window=variable_window, delta_window=delta_window, feedback=feedback)"
   ]
  },
  {
   "cell_type": "code",
   "execution_count": 17,
   "id": "strong-transsexual",
   "metadata": {},
   "outputs": [],
   "source": [
    "dataset_train = tf.data.Dataset.from_generator(train_generator.build_data,\n",
    "                                        output_types = (tf.float32, tf.float32))\n",
    "dataset_val = tf.data.Dataset.from_generator(val_generator.build_data,\n",
    "                                        output_types = (tf.float32, tf.float32))\n",
    "dataset_test = tf.data.Dataset.from_generator(test_generator.build_data,\n",
    "                                        output_types = (tf.float32, tf.float32))"
   ]
  },
  {
   "cell_type": "code",
   "execution_count": 18,
   "id": "fossil-problem",
   "metadata": {},
   "outputs": [
    {
     "name": "stdout",
     "output_type": "stream",
     "text": [
      "x.shape=(512, 61, 22), y.shape=(512, 4)\n",
      "x.shape=(512, 48, 22), y.shape=(512, 4)\n",
      "x.shape=(512, 66, 22), y.shape=(512, 4)\n",
      "x.shape=(512, 68, 22), y.shape=(512, 4)\n",
      "x.shape=(512, 74, 22), y.shape=(512, 4)\n"
     ]
    }
   ],
   "source": [
    "for _ in range(5):\n",
    "    x, y = next(train_generator.build_data())\n",
    "    print(f'x.shape={x.shape}, y.shape={y.shape}')"
   ]
  },
  {
   "cell_type": "markdown",
   "id": "conservative-nowhere",
   "metadata": {},
   "source": [
    "## Keras Model"
   ]
  },
  {
   "cell_type": "markdown",
   "id": "realistic-clear",
   "metadata": {},
   "source": [
    "## Callbacks"
   ]
  },
  {
   "cell_type": "code",
   "execution_count": 19,
   "id": "encouraging-pound",
   "metadata": {},
   "outputs": [],
   "source": [
    "main_metric = 'mean_squared_error'\n",
    "#metrics = [main_metric, 'cosine_similarity', 'logcosh']\n",
    "metrics = main_metric"
   ]
  },
  {
   "cell_type": "markdown",
   "id": "returning-stamp",
   "metadata": {},
   "source": [
    "#### Early Stopping"
   ]
  },
  {
   "cell_type": "code",
   "execution_count": 20,
   "id": "tribal-annex",
   "metadata": {},
   "outputs": [],
   "source": [
    "Early_Stopping = tf.keras.callbacks.EarlyStopping(monitor=f'val_{main_metric}', min_delta=0, patience=15, verbose=0, mode='auto')"
   ]
  },
  {
   "cell_type": "markdown",
   "id": "written-publicity",
   "metadata": {},
   "source": [
    "#### Plotting"
   ]
  },
  {
   "cell_type": "code",
   "execution_count": 21,
   "id": "dated-assumption",
   "metadata": {},
   "outputs": [],
   "source": [
    "class PlotLosses(tf.keras.callbacks.Callback):\n",
    "    def __init__(self, loss, figsize=(10,10)):\n",
    "        self.loss = loss\n",
    "        self.figsize = figsize\n",
    "        \n",
    "    def on_train_begin(self, logs={}):\n",
    "        self.i = 0\n",
    "        self.x = []\n",
    "        self.losses = []\n",
    "        self.val_losses = []\n",
    "        self.logs = []\n",
    "        self.fig = plt.figure(figsize=self.figsize)\n",
    "        if type(self.loss)==list:\n",
    "            self.N = len(self.loss)\n",
    "            for i in range(self.N):\n",
    "                self.losses.append([])\n",
    "                self.val_losses.append([])\n",
    "        else:\n",
    "            self.N = 1\n",
    "        \n",
    "    def on_epoch_end(self, epoch, logs={}):\n",
    "        self.logs.append(logs)\n",
    "        self.x.append(self.i+1)\n",
    "        if self.N>1:\n",
    "            for i, l in enumerate(self.loss):\n",
    "                self.losses[i].append(logs.get(f'{l}'))\n",
    "                self.val_losses[i].append(logs.get(f'val_{l}'))\n",
    "        else:\n",
    "            self.losses.append(logs.get(f'{self.loss}'))\n",
    "            self.val_losses.append(logs.get(f'val_{self.loss}'))\n",
    "        self.i += 1\n",
    "        \n",
    "        clear_output(wait=True)\n",
    "        if self.N>1:\n",
    "            self.fig, self.axs = plt.subplots(self.N, sharex=True, figsize=self.figsize)\n",
    "            for i, l in enumerate(self.loss):\n",
    "                self.axs[i].plot(self.x, self.losses[i], label=f\"Train\")\n",
    "                self.axs[i].plot(self.x, self.val_losses[i], label=f\"Validation\")\n",
    "                self.axs[i].set_title(f'{l}')\n",
    "                self.axs[i].set_yscale('log')\n",
    "                self.axs[i].grid()\n",
    "                self.axs[i].legend()\n",
    "            self.axs[i].set_xlabel('Epochs')\n",
    "        else:\n",
    "            plt.plot(self.x, self.losses, label=f\"Train\")\n",
    "            plt.plot(self.x, self.val_losses, label=f\"Validation\")\n",
    "            plt.suptitle(f'{self.loss}')\n",
    "            plt.yscale('log')\n",
    "            plt.xlabel('Epochs')\n",
    "            plt.grid()\n",
    "            plt.legend()\n",
    "        plt.show()"
   ]
  },
  {
   "cell_type": "markdown",
   "id": "therapeutic-finger",
   "metadata": {},
   "source": [
    "#### Checkpoints"
   ]
  },
  {
   "cell_type": "code",
   "execution_count": 22,
   "id": "floating-bibliography",
   "metadata": {},
   "outputs": [],
   "source": [
    "checkpoint_filepath = './tmp/checkpoint'\n",
    "model_checkpoint_callback = tf.keras.callbacks.ModelCheckpoint(\n",
    "    filepath=checkpoint_filepath,\n",
    "    save_weights_only=True,\n",
    "    monitor=f'val_{main_metric}',\n",
    "    mode='min',\n",
    "    save_best_only=True)"
   ]
  },
  {
   "cell_type": "code",
   "execution_count": 23,
   "id": "fresh-enlargement",
   "metadata": {},
   "outputs": [],
   "source": [
    "plot_losses = PlotLosses(loss=metrics)\n",
    "#callbacks = [model_checkpoint_callback, Early_Stopping, plot_losses]\n",
    "callbacks = [model_checkpoint_callback, plot_losses]"
   ]
  },
  {
   "cell_type": "markdown",
   "id": "delayed-neighborhood",
   "metadata": {},
   "source": [
    "#### Definición del Modelo"
   ]
  },
  {
   "cell_type": "code",
   "execution_count": 24,
   "id": "dac92e7c",
   "metadata": {},
   "outputs": [
    {
     "name": "stdout",
     "output_type": "stream",
     "text": [
      "input_dim: 22, output_dim: 4\n"
     ]
    }
   ],
   "source": [
    "input_dim = len(states_list) if not feedback else len(states_list)+len(rpm_list)\n",
    "output_dim = len(rpm_list)\n",
    "print(f'input_dim: {input_dim}, output_dim: {output_dim}')"
   ]
  },
  {
   "cell_type": "code",
   "execution_count": 25,
   "id": "invisible-allergy",
   "metadata": {},
   "outputs": [],
   "source": [
    "# model = models.Sequential()\n",
    "# model.add(layers.LSTM(256, input_shape=(None, input_dim), return_sequences=True))\n",
    "# #model.add(layers.Conv1D(filters=256, kernel_size=7, padding='same', activation='relu'))\n",
    "# model.add(layers.LSTM(128, return_sequences=True))\n",
    "# #model.add(layers.Conv1D(filters=128, kernel_size=7, padding='same', activation='relu'))\n",
    "# model.add(layers.LSTM(64, return_sequences=True))\n",
    "# #model.add(layers.Conv1D(filters=64, kernel_size=7, padding='same', activation='relu'))\n",
    "# model.add(layers.LSTM(32))\n",
    "# #model.add(layers.LSTM(shapes[1][1]))#, return_sequences=True))\n",
    "# model.add(layers.Dense(512, activation='relu'))\n",
    "# model.add(layers.Dense(256, activation='relu'))\n",
    "# model.add(layers.Dense(128, activation='relu'))\n",
    "# model.add(layers.Dense(64, activation='relu'))\n",
    "# model.add(layers.Dense(output_dim))"
   ]
  },
  {
   "cell_type": "code",
   "execution_count": 26,
   "id": "3aee6f35",
   "metadata": {},
   "outputs": [],
   "source": [
    "# model = models.Sequential()\n",
    "# model.add(layers.LSTM(320, input_shape=(None, input_dim), return_sequences=True))\n",
    "# model.add(layers.Conv1D(filters=480, kernel_size=3, padding='same', activation='relu'))\n",
    "# model.add(layers.LSTM(128, return_sequences=True))\n",
    "# model.add(layers.Conv1D(filters=288, kernel_size=3, padding='same', activation='relu'))\n",
    "# #model.add(layers.LSTM(64, return_sequences=True))\n",
    "# #model.add(layers.Conv1D(filters=64, kernel_size=7, padding='same', activation='relu'))\n",
    "# model.add(layers.LSTM(128))\n",
    "# #model.add(layers.LSTM(shapes[1][1]))#, return_sequences=True))\n",
    "# model.add(layers.Dense(64, activation='relu'))\n",
    "# model.add(layers.Dense(96, activation='relu'))\n",
    "# model.add(layers.Dense(320, activation='relu'))\n",
    "# model.add(layers.Dense(192, activation='relu'))\n",
    "# model.add(layers.Dense(output_dim))"
   ]
  },
  {
   "cell_type": "code",
   "execution_count": 27,
   "id": "0912c033",
   "metadata": {},
   "outputs": [],
   "source": [
    "# #Tuner 0\n",
    "# model = models.Sequential()\n",
    "# model.add(layers.Conv1D(filters=224, kernel_size=3, padding='same', activation='relu', input_shape=(None, input_dim)))\n",
    "# model.add(layers.MaxPooling1D(pool_size=2, strides=1, padding='valid'))\n",
    "# model.add(layers.Conv1D(filters=224, kernel_size=3, padding='same', activation='relu'))\n",
    "# model.add(layers.MaxPooling1D(pool_size=2, strides=1, padding='valid'))\n",
    "# model.add(layers.Conv1D(filters=416, kernel_size=3, padding='same', activation='relu'))\n",
    "# model.add(layers.MaxPooling1D(pool_size=2, strides=1, padding='valid'))\n",
    "# model.add(layers.LSTM(224, return_sequences=True))\n",
    "# model.add(layers.LSTM(192, return_sequences=True))\n",
    "# model.add(layers.LSTM(128, return_sequences=True))\n",
    "# model.add(layers.LSTM(192, return_sequences=True))\n",
    "# model.add(layers.LSTM(96))\n",
    "# model.add(layers.Dense(448, activation='relu'))\n",
    "# model.add(layers.Dense(192, activation='relu'))\n",
    "# model.add(layers.Dense(224, activation='relu'))\n",
    "# model.add(layers.Dense(output_dim))"
   ]
  },
  {
   "cell_type": "code",
   "execution_count": 28,
   "id": "4c5b75b4",
   "metadata": {},
   "outputs": [],
   "source": [
    "# # Tuner 1\n",
    "# model = models.Sequential()\n",
    "# model.add(layers.Conv1D(filters=480, kernel_size=3, padding='same', activation='relu', input_shape=(None, input_dim)))\n",
    "#model.add(layers.MaxPooling1D(pool_size=2, strides=1, padding='valid'))\n",
    "# model.add(layers.Conv1D(filters=128, kernel_size=3, padding='same', activation='relu'))\n",
    "#model.add(layers.MaxPooling1D(pool_size=2, strides=1, padding='valid'))\n",
    "# model.add(layers.Conv1D(filters=192, kernel_size=3, padding='same', activation='relu'))\n",
    "#model.add(layers.MaxPooling1D(pool_size=2, strides=1, padding='valid'))\n",
    "# model.add(layers.Conv1D(filters=480, kernel_size=3, padding='same', activation='relu'))\n",
    "#model.add(layers.MaxPooling1D(pool_size=2, strides=1, padding='valid'))\n",
    "# model.add(layers.LSTM(128, return_sequences=True))\n",
    "# model.add(layers.LSTM(64))\n",
    "# model.add(layers.Dense(480, activation='relu'))\n",
    "# model.add(layers.Dense(224, activation='relu'))\n",
    "# model.add(layers.Dense(224, activation='relu'))\n",
    "# model.add(layers.Dense(480, activation='relu'))\n",
    "# model.add(layers.Dense(output_dim))"
   ]
  },
  {
   "cell_type": "code",
   "execution_count": 29,
   "id": "b6b90d5c",
   "metadata": {},
   "outputs": [],
   "source": [
    "# #Tuner 2\n",
    "# model = models.Sequential()\n",
    "# model.add(layers.Conv1D(filters=160, kernel_size=3, padding='same', activation='relu', input_shape=(None, input_dim)))\n",
    "# model.add(layers.MaxPooling1D(pool_size=2, strides=1, padding='valid'))\n",
    "# model.add(layers.Conv1D(filters=288, kernel_size=3, padding='same', activation='relu'))\n",
    "# model.add(layers.MaxPooling1D(pool_size=2, strides=1, padding='valid'))\n",
    "# model.add(layers.LSTM(192, return_sequences=True))\n",
    "# model.add(layers.LSTM(96))\n",
    "# model.add(layers.Dense(96, activation='relu'))\n",
    "# model.add(layers.Dense(480, activation='relu'))\n",
    "# model.add(layers.Dense(64, activation='relu'))\n",
    "# model.add(layers.Dense(256, activation='relu'))\n",
    "# model.add(layers.Dense(output_dim))"
   ]
  },
  {
   "cell_type": "code",
   "execution_count": 30,
   "id": "5da1aeb3",
   "metadata": {},
   "outputs": [],
   "source": [
    "# model = models.Sequential()\n",
    "# # model.add(layers.Conv1D(filters=480, kernel_size=3, padding='same', activation='relu', input_shape=(None, input_dim)))\n",
    "#model.add(layers.MaxPooling1D(pool_size=2, strides=1, padding='valid'))\n",
    "# # model.add(layers.Conv1D(filters=288, kernel_size=3, padding='same', activation='relu'))\n",
    "#model.add(layers.MaxPooling1D(pool_size=2, strides=1, padding='valid'))\n",
    "# #model.add(layers.Conv1D(filters=64, kernel_size=3, padding='same', activation='relu'))\n",
    "#model.add(layers.MaxPooling1D(pool_size=2, strides=1, padding='valid'))\n",
    "# model.add(layers.LSTM(320, return_sequences=True, input_shape=(None, input_dim)))\n",
    "# model.add(layers.LSTM(128, return_sequences=True))\n",
    "# model.add(layers.LSTM(128))\n",
    "# model.add(layers.Dense(64, activation='relu'))\n",
    "# model.add(layers.Dense(96, activation='relu'))\n",
    "# model.add(layers.Dense(320, activation='relu'))\n",
    "# model.add(layers.Dense(192, activation='relu'))\n",
    "# model.add(layers.Dense(output_dim))"
   ]
  },
  {
   "cell_type": "code",
   "execution_count": 47,
   "id": "6b6825e8",
   "metadata": {},
   "outputs": [],
   "source": [
    "# LSTM 1\n",
    "model = models.Sequential()\n",
    "model.add(layers.LSTM(224, return_sequences=True, input_shape=(None, input_dim)))\n",
    "model.add(layers.LSTM(192, return_sequences=True))\n",
    "model.add(layers.LSTM(128, return_sequences=True))\n",
    "model.add(layers.LSTM(192, return_sequences=True))\n",
    "model.add(layers.LSTM(96))\n",
    "model.add(layers.Dense(448, activation='tanh'))\n",
    "model.add(layers.Dense(192, activation='tanh'))\n",
    "model.add(layers.Dense(224, activation='tanh'))\n",
    "model.add(layers.Dense(224, activation='tanh'))\n",
    "model.add(layers.Dense(512, activation='tanh'))\n",
    "model.add(layers.Dense(output_dim))"
   ]
  },
  {
   "cell_type": "code",
   "execution_count": 41,
   "id": "c14d39f7",
   "metadata": {},
   "outputs": [],
   "source": [
    "# # LSTM 2\n",
    "# model = models.Sequential()\n",
    "# model.add(layers.LSTM(64, return_sequences=False, input_shape=(None, input_dim)))\n",
    "# model.add(layers.Dense(192, activation='relu'))\n",
    "# model.add(layers.Dense(416, activation='relu'))\n",
    "# model.add(layers.Dense(192, activation='relu'))\n",
    "# model.add(layers.Dense(416, activation='relu'))\n",
    "# model.add(layers.Dense(256, activation='relu'))\n",
    "# model.add(layers.Dense(output_dim))"
   ]
  },
  {
   "cell_type": "code",
   "execution_count": null,
   "id": "0f9da722",
   "metadata": {},
   "outputs": [],
   "source": [
    "# LSTM 4\n",
    "# model = models.Sequential()\n",
    "# model.add(layers.LSTM(224, return_sequences=True, input_shape=(None, input_dim)))\n",
    "# model.add(layers.LSTM(192, return_sequences=True))\n",
    "# model.add(layers.LSTM(128, return_sequences=True))\n",
    "# model.add(layers.LSTM(192, return_sequences=True))\n",
    "# model.add(layers.LSTM(196))\n",
    "# model.add(layers.Dense(448, activation='tanh'))\n",
    "# model.add(layers.Dense(192, activation='tanh'))\n",
    "# model.add(layers.Dense(224, activation='tanh'))\n",
    "# model.add(layers.Dense(output_dim))"
   ]
  },
  {
   "cell_type": "code",
   "execution_count": 30,
   "id": "87877a47",
   "metadata": {},
   "outputs": [],
   "source": [
    "# LSTM 5\n",
    "# model = models.Sequential()\n",
    "# model.add(layers.LSTM(416, return_sequences=True, input_shape=(None, input_dim)))\n",
    "# model.add(layers.LSTM(288, return_sequences=True))\n",
    "# model.add(layers.LSTM(384, return_sequences=True))\n",
    "# model.add(layers.LSTM(288))\n",
    "# model.add(layers.Dense(448, activation='tanh'))\n",
    "# model.add(layers.Dense(192, activation='tanh'))\n",
    "# model.add(layers.Dense(224, activation='tanh'))\n",
    "# model.add(layers.Dense(224, activation='tanh'))\n",
    "# model.add(layers.Dense(512, activation='tanh'))\n",
    "# model.add(layers.Dense(output_dim))"
   ]
  },
  {
   "cell_type": "markdown",
   "id": "e6ae0ff8",
   "metadata": {},
   "source": [
    "#### Optimizador con learning decay"
   ]
  },
  {
   "cell_type": "code",
   "execution_count": 48,
   "id": "5ceb63c6",
   "metadata": {},
   "outputs": [],
   "source": [
    "# lr_schedule = tf.keras.optimizers.schedules.ExponentialDecay(\n",
    "#     initial_learning_rate=5e-3,\n",
    "#     decay_steps=len(X_train),\n",
    "#     decay_rate=0.95)\n",
    "# optimizer = tf.keras.optimizers.Adam(learning_rate=lr_schedule)\n",
    "#optimizer = tf.keras.optimizers.Adam(learning_rate=5e-4)\n",
    "optimizer = tf.keras.optimizers.Adam(clipvalue=0.5, clipnorm=1.0)\n",
    "#optimizer = tf.keras.optimizers.Adam()"
   ]
  },
  {
   "cell_type": "markdown",
   "id": "destroyed-witness",
   "metadata": {},
   "source": [
    "#### Compilado el Modelo"
   ]
  },
  {
   "cell_type": "code",
   "execution_count": 49,
   "id": "unavailable-fight",
   "metadata": {},
   "outputs": [
    {
     "name": "stdout",
     "output_type": "stream",
     "text": [
      "Model: \"sequential_4\"\n",
      "_________________________________________________________________\n",
      "Layer (type)                 Output Shape              Param #   \n",
      "=================================================================\n",
      "lstm_15 (LSTM)               (None, None, 224)         221312    \n",
      "_________________________________________________________________\n",
      "lstm_16 (LSTM)               (None, None, 192)         320256    \n",
      "_________________________________________________________________\n",
      "lstm_17 (LSTM)               (None, None, 128)         164352    \n",
      "_________________________________________________________________\n",
      "lstm_18 (LSTM)               (None, None, 192)         246528    \n",
      "_________________________________________________________________\n",
      "lstm_19 (LSTM)               (None, 96)                110976    \n",
      "_________________________________________________________________\n",
      "dense_22 (Dense)             (None, 448)               43456     \n",
      "_________________________________________________________________\n",
      "dense_23 (Dense)             (None, 192)               86208     \n",
      "_________________________________________________________________\n",
      "dense_24 (Dense)             (None, 224)               43232     \n",
      "_________________________________________________________________\n",
      "dense_25 (Dense)             (None, 224)               50400     \n",
      "_________________________________________________________________\n",
      "dense_26 (Dense)             (None, 512)               115200    \n",
      "_________________________________________________________________\n",
      "dense_27 (Dense)             (None, 4)                 2052      \n",
      "=================================================================\n",
      "Total params: 1,403,972\n",
      "Trainable params: 1,403,972\n",
      "Non-trainable params: 0\n",
      "_________________________________________________________________\n"
     ]
    }
   ],
   "source": [
    "model.compile(loss=main_metric, optimizer=optimizer, metrics=metrics)\n",
    "model.summary()"
   ]
  },
  {
   "cell_type": "markdown",
   "id": "biological-keeping",
   "metadata": {},
   "source": [
    "#### Entrenamiento del Modelo"
   ]
  },
  {
   "cell_type": "code",
   "execution_count": 50,
   "id": "offshore-riverside",
   "metadata": {
    "scrolled": true
   },
   "outputs": [
    {
     "data": {
      "image/png": "[encoded data removed]",
      "text/plain": [
       "<Figure size 432x288 with 1 Axes>"
      ]
     },
     "metadata": {
      "needs_background": "light"
     },
     "output_type": "display_data"
    },
    {
     "name": "stdout",
     "output_type": "stream",
     "text": [
      "Epoch 103/150\n",
      "141/142 [============================>.] - ETA: 0s - loss: 0.0066 - mean_squared_error: 0.0066"
     ]
    },
    {
     "ename": "KeyboardInterrupt",
     "evalue": "",
     "output_type": "error",
     "traceback": [
      "\u001b[1;31m---------------------------------------------------------------------------\u001b[0m",
      "\u001b[1;31mKeyboardInterrupt\u001b[0m                         Traceback (most recent call last)",
      "\u001b[1;32m<timed exec>\u001b[0m in \u001b[0;36m<module>\u001b[1;34m\u001b[0m\n",
      "\u001b[1;32m~\\AppData\\Roaming\\Python\\Python38\\site-packages\\tensorflow\\python\\keras\\engine\\training.py\u001b[0m in \u001b[0;36mfit\u001b[1;34m(self, x, y, batch_size, epochs, verbose, callbacks, validation_split, validation_data, shuffle, class_weight, sample_weight, initial_epoch, steps_per_epoch, validation_steps, validation_batch_size, validation_freq, max_queue_size, workers, use_multiprocessing)\u001b[0m\n\u001b[0;32m   1186\u001b[0m               \u001b[0mlogs\u001b[0m \u001b[1;33m=\u001b[0m \u001b[0mtmp_logs\u001b[0m  \u001b[1;31m# No error, now safe to assign to logs.\u001b[0m\u001b[1;33m\u001b[0m\u001b[1;33m\u001b[0m\u001b[0m\n\u001b[0;32m   1187\u001b[0m               \u001b[0mend_step\u001b[0m \u001b[1;33m=\u001b[0m \u001b[0mstep\u001b[0m \u001b[1;33m+\u001b[0m \u001b[0mdata_handler\u001b[0m\u001b[1;33m.\u001b[0m\u001b[0mstep_increment\u001b[0m\u001b[1;33m\u001b[0m\u001b[1;33m\u001b[0m\u001b[0m\n\u001b[1;32m-> 1188\u001b[1;33m               \u001b[0mcallbacks\u001b[0m\u001b[1;33m.\u001b[0m\u001b[0mon_train_batch_end\u001b[0m\u001b[1;33m(\u001b[0m\u001b[0mend_step\u001b[0m\u001b[1;33m,\u001b[0m \u001b[0mlogs\u001b[0m\u001b[1;33m)\u001b[0m\u001b[1;33m\u001b[0m\u001b[1;33m\u001b[0m\u001b[0m\n\u001b[0m\u001b[0;32m   1189\u001b[0m               \u001b[1;32mif\u001b[0m \u001b[0mself\u001b[0m\u001b[1;33m.\u001b[0m\u001b[0mstop_training\u001b[0m\u001b[1;33m:\u001b[0m\u001b[1;33m\u001b[0m\u001b[1;33m\u001b[0m\u001b[0m\n\u001b[0;32m   1190\u001b[0m                 \u001b[1;32mbreak\u001b[0m\u001b[1;33m\u001b[0m\u001b[1;33m\u001b[0m\u001b[0m\n",
      "\u001b[1;32m~\\AppData\\Roaming\\Python\\Python38\\site-packages\\tensorflow\\python\\keras\\callbacks.py\u001b[0m in \u001b[0;36mon_train_batch_end\u001b[1;34m(self, batch, logs)\u001b[0m\n\u001b[0;32m    455\u001b[0m     \"\"\"\n\u001b[0;32m    456\u001b[0m     \u001b[1;32mif\u001b[0m \u001b[0mself\u001b[0m\u001b[1;33m.\u001b[0m\u001b[0m_should_call_train_batch_hooks\u001b[0m\u001b[1;33m:\u001b[0m\u001b[1;33m\u001b[0m\u001b[1;33m\u001b[0m\u001b[0m\n\u001b[1;32m--> 457\u001b[1;33m       \u001b[0mself\u001b[0m\u001b[1;33m.\u001b[0m\u001b[0m_call_batch_hook\u001b[0m\u001b[1;33m(\u001b[0m\u001b[0mModeKeys\u001b[0m\u001b[1;33m.\u001b[0m\u001b[0mTRAIN\u001b[0m\u001b[1;33m,\u001b[0m \u001b[1;34m'end'\u001b[0m\u001b[1;33m,\u001b[0m \u001b[0mbatch\u001b[0m\u001b[1;33m,\u001b[0m \u001b[0mlogs\u001b[0m\u001b[1;33m=\u001b[0m\u001b[0mlogs\u001b[0m\u001b[1;33m)\u001b[0m\u001b[1;33m\u001b[0m\u001b[1;33m\u001b[0m\u001b[0m\n\u001b[0m\u001b[0;32m    458\u001b[0m \u001b[1;33m\u001b[0m\u001b[0m\n\u001b[0;32m    459\u001b[0m   \u001b[1;32mdef\u001b[0m \u001b[0mon_test_batch_begin\u001b[0m\u001b[1;33m(\u001b[0m\u001b[0mself\u001b[0m\u001b[1;33m,\u001b[0m \u001b[0mbatch\u001b[0m\u001b[1;33m,\u001b[0m \u001b[0mlogs\u001b[0m\u001b[1;33m=\u001b[0m\u001b[1;32mNone\u001b[0m\u001b[1;33m)\u001b[0m\u001b[1;33m:\u001b[0m\u001b[1;33m\u001b[0m\u001b[1;33m\u001b[0m\u001b[0m\n",
      "\u001b[1;32m~\\AppData\\Roaming\\Python\\Python38\\site-packages\\tensorflow\\python\\keras\\callbacks.py\u001b[0m in \u001b[0;36m_call_batch_hook\u001b[1;34m(self, mode, hook, batch, logs)\u001b[0m\n\u001b[0;32m    315\u001b[0m       \u001b[0mself\u001b[0m\u001b[1;33m.\u001b[0m\u001b[0m_call_batch_begin_hook\u001b[0m\u001b[1;33m(\u001b[0m\u001b[0mmode\u001b[0m\u001b[1;33m,\u001b[0m \u001b[0mbatch\u001b[0m\u001b[1;33m,\u001b[0m \u001b[0mlogs\u001b[0m\u001b[1;33m)\u001b[0m\u001b[1;33m\u001b[0m\u001b[1;33m\u001b[0m\u001b[0m\n\u001b[0;32m    316\u001b[0m     \u001b[1;32melif\u001b[0m \u001b[0mhook\u001b[0m \u001b[1;33m==\u001b[0m \u001b[1;34m'end'\u001b[0m\u001b[1;33m:\u001b[0m\u001b[1;33m\u001b[0m\u001b[1;33m\u001b[0m\u001b[0m\n\u001b[1;32m--> 317\u001b[1;33m       \u001b[0mself\u001b[0m\u001b[1;33m.\u001b[0m\u001b[0m_call_batch_end_hook\u001b[0m\u001b[1;33m(\u001b[0m\u001b[0mmode\u001b[0m\u001b[1;33m,\u001b[0m \u001b[0mbatch\u001b[0m\u001b[1;33m,\u001b[0m \u001b[0mlogs\u001b[0m\u001b[1;33m)\u001b[0m\u001b[1;33m\u001b[0m\u001b[1;33m\u001b[0m\u001b[0m\n\u001b[0m\u001b[0;32m    318\u001b[0m     \u001b[1;32melse\u001b[0m\u001b[1;33m:\u001b[0m\u001b[1;33m\u001b[0m\u001b[1;33m\u001b[0m\u001b[0m\n\u001b[0;32m    319\u001b[0m       \u001b[1;32mraise\u001b[0m \u001b[0mValueError\u001b[0m\u001b[1;33m(\u001b[0m\u001b[1;34m'Unrecognized hook: {}'\u001b[0m\u001b[1;33m.\u001b[0m\u001b[0mformat\u001b[0m\u001b[1;33m(\u001b[0m\u001b[0mhook\u001b[0m\u001b[1;33m)\u001b[0m\u001b[1;33m)\u001b[0m\u001b[1;33m\u001b[0m\u001b[1;33m\u001b[0m\u001b[0m\n",
      "\u001b[1;32m~\\AppData\\Roaming\\Python\\Python38\\site-packages\\tensorflow\\python\\keras\\callbacks.py\u001b[0m in \u001b[0;36m_call_batch_end_hook\u001b[1;34m(self, mode, batch, logs)\u001b[0m\n\u001b[0;32m    335\u001b[0m       \u001b[0mself\u001b[0m\u001b[1;33m.\u001b[0m\u001b[0m_batch_times\u001b[0m\u001b[1;33m.\u001b[0m\u001b[0mappend\u001b[0m\u001b[1;33m(\u001b[0m\u001b[0mbatch_time\u001b[0m\u001b[1;33m)\u001b[0m\u001b[1;33m\u001b[0m\u001b[1;33m\u001b[0m\u001b[0m\n\u001b[0;32m    336\u001b[0m \u001b[1;33m\u001b[0m\u001b[0m\n\u001b[1;32m--> 337\u001b[1;33m     \u001b[0mself\u001b[0m\u001b[1;33m.\u001b[0m\u001b[0m_call_batch_hook_helper\u001b[0m\u001b[1;33m(\u001b[0m\u001b[0mhook_name\u001b[0m\u001b[1;33m,\u001b[0m \u001b[0mbatch\u001b[0m\u001b[1;33m,\u001b[0m \u001b[0mlogs\u001b[0m\u001b[1;33m)\u001b[0m\u001b[1;33m\u001b[0m\u001b[1;33m\u001b[0m\u001b[0m\n\u001b[0m\u001b[0;32m    338\u001b[0m \u001b[1;33m\u001b[0m\u001b[0m\n\u001b[0;32m    339\u001b[0m     \u001b[1;32mif\u001b[0m \u001b[0mlen\u001b[0m\u001b[1;33m(\u001b[0m\u001b[0mself\u001b[0m\u001b[1;33m.\u001b[0m\u001b[0m_batch_times\u001b[0m\u001b[1;33m)\u001b[0m \u001b[1;33m>=\u001b[0m \u001b[0mself\u001b[0m\u001b[1;33m.\u001b[0m\u001b[0m_num_batches_for_timing_check\u001b[0m\u001b[1;33m:\u001b[0m\u001b[1;33m\u001b[0m\u001b[1;33m\u001b[0m\u001b[0m\n",
      "\u001b[1;32m~\\AppData\\Roaming\\Python\\Python38\\site-packages\\tensorflow\\python\\keras\\callbacks.py\u001b[0m in \u001b[0;36m_call_batch_hook_helper\u001b[1;34m(self, hook_name, batch, logs)\u001b[0m\n\u001b[0;32m    373\u001b[0m     \u001b[1;32mfor\u001b[0m \u001b[0mcallback\u001b[0m \u001b[1;32min\u001b[0m \u001b[0mself\u001b[0m\u001b[1;33m.\u001b[0m\u001b[0mcallbacks\u001b[0m\u001b[1;33m:\u001b[0m\u001b[1;33m\u001b[0m\u001b[1;33m\u001b[0m\u001b[0m\n\u001b[0;32m    374\u001b[0m       \u001b[0mhook\u001b[0m \u001b[1;33m=\u001b[0m \u001b[0mgetattr\u001b[0m\u001b[1;33m(\u001b[0m\u001b[0mcallback\u001b[0m\u001b[1;33m,\u001b[0m \u001b[0mhook_name\u001b[0m\u001b[1;33m)\u001b[0m\u001b[1;33m\u001b[0m\u001b[1;33m\u001b[0m\u001b[0m\n\u001b[1;32m--> 375\u001b[1;33m       \u001b[0mhook\u001b[0m\u001b[1;33m(\u001b[0m\u001b[0mbatch\u001b[0m\u001b[1;33m,\u001b[0m \u001b[0mlogs\u001b[0m\u001b[1;33m)\u001b[0m\u001b[1;33m\u001b[0m\u001b[1;33m\u001b[0m\u001b[0m\n\u001b[0m\u001b[0;32m    376\u001b[0m \u001b[1;33m\u001b[0m\u001b[0m\n\u001b[0;32m    377\u001b[0m     \u001b[1;32mif\u001b[0m \u001b[0mself\u001b[0m\u001b[1;33m.\u001b[0m\u001b[0m_check_timing\u001b[0m\u001b[1;33m:\u001b[0m\u001b[1;33m\u001b[0m\u001b[1;33m\u001b[0m\u001b[0m\n",
      "\u001b[1;32m~\\AppData\\Roaming\\Python\\Python38\\site-packages\\tensorflow\\python\\keras\\callbacks.py\u001b[0m in \u001b[0;36mon_train_batch_end\u001b[1;34m(self, batch, logs)\u001b[0m\n\u001b[0;32m   1027\u001b[0m \u001b[1;33m\u001b[0m\u001b[0m\n\u001b[0;32m   1028\u001b[0m   \u001b[1;32mdef\u001b[0m \u001b[0mon_train_batch_end\u001b[0m\u001b[1;33m(\u001b[0m\u001b[0mself\u001b[0m\u001b[1;33m,\u001b[0m \u001b[0mbatch\u001b[0m\u001b[1;33m,\u001b[0m \u001b[0mlogs\u001b[0m\u001b[1;33m=\u001b[0m\u001b[1;32mNone\u001b[0m\u001b[1;33m)\u001b[0m\u001b[1;33m:\u001b[0m\u001b[1;33m\u001b[0m\u001b[1;33m\u001b[0m\u001b[0m\n\u001b[1;32m-> 1029\u001b[1;33m     \u001b[0mself\u001b[0m\u001b[1;33m.\u001b[0m\u001b[0m_batch_update_progbar\u001b[0m\u001b[1;33m(\u001b[0m\u001b[0mbatch\u001b[0m\u001b[1;33m,\u001b[0m \u001b[0mlogs\u001b[0m\u001b[1;33m)\u001b[0m\u001b[1;33m\u001b[0m\u001b[1;33m\u001b[0m\u001b[0m\n\u001b[0m\u001b[0;32m   1030\u001b[0m \u001b[1;33m\u001b[0m\u001b[0m\n\u001b[0;32m   1031\u001b[0m   \u001b[1;32mdef\u001b[0m \u001b[0mon_test_batch_end\u001b[0m\u001b[1;33m(\u001b[0m\u001b[0mself\u001b[0m\u001b[1;33m,\u001b[0m \u001b[0mbatch\u001b[0m\u001b[1;33m,\u001b[0m \u001b[0mlogs\u001b[0m\u001b[1;33m=\u001b[0m\u001b[1;32mNone\u001b[0m\u001b[1;33m)\u001b[0m\u001b[1;33m:\u001b[0m\u001b[1;33m\u001b[0m\u001b[1;33m\u001b[0m\u001b[0m\n",
      "\u001b[1;32m~\\AppData\\Roaming\\Python\\Python38\\site-packages\\tensorflow\\python\\keras\\callbacks.py\u001b[0m in \u001b[0;36m_batch_update_progbar\u001b[1;34m(self, batch, logs)\u001b[0m\n\u001b[0;32m   1099\u001b[0m     \u001b[1;32mif\u001b[0m \u001b[0mself\u001b[0m\u001b[1;33m.\u001b[0m\u001b[0mverbose\u001b[0m \u001b[1;33m==\u001b[0m \u001b[1;36m1\u001b[0m\u001b[1;33m:\u001b[0m\u001b[1;33m\u001b[0m\u001b[1;33m\u001b[0m\u001b[0m\n\u001b[0;32m   1100\u001b[0m       \u001b[1;31m# Only block async when verbose = 1.\u001b[0m\u001b[1;33m\u001b[0m\u001b[1;33m\u001b[0m\u001b[1;33m\u001b[0m\u001b[0m\n\u001b[1;32m-> 1101\u001b[1;33m       \u001b[0mlogs\u001b[0m \u001b[1;33m=\u001b[0m \u001b[0mtf_utils\u001b[0m\u001b[1;33m.\u001b[0m\u001b[0msync_to_numpy_or_python_type\u001b[0m\u001b[1;33m(\u001b[0m\u001b[0mlogs\u001b[0m\u001b[1;33m)\u001b[0m\u001b[1;33m\u001b[0m\u001b[1;33m\u001b[0m\u001b[0m\n\u001b[0m\u001b[0;32m   1102\u001b[0m       \u001b[0mself\u001b[0m\u001b[1;33m.\u001b[0m\u001b[0mprogbar\u001b[0m\u001b[1;33m.\u001b[0m\u001b[0mupdate\u001b[0m\u001b[1;33m(\u001b[0m\u001b[0mself\u001b[0m\u001b[1;33m.\u001b[0m\u001b[0mseen\u001b[0m\u001b[1;33m,\u001b[0m \u001b[0mlist\u001b[0m\u001b[1;33m(\u001b[0m\u001b[0mlogs\u001b[0m\u001b[1;33m.\u001b[0m\u001b[0mitems\u001b[0m\u001b[1;33m(\u001b[0m\u001b[1;33m)\u001b[0m\u001b[1;33m)\u001b[0m\u001b[1;33m,\u001b[0m \u001b[0mfinalize\u001b[0m\u001b[1;33m=\u001b[0m\u001b[1;32mFalse\u001b[0m\u001b[1;33m)\u001b[0m\u001b[1;33m\u001b[0m\u001b[1;33m\u001b[0m\u001b[0m\n\u001b[0;32m   1103\u001b[0m \u001b[1;33m\u001b[0m\u001b[0m\n",
      "\u001b[1;32m~\\AppData\\Roaming\\Python\\Python38\\site-packages\\tensorflow\\python\\keras\\utils\\tf_utils.py\u001b[0m in \u001b[0;36msync_to_numpy_or_python_type\u001b[1;34m(tensors)\u001b[0m\n\u001b[0;32m    517\u001b[0m     \u001b[1;32mreturn\u001b[0m \u001b[0mt\u001b[0m  \u001b[1;31m# Don't turn ragged or sparse tensors to NumPy.\u001b[0m\u001b[1;33m\u001b[0m\u001b[1;33m\u001b[0m\u001b[0m\n\u001b[0;32m    518\u001b[0m \u001b[1;33m\u001b[0m\u001b[0m\n\u001b[1;32m--> 519\u001b[1;33m   \u001b[1;32mreturn\u001b[0m \u001b[0mnest\u001b[0m\u001b[1;33m.\u001b[0m\u001b[0mmap_structure\u001b[0m\u001b[1;33m(\u001b[0m\u001b[0m_to_single_numpy_or_python_type\u001b[0m\u001b[1;33m,\u001b[0m \u001b[0mtensors\u001b[0m\u001b[1;33m)\u001b[0m\u001b[1;33m\u001b[0m\u001b[1;33m\u001b[0m\u001b[0m\n\u001b[0m\u001b[0;32m    520\u001b[0m \u001b[1;33m\u001b[0m\u001b[0m\n\u001b[0;32m    521\u001b[0m \u001b[1;33m\u001b[0m\u001b[0m\n",
      "\u001b[1;32m~\\AppData\\Roaming\\Python\\Python38\\site-packages\\tensorflow\\python\\util\\nest.py\u001b[0m in \u001b[0;36mmap_structure\u001b[1;34m(func, *structure, **kwargs)\u001b[0m\n\u001b[0;32m    865\u001b[0m \u001b[1;33m\u001b[0m\u001b[0m\n\u001b[0;32m    866\u001b[0m   return pack_sequence_as(\n\u001b[1;32m--> 867\u001b[1;33m       \u001b[0mstructure\u001b[0m\u001b[1;33m[\u001b[0m\u001b[1;36m0\u001b[0m\u001b[1;33m]\u001b[0m\u001b[1;33m,\u001b[0m \u001b[1;33m[\u001b[0m\u001b[0mfunc\u001b[0m\u001b[1;33m(\u001b[0m\u001b[1;33m*\u001b[0m\u001b[0mx\u001b[0m\u001b[1;33m)\u001b[0m \u001b[1;32mfor\u001b[0m \u001b[0mx\u001b[0m \u001b[1;32min\u001b[0m \u001b[0mentries\u001b[0m\u001b[1;33m]\u001b[0m\u001b[1;33m,\u001b[0m\u001b[1;33m\u001b[0m\u001b[1;33m\u001b[0m\u001b[0m\n\u001b[0m\u001b[0;32m    868\u001b[0m       expand_composites=expand_composites)\n\u001b[0;32m    869\u001b[0m \u001b[1;33m\u001b[0m\u001b[0m\n",
      "\u001b[1;32m~\\AppData\\Roaming\\Python\\Python38\\site-packages\\tensorflow\\python\\util\\nest.py\u001b[0m in \u001b[0;36m<listcomp>\u001b[1;34m(.0)\u001b[0m\n\u001b[0;32m    865\u001b[0m \u001b[1;33m\u001b[0m\u001b[0m\n\u001b[0;32m    866\u001b[0m   return pack_sequence_as(\n\u001b[1;32m--> 867\u001b[1;33m       \u001b[0mstructure\u001b[0m\u001b[1;33m[\u001b[0m\u001b[1;36m0\u001b[0m\u001b[1;33m]\u001b[0m\u001b[1;33m,\u001b[0m \u001b[1;33m[\u001b[0m\u001b[0mfunc\u001b[0m\u001b[1;33m(\u001b[0m\u001b[1;33m*\u001b[0m\u001b[0mx\u001b[0m\u001b[1;33m)\u001b[0m \u001b[1;32mfor\u001b[0m \u001b[0mx\u001b[0m \u001b[1;32min\u001b[0m \u001b[0mentries\u001b[0m\u001b[1;33m]\u001b[0m\u001b[1;33m,\u001b[0m\u001b[1;33m\u001b[0m\u001b[1;33m\u001b[0m\u001b[0m\n\u001b[0m\u001b[0;32m    868\u001b[0m       expand_composites=expand_composites)\n\u001b[0;32m    869\u001b[0m \u001b[1;33m\u001b[0m\u001b[0m\n",
      "\u001b[1;32m~\\AppData\\Roaming\\Python\\Python38\\site-packages\\tensorflow\\python\\keras\\utils\\tf_utils.py\u001b[0m in \u001b[0;36m_to_single_numpy_or_python_type\u001b[1;34m(t)\u001b[0m\n\u001b[0;32m    513\u001b[0m   \u001b[1;32mdef\u001b[0m \u001b[0m_to_single_numpy_or_python_type\u001b[0m\u001b[1;33m(\u001b[0m\u001b[0mt\u001b[0m\u001b[1;33m)\u001b[0m\u001b[1;33m:\u001b[0m\u001b[1;33m\u001b[0m\u001b[1;33m\u001b[0m\u001b[0m\n\u001b[0;32m    514\u001b[0m     \u001b[1;32mif\u001b[0m \u001b[0misinstance\u001b[0m\u001b[1;33m(\u001b[0m\u001b[0mt\u001b[0m\u001b[1;33m,\u001b[0m \u001b[0mops\u001b[0m\u001b[1;33m.\u001b[0m\u001b[0mTensor\u001b[0m\u001b[1;33m)\u001b[0m\u001b[1;33m:\u001b[0m\u001b[1;33m\u001b[0m\u001b[1;33m\u001b[0m\u001b[0m\n\u001b[1;32m--> 515\u001b[1;33m       \u001b[0mx\u001b[0m \u001b[1;33m=\u001b[0m \u001b[0mt\u001b[0m\u001b[1;33m.\u001b[0m\u001b[0mnumpy\u001b[0m\u001b[1;33m(\u001b[0m\u001b[1;33m)\u001b[0m\u001b[1;33m\u001b[0m\u001b[1;33m\u001b[0m\u001b[0m\n\u001b[0m\u001b[0;32m    516\u001b[0m       \u001b[1;32mreturn\u001b[0m \u001b[0mx\u001b[0m\u001b[1;33m.\u001b[0m\u001b[0mitem\u001b[0m\u001b[1;33m(\u001b[0m\u001b[1;33m)\u001b[0m \u001b[1;32mif\u001b[0m \u001b[0mnp\u001b[0m\u001b[1;33m.\u001b[0m\u001b[0mndim\u001b[0m\u001b[1;33m(\u001b[0m\u001b[0mx\u001b[0m\u001b[1;33m)\u001b[0m \u001b[1;33m==\u001b[0m \u001b[1;36m0\u001b[0m \u001b[1;32melse\u001b[0m \u001b[0mx\u001b[0m\u001b[1;33m\u001b[0m\u001b[1;33m\u001b[0m\u001b[0m\n\u001b[0;32m    517\u001b[0m     \u001b[1;32mreturn\u001b[0m \u001b[0mt\u001b[0m  \u001b[1;31m# Don't turn ragged or sparse tensors to NumPy.\u001b[0m\u001b[1;33m\u001b[0m\u001b[1;33m\u001b[0m\u001b[0m\n",
      "\u001b[1;32m~\\AppData\\Roaming\\Python\\Python38\\site-packages\\tensorflow\\python\\framework\\ops.py\u001b[0m in \u001b[0;36mnumpy\u001b[1;34m(self)\u001b[0m\n\u001b[0;32m   1092\u001b[0m     \"\"\"\n\u001b[0;32m   1093\u001b[0m     \u001b[1;31m# TODO(slebedev): Consider avoiding a copy for non-CPU or remote tensors.\u001b[0m\u001b[1;33m\u001b[0m\u001b[1;33m\u001b[0m\u001b[1;33m\u001b[0m\u001b[0m\n\u001b[1;32m-> 1094\u001b[1;33m     \u001b[0mmaybe_arr\u001b[0m \u001b[1;33m=\u001b[0m \u001b[0mself\u001b[0m\u001b[1;33m.\u001b[0m\u001b[0m_numpy\u001b[0m\u001b[1;33m(\u001b[0m\u001b[1;33m)\u001b[0m  \u001b[1;31m# pylint: disable=protected-access\u001b[0m\u001b[1;33m\u001b[0m\u001b[1;33m\u001b[0m\u001b[0m\n\u001b[0m\u001b[0;32m   1095\u001b[0m     \u001b[1;32mreturn\u001b[0m \u001b[0mmaybe_arr\u001b[0m\u001b[1;33m.\u001b[0m\u001b[0mcopy\u001b[0m\u001b[1;33m(\u001b[0m\u001b[1;33m)\u001b[0m \u001b[1;32mif\u001b[0m \u001b[0misinstance\u001b[0m\u001b[1;33m(\u001b[0m\u001b[0mmaybe_arr\u001b[0m\u001b[1;33m,\u001b[0m \u001b[0mnp\u001b[0m\u001b[1;33m.\u001b[0m\u001b[0mndarray\u001b[0m\u001b[1;33m)\u001b[0m \u001b[1;32melse\u001b[0m \u001b[0mmaybe_arr\u001b[0m\u001b[1;33m\u001b[0m\u001b[1;33m\u001b[0m\u001b[0m\n\u001b[0;32m   1096\u001b[0m \u001b[1;33m\u001b[0m\u001b[0m\n",
      "\u001b[1;32m~\\AppData\\Roaming\\Python\\Python38\\site-packages\\tensorflow\\python\\framework\\ops.py\u001b[0m in \u001b[0;36m_numpy\u001b[1;34m(self)\u001b[0m\n\u001b[0;32m   1058\u001b[0m   \u001b[1;32mdef\u001b[0m \u001b[0m_numpy\u001b[0m\u001b[1;33m(\u001b[0m\u001b[0mself\u001b[0m\u001b[1;33m)\u001b[0m\u001b[1;33m:\u001b[0m\u001b[1;33m\u001b[0m\u001b[1;33m\u001b[0m\u001b[0m\n\u001b[0;32m   1059\u001b[0m     \u001b[1;32mtry\u001b[0m\u001b[1;33m:\u001b[0m\u001b[1;33m\u001b[0m\u001b[1;33m\u001b[0m\u001b[0m\n\u001b[1;32m-> 1060\u001b[1;33m       \u001b[1;32mreturn\u001b[0m \u001b[0mself\u001b[0m\u001b[1;33m.\u001b[0m\u001b[0m_numpy_internal\u001b[0m\u001b[1;33m(\u001b[0m\u001b[1;33m)\u001b[0m\u001b[1;33m\u001b[0m\u001b[1;33m\u001b[0m\u001b[0m\n\u001b[0m\u001b[0;32m   1061\u001b[0m     \u001b[1;32mexcept\u001b[0m \u001b[0mcore\u001b[0m\u001b[1;33m.\u001b[0m\u001b[0m_NotOkStatusException\u001b[0m \u001b[1;32mas\u001b[0m \u001b[0me\u001b[0m\u001b[1;33m:\u001b[0m  \u001b[1;31m# pylint: disable=protected-access\u001b[0m\u001b[1;33m\u001b[0m\u001b[1;33m\u001b[0m\u001b[0m\n\u001b[0;32m   1062\u001b[0m       \u001b[0msix\u001b[0m\u001b[1;33m.\u001b[0m\u001b[0mraise_from\u001b[0m\u001b[1;33m(\u001b[0m\u001b[0mcore\u001b[0m\u001b[1;33m.\u001b[0m\u001b[0m_status_to_exception\u001b[0m\u001b[1;33m(\u001b[0m\u001b[0me\u001b[0m\u001b[1;33m.\u001b[0m\u001b[0mcode\u001b[0m\u001b[1;33m,\u001b[0m \u001b[0me\u001b[0m\u001b[1;33m.\u001b[0m\u001b[0mmessage\u001b[0m\u001b[1;33m)\u001b[0m\u001b[1;33m,\u001b[0m \u001b[1;32mNone\u001b[0m\u001b[1;33m)\u001b[0m  \u001b[1;31m# pylint: disable=protected-access\u001b[0m\u001b[1;33m\u001b[0m\u001b[1;33m\u001b[0m\u001b[0m\n",
      "\u001b[1;31mKeyboardInterrupt\u001b[0m: "
     ]
    }
   ],
   "source": [
    "%%time\n",
    "EPOCHS = 150\n",
    "#se usa el repeat para llamar al generador mas de una vez\n",
    "#steps_per_epoch  = numero de batches de los datos para determinar una epoca terminada \n",
    "#Por defecto -> number of samples in your dataset divided by the batch size (LEN_DT//BATCH_SIZE_TRAIN)\n",
    "#verbose = mostrar el avance del entrenamiento\n",
    "#validation_steps = numero de batches de datos para validar en cada epoca\n",
    "#workers?\n",
    "#max_queue_size?\n",
    "history = model.fit(dataset_train.repeat(), \n",
    "                    epochs=EPOCHS, \n",
    "                    steps_per_epoch = len(X_train),\n",
    "                    callbacks=callbacks, \n",
    "                    verbose=1,\n",
    "                    validation_data = dataset_val.repeat(),\n",
    "                    validation_steps= len(X_val))"
   ]
  },
  {
   "cell_type": "markdown",
   "id": "accepting-photography",
   "metadata": {},
   "source": [
    "#### Se guarda el Modelo"
   ]
  },
  {
   "cell_type": "code",
   "execution_count": 51,
   "id": "cf95e5db",
   "metadata": {},
   "outputs": [],
   "source": [
    "I = 'LSTM_1_2'"
   ]
  },
  {
   "cell_type": "code",
   "execution_count": 52,
   "id": "universal-fraud",
   "metadata": {},
   "outputs": [
    {
     "name": "stdout",
     "output_type": "stream",
     "text": [
      "../Models/Dataset_Final_LSTM_1_2.h5\n"
     ]
    }
   ],
   "source": [
    "model.save(f'../Models/{dataset_name}_{I}.h5')\n",
    "print(f'../Models/{dataset_name}_{I}.h5')"
   ]
  },
  {
   "cell_type": "markdown",
   "id": "sized-differential",
   "metadata": {},
   "source": [
    "### Evaluación del Modelo"
   ]
  },
  {
   "cell_type": "markdown",
   "id": "pending-climate",
   "metadata": {},
   "source": [
    "#### Se carga el modelo"
   ]
  },
  {
   "cell_type": "code",
   "execution_count": 25,
   "id": "4872a8e5",
   "metadata": {},
   "outputs": [],
   "source": [
    "I = 'CLSTM'\n",
    "j = 'Tunner_2'"
   ]
  },
  {
   "cell_type": "code",
   "execution_count": 26,
   "id": "excessive-meaning",
   "metadata": {},
   "outputs": [
    {
     "name": "stdout",
     "output_type": "stream",
     "text": [
      "WARNING:tensorflow:No training configuration found in the save file, so the model was *not* compiled. Compile it manually.\n",
      "Model: \"sequential\"\n",
      "_________________________________________________________________\n",
      "Layer (type)                 Output Shape              Param #   \n",
      "=================================================================\n",
      "lstm (LSTM)                  (None, None, 320)         439040    \n",
      "_________________________________________________________________\n",
      "conv1d (Conv1D)              (None, None, 480)         461280    \n",
      "_________________________________________________________________\n",
      "lstm_1 (LSTM)                (None, None, 128)         311808    \n",
      "_________________________________________________________________\n",
      "conv1d_1 (Conv1D)            (None, None, 288)         110880    \n",
      "_________________________________________________________________\n",
      "lstm_2 (LSTM)                (None, 128)               213504    \n",
      "_________________________________________________________________\n",
      "dense (Dense)                (None, 64)                8256      \n",
      "_________________________________________________________________\n",
      "dense_1 (Dense)              (None, 96)                6240      \n",
      "_________________________________________________________________\n",
      "dense_2 (Dense)              (None, 320)               31040     \n",
      "_________________________________________________________________\n",
      "dense_3 (Dense)              (None, 192)               61632     \n",
      "_________________________________________________________________\n",
      "dense_4 (Dense)              (None, 4)                 772       \n",
      "=================================================================\n",
      "Total params: 1,644,452\n",
      "Trainable params: 1,644,452\n",
      "Non-trainable params: 0\n",
      "_________________________________________________________________\n"
     ]
    }
   ],
   "source": [
    "#model = tf.keras.models.load_model(f'../Models/{I}/{dataset_name}_{I}_{j}.h5')\n",
    "#model = tf.keras.models.load_model(f'../Models/{dataset_name}_{I}_{j}.h5')\n",
    "model = tf.keras.models.load_model(f'../Models/Dataset_Final_LSTMCNN_Tuner_4.h5')\n",
    "#model = tf.keras.models.load_model(f'../tmp/LSTMCNN/Dataset_Final_LSTMCNN_Tuner_2.h5')\n",
    "model.compile(loss='mean_squared_error', optimizer='adam', metrics='mean_squared_error')\n",
    "model.summary()"
   ]
  },
  {
   "cell_type": "code",
   "execution_count": 39,
   "id": "d8546c86",
   "metadata": {},
   "outputs": [],
   "source": [
    "window = 8                    ### Número de steps por ejemplo\n",
    "batch_size = 512              ### Número de ejemplos por batch\n",
    "sequence_out = False\n",
    "variable_window=False\n",
    "feedback = False\n",
    "delta_window=window/3"
   ]
  },
  {
   "cell_type": "code",
   "execution_count": 40,
   "id": "fbfd0621",
   "metadata": {},
   "outputs": [],
   "source": [
    "test_generator  = DataGenerator(X=X_test,  Y=Y_test,  batch_size=batch_size, window=window, sequence_out=sequence_out, variable_window=variable_window, delta_window=delta_window, feedback=feedback)\n",
    "dataset_test = tf.data.Dataset.from_generator(test_generator.build_data,\n",
    "                                        output_types = (tf.float32, tf.float32))"
   ]
  },
  {
   "cell_type": "markdown",
   "id": "monetary-commons",
   "metadata": {},
   "source": [
    "#### Evaluación con dataset de prueba"
   ]
  },
  {
   "cell_type": "code",
   "execution_count": 41,
   "id": "ahead-delhi",
   "metadata": {},
   "outputs": [
    {
     "name": "stdout",
     "output_type": "stream",
     "text": [
      "45/45 [==============================] - 4s 95ms/step - loss: 0.0108 - mean_squared_error: 0.0108\n",
      "K=12226.15\n",
      "loss: 1.08e-02 -> 131.76 RPM\n",
      "mean_squared_error: 1.08e-02 -> 131.76 RPM\n",
      "Wall time: 4.43 s\n"
     ]
    }
   ],
   "source": [
    "%%time\n",
    "N = 0\n",
    "for i in range(len(X_test)):\n",
    "    N+=len(X_test[i])\n",
    "N=N/len(X_test)\n",
    "\n",
    "n_batches = np.ceil(N/batch_size)\n",
    "losses = model.evaluate(dataset_test, steps = n_batches)\n",
    "K = df_desc[rpm_list[0]][7]-df_desc[rpm_list[0]][3] #Ganancia del actuador\n",
    "print(f'K={\"{:.2f}\".format(K)}')\n",
    "if not type(metrics) == list:\n",
    "    metrics = [metrics]\n",
    "for i, l in enumerate(['loss']+metrics):\n",
    "    print(f'{l}: {\"{:.2e}\".format(losses[i])} -> {\"{:.2f}\".format(losses[i]*K)} RPM')"
   ]
  },
  {
   "cell_type": "markdown",
   "id": "detected-grace",
   "metadata": {},
   "source": [
    "#### Evaluación con 1 trayectoria"
   ]
  },
  {
   "cell_type": "code",
   "execution_count": 27,
   "id": "outstanding-tower",
   "metadata": {},
   "outputs": [],
   "source": [
    "window_test = 3000\n",
    "test_traj_generator  = DataGenerator(X=X_test,  Y=Y_test,  batch_size=1, window=window_test, sequence_out=True, feedback=feedback)"
   ]
  },
  {
   "cell_type": "code",
   "execution_count": 28,
   "id": "lesbian-promotion",
   "metadata": {},
   "outputs": [
    {
     "name": "stdout",
     "output_type": "stream",
     "text": [
      "Wall time: 1min 59s\n"
     ]
    }
   ],
   "source": [
    "%%time\n",
    "X, Y = next(test_traj_generator.build_data())\n",
    "offset = 8\n",
    "x = X[0]\n",
    "y = Y[0]\n",
    "y = y[offset:]\n",
    "y_pred = []\n",
    "for i in range(offset, len(x)):\n",
    "    #if i <= offset:\n",
    "        #continue\n",
    "        #x_temp = x[0].reshape(1,  1, X.shape[2])\n",
    "    if i<=window:\n",
    "        x_temp = x[0:i].reshape(1,  i, X.shape[2])\n",
    "    else:\n",
    "        x_temp = x[i-window:i].reshape(1,  window, X.shape[2])\n",
    "    y_temp = model.predict(x_temp)\n",
    "    y_pred.append(y_temp)\n",
    "y_pred = np.array(y_pred).reshape(y.shape)"
   ]
  },
  {
   "cell_type": "markdown",
   "id": "selected-habitat",
   "metadata": {},
   "source": [
    "#### Visualización con 1 trayectoria"
   ]
  },
  {
   "cell_type": "code",
   "execution_count": 29,
   "id": "critical-bleeding",
   "metadata": {},
   "outputs": [],
   "source": [
    "t = np.arange(0, len(y)*Ts, Ts)"
   ]
  },
  {
   "cell_type": "code",
   "execution_count": 30,
   "id": "advanced-greek",
   "metadata": {
    "scrolled": true
   },
   "outputs": [
    {
     "data": {
      "image/png": "[encoded data removed]",
      "text/plain": [
       "<Figure size 504x1080 with 4 Axes>"
      ]
     },
     "metadata": {
      "needs_background": "light"
     },
     "output_type": "display_data"
    }
   ],
   "source": [
    "fig, axs = plt.subplots(Y.shape[2], figsize = (7,15))\n",
    "for i in range(Y.shape[2]):\n",
    "    axs[i].plot(t, y_pred[:,i], t, y[:,i])\n",
    "    axs[i].grid()"
   ]
  },
  {
   "cell_type": "code",
   "execution_count": 31,
   "id": "contained-constitution",
   "metadata": {},
   "outputs": [
    {
     "data": {
      "image/png": "[encoded data removed]",
      "text/plain": [
       "<Figure size 504x1080 with 4 Axes>"
      ]
     },
     "metadata": {
      "needs_background": "light"
     },
     "output_type": "display_data"
    }
   ],
   "source": [
    "fig, axs = plt.subplots(Y.shape[2], figsize = (7,15))\n",
    "L1 = 4*len(t)//5\n",
    "L2 = 5*len(t)//5\n",
    "for i in range(Y.shape[2]):\n",
    "    axs[i].plot(t[L1:L2], y_pred[L1:L2,i], t[L1:L2:], y[L1:L2:,i])\n",
    "    axs[i].grid()"
   ]
  },
  {
   "cell_type": "markdown",
   "id": "ad68b350",
   "metadata": {},
   "source": [
    "### Comparación LSTM"
   ]
  },
  {
   "cell_type": "code",
   "execution_count": 87,
   "id": "ed532f14",
   "metadata": {},
   "outputs": [
    {
     "name": "stdout",
     "output_type": "stream",
     "text": [
      "Model: \"sequential_6\"\n",
      "_________________________________________________________________\n",
      "Layer (type)                 Output Shape              Param #   \n",
      "=================================================================\n",
      "conv1d_12 (Conv1D)           (None, None, 480)         32160     \n",
      "_________________________________________________________________\n",
      "conv1d_13 (Conv1D)           (None, None, 288)         415008    \n",
      "_________________________________________________________________\n",
      "lstm_18 (LSTM)               (None, None, 320)         779520    \n",
      "_________________________________________________________________\n",
      "lstm_19 (LSTM)               (None, None, 128)         229888    \n",
      "_________________________________________________________________\n",
      "lstm_20 (LSTM)               (None, 128)               131584    \n",
      "_________________________________________________________________\n",
      "dense_30 (Dense)             (None, 64)                8256      \n",
      "_________________________________________________________________\n",
      "dense_31 (Dense)             (None, 96)                6240      \n",
      "_________________________________________________________________\n",
      "dense_32 (Dense)             (None, 320)               31040     \n",
      "_________________________________________________________________\n",
      "dense_33 (Dense)             (None, 192)               61632     \n",
      "_________________________________________________________________\n",
      "dense_34 (Dense)             (None, 4)                 772       \n",
      "=================================================================\n",
      "Total params: 1,696,100\n",
      "Trainable params: 1,696,100\n",
      "Non-trainable params: 0\n",
      "_________________________________________________________________\n",
      "None\n",
      "Model: \"sequential_1\"\n",
      "_________________________________________________________________\n",
      "Layer (type)                 Output Shape              Param #   \n",
      "=================================================================\n",
      "conv1d_3 (Conv1D)            (None, None, 224)         15008     \n",
      "_________________________________________________________________\n",
      "conv1d_4 (Conv1D)            (None, None, 224)         150752    \n",
      "_________________________________________________________________\n",
      "conv1d_5 (Conv1D)            (None, None, 416)         279968    \n",
      "_________________________________________________________________\n",
      "lstm_5 (LSTM)                (None, None, 224)         574336    \n",
      "_________________________________________________________________\n",
      "lstm_6 (LSTM)                (None, None, 192)         320256    \n",
      "_________________________________________________________________\n",
      "lstm_7 (LSTM)                (None, None, 128)         164352    \n",
      "_________________________________________________________________\n",
      "lstm_8 (LSTM)                (None, None, 192)         246528    \n",
      "_________________________________________________________________\n",
      "lstm_9 (LSTM)                (None, 96)                110976    \n",
      "_________________________________________________________________\n",
      "dense_4 (Dense)              (None, 448)               43456     \n",
      "_________________________________________________________________\n",
      "dense_5 (Dense)              (None, 192)               86208     \n",
      "_________________________________________________________________\n",
      "dense_6 (Dense)              (None, 224)               43232     \n",
      "_________________________________________________________________\n",
      "dense_7 (Dense)              (None, 4)                 900       \n",
      "=================================================================\n",
      "Total params: 2,035,972\n",
      "Trainable params: 2,035,972\n",
      "Non-trainable params: 0\n",
      "_________________________________________________________________\n",
      "None\n",
      "Model: \"sequential\"\n",
      "_________________________________________________________________\n",
      "Layer (type)                 Output Shape              Param #   \n",
      "=================================================================\n",
      "conv1d (Conv1D)              (None, None, 480)         32160     \n",
      "_________________________________________________________________\n",
      "conv1d_1 (Conv1D)            (None, None, 128)         184448    \n",
      "_________________________________________________________________\n",
      "conv1d_2 (Conv1D)            (None, None, 192)         73920     \n",
      "_________________________________________________________________\n",
      "conv1d_3 (Conv1D)            (None, None, 480)         276960    \n",
      "_________________________________________________________________\n",
      "lstm (LSTM)                  (None, None, 128)         311808    \n",
      "_________________________________________________________________\n",
      "lstm_1 (LSTM)                (None, 64)                49408     \n",
      "_________________________________________________________________\n",
      "dense (Dense)                (None, 480)               31200     \n",
      "_________________________________________________________________\n",
      "dense_1 (Dense)              (None, 224)               107744    \n",
      "_________________________________________________________________\n",
      "dense_2 (Dense)              (None, 224)               50400     \n",
      "_________________________________________________________________\n",
      "dense_3 (Dense)              (None, 480)               108000    \n",
      "_________________________________________________________________\n",
      "dense_4 (Dense)              (None, 4)                 1924      \n",
      "=================================================================\n",
      "Total params: 1,227,972\n",
      "Trainable params: 1,227,972\n",
      "Non-trainable params: 0\n",
      "_________________________________________________________________\n",
      "None\n",
      "Model: \"sequential_3\"\n",
      "_________________________________________________________________\n",
      "Layer (type)                 Output Shape              Param #   \n",
      "=================================================================\n",
      "conv1d_12 (Conv1D)           (None, None, 160)         10720     \n",
      "_________________________________________________________________\n",
      "conv1d_13 (Conv1D)           (None, None, 288)         138528    \n",
      "_________________________________________________________________\n",
      "lstm_11 (LSTM)               (None, None, 192)         369408    \n",
      "_________________________________________________________________\n",
      "lstm_12 (LSTM)               (None, 96)                110976    \n",
      "_________________________________________________________________\n",
      "dense_14 (Dense)             (None, 96)                9312      \n",
      "_________________________________________________________________\n",
      "dense_15 (Dense)             (None, 480)               46560     \n",
      "_________________________________________________________________\n",
      "dense_16 (Dense)             (None, 64)                30784     \n",
      "_________________________________________________________________\n",
      "dense_17 (Dense)             (None, 256)               16640     \n",
      "_________________________________________________________________\n",
      "dense_18 (Dense)             (None, 4)                 1028      \n",
      "=================================================================\n",
      "Total params: 733,956\n",
      "Trainable params: 733,956\n",
      "Non-trainable params: 0\n",
      "_________________________________________________________________\n",
      "None\n",
      "WARNING:tensorflow:No training configuration found in the save file, so the model was *not* compiled. Compile it manually.\n",
      "Model: \"sequential_4\"\n",
      "_________________________________________________________________\n",
      "Layer (type)                 Output Shape              Param #   \n",
      "=================================================================\n",
      "conv1d_14 (Conv1D)           (None, None, 352)         23584     \n",
      "_________________________________________________________________\n",
      "conv1d_15 (Conv1D)           (None, None, 192)         202944    \n",
      "_________________________________________________________________\n",
      "lstm_13 (LSTM)               (None, 96)                110976    \n",
      "_________________________________________________________________\n",
      "dense_19 (Dense)             (None, 192)               18624     \n",
      "_________________________________________________________________\n",
      "dense_20 (Dense)             (None, 416)               80288     \n",
      "_________________________________________________________________\n",
      "dense_21 (Dense)             (None, 192)               80064     \n",
      "_________________________________________________________________\n",
      "dense_22 (Dense)             (None, 416)               80288     \n",
      "_________________________________________________________________\n",
      "dense_23 (Dense)             (None, 256)               106752    \n",
      "_________________________________________________________________\n",
      "dense_24 (Dense)             (None, 4)                 1028      \n",
      "=================================================================\n",
      "Total params: 704,548\n",
      "Trainable params: 704,548\n",
      "Non-trainable params: 0\n",
      "_________________________________________________________________\n",
      "None\n"
     ]
    },
    {
     "name": "stdout",
     "output_type": "stream",
     "text": [
      "Model: \"sequential_5\"\n",
      "_________________________________________________________________\n",
      "Layer (type)                 Output Shape              Param #   \n",
      "=================================================================\n",
      "conv1d_16 (Conv1D)           (None, None, 160)         10720     \n",
      "_________________________________________________________________\n",
      "max_pooling1d (MaxPooling1D) (None, None, 160)         0         \n",
      "_________________________________________________________________\n",
      "conv1d_17 (Conv1D)           (None, None, 288)         138528    \n",
      "_________________________________________________________________\n",
      "max_pooling1d_1 (MaxPooling1 (None, None, 288)         0         \n",
      "_________________________________________________________________\n",
      "lstm_10 (LSTM)               (None, None, 192)         369408    \n",
      "_________________________________________________________________\n",
      "lstm_11 (LSTM)               (None, 96)                110976    \n",
      "_________________________________________________________________\n",
      "dense_25 (Dense)             (None, 96)                9312      \n",
      "_________________________________________________________________\n",
      "dense_26 (Dense)             (None, 480)               46560     \n",
      "_________________________________________________________________\n",
      "dense_27 (Dense)             (None, 64)                30784     \n",
      "_________________________________________________________________\n",
      "dense_28 (Dense)             (None, 256)               16640     \n",
      "_________________________________________________________________\n",
      "dense_29 (Dense)             (None, 4)                 1028      \n",
      "=================================================================\n",
      "Total params: 733,956\n",
      "Trainable params: 733,956\n",
      "Non-trainable params: 0\n",
      "_________________________________________________________________\n",
      "None\n",
      "Model: \"sequential_2\"\n",
      "_________________________________________________________________\n",
      "Layer (type)                 Output Shape              Param #   \n",
      "=================================================================\n",
      "conv1d_8 (Conv1D)            (None, None, 480)         32160     \n",
      "_________________________________________________________________\n",
      "conv1d_9 (Conv1D)            (None, None, 128)         184448    \n",
      "_________________________________________________________________\n",
      "conv1d_10 (Conv1D)           (None, None, 192)         73920     \n",
      "_________________________________________________________________\n",
      "conv1d_11 (Conv1D)           (None, None, 480)         276960    \n",
      "_________________________________________________________________\n",
      "lstm_4 (LSTM)                (None, None, 128)         311808    \n",
      "_________________________________________________________________\n",
      "lstm_5 (LSTM)                (None, 64)                49408     \n",
      "_________________________________________________________________\n",
      "dense_10 (Dense)             (None, 480)               31200     \n",
      "_________________________________________________________________\n",
      "dense_11 (Dense)             (None, 224)               107744    \n",
      "_________________________________________________________________\n",
      "dense_12 (Dense)             (None, 224)               50400     \n",
      "_________________________________________________________________\n",
      "dense_13 (Dense)             (None, 480)               108000    \n",
      "_________________________________________________________________\n",
      "dense_14 (Dense)             (None, 4)                 1924      \n",
      "=================================================================\n",
      "Total params: 1,227,972\n",
      "Trainable params: 1,227,972\n",
      "Non-trainable params: 0\n",
      "_________________________________________________________________\n",
      "None\n"
     ]
    }
   ],
   "source": [
    "# model_paths= [\n",
    "#     '../tmp/LSTM/Dataset_Final_LSTM_0.h5', #1\n",
    "#     '../tmp/LSTM/Dataset_Final_LSTM_1.h5', #2\n",
    "#     '../tmp/LSTM/Dataset_Final_LSTM_2.h5', #3\n",
    "#     '../tmp/LSTM/Dataset_Final_LSTM_3.h5', #4\n",
    "#     '../tmp/LSTM/Dataset_Final_LSTM_4.h5' #5\n",
    "# ]\n",
    "model_paths= [\n",
    "    '../tmp/CLSTM/Dataset_Final_CLSTM_0.h5', #1\n",
    "    '../tmp/CLSTM/Dataset_Final_CLSTM_Tuner_0_2.h5', #2\n",
    "    '../tmp/CLSTM/Dataset_Final_CLSTM_Tuner_1_0.h5', #3\n",
    "    '../tmp/CLSTM/Dataset_Final_CLSTM_Tuner_2.h5', #4\n",
    "    '../tmp/CLSTM/Dataset_Final_CLSTM_Tuner_3.h5', #5\n",
    "    '../tmp/CLSTM/Dataset_Final_CLSTM_Tuner_2_2.h5', #6\n",
    "    '../tmp/CLSTM/Dataset_Final_CLSTM_Tuner_1_2.h5' #7\n",
    "]\n",
    "\n",
    "\n",
    "models = []\n",
    "for path in model_paths:\n",
    "    model = tf.keras.models.load_model(f'{path}')\n",
    "    model.compile(loss='mean_squared_error', optimizer='adam', metrics='mean_squared_error')\n",
    "    model.save(f'{path}')\n",
    "    models.append(model)\n",
    "    print(model.summary())"
   ]
  },
  {
   "cell_type": "code",
   "execution_count": 98,
   "id": "40562d15",
   "metadata": {},
   "outputs": [
    {
     "data": {
      "text/plain": [
       "14.858272153096232"
      ]
     },
     "execution_count": 98,
     "metadata": {},
     "output_type": "execute_result"
    }
   ],
   "source": [
    "(21.214809141279552+21.349413247062042+12.990989730047454+3.877876493995887)/4"
   ]
  },
  {
   "cell_type": "code",
   "execution_count": 99,
   "id": "8da400b3",
   "metadata": {},
   "outputs": [
    {
     "data": {
      "text/plain": [
       "48.98028063217014"
      ]
     },
     "execution_count": 99,
     "metadata": {},
     "output_type": "execute_result"
    }
   ],
   "source": [
    "(19.710003813276792+27.48733231922555+50.084125367477405+98.63966102870083)/4"
   ]
  },
  {
   "cell_type": "code",
   "execution_count": 100,
   "id": "1b69bc44",
   "metadata": {},
   "outputs": [
    {
     "data": {
      "text/plain": [
       "79.96403523688942"
      ]
     },
     "execution_count": 100,
     "metadata": {},
     "output_type": "execute_result"
    }
   ],
   "source": [
    "(20.40262099292622+22.588046917697984+221.5041361616019+55.36133687533159)/4"
   ]
  },
  {
   "cell_type": "code",
   "execution_count": 101,
   "id": "25c961b0",
   "metadata": {},
   "outputs": [
    {
     "data": {
      "text/plain": [
       "83.59440580758888"
      ]
     },
     "execution_count": 101,
     "metadata": {},
     "output_type": "execute_result"
    }
   ],
   "source": [
    "(44.69446805020444+26.217721821045565+121.78408300590881+141.68135035319668)/4"
   ]
  },
  {
   "cell_type": "code",
   "execution_count": 102,
   "id": "59583bbd",
   "metadata": {},
   "outputs": [
    {
     "data": {
      "text/plain": [
       "71.62070599227303"
      ]
     },
     "execution_count": 102,
     "metadata": {},
     "output_type": "execute_result"
    }
   ],
   "source": [
    "(39.61730717626608+25.168757503757412+158.18610573692172+63.51065355214694)/4"
   ]
  },
  {
   "cell_type": "code",
   "execution_count": 106,
   "id": "2ac6ce38",
   "metadata": {},
   "outputs": [
    {
     "data": {
      "text/plain": [
       "6.090102378512224"
      ]
     },
     "execution_count": 106,
     "metadata": {},
     "output_type": "execute_result"
    }
   ],
   "source": [
    "(78.37/70.01+12.328+71.62/14.85)/3"
   ]
  },
  {
   "cell_type": "code",
   "execution_count": null,
   "id": "fc204cd0",
   "metadata": {},
   "outputs": [],
   "source": [
    "[0][0] e_acumm=21.214809141279552\n",
    "[0][1] e_acumm=19.710003813276792\n",
    "[0][2] e_acumm=20.40262099292622\n",
    "[0][3] e_acumm=44.69446805020444\n",
    "[0][4] e_acumm=39.61730717626608\n",
    "\n",
    "[1][0] e_acumm=21.349413247062042\n",
    "[1][1] e_acumm=27.48733231922555\n",
    "[1][2] e_acumm=22.588046917697984\n",
    "[1][3] e_acumm=26.217721821045565\n",
    "[1][4] e_acumm=25.168757503757412\n",
    "\n",
    "[2][0] e_acumm=12.990989730047454\n",
    "[2][1] e_acumm=50.084125367477405\n",
    "[2][2] e_acumm=221.5041361616019\n",
    "[2][3] e_acumm=121.78408300590881\n",
    "[2][4] e_acumm=158.18610573692172\n",
    "\n",
    "[3][0] e_acumm=3.877876493995887\n",
    "[3][1] e_acumm=98.63966102870083\n",
    "[3][2] e_acumm=55.36133687533159\n",
    "[3][3] e_acumm=141.68135035319668\n",
    "[3][4] e_acumm=63.51065355214694"
   ]
  },
  {
   "cell_type": "code",
   "execution_count": 88,
   "id": "5af70276",
   "metadata": {},
   "outputs": [
    {
     "name": "stdout",
     "output_type": "stream",
     "text": [
      "************0***********\n",
      "45/45 [==============================] - 9s 187ms/step - loss: 0.0024 - mean_squared_error: 0.0024\n",
      "K=12226.15\n",
      "loss: 2.41e-03 -> 29.42 RPM\n",
      "mean_squared_error: 2.41e-03 -> 29.42 RPM\n",
      "************1***********\n",
      "45/45 [==============================] - 11s 228ms/step - loss: 0.0035 - mean_squared_error: 0.0035\n",
      "K=12226.15\n",
      "loss: 3.54e-03 -> 43.22 RPM\n",
      "mean_squared_error: 3.54e-03 -> 43.22 RPM\n",
      "************2***********\n",
      "45/45 [==============================] - 8s 167ms/step - loss: 0.0021 - mean_squared_error: 0.0021\n",
      "K=12226.15\n",
      "loss: 2.13e-03 -> 26.04 RPM\n",
      "mean_squared_error: 2.13e-03 -> 26.04 RPM\n",
      "************3***********\n",
      "45/45 [==============================] - 8s 155ms/step - loss: 0.0025 - mean_squared_error: 0.0025\n",
      "K=12226.15\n",
      "loss: 2.45e-03 -> 29.96 RPM\n",
      "mean_squared_error: 2.45e-03 -> 29.96 RPM\n",
      "************4***********\n",
      "45/45 [==============================] - 8s 159ms/step - loss: 0.0024 - mean_squared_error: 0.0024\n",
      "K=12226.15\n",
      "loss: 2.39e-03 -> 29.23 RPM\n",
      "mean_squared_error: 2.39e-03 -> 29.23 RPM\n",
      "************5***********\n",
      "45/45 [==============================] - 7s 149ms/step - loss: 0.0023 - mean_squared_error: 0.0023\n",
      "K=12226.15\n",
      "loss: 2.32e-03 -> 28.35 RPM\n",
      "mean_squared_error: 2.32e-03 -> 28.35 RPM\n",
      "************6***********\n",
      "45/45 [==============================] - 8s 173ms/step - loss: 0.0024 - mean_squared_error: 0.0024\n",
      "K=12226.15\n",
      "loss: 2.35e-03 -> 28.74 RPM\n",
      "mean_squared_error: 2.35e-03 -> 28.74 RPM\n",
      "Wall time: 1min\n"
     ]
    }
   ],
   "source": [
    "%%time\n",
    "N = 0\n",
    "for i in range(len(X_test)):\n",
    "    N+=len(X_test[i])\n",
    "N=N/len(X_test)\n",
    "\n",
    "n_batches = np.ceil(N/batch_size)\n",
    "for i, model in enumerate(models):\n",
    "    print(f'************{i}***********')\n",
    "    losses = model.evaluate(dataset_test, steps = n_batches)\n",
    "    K = df_desc[rpm_list[0]][7]-df_desc[rpm_list[0]][3] #Ganancia del actuador\n",
    "    print(f'K={\"{:.2f}\".format(K)}')\n",
    "    if not type(metrics) == list:\n",
    "        metrics = [metrics]\n",
    "    for i, l in enumerate(['loss']+metrics):\n",
    "        print(f'{l}: {\"{:.2e}\".format(losses[i])} -> {\"{:.2f}\".format(losses[i]*K)} RPM')"
   ]
  },
  {
   "cell_type": "markdown",
   "id": "experienced-gravity",
   "metadata": {},
   "source": [
    "#### Tiempo de inferencia tamaño entrada"
   ]
  },
  {
   "cell_type": "code",
   "execution_count": 132,
   "id": "knowing-appearance",
   "metadata": {},
   "outputs": [],
   "source": [
    "import time\n",
    "\n",
    "def MSE(y, y_pred):\n",
    "    return (y-y_pred)**2\n",
    "\n",
    "window_test = 1000\n",
    "test_traj_batch = 4096\n",
    "test_traj_generator  = DataGenerator(X=X_test,  Y=Y_test,  batch_size=test_traj_batch, window=window_test, sequence_out=True)\n",
    "\n",
    "window_len = []\n",
    "inf_time = []\n",
    "loss = []\n",
    "\n",
    "x, y = next(test_traj_generator.build_data())"
   ]
  },
  {
   "cell_type": "code",
   "execution_count": 133,
   "id": "italic-demonstration",
   "metadata": {},
   "outputs": [
    {
     "name": "stdout",
     "output_type": "stream",
     "text": [
      "iter = 74 de 75, i = 999, execution time = 15995.13s\n",
      "Wall time: 4h 26min 35s\n"
     ]
    }
   ],
   "source": [
    "%%time\n",
    "accum_time = 0\n",
    "n_iter = 100\n",
    "test_range = list(set(np.rint(np.logspace(0, np.log10(x.shape[1]-1), num=n_iter, endpoint=True))))\n",
    "test_range.sort()\n",
    "n_iter = len(test_range)\n",
    "for k, i in enumerate(list(map(int,test_range))):\n",
    "    inf_time_aux = []    # Tiempo de inferencia auxiliar\n",
    "    loss_aux = []    # Costo Auxiliar\n",
    "    init_time = time.time()\n",
    "    for j in range(len(x)):\n",
    "        x_5 = x[j][0:i].reshape(1,  i, x.shape[2])\n",
    "        start_time = time.time()\n",
    "        y_pred = model.predict(x_5)\n",
    "        finish_time = time.time() - start_time\n",
    "        inf_time_aux.append(finish_time)\n",
    "        loss_aux.append(\n",
    "            np.mean(\n",
    "                MSE(y[j][i], y_pred)\n",
    "            )\n",
    "        )\n",
    "    \n",
    "    window_len.append(i)\n",
    "    inf_time.append(np.mean(inf_time_aux))\n",
    "    loss.append(np.mean(loss_aux))\n",
    "    clear_output(wait=True)\n",
    "    accum_time += time.time()-init_time\n",
    "    print(f'iter = {k} de {len(test_range)}, i = {i}, execution time = {\"{:.2f}\".format(np.max(accum_time))}s')"
   ]
  },
  {
   "cell_type": "code",
   "execution_count": 134,
   "id": "unnecessary-broadcast",
   "metadata": {},
   "outputs": [],
   "source": [
    "inf_time_norm = np.array(inf_time)/max(inf_time)\n",
    "loss_norm = np.array(loss)/max(loss)\n",
    "performance = 1/(np.array(loss)*np.array(inf_time))\n",
    "performance = np.array(performance)/max(performance)"
   ]
  },
  {
   "cell_type": "code",
   "execution_count": 135,
   "id": "premium-advance",
   "metadata": {},
   "outputs": [
    {
     "name": "stdout",
     "output_type": "stream",
     "text": [
      "Best window inference time=23 steps, time=34.53 ms\n",
      "Best window MSE loss=60 steps, MSE=2.48e-03\n",
      "Best window Performance (MSExTime)=23 steps, Value=1.00e+00\n"
     ]
    },
    {
     "data": {
      "image/png": "[encoded data removed]",
      "text/plain": [
       "<Figure size 432x288 with 1 Axes>"
      ]
     },
     "metadata": {
      "needs_background": "light"
     },
     "output_type": "display_data"
    }
   ],
   "source": [
    "plt.figure()\n",
    "plt.plot(window_len, inf_time_norm, label='Normalized inference time', alpha=0.7)\n",
    "plt.plot(window_len, loss_norm, label='Normalized average MSE', alpha=0.7)\n",
    "plt.plot(window_len, performance, label='Performance=1/(MSE*Time)', alpha=0.7)\n",
    "plt.xlabel(\"Window Size\")\n",
    "plt.legend(loc=1)\n",
    "plt.grid()\n",
    "\n",
    "print(f'Best window inference time={np.argmin(inf_time_norm)} steps, time={\"{:.2f}\".format(np.min(inf_time)*1000)} ms')\n",
    "print(f'Best window MSE loss={np.argmin(loss_norm)} steps, MSE={\"{:.2e}\".format(np.min(loss))}')\n",
    "print(f'Best window Performance (MSExTime)={np.argmax(performance)} steps, Value={\"{:.2e}\".format(np.max(performance))}')"
   ]
  },
  {
   "cell_type": "code",
   "execution_count": 136,
   "id": "contrary-forest",
   "metadata": {},
   "outputs": [
    {
     "data": {
      "image/png": "[encoded data removed]",
      "text/plain": [
       "<Figure size 432x288 with 1 Axes>"
      ]
     },
     "metadata": {
      "needs_background": "light"
     },
     "output_type": "display_data"
    }
   ],
   "source": [
    "plt.figure()\n",
    "plt.semilogx(window_len, inf_time_norm, label='Normalized inference time', alpha=0.7)\n",
    "plt.semilogx(window_len, loss_norm, label='Normalized average MSE', alpha=0.7)\n",
    "plt.semilogx(window_len, performance, label='Performance=1/(MSE*Time)', alpha=0.7)\n",
    "plt.xlabel(\"Window Size\")\n",
    "plt.legend(loc=1)\n",
    "plt.grid()"
   ]
  },
  {
   "cell_type": "code",
   "execution_count": 137,
   "id": "f4954fb8",
   "metadata": {},
   "outputs": [],
   "source": [
    "import matplotlib.patches as mpatches\n",
    "from scipy.signal import savgol_filter\n",
    "inf_time_norm_hat = np.clip(savgol_filter(inf_time_norm, 31, 3, mode='interp'), 0,1)  # window size 51, polynomial order 3\n",
    "loss_norm_hat = np.clip(savgol_filter(loss_norm, 31, 3, mode='interp'), 0,1)   # window size 51, polynomial order 3\n",
    "performance_hat = np.clip(savgol_filter(performance, 31, 3, mode='interp'), 0,1)   # window size 51, polynomial order 3"
   ]
  },
  {
   "cell_type": "code",
   "execution_count": 145,
   "id": "collective-alexandria",
   "metadata": {},
   "outputs": [
    {
     "data": {
      "image/png": "[encoded data removed]",
      "text/plain": [
       "<Figure size 576x432 with 1 Axes>"
      ]
     },
     "metadata": {
      "needs_background": "light"
     },
     "output_type": "display_data"
    }
   ],
   "source": [
    "plt.figure(figsize = (8,6))\n",
    "plt.semilogx(window_len, inf_time_norm, label='_nolegend_', alpha=0.4)\n",
    "plt.semilogx(window_len, inf_time_norm_hat, label='$T_i$', alpha=1, color='tab:blue')\n",
    "plt.semilogx(window_len, loss_norm, label='_nolegend_', alpha=0.4)\n",
    "plt.semilogx(window_len, loss_norm_hat, label='$MSE$', alpha=1, color='tab:orange')\n",
    "plt.semilogx(window_len, performance, label='_nolegend_', alpha=0.4)\n",
    "plt.semilogx(window_len, performance_hat, label='$P$', alpha=1, color='tab:green')\n",
    "#plt.semilogx(window_len, performance, label='P', alpha=0.8)\n",
    "left, bottom, width, height = (20, 0, 90, 1)\n",
    "rect=mpatches.Rectangle((left,bottom),width,height, \n",
    "                        fill=False,\n",
    "                        color=\"red\",\n",
    "                       linewidth=2)\n",
    "                       #facecolor=\"red\")\n",
    "plt.gca().add_patch(rect)\n",
    "fontSize = 15\n",
    "plt.xlabel(\"Tamaño de la ventana de inferencia\", fontsize=fontSize)\n",
    "plt.ylabel(\"Función normalizada\",fontsize=fontSize)\n",
    "plt.title(\"Tiempo de inferencia y error vs tamaño de ventana\", fontsize=fontSize)\n",
    "plt.legend(loc='center left', bbox_to_anchor=(1, 0.5), fontsize=fontSize)\n",
    "plt.xlim(1,1000)\n",
    "plt.grid()\n",
    "plt.savefig(\"../Imágenes/window_vs_error.svg\")"
   ]
  },
  {
   "cell_type": "code",
   "execution_count": 146,
   "id": "e9e48fbc",
   "metadata": {},
   "outputs": [
    {
     "name": "stdout",
     "output_type": "stream",
     "text": [
      "Best window inference time=23 steps, time=34.53 ms\n",
      "Best window MSE loss=18 steps, MSE=2.48e-03\n",
      "Best window Performance (MSExTime)=23 steps, Value=1.34e+00\n"
     ]
    }
   ],
   "source": [
    "print(f'Best window inference time={np.argmin(inf_time_norm)} steps, time={\"{:.2f}\".format(np.min(inf_time)*1000)} ms')\n",
    "print(f'Best window MSE loss={np.argmin(loss_norm_hat)} steps, MSE={\"{:.2e}\".format(np.min(loss))}')\n",
    "print(f'Best window Performance (MSExTime)={np.argmax(performance)} steps, Value={\"{:.2e}\".format(np.max(loss)/np.min(inf_time))}')"
   ]
  },
  {
   "cell_type": "code",
   "execution_count": 141,
   "id": "fbc1ae77",
   "metadata": {},
   "outputs": [
    {
     "data": {
      "text/plain": [
       "array([23, 26, 24, 29], dtype=int64)"
      ]
     },
     "execution_count": 141,
     "metadata": {},
     "output_type": "execute_result"
    }
   ],
   "source": [
    "(-performance).argsort()[:4]"
   ]
  },
  {
   "cell_type": "code",
   "execution_count": null,
   "id": "2c196a9e",
   "metadata": {},
   "outputs": [],
   "source": []
  }
 ],
 "metadata": {
  "kernelspec": {
   "display_name": "tesis-drone",
   "language": "python",
   "name": "tesis-drone"
  },
  "language_info": {
   "codemirror_mode": {
    "name": "ipython",
    "version": 3
   },
   "file_extension": ".py",
   "mimetype": "text/x-python",
   "name": "python",
   "nbconvert_exporter": "python",
   "pygments_lexer": "ipython3",
   "version": "3.8.8"
  }
 },
 "nbformat": 4,
 "nbformat_minor": 5
}
