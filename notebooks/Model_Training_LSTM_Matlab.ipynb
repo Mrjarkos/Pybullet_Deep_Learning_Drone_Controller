{
 "cells": [
  {
   "cell_type": "markdown",
   "id": "relevant-director",
   "metadata": {},
   "source": [
    "# Controlador de vuelo para vehículos aéreos no tripulados multi-rotor basado en técnicas de aprendizaje profundo\n",
    "\n",
    "## Entrenamiento Red LSTM\n",
    "\n",
    "### Javier Cárdenas - Uriel Carrero"
   ]
  },
  {
   "cell_type": "markdown",
   "id": "binary-dodge",
   "metadata": {},
   "source": [
    "## 1. Descripción del Dataset"
   ]
  },
  {
   "cell_type": "markdown",
   "id": "korean-absorption",
   "metadata": {},
   "source": [
    "#### Importar Librerías"
   ]
  },
  {
   "cell_type": "code",
   "execution_count": 1,
   "id": "formal-genetics",
   "metadata": {},
   "outputs": [
    {
     "name": "stdout",
     "output_type": "stream",
     "text": [
      "1.19.5\n"
     ]
    },
    {
     "data": {
      "text/plain": [
       "{'divide': 'warn', 'over': 'warn', 'under': 'ignore', 'invalid': 'warn'}"
      ]
     },
     "execution_count": 1,
     "metadata": {},
     "output_type": "execute_result"
    }
   ],
   "source": [
    "import os\n",
    "import sys\n",
    "import random\n",
    "import csv\n",
    "\n",
    "import matplotlib.pyplot as plt     # Gráficos\n",
    "import pandas as pd\n",
    "pd.set_option('display.max_columns', None) #Para mostrar todas las columnas\n",
    "\n",
    "import numpy as np                  # Cómputo Numérico\n",
    "print(np.__version__)\n",
    "seed = 5\n",
    "np.random.seed(seed)\n",
    "np.seterr(divide = 'ignore')"
   ]
  },
  {
   "cell_type": "code",
   "execution_count": 2,
   "id": "trained-source",
   "metadata": {},
   "outputs": [
    {
     "name": "stderr",
     "output_type": "stream",
     "text": [
      "Using TensorFlow backend.\n"
     ]
    },
    {
     "name": "stdout",
     "output_type": "stream",
     "text": [
      "2.1.0\n",
      "2.3.1\n"
     ]
    }
   ],
   "source": [
    "import tensorflow as tf\n",
    "import keras as kr\n",
    "from tensorflow.keras import models, layers\n",
    "print(tf.__version__)\n",
    "print(kr.__version__)\n",
    "#assert (tf.__version__=='2.4.1'), 'Versión incorrecta de Tensorflow, por favor instale 2.4.1'\n",
    "#print(\"Num GPUs Available: \", len(tf.config.list_physical_devices('GPU')))\n",
    "\n",
    "from sklearn.utils import shuffle\n",
    "from sklearn.model_selection import train_test_split\n",
    "\n",
    "from IPython.display import clear_output\n",
    "\n",
    "#import multiprocessing\n",
    "#THREADS = multiprocessing.cpu_count()"
   ]
  },
  {
   "cell_type": "code",
   "execution_count": 3,
   "id": "changing-chain",
   "metadata": {},
   "outputs": [
    {
     "name": "stdout",
     "output_type": "stream",
     "text": [
      "1 Physical GPUs, 1 Logical GPUs\n"
     ]
    }
   ],
   "source": [
    "from tensorflow.compat.v1 import ConfigProto\n",
    "from tensorflow.compat.v1 import InteractiveSession\n",
    "\n",
    "gpus = tf.config.list_physical_devices('GPU')\n",
    "config = ConfigProto()\n",
    "if gpus:\n",
    "    try:\n",
    "        config.gpu_options.allow_growth = True\n",
    "        tf.compat.v1.enable_eager_execution()\n",
    "\n",
    "        os.environ[\"TF_CPP_MIN_LOG_LEVEL\"] = \"2\"\n",
    "        # Currently, memory growth needs to be the same across GPUs\n",
    "        for gpu in gpus:\n",
    "            tf.config.experimental.set_memory_growth(gpu, True)\n",
    "        logical_gpus = tf.config.experimental.list_logical_devices('GPU')\n",
    "        print(len(gpus), \"Physical GPUs,\", len(logical_gpus), \"Logical GPUs\")\n",
    "    except RuntimeError as e:\n",
    "        # Memory growth must be set before GPUs have been initialized\n",
    "        print(e)\n",
    "session = InteractiveSession(config=config)"
   ]
  },
  {
   "cell_type": "code",
   "execution_count": 4,
   "id": "northern-shame",
   "metadata": {},
   "outputs": [],
   "source": [
    "import gc #garbage collector\n",
    "import gc; gc.enable()"
   ]
  },
  {
   "cell_type": "markdown",
   "id": "offensive-chambers",
   "metadata": {},
   "source": [
    "## Cargar Datos"
   ]
  },
  {
   "cell_type": "markdown",
   "id": "combined-generic",
   "metadata": {},
   "source": [
    "### Leemos el Dataset"
   ]
  },
  {
   "cell_type": "code",
   "execution_count": 5,
   "id": "continental-wheat",
   "metadata": {},
   "outputs": [],
   "source": [
    "root = '../logs/Datasets/'\n",
    "#dataset_name = 'DatasetPSO_XYZ'\n",
    "dataset_name = 'DatasetXYZYaw_2022V2'\n",
    "#dataset_name = 'Dataset_PSO_2022V1'\n",
    "rootdir = root+dataset_name\n",
    "ext_csv = True\n",
    "if not os.path.exists(rootdir):\n",
    "    print(f\"{rootdir} not exist\")\n",
    "if ext_csv:\n",
    "    # Colocar la extensión csv porque ajá\n",
    "    for filename in os.listdir(rootdir):\n",
    "        if not filename.endswith(\".csv\"):\n",
    "            os.rename(f'{rootdir}/{filename}',f'{dataset_name}/{filename+\".csv\"}')"
   ]
  },
  {
   "cell_type": "code",
   "execution_count": 6,
   "id": "given-relative",
   "metadata": {},
   "outputs": [
    {
     "name": "stdout",
     "output_type": "stream",
     "text": [
      "['X', 'Y', 'Z', 'Yaw', 'Roll', 'Pitch', 'Dx', 'Dy', 'Dz', 'P', 'Q', 'R', 'X_r', 'Y_r', 'Z_r', 'Yaw_r', 'Pitch_r', 'Roll_r', 'Dx_r', 'Dy_r', 'Dz_r', 'Acceleracion X', 'Acceleracion Y', 'Acceleracion Z']\n"
     ]
    }
   ],
   "source": [
    "df = pd.read_csv(os.path.join(rootdir, random.choice(os.listdir(rootdir))))\n",
    "delete_list =['Time', 'Bat_V','Bat_Percentage','P_r', 'Q_r', 'R_r', 'Flag_Pitch_Roll', 'Gyro P', 'Gyro Q', 'Gyro R','Ac_Dx', 'Ac_Dy', 'Ac_Dz','Sonar Altitud','Pressure Altitud', 'Acceleracion P', 'Acceleracion Q', 'Acceleracion R']\n",
    "df_list = df.columns.to_list()\n",
    "rpm_list = [i for i in df_list if (\"Motor\" in i)]\n",
    "states_list = [i for i in df_list if not ((i in delete_list) or (i in rpm_list))]\n",
    "print(states_list)"
   ]
  },
  {
   "cell_type": "code",
   "execution_count": 7,
   "id": "thermal-weight",
   "metadata": {},
   "outputs": [],
   "source": [
    "df_desc = []\n",
    "for filename in os.listdir(rootdir):\n",
    "    if not filename.endswith(\".csv\"):\n",
    "        continue\n",
    "    df = pd.read_csv(os.path.join(rootdir, filename))\n",
    "    df =  df.drop(delete_list, axis=1)\n",
    "    df_desc.append(df)\n",
    "df_desc = pd.concat(df_desc)\n",
    "df_desc = df_desc.describe()"
   ]
  },
  {
   "cell_type": "code",
   "execution_count": 8,
   "id": "primary-variable",
   "metadata": {
    "scrolled": true
   },
   "outputs": [],
   "source": [
    "dataset = []\n",
    "for filename in os.listdir(rootdir):\n",
    "    if not filename.endswith(\".csv\"):\n",
    "        continue\n",
    "        \n",
    "    df = pd.read_csv(os.path.join(rootdir, filename))\n",
    "    df =  df.drop(delete_list, axis=1)\n",
    "    x = df.drop(rpm_list, axis=1)\n",
    "    y = df.drop(states_list, axis=1)\n",
    "    dataset.append([x, y])\n",
    "\n",
    "df = None\n",
    "x = None\n",
    "y= None"
   ]
  },
  {
   "cell_type": "markdown",
   "id": "metric-sierra",
   "metadata": {},
   "source": [
    "#### Descripton del dataset "
   ]
  },
  {
   "cell_type": "code",
   "execution_count": 9,
   "id": "recognized-librarian",
   "metadata": {},
   "outputs": [
    {
     "data": {
      "text/html": [
       "<div>\n",
       "<style scoped>\n",
       "    .dataframe tbody tr th:only-of-type {\n",
       "        vertical-align: middle;\n",
       "    }\n",
       "\n",
       "    .dataframe tbody tr th {\n",
       "        vertical-align: top;\n",
       "    }\n",
       "\n",
       "    .dataframe thead th {\n",
       "        text-align: right;\n",
       "    }\n",
       "</style>\n",
       "<table border=\"1\" class=\"dataframe\">\n",
       "  <thead>\n",
       "    <tr style=\"text-align: right;\">\n",
       "      <th></th>\n",
       "      <th>X</th>\n",
       "      <th>Y</th>\n",
       "      <th>Z</th>\n",
       "      <th>Yaw</th>\n",
       "      <th>Roll</th>\n",
       "      <th>Pitch</th>\n",
       "      <th>Dx</th>\n",
       "      <th>Dy</th>\n",
       "      <th>Dz</th>\n",
       "      <th>P</th>\n",
       "      <th>Q</th>\n",
       "      <th>R</th>\n",
       "      <th>Motor1</th>\n",
       "      <th>Motor2</th>\n",
       "      <th>Motor3</th>\n",
       "      <th>Motor4</th>\n",
       "      <th>X_r</th>\n",
       "      <th>Y_r</th>\n",
       "      <th>Z_r</th>\n",
       "      <th>Yaw_r</th>\n",
       "      <th>Pitch_r</th>\n",
       "      <th>Roll_r</th>\n",
       "      <th>Dx_r</th>\n",
       "      <th>Dy_r</th>\n",
       "      <th>Dz_r</th>\n",
       "      <th>Acceleracion X</th>\n",
       "      <th>Acceleracion Y</th>\n",
       "      <th>Acceleracion Z</th>\n",
       "    </tr>\n",
       "  </thead>\n",
       "  <tbody>\n",
       "    <tr>\n",
       "      <th>count</th>\n",
       "      <td>3.859368e+06</td>\n",
       "      <td>3.859368e+06</td>\n",
       "      <td>3.859368e+06</td>\n",
       "      <td>3.859368e+06</td>\n",
       "      <td>3.859368e+06</td>\n",
       "      <td>3.859368e+06</td>\n",
       "      <td>3.859368e+06</td>\n",
       "      <td>3.859368e+06</td>\n",
       "      <td>3.859368e+06</td>\n",
       "      <td>3.859368e+06</td>\n",
       "      <td>3.859368e+06</td>\n",
       "      <td>3.859368e+06</td>\n",
       "      <td>3.859368e+06</td>\n",
       "      <td>3.859368e+06</td>\n",
       "      <td>3.859368e+06</td>\n",
       "      <td>3.859368e+06</td>\n",
       "      <td>3.859368e+06</td>\n",
       "      <td>3.859368e+06</td>\n",
       "      <td>3.859368e+06</td>\n",
       "      <td>3.859368e+06</td>\n",
       "      <td>3.859368e+06</td>\n",
       "      <td>3.859368e+06</td>\n",
       "      <td>3.859368e+06</td>\n",
       "      <td>3.859368e+06</td>\n",
       "      <td>3.859368e+06</td>\n",
       "      <td>3.859368e+06</td>\n",
       "      <td>3.859368e+06</td>\n",
       "      <td>3.859368e+06</td>\n",
       "    </tr>\n",
       "    <tr>\n",
       "      <th>mean</th>\n",
       "      <td>-2.148062e+00</td>\n",
       "      <td>8.581393e-01</td>\n",
       "      <td>-1.361919e+00</td>\n",
       "      <td>6.941571e-02</td>\n",
       "      <td>4.212177e-03</td>\n",
       "      <td>-1.258425e-03</td>\n",
       "      <td>-6.380254e-02</td>\n",
       "      <td>4.722424e-02</td>\n",
       "      <td>-4.483362e-04</td>\n",
       "      <td>4.304693e-05</td>\n",
       "      <td>4.907894e-04</td>\n",
       "      <td>8.615122e-04</td>\n",
       "      <td>2.375205e+02</td>\n",
       "      <td>-2.369294e+02</td>\n",
       "      <td>2.371031e+02</td>\n",
       "      <td>-2.376529e+02</td>\n",
       "      <td>-4.423323e-01</td>\n",
       "      <td>8.020333e-02</td>\n",
       "      <td>-1.339738e+00</td>\n",
       "      <td>6.943904e-02</td>\n",
       "      <td>5.413407e-04</td>\n",
       "      <td>5.413407e-04</td>\n",
       "      <td>-4.827215e-03</td>\n",
       "      <td>-3.041949e-04</td>\n",
       "      <td>-1.147789e-02</td>\n",
       "      <td>-1.705777e-03</td>\n",
       "      <td>2.004448e-03</td>\n",
       "      <td>-4.806519e-05</td>\n",
       "    </tr>\n",
       "    <tr>\n",
       "      <th>std</th>\n",
       "      <td>1.245948e+01</td>\n",
       "      <td>1.280665e+01</td>\n",
       "      <td>3.523353e-01</td>\n",
       "      <td>1.449267e+00</td>\n",
       "      <td>9.329679e-02</td>\n",
       "      <td>1.070563e-01</td>\n",
       "      <td>5.772355e-01</td>\n",
       "      <td>5.947505e-01</td>\n",
       "      <td>4.883165e-01</td>\n",
       "      <td>4.344218e-01</td>\n",
       "      <td>1.903108e-01</td>\n",
       "      <td>3.530311e-01</td>\n",
       "      <td>6.179896e+01</td>\n",
       "      <td>6.200034e+01</td>\n",
       "      <td>6.209949e+01</td>\n",
       "      <td>6.201273e+01</td>\n",
       "      <td>1.839267e+00</td>\n",
       "      <td>2.001953e+00</td>\n",
       "      <td>3.267278e-01</td>\n",
       "      <td>1.455933e+00</td>\n",
       "      <td>9.463459e-03</td>\n",
       "      <td>9.463459e-03</td>\n",
       "      <td>2.486848e+00</td>\n",
       "      <td>2.673742e+00</td>\n",
       "      <td>3.156394e+00</td>\n",
       "      <td>1.823827e+00</td>\n",
       "      <td>1.937495e+00</td>\n",
       "      <td>1.819518e+00</td>\n",
       "    </tr>\n",
       "    <tr>\n",
       "      <th>min</th>\n",
       "      <td>-1.910231e+02</td>\n",
       "      <td>-5.546263e+01</td>\n",
       "      <td>-3.360997e+00</td>\n",
       "      <td>-5.698977e+00</td>\n",
       "      <td>-1.231822e+00</td>\n",
       "      <td>-1.230343e+00</td>\n",
       "      <td>-9.405467e+00</td>\n",
       "      <td>-8.219940e+00</td>\n",
       "      <td>-4.671090e+00</td>\n",
       "      <td>-8.805186e+00</td>\n",
       "      <td>-6.302951e+00</td>\n",
       "      <td>-5.970769e+00</td>\n",
       "      <td>1.000000e+01</td>\n",
       "      <td>-5.000000e+02</td>\n",
       "      <td>1.000000e+01</td>\n",
       "      <td>-5.000000e+02</td>\n",
       "      <td>-5.000000e+00</td>\n",
       "      <td>-4.900000e+00</td>\n",
       "      <td>-2.700000e+00</td>\n",
       "      <td>-5.698900e+00</td>\n",
       "      <td>-3.175523e-01</td>\n",
       "      <td>-3.175523e-01</td>\n",
       "      <td>-1.000000e+03</td>\n",
       "      <td>-9.800000e+02</td>\n",
       "      <td>-3.400000e+02</td>\n",
       "      <td>-1.250098e+02</td>\n",
       "      <td>-1.253153e+02</td>\n",
       "      <td>-1.144005e+02</td>\n",
       "    </tr>\n",
       "    <tr>\n",
       "      <th>25%</th>\n",
       "      <td>-1.141038e+00</td>\n",
       "      <td>-8.488176e-01</td>\n",
       "      <td>-1.589636e+00</td>\n",
       "      <td>-6.071872e-05</td>\n",
       "      <td>-8.617007e-04</td>\n",
       "      <td>-7.853758e-04</td>\n",
       "      <td>-4.524640e-03</td>\n",
       "      <td>-3.553482e-03</td>\n",
       "      <td>-1.090286e-02</td>\n",
       "      <td>-4.570262e-03</td>\n",
       "      <td>-2.357028e-03</td>\n",
       "      <td>-1.192331e-03</td>\n",
       "      <td>2.352098e+02</td>\n",
       "      <td>-2.382692e+02</td>\n",
       "      <td>2.348473e+02</td>\n",
       "      <td>-2.382181e+02</td>\n",
       "      <td>-1.060000e+00</td>\n",
       "      <td>-8.200000e-01</td>\n",
       "      <td>-1.587327e+00</td>\n",
       "      <td>0.000000e+00</td>\n",
       "      <td>0.000000e+00</td>\n",
       "      <td>0.000000e+00</td>\n",
       "      <td>0.000000e+00</td>\n",
       "      <td>0.000000e+00</td>\n",
       "      <td>0.000000e+00</td>\n",
       "      <td>-1.699710e-02</td>\n",
       "      <td>-7.660736e-02</td>\n",
       "      <td>-1.433379e-01</td>\n",
       "    </tr>\n",
       "    <tr>\n",
       "      <th>50%</th>\n",
       "      <td>-2.475608e-01</td>\n",
       "      <td>-1.067103e-01</td>\n",
       "      <td>-1.307021e+00</td>\n",
       "      <td>1.298457e-06</td>\n",
       "      <td>9.695101e-05</td>\n",
       "      <td>1.268892e-04</td>\n",
       "      <td>0.000000e+00</td>\n",
       "      <td>0.000000e+00</td>\n",
       "      <td>1.731190e-04</td>\n",
       "      <td>-6.421081e-07</td>\n",
       "      <td>4.002890e-06</td>\n",
       "      <td>-1.370747e-05</td>\n",
       "      <td>2.366609e+02</td>\n",
       "      <td>-2.365851e+02</td>\n",
       "      <td>2.364810e+02</td>\n",
       "      <td>-2.365589e+02</td>\n",
       "      <td>-2.400000e-01</td>\n",
       "      <td>-1.000000e-01</td>\n",
       "      <td>-1.300000e+00</td>\n",
       "      <td>0.000000e+00</td>\n",
       "      <td>0.000000e+00</td>\n",
       "      <td>0.000000e+00</td>\n",
       "      <td>0.000000e+00</td>\n",
       "      <td>0.000000e+00</td>\n",
       "      <td>0.000000e+00</td>\n",
       "      <td>-8.493662e-05</td>\n",
       "      <td>2.143905e-04</td>\n",
       "      <td>-3.264192e-03</td>\n",
       "    </tr>\n",
       "    <tr>\n",
       "      <th>75%</th>\n",
       "      <td>3.669192e-01</td>\n",
       "      <td>6.018744e-01</td>\n",
       "      <td>-1.101987e+00</td>\n",
       "      <td>2.255217e-04</td>\n",
       "      <td>1.568906e-03</td>\n",
       "      <td>2.024486e-03</td>\n",
       "      <td>3.024116e-03</td>\n",
       "      <td>4.013675e-03</td>\n",
       "      <td>1.086785e-02</td>\n",
       "      <td>4.579417e-03</td>\n",
       "      <td>2.386491e-03</td>\n",
       "      <td>1.178744e-03</td>\n",
       "      <td>2.385271e+02</td>\n",
       "      <td>-2.350571e+02</td>\n",
       "      <td>2.380607e+02</td>\n",
       "      <td>-2.350024e+02</td>\n",
       "      <td>3.900000e-01</td>\n",
       "      <td>6.000000e-01</td>\n",
       "      <td>-1.100000e+00</td>\n",
       "      <td>0.000000e+00</td>\n",
       "      <td>0.000000e+00</td>\n",
       "      <td>0.000000e+00</td>\n",
       "      <td>0.000000e+00</td>\n",
       "      <td>0.000000e+00</td>\n",
       "      <td>0.000000e+00</td>\n",
       "      <td>1.629875e-02</td>\n",
       "      <td>7.984044e-02</td>\n",
       "      <td>1.356349e-01</td>\n",
       "    </tr>\n",
       "    <tr>\n",
       "      <th>max</th>\n",
       "      <td>4.092953e+01</td>\n",
       "      <td>1.973594e+02</td>\n",
       "      <td>7.122186e-05</td>\n",
       "      <td>5.625904e+00</td>\n",
       "      <td>1.215662e+00</td>\n",
       "      <td>1.150908e+00</td>\n",
       "      <td>1.108913e+01</td>\n",
       "      <td>8.267406e+00</td>\n",
       "      <td>4.484425e+00</td>\n",
       "      <td>9.052526e+00</td>\n",
       "      <td>6.135386e+00</td>\n",
       "      <td>6.021672e+00</td>\n",
       "      <td>5.000000e+02</td>\n",
       "      <td>-1.000000e+01</td>\n",
       "      <td>5.000000e+02</td>\n",
       "      <td>-1.000000e+01</td>\n",
       "      <td>4.700000e+00</td>\n",
       "      <td>4.900000e+00</td>\n",
       "      <td>0.000000e+00</td>\n",
       "      <td>5.621700e+00</td>\n",
       "      <td>3.396701e-01</td>\n",
       "      <td>3.396701e-01</td>\n",
       "      <td>9.399999e+02</td>\n",
       "      <td>9.800000e+02</td>\n",
       "      <td>1.999644e+02</td>\n",
       "      <td>1.265200e+02</td>\n",
       "      <td>1.254210e+02</td>\n",
       "      <td>1.244594e+02</td>\n",
       "    </tr>\n",
       "  </tbody>\n",
       "</table>\n",
       "</div>"
      ],
      "text/plain": [
       "                  X             Y             Z           Yaw          Roll  \\\n",
       "count  3.859368e+06  3.859368e+06  3.859368e+06  3.859368e+06  3.859368e+06   \n",
       "mean  -2.148062e+00  8.581393e-01 -1.361919e+00  6.941571e-02  4.212177e-03   \n",
       "std    1.245948e+01  1.280665e+01  3.523353e-01  1.449267e+00  9.329679e-02   \n",
       "min   -1.910231e+02 -5.546263e+01 -3.360997e+00 -5.698977e+00 -1.231822e+00   \n",
       "25%   -1.141038e+00 -8.488176e-01 -1.589636e+00 -6.071872e-05 -8.617007e-04   \n",
       "50%   -2.475608e-01 -1.067103e-01 -1.307021e+00  1.298457e-06  9.695101e-05   \n",
       "75%    3.669192e-01  6.018744e-01 -1.101987e+00  2.255217e-04  1.568906e-03   \n",
       "max    4.092953e+01  1.973594e+02  7.122186e-05  5.625904e+00  1.215662e+00   \n",
       "\n",
       "              Pitch            Dx            Dy            Dz             P  \\\n",
       "count  3.859368e+06  3.859368e+06  3.859368e+06  3.859368e+06  3.859368e+06   \n",
       "mean  -1.258425e-03 -6.380254e-02  4.722424e-02 -4.483362e-04  4.304693e-05   \n",
       "std    1.070563e-01  5.772355e-01  5.947505e-01  4.883165e-01  4.344218e-01   \n",
       "min   -1.230343e+00 -9.405467e+00 -8.219940e+00 -4.671090e+00 -8.805186e+00   \n",
       "25%   -7.853758e-04 -4.524640e-03 -3.553482e-03 -1.090286e-02 -4.570262e-03   \n",
       "50%    1.268892e-04  0.000000e+00  0.000000e+00  1.731190e-04 -6.421081e-07   \n",
       "75%    2.024486e-03  3.024116e-03  4.013675e-03  1.086785e-02  4.579417e-03   \n",
       "max    1.150908e+00  1.108913e+01  8.267406e+00  4.484425e+00  9.052526e+00   \n",
       "\n",
       "                  Q             R        Motor1        Motor2        Motor3  \\\n",
       "count  3.859368e+06  3.859368e+06  3.859368e+06  3.859368e+06  3.859368e+06   \n",
       "mean   4.907894e-04  8.615122e-04  2.375205e+02 -2.369294e+02  2.371031e+02   \n",
       "std    1.903108e-01  3.530311e-01  6.179896e+01  6.200034e+01  6.209949e+01   \n",
       "min   -6.302951e+00 -5.970769e+00  1.000000e+01 -5.000000e+02  1.000000e+01   \n",
       "25%   -2.357028e-03 -1.192331e-03  2.352098e+02 -2.382692e+02  2.348473e+02   \n",
       "50%    4.002890e-06 -1.370747e-05  2.366609e+02 -2.365851e+02  2.364810e+02   \n",
       "75%    2.386491e-03  1.178744e-03  2.385271e+02 -2.350571e+02  2.380607e+02   \n",
       "max    6.135386e+00  6.021672e+00  5.000000e+02 -1.000000e+01  5.000000e+02   \n",
       "\n",
       "             Motor4           X_r           Y_r           Z_r         Yaw_r  \\\n",
       "count  3.859368e+06  3.859368e+06  3.859368e+06  3.859368e+06  3.859368e+06   \n",
       "mean  -2.376529e+02 -4.423323e-01  8.020333e-02 -1.339738e+00  6.943904e-02   \n",
       "std    6.201273e+01  1.839267e+00  2.001953e+00  3.267278e-01  1.455933e+00   \n",
       "min   -5.000000e+02 -5.000000e+00 -4.900000e+00 -2.700000e+00 -5.698900e+00   \n",
       "25%   -2.382181e+02 -1.060000e+00 -8.200000e-01 -1.587327e+00  0.000000e+00   \n",
       "50%   -2.365589e+02 -2.400000e-01 -1.000000e-01 -1.300000e+00  0.000000e+00   \n",
       "75%   -2.350024e+02  3.900000e-01  6.000000e-01 -1.100000e+00  0.000000e+00   \n",
       "max   -1.000000e+01  4.700000e+00  4.900000e+00  0.000000e+00  5.621700e+00   \n",
       "\n",
       "            Pitch_r        Roll_r          Dx_r          Dy_r          Dz_r  \\\n",
       "count  3.859368e+06  3.859368e+06  3.859368e+06  3.859368e+06  3.859368e+06   \n",
       "mean   5.413407e-04  5.413407e-04 -4.827215e-03 -3.041949e-04 -1.147789e-02   \n",
       "std    9.463459e-03  9.463459e-03  2.486848e+00  2.673742e+00  3.156394e+00   \n",
       "min   -3.175523e-01 -3.175523e-01 -1.000000e+03 -9.800000e+02 -3.400000e+02   \n",
       "25%    0.000000e+00  0.000000e+00  0.000000e+00  0.000000e+00  0.000000e+00   \n",
       "50%    0.000000e+00  0.000000e+00  0.000000e+00  0.000000e+00  0.000000e+00   \n",
       "75%    0.000000e+00  0.000000e+00  0.000000e+00  0.000000e+00  0.000000e+00   \n",
       "max    3.396701e-01  3.396701e-01  9.399999e+02  9.800000e+02  1.999644e+02   \n",
       "\n",
       "       Acceleracion X  Acceleracion Y  Acceleracion Z  \n",
       "count    3.859368e+06    3.859368e+06    3.859368e+06  \n",
       "mean    -1.705777e-03    2.004448e-03   -4.806519e-05  \n",
       "std      1.823827e+00    1.937495e+00    1.819518e+00  \n",
       "min     -1.250098e+02   -1.253153e+02   -1.144005e+02  \n",
       "25%     -1.699710e-02   -7.660736e-02   -1.433379e-01  \n",
       "50%     -8.493662e-05    2.143905e-04   -3.264192e-03  \n",
       "75%      1.629875e-02    7.984044e-02    1.356349e-01  \n",
       "max      1.265200e+02    1.254210e+02    1.244594e+02  "
      ]
     },
     "execution_count": 9,
     "metadata": {},
     "output_type": "execute_result"
    }
   ],
   "source": [
    "df_desc.to_csv('data_description.csv', index=False)\n",
    "df_desc"
   ]
  },
  {
   "cell_type": "code",
   "execution_count": 10,
   "id": "b0a66d43",
   "metadata": {},
   "outputs": [],
   "source": [
    "f_min = open ('min.txt','w')\n",
    "f_max = open ('max.txt','w')\n",
    "i=1\n",
    "for i,term in enumerate(states_list):\n",
    "    f_min.write(str(df_desc[term][\"min\"]))\n",
    "    f_min.write(\"\\n\")\n",
    "    f_max.write(str(df_desc[term][\"max\"]))\n",
    "    f_max.write(\"\\n\")\n",
    "f_min.close()\n",
    "f_max.close()"
   ]
  },
  {
   "cell_type": "markdown",
   "id": "fd296fdc",
   "metadata": {},
   "source": [
    "### Diccionario Salidas"
   ]
  },
  {
   "cell_type": "code",
   "execution_count": 11,
   "id": "ee7bf303",
   "metadata": {},
   "outputs": [],
   "source": [
    "f_act = open ('norm_act.txt','w')\n",
    "\n",
    "for term in rpm_list:\n",
    "    f_act.write(str(df_desc[term][\"min\"]))\n",
    "    f_act.write(\"\\n\")\n",
    "    f_act.write(str(df_desc[term][\"max\"]))\n",
    "    f_act.write(\"\\n\")\n",
    "f_act.close()"
   ]
  },
  {
   "cell_type": "markdown",
   "id": "earlier-reasoning",
   "metadata": {},
   "source": [
    "Conteo de longitud de trayectorias"
   ]
  },
  {
   "cell_type": "code",
   "execution_count": 12,
   "id": "running-corrections",
   "metadata": {},
   "outputs": [
    {
     "name": "stdout",
     "output_type": "stream",
     "text": [
      "{10401: 1, 10001: 1, 10601: 2, 9401: 2, 12201: 1, 8201: 2, 11001: 1, 7801: 1, 7401: 1, 24001: 156}\n"
     ]
    },
    {
     "data": {
      "image/png": "[encoded data removed]",
      "text/plain": [
       "<Figure size 432x288 with 1 Axes>"
      ]
     },
     "metadata": {
      "needs_background": "light"
     },
     "output_type": "display_data"
    }
   ],
   "source": [
    "class Counter:\n",
    "    def __init__(self):\n",
    "        self.dict = {}\n",
    "    def add(self, item):\n",
    "        count = self.dict.get(item, 0)\n",
    "        self.dict[item] = count + 1\n",
    "        \n",
    "    def counts(self, desc=None):\n",
    "        result = [(val, key) for key, val in self.dict.items()]\n",
    "        #Dejar lista en orden alfabetico\n",
    "        result.sort()\n",
    "        #Invierte los objetos de una lista\n",
    "        if desc: result.reverse()\n",
    "        print(self.dict)\n",
    "        return result\n",
    "    \n",
    "    def mean(self):\n",
    "        result = [val*key for key, val in self.dict.items()]\n",
    "        return sum(result)/len(result)\n",
    "    \n",
    "    def total(self):\n",
    "        result = [val*key for key, val in self.dict.items()]\n",
    "        return sum(result)\n",
    "\n",
    "c = Counter()\n",
    "for data in dataset:\n",
    "    x, _ = data    \n",
    "    c.add(len(x))\n",
    "c_hist = c.counts(desc=True)\n",
    "\n",
    "x = []\n",
    "y = [] \n",
    "for i in c_hist:\n",
    "    x.append(str(i[1]))\n",
    "    y.append(i[0])\n",
    "\n",
    "plt.bar(x, y, width = 0.8)\n",
    "plt.title('Number of steps per trayectory')\n",
    "plt.xlabel('N steps per trajectory')\n",
    "plt.ylabel('count')\n",
    "plt.show()"
   ]
  },
  {
   "cell_type": "code",
   "execution_count": 13,
   "id": "operating-plenty",
   "metadata": {},
   "outputs": [],
   "source": [
    "df = pd.read_csv(os.path.join(rootdir, random.choice(os.listdir(rootdir))))\n",
    "Ts = df['Time'].to_list()[1]-df['Time'].to_list()[0]    # Sample Time\n",
    "T = df['Time'].to_list()[-1]-df['Time'].to_list()[0]    # Signal Duration\n",
    "N = c.mean()                                   # Average Number of Samples\n",
    "df = None"
   ]
  },
  {
   "cell_type": "code",
   "execution_count": 14,
   "id": "flying-violence",
   "metadata": {},
   "outputs": [
    {
     "name": "stdout",
     "output_type": "stream",
     "text": [
      "Dataset Size: 0.36457693576812744 GB\n",
      "Dataset len: 168 Signals\n",
      "Inputs len: 24, Inputs: ['X', 'Y', 'Z', 'Yaw', 'Roll', 'Pitch', 'Dx', 'Dy', 'Dz', 'P', 'Q', 'R', 'X_r', 'Y_r', 'Z_r', 'Yaw_r', 'Pitch_r', 'Roll_r', 'Dx_r', 'Dy_r', 'Dz_r', 'Acceleracion X', 'Acceleracion Y', 'Acceleracion Z']\n",
      "Outputs len: 4, Outputs: ['Motor1', 'Motor2', 'Motor3', 'Motor4']\n",
      "Sample Time: 5.00 ms, Sample Freq: 200.00 Hz\n",
      "Time Signal Duration: 120.00\n",
      "Number of Samples per Signal: 385937\n",
      "Number of Samples: 3859368\n"
     ]
    }
   ],
   "source": [
    "print(f'Dataset Size: {( ( (sys.getsizeof(dataset[0][0])+sys.getsizeof(dataset[0][1])) *len(dataset)/1024) /1024)/1024} GB')\n",
    "print(f'Dataset len: {len(dataset)} Signals')\n",
    "print(f'Inputs len: {len(states_list)}, Inputs: {states_list}')\n",
    "print(f'Outputs len: {len(rpm_list)}, Outputs: {rpm_list}')\n",
    "print(f'Sample Time: {\"{:.2f}\".format(Ts*1000)} ms, Sample Freq: {\"{:.2f}\".format(1/Ts)} Hz')\n",
    "print(f'Time Signal Duration: {\"{:.2f}\".format(T)}')\n",
    "print(f'Number of Samples per Signal: {\"{:.0f}\".format(N)}')\n",
    "print(f'Number of Samples: {\"{:.0f}\".format(c.total())}')"
   ]
  },
  {
   "cell_type": "markdown",
   "id": "signal-fireplace",
   "metadata": {},
   "source": [
    "#### Normalización de Estados (Entradas) y Acciones (Salidas)"
   ]
  },
  {
   "cell_type": "code",
   "execution_count": 15,
   "id": "commercial-asian",
   "metadata": {},
   "outputs": [],
   "source": [
    "def Norm(df, df_desc):\n",
    "    for prop in list(df.columns):\n",
    "        if df_desc[prop][\"max\"]==df_desc[prop][\"min\"]:\n",
    "            df[prop] = 0.0\n",
    "            continue\n",
    "        df[prop] = (df[prop]-df_desc[prop][\"min\"])/(df_desc[prop][\"max\"]-df_desc[prop][\"min\"]) \n",
    "    return df\n"
   ]
  },
  {
   "cell_type": "code",
   "execution_count": 16,
   "id": "lesser-latino",
   "metadata": {},
   "outputs": [],
   "source": [
    "#Normaliza el dataset\n",
    "for i, data in enumerate(dataset):\n",
    "    x, y = data\n",
    "    x = Norm(x, df_desc)\n",
    "    y = Norm(y, df_desc)\n",
    "    dataset[i]=[x,y]"
   ]
  },
  {
   "cell_type": "code",
   "execution_count": 17,
   "id": "flying-variance",
   "metadata": {},
   "outputs": [
    {
     "data": {
      "text/html": [
       "<div>\n",
       "<style scoped>\n",
       "    .dataframe tbody tr th:only-of-type {\n",
       "        vertical-align: middle;\n",
       "    }\n",
       "\n",
       "    .dataframe tbody tr th {\n",
       "        vertical-align: top;\n",
       "    }\n",
       "\n",
       "    .dataframe thead th {\n",
       "        text-align: right;\n",
       "    }\n",
       "</style>\n",
       "<table border=\"1\" class=\"dataframe\">\n",
       "  <thead>\n",
       "    <tr style=\"text-align: right;\">\n",
       "      <th></th>\n",
       "      <th>X</th>\n",
       "      <th>Y</th>\n",
       "      <th>Z</th>\n",
       "      <th>Yaw</th>\n",
       "      <th>Roll</th>\n",
       "      <th>Pitch</th>\n",
       "      <th>Dx</th>\n",
       "      <th>Dy</th>\n",
       "      <th>Dz</th>\n",
       "      <th>P</th>\n",
       "      <th>Q</th>\n",
       "      <th>R</th>\n",
       "      <th>X_r</th>\n",
       "      <th>Y_r</th>\n",
       "      <th>Z_r</th>\n",
       "      <th>Yaw_r</th>\n",
       "      <th>Pitch_r</th>\n",
       "      <th>Roll_r</th>\n",
       "      <th>Dx_r</th>\n",
       "      <th>Dy_r</th>\n",
       "      <th>Dz_r</th>\n",
       "      <th>Acceleracion X</th>\n",
       "      <th>Acceleracion Y</th>\n",
       "      <th>Acceleracion Z</th>\n",
       "    </tr>\n",
       "  </thead>\n",
       "  <tbody>\n",
       "    <tr>\n",
       "      <th>count</th>\n",
       "      <td>24001.000000</td>\n",
       "      <td>24001.000000</td>\n",
       "      <td>24001.000000</td>\n",
       "      <td>24001.000000</td>\n",
       "      <td>24001.000000</td>\n",
       "      <td>24001.000000</td>\n",
       "      <td>24001.000000</td>\n",
       "      <td>24001.000000</td>\n",
       "      <td>24001.000000</td>\n",
       "      <td>24001.000000</td>\n",
       "      <td>24001.000000</td>\n",
       "      <td>24001.000000</td>\n",
       "      <td>24001.000000</td>\n",
       "      <td>24001.000000</td>\n",
       "      <td>24001.000000</td>\n",
       "      <td>2.400100e+04</td>\n",
       "      <td>2.400100e+04</td>\n",
       "      <td>2.400100e+04</td>\n",
       "      <td>24001.000000</td>\n",
       "      <td>24001.000000</td>\n",
       "      <td>24001.000000</td>\n",
       "      <td>24001.000000</td>\n",
       "      <td>24001.000000</td>\n",
       "      <td>24001.000000</td>\n",
       "    </tr>\n",
       "    <tr>\n",
       "      <th>mean</th>\n",
       "      <td>0.819024</td>\n",
       "      <td>0.216791</td>\n",
       "      <td>0.541566</td>\n",
       "      <td>0.503228</td>\n",
       "      <td>0.503296</td>\n",
       "      <td>0.516881</td>\n",
       "      <td>0.458188</td>\n",
       "      <td>0.497863</td>\n",
       "      <td>0.508926</td>\n",
       "      <td>0.493073</td>\n",
       "      <td>0.506734</td>\n",
       "      <td>0.497868</td>\n",
       "      <td>0.406526</td>\n",
       "      <td>0.432863</td>\n",
       "      <td>0.439195</td>\n",
       "      <td>5.034097e-01</td>\n",
       "      <td>4.831733e-01</td>\n",
       "      <td>4.831733e-01</td>\n",
       "      <td>0.515456</td>\n",
       "      <td>0.499994</td>\n",
       "      <td>0.629645</td>\n",
       "      <td>0.496998</td>\n",
       "      <td>0.499789</td>\n",
       "      <td>0.478944</td>\n",
       "    </tr>\n",
       "    <tr>\n",
       "      <th>std</th>\n",
       "      <td>0.002245</td>\n",
       "      <td>0.001454</td>\n",
       "      <td>0.110622</td>\n",
       "      <td>0.000088</td>\n",
       "      <td>0.007162</td>\n",
       "      <td>0.010104</td>\n",
       "      <td>0.010236</td>\n",
       "      <td>0.008209</td>\n",
       "      <td>0.040390</td>\n",
       "      <td>0.007422</td>\n",
       "      <td>0.008404</td>\n",
       "      <td>0.000374</td>\n",
       "      <td>0.053009</td>\n",
       "      <td>0.037089</td>\n",
       "      <td>0.135012</td>\n",
       "      <td>1.405572e-13</td>\n",
       "      <td>1.176861e-13</td>\n",
       "      <td>1.176861e-13</td>\n",
       "      <td>0.000569</td>\n",
       "      <td>0.000475</td>\n",
       "      <td>0.004564</td>\n",
       "      <td>0.004674</td>\n",
       "      <td>0.005687</td>\n",
       "      <td>0.004800</td>\n",
       "    </tr>\n",
       "    <tr>\n",
       "      <th>min</th>\n",
       "      <td>0.814371</td>\n",
       "      <td>0.213045</td>\n",
       "      <td>0.012584</td>\n",
       "      <td>0.502249</td>\n",
       "      <td>0.444855</td>\n",
       "      <td>0.466658</td>\n",
       "      <td>0.355756</td>\n",
       "      <td>0.415952</td>\n",
       "      <td>0.016022</td>\n",
       "      <td>0.373802</td>\n",
       "      <td>0.424199</td>\n",
       "      <td>0.489296</td>\n",
       "      <td>0.317526</td>\n",
       "      <td>0.359184</td>\n",
       "      <td>0.251852</td>\n",
       "      <td>5.034097e-01</td>\n",
       "      <td>4.831733e-01</td>\n",
       "      <td>4.831733e-01</td>\n",
       "      <td>0.469072</td>\n",
       "      <td>0.454082</td>\n",
       "      <td>0.000000</td>\n",
       "      <td>0.445596</td>\n",
       "      <td>0.378140</td>\n",
       "      <td>0.431975</td>\n",
       "    </tr>\n",
       "    <tr>\n",
       "      <th>25%</th>\n",
       "      <td>0.817204</td>\n",
       "      <td>0.215540</td>\n",
       "      <td>0.433510</td>\n",
       "      <td>0.503225</td>\n",
       "      <td>0.503174</td>\n",
       "      <td>0.516545</td>\n",
       "      <td>0.458837</td>\n",
       "      <td>0.498396</td>\n",
       "      <td>0.509374</td>\n",
       "      <td>0.492879</td>\n",
       "      <td>0.506591</td>\n",
       "      <td>0.497792</td>\n",
       "      <td>0.363918</td>\n",
       "      <td>0.401020</td>\n",
       "      <td>0.370370</td>\n",
       "      <td>5.034097e-01</td>\n",
       "      <td>4.831733e-01</td>\n",
       "      <td>4.831733e-01</td>\n",
       "      <td>0.515464</td>\n",
       "      <td>0.500000</td>\n",
       "      <td>0.629671</td>\n",
       "      <td>0.496943</td>\n",
       "      <td>0.499439</td>\n",
       "      <td>0.478426</td>\n",
       "    </tr>\n",
       "    <tr>\n",
       "      <th>50%</th>\n",
       "      <td>0.818631</td>\n",
       "      <td>0.217316</td>\n",
       "      <td>0.511367</td>\n",
       "      <td>0.503226</td>\n",
       "      <td>0.503350</td>\n",
       "      <td>0.516759</td>\n",
       "      <td>0.458927</td>\n",
       "      <td>0.498554</td>\n",
       "      <td>0.510228</td>\n",
       "      <td>0.493074</td>\n",
       "      <td>0.506739</td>\n",
       "      <td>0.497873</td>\n",
       "      <td>0.397938</td>\n",
       "      <td>0.446939</td>\n",
       "      <td>0.411111</td>\n",
       "      <td>5.034097e-01</td>\n",
       "      <td>4.831733e-01</td>\n",
       "      <td>4.831733e-01</td>\n",
       "      <td>0.515464</td>\n",
       "      <td>0.500000</td>\n",
       "      <td>0.629671</td>\n",
       "      <td>0.496998</td>\n",
       "      <td>0.499797</td>\n",
       "      <td>0.478929</td>\n",
       "    </tr>\n",
       "    <tr>\n",
       "      <th>75%</th>\n",
       "      <td>0.820292</td>\n",
       "      <td>0.217623</td>\n",
       "      <td>0.664022</td>\n",
       "      <td>0.503228</td>\n",
       "      <td>0.503521</td>\n",
       "      <td>0.517051</td>\n",
       "      <td>0.459013</td>\n",
       "      <td>0.498714</td>\n",
       "      <td>0.511065</td>\n",
       "      <td>0.493275</td>\n",
       "      <td>0.506893</td>\n",
       "      <td>0.497953</td>\n",
       "      <td>0.437113</td>\n",
       "      <td>0.452041</td>\n",
       "      <td>0.585185</td>\n",
       "      <td>5.034097e-01</td>\n",
       "      <td>4.831733e-01</td>\n",
       "      <td>4.831733e-01</td>\n",
       "      <td>0.515464</td>\n",
       "      <td>0.500000</td>\n",
       "      <td>0.629671</td>\n",
       "      <td>0.497049</td>\n",
       "      <td>0.500160</td>\n",
       "      <td>0.479427</td>\n",
       "    </tr>\n",
       "    <tr>\n",
       "      <th>max</th>\n",
       "      <td>0.824116</td>\n",
       "      <td>0.219858</td>\n",
       "      <td>0.987152</td>\n",
       "      <td>0.503970</td>\n",
       "      <td>0.545609</td>\n",
       "      <td>0.604931</td>\n",
       "      <td>0.522707</td>\n",
       "      <td>0.537517</td>\n",
       "      <td>0.809393</td>\n",
       "      <td>0.597326</td>\n",
       "      <td>0.580760</td>\n",
       "      <td>0.506446</td>\n",
       "      <td>0.515464</td>\n",
       "      <td>0.500000</td>\n",
       "      <td>1.000000</td>\n",
       "      <td>5.034097e-01</td>\n",
       "      <td>4.831733e-01</td>\n",
       "      <td>4.831733e-01</td>\n",
       "      <td>0.515464</td>\n",
       "      <td>0.500000</td>\n",
       "      <td>0.751901</td>\n",
       "      <td>0.564374</td>\n",
       "      <td>0.597732</td>\n",
       "      <td>0.521487</td>\n",
       "    </tr>\n",
       "  </tbody>\n",
       "</table>\n",
       "</div>"
      ],
      "text/plain": [
       "                  X             Y             Z           Yaw          Roll  \\\n",
       "count  24001.000000  24001.000000  24001.000000  24001.000000  24001.000000   \n",
       "mean       0.819024      0.216791      0.541566      0.503228      0.503296   \n",
       "std        0.002245      0.001454      0.110622      0.000088      0.007162   \n",
       "min        0.814371      0.213045      0.012584      0.502249      0.444855   \n",
       "25%        0.817204      0.215540      0.433510      0.503225      0.503174   \n",
       "50%        0.818631      0.217316      0.511367      0.503226      0.503350   \n",
       "75%        0.820292      0.217623      0.664022      0.503228      0.503521   \n",
       "max        0.824116      0.219858      0.987152      0.503970      0.545609   \n",
       "\n",
       "              Pitch            Dx            Dy            Dz             P  \\\n",
       "count  24001.000000  24001.000000  24001.000000  24001.000000  24001.000000   \n",
       "mean       0.516881      0.458188      0.497863      0.508926      0.493073   \n",
       "std        0.010104      0.010236      0.008209      0.040390      0.007422   \n",
       "min        0.466658      0.355756      0.415952      0.016022      0.373802   \n",
       "25%        0.516545      0.458837      0.498396      0.509374      0.492879   \n",
       "50%        0.516759      0.458927      0.498554      0.510228      0.493074   \n",
       "75%        0.517051      0.459013      0.498714      0.511065      0.493275   \n",
       "max        0.604931      0.522707      0.537517      0.809393      0.597326   \n",
       "\n",
       "                  Q             R           X_r           Y_r           Z_r  \\\n",
       "count  24001.000000  24001.000000  24001.000000  24001.000000  24001.000000   \n",
       "mean       0.506734      0.497868      0.406526      0.432863      0.439195   \n",
       "std        0.008404      0.000374      0.053009      0.037089      0.135012   \n",
       "min        0.424199      0.489296      0.317526      0.359184      0.251852   \n",
       "25%        0.506591      0.497792      0.363918      0.401020      0.370370   \n",
       "50%        0.506739      0.497873      0.397938      0.446939      0.411111   \n",
       "75%        0.506893      0.497953      0.437113      0.452041      0.585185   \n",
       "max        0.580760      0.506446      0.515464      0.500000      1.000000   \n",
       "\n",
       "              Yaw_r       Pitch_r        Roll_r          Dx_r          Dy_r  \\\n",
       "count  2.400100e+04  2.400100e+04  2.400100e+04  24001.000000  24001.000000   \n",
       "mean   5.034097e-01  4.831733e-01  4.831733e-01      0.515456      0.499994   \n",
       "std    1.405572e-13  1.176861e-13  1.176861e-13      0.000569      0.000475   \n",
       "min    5.034097e-01  4.831733e-01  4.831733e-01      0.469072      0.454082   \n",
       "25%    5.034097e-01  4.831733e-01  4.831733e-01      0.515464      0.500000   \n",
       "50%    5.034097e-01  4.831733e-01  4.831733e-01      0.515464      0.500000   \n",
       "75%    5.034097e-01  4.831733e-01  4.831733e-01      0.515464      0.500000   \n",
       "max    5.034097e-01  4.831733e-01  4.831733e-01      0.515464      0.500000   \n",
       "\n",
       "               Dz_r  Acceleracion X  Acceleracion Y  Acceleracion Z  \n",
       "count  24001.000000    24001.000000    24001.000000    24001.000000  \n",
       "mean       0.629645        0.496998        0.499789        0.478944  \n",
       "std        0.004564        0.004674        0.005687        0.004800  \n",
       "min        0.000000        0.445596        0.378140        0.431975  \n",
       "25%        0.629671        0.496943        0.499439        0.478426  \n",
       "50%        0.629671        0.496998        0.499797        0.478929  \n",
       "75%        0.629671        0.497049        0.500160        0.479427  \n",
       "max        0.751901        0.564374        0.597732        0.521487  "
      ]
     },
     "execution_count": 17,
     "metadata": {},
     "output_type": "execute_result"
    }
   ],
   "source": [
    "data[0].describe()\n",
    "#df_desc['Roll_r']"
   ]
  },
  {
   "cell_type": "code",
   "execution_count": 18,
   "id": "capable-thought",
   "metadata": {},
   "outputs": [
    {
     "data": {
      "text/html": [
       "<div>\n",
       "<style scoped>\n",
       "    .dataframe tbody tr th:only-of-type {\n",
       "        vertical-align: middle;\n",
       "    }\n",
       "\n",
       "    .dataframe tbody tr th {\n",
       "        vertical-align: top;\n",
       "    }\n",
       "\n",
       "    .dataframe thead th {\n",
       "        text-align: right;\n",
       "    }\n",
       "</style>\n",
       "<table border=\"1\" class=\"dataframe\">\n",
       "  <thead>\n",
       "    <tr style=\"text-align: right;\">\n",
       "      <th></th>\n",
       "      <th>Motor1</th>\n",
       "      <th>Motor2</th>\n",
       "      <th>Motor3</th>\n",
       "      <th>Motor4</th>\n",
       "    </tr>\n",
       "  </thead>\n",
       "  <tbody>\n",
       "    <tr>\n",
       "      <th>count</th>\n",
       "      <td>24001.000000</td>\n",
       "      <td>24001.000000</td>\n",
       "      <td>24001.000000</td>\n",
       "      <td>24001.000000</td>\n",
       "    </tr>\n",
       "    <tr>\n",
       "      <th>mean</th>\n",
       "      <td>0.456626</td>\n",
       "      <td>0.543158</td>\n",
       "      <td>0.456766</td>\n",
       "      <td>0.543395</td>\n",
       "    </tr>\n",
       "    <tr>\n",
       "      <th>std</th>\n",
       "      <td>0.070093</td>\n",
       "      <td>0.070374</td>\n",
       "      <td>0.070044</td>\n",
       "      <td>0.070026</td>\n",
       "    </tr>\n",
       "    <tr>\n",
       "      <th>min</th>\n",
       "      <td>0.000000</td>\n",
       "      <td>0.036582</td>\n",
       "      <td>0.000000</td>\n",
       "      <td>0.058539</td>\n",
       "    </tr>\n",
       "    <tr>\n",
       "      <th>25%</th>\n",
       "      <td>0.460293</td>\n",
       "      <td>0.535625</td>\n",
       "      <td>0.460291</td>\n",
       "      <td>0.535618</td>\n",
       "    </tr>\n",
       "    <tr>\n",
       "      <th>50%</th>\n",
       "      <td>0.462273</td>\n",
       "      <td>0.537721</td>\n",
       "      <td>0.462296</td>\n",
       "      <td>0.537695</td>\n",
       "    </tr>\n",
       "    <tr>\n",
       "      <th>75%</th>\n",
       "      <td>0.464228</td>\n",
       "      <td>0.539799</td>\n",
       "      <td>0.464302</td>\n",
       "      <td>0.539818</td>\n",
       "    </tr>\n",
       "    <tr>\n",
       "      <th>max</th>\n",
       "      <td>0.879573</td>\n",
       "      <td>1.000000</td>\n",
       "      <td>0.874856</td>\n",
       "      <td>1.000000</td>\n",
       "    </tr>\n",
       "  </tbody>\n",
       "</table>\n",
       "</div>"
      ],
      "text/plain": [
       "             Motor1        Motor2        Motor3        Motor4\n",
       "count  24001.000000  24001.000000  24001.000000  24001.000000\n",
       "mean       0.456626      0.543158      0.456766      0.543395\n",
       "std        0.070093      0.070374      0.070044      0.070026\n",
       "min        0.000000      0.036582      0.000000      0.058539\n",
       "25%        0.460293      0.535625      0.460291      0.535618\n",
       "50%        0.462273      0.537721      0.462296      0.537695\n",
       "75%        0.464228      0.539799      0.464302      0.539818\n",
       "max        0.879573      1.000000      0.874856      1.000000"
      ]
     },
     "execution_count": 18,
     "metadata": {},
     "output_type": "execute_result"
    }
   ],
   "source": [
    "data[1].describe()"
   ]
  },
  {
   "cell_type": "markdown",
   "id": "developing-administrator",
   "metadata": {},
   "source": [
    "#### División del dataset para entrenamiento, validación, prueba"
   ]
  },
  {
   "cell_type": "code",
   "execution_count": 19,
   "id": "intermediate-catch",
   "metadata": {},
   "outputs": [],
   "source": [
    "X = []\n",
    "Y = []\n",
    "\n",
    "for sample in dataset:\n",
    "    x, y = sample\n",
    "    X.append(x)\n",
    "    Y.append(y)\n",
    "\n",
    "X_train, X_test, Y_train, Y_test = train_test_split(X, Y, test_size=0.02, random_state=42)\n",
    "X_train,  X_val, Y_train, Y_val  = train_test_split(X_train, Y_train, test_size=0.1)\n",
    "\n",
    "del X\n",
    "del Y"
   ]
  },
  {
   "cell_type": "code",
   "execution_count": 20,
   "id": "metropolitan-object",
   "metadata": {},
   "outputs": [
    {
     "name": "stdout",
     "output_type": "stream",
     "text": [
      "Total=168, Entrenamiento=147 (88%),Validación=17 (10%),Prueba=4 (2%),\n"
     ]
    }
   ],
   "source": [
    "print(f'Total={len(dataset)}, Entrenamiento={len(X_train)} ({round(100*len(X_train)/len(dataset))}%),'\\\n",
    "      f'Validación={len(X_val)} ({round(100*len(X_val)/len(dataset))}%),'\\\n",
    "      f'Prueba={len(X_test)} ({round(100*len(X_test)/len(dataset))}%),')"
   ]
  },
  {
   "cell_type": "markdown",
   "id": "previous-bottom",
   "metadata": {},
   "source": [
    "#### Generador de Ejemplos de entrenamiento"
   ]
  },
  {
   "cell_type": "markdown",
   "id": "residential-baptist",
   "metadata": {},
   "source": [
    "Entrenar un modelo con una señal de 50000 datos en cada iteración sería una tarea que tomaría demasiado tiempo, así mismo, cuando se necesite realizar la inferencia del modelo, se necesitaría esa misma cantidad de datos, por lo que no se utiliza toda la señal de entrenamiento, sino pequeños segmentos de tamaño N, por lo que se generarán M-N (longitud de toda la señal, 50000) señales de longitud N para el entrenamiento, lo que aumentaría el consumo de memoria. Por tal motivo se define un generador."
   ]
  },
  {
   "cell_type": "code",
   "execution_count": 21,
   "id": "everyday-princeton",
   "metadata": {},
   "outputs": [],
   "source": [
    "class DataGenerator:\n",
    "    def __init__(self, X=[], Y=[], dataset = None, batch_size=512, window=512, sequence_out=False, variable_window=False, delta_window=1, feedback=False, window_feedback=1):\n",
    "        if dataset:\n",
    "            for data in dataset:\n",
    "                X.append(data[0])\n",
    "                Y.append(data[1])\n",
    "            self.X = X\n",
    "            self.Y = Y\n",
    "        elif X and Y:\n",
    "            if len(X)!=len(Y):\n",
    "                raise Exception(\"La longitud de datos de X e Y deben ser iguales\")\n",
    "            self.X = X\n",
    "            self.Y = Y\n",
    "        else:\n",
    "            raise Exception(\"Debe especificar dataset o X, Y\")\n",
    "            \n",
    "        self.n  = len(X)                 ### Número de ejemplos de entrenamiento\n",
    "        x_shape = X[0].shape\n",
    "        y_shape = Y[0].shape\n",
    "        self.batch_size = batch_size\n",
    "        self.window = window\n",
    "        self.variable_window = variable_window\n",
    "        self.delta_window = delta_window\n",
    "        self.feedback = feedback\n",
    "        self.i  = x_shape[1] if not self.feedback else x_shape[1]+y_shape[1]   ### Número de características\n",
    "        self.j  = y_shape[1]                                                   ### Número de salidas\n",
    "        #self.window_feedback = window_feedback\n",
    "        if self.variable_window:\n",
    "            self.window_max = self.window+self.delta_window\n",
    "            self.window_min = self.window-self.delta_window\n",
    "            if self.window_min<1:\n",
    "                raise IndexError(f'delta_window no puede ser igual o mayor a la ventana')\n",
    "        self.sequence_out = sequence_out\n",
    "        self.set_shapes()\n",
    "        \n",
    "    def set_shapes(self):\n",
    "        if self.sequence_out:\n",
    "            self.shapes = ((self.batch_size, self.window, self.i),\n",
    "                           (self.batch_size, self.window, self.j))\n",
    "        else:\n",
    "            self.shapes = ((self.batch_size, self.window, self.i),\n",
    "                           (self.batch_size, self.j))\n",
    "\n",
    "    def buid_init(self):\n",
    "        if self.variable_window:\n",
    "            self.window = np.random.randint(self.window_min, self.window_max)\n",
    "            self.set_shapes()\n",
    "        self.samples = np.empty(shape= self.shapes[0], dtype='float32') \n",
    "        self.labels  = np.empty(shape= self.shapes[1], dtype='float32') \n",
    "        self.batchcount = 0\n",
    "        \n",
    "    def build_data(self):\n",
    "        self.buid_init()\n",
    "        if self.feedback:\n",
    "            i_0 = 1\n",
    "        else:\n",
    "            i_0 = 0\n",
    "        while True:\n",
    "            try:\n",
    "                index = np.random.randint(0, self.n-1)            ### Trayectoria a seleccionar\n",
    "                m = len(self.X[index])          ### Número de steps por ejemplo\n",
    "                if m-self.window-1<=0:\n",
    "                    raise IndexError(f'El tamaño de la ventana es mayor a la trayectoria')\n",
    "                else:\n",
    "                    start_index = np.random.randint(i_0, int(m-self.window-1))\n",
    "                    final_index = start_index+self.window\n",
    "                    x = self.X[index][start_index:final_index].to_numpy()\n",
    "                    if self.feedback:\n",
    "                        y = self.Y[index][start_index-1:final_index-1].to_numpy()\n",
    "                        self.samples[self.batchcount] = np.concatenate((x,y), axis=1)\n",
    "                    else:\n",
    "                        self.samples[self.batchcount] = x\n",
    "                        \n",
    "                    if self.sequence_out:\n",
    "                        self.labels[self.batchcount] = self.Y[index][start_index:final_index].to_numpy()\n",
    "                    else:\n",
    "                        self.labels[self.batchcount] = self.Y[index].loc[final_index]\n",
    "            except IndexError as e:\n",
    "                print(f'ERROR: Ejemplo {self.batchcount}: {e}')\n",
    "                raise e\n",
    "                \n",
    "            self.batchcount += 1\n",
    "            if self.batchcount >= self.batch_size:\n",
    "                yield self.samples.astype(np.float32), self.labels.astype(np.float32)\n",
    "                self.buid_init()"
   ]
  },
  {
   "cell_type": "code",
   "execution_count": 72,
   "id": "artistic-cosmetic",
   "metadata": {},
   "outputs": [],
   "source": [
    "window = 64                    ### Número de steps por ejemplo\n",
    "batch_size = 512              ### Número de ejemplos por batch\n",
    "sequence_out = False\n",
    "variable_window=False\n",
    "feedback = False\n",
    "delta_window=window/3          ### Variacion entre el maximo y minimo valor de la ventana de tiempo variable"
   ]
  },
  {
   "cell_type": "code",
   "execution_count": 73,
   "id": "aerial-nicholas",
   "metadata": {},
   "outputs": [],
   "source": [
    "train_generator = DataGenerator(X=X_train, Y=Y_train, batch_size=batch_size, window=window, sequence_out=sequence_out, variable_window=variable_window, delta_window=delta_window, feedback=feedback)\n",
    "val_generator   = DataGenerator(X=X_val,   Y=Y_val,   batch_size=batch_size, window=window, sequence_out=sequence_out, variable_window=variable_window, delta_window=delta_window, feedback=feedback)\n",
    "test_generator  = DataGenerator(X=X_test,  Y=Y_test,  batch_size=batch_size, window=window, sequence_out=sequence_out, variable_window=variable_window, delta_window=delta_window, feedback=feedback)"
   ]
  },
  {
   "cell_type": "code",
   "execution_count": 74,
   "id": "673727f2",
   "metadata": {},
   "outputs": [
    {
     "name": "stdout",
     "output_type": "stream",
     "text": [
      "input_dim: 24, output_dim: 4\n"
     ]
    }
   ],
   "source": [
    "input_dim = len(states_list) #if not feedback else len(states_list)+len(rpm_list)\n",
    "output_dim = len(rpm_list)\n",
    "print(f'input_dim: {input_dim}, output_dim: {output_dim}')"
   ]
  },
  {
   "cell_type": "code",
   "execution_count": 75,
   "id": "strong-transsexual",
   "metadata": {},
   "outputs": [],
   "source": [
    "dataset_train = tf.data.Dataset.from_generator(train_generator.build_data,\n",
    "                                        output_types = (tf.float32, tf.float32), \n",
    "                                        output_shapes=(tf.TensorShape((None, window, input_dim)), tf.TensorShape((None, output_dim))))\n",
    "dataset_val = tf.data.Dataset.from_generator(val_generator.build_data,\n",
    "                                        output_types = (tf.float32, tf.float32),\n",
    "                                        output_shapes=(tf.TensorShape((None, window, input_dim)), tf.TensorShape((None, output_dim))))\n",
    "dataset_test = tf.data.Dataset.from_generator(test_generator.build_data,\n",
    "                                        output_types = (tf.float32, tf.float32),\n",
    "                                        output_shapes=(tf.TensorShape((None, window, input_dim)), tf.TensorShape((None, output_dim))))"
   ]
  },
  {
   "cell_type": "code",
   "execution_count": 76,
   "id": "fossil-problem",
   "metadata": {},
   "outputs": [
    {
     "name": "stdout",
     "output_type": "stream",
     "text": [
      "x.shape=(512, 64, 24), y.shape=(512, 4)\n",
      "x.shape=(512, 64, 24), y.shape=(512, 4)\n",
      "x.shape=(512, 64, 24), y.shape=(512, 4)\n",
      "x.shape=(512, 64, 24), y.shape=(512, 4)\n",
      "x.shape=(512, 64, 24), y.shape=(512, 4)\n",
      "[0.8216588  0.21838552 0.66456026 0.50322664 0.50336385 0.51703566\n",
      " 0.45902923 0.4982924  0.51213366 0.49286875 0.50676435 0.4976819\n",
      " 0.4701031  0.4744898  0.58518517 0.50340974 0.4831733  0.4831733\n",
      " 0.51546395 0.5        0.6296711  0.49701202 0.50025874 0.47910178]\n",
      "[0.46131572 0.5398631  0.46047896 0.5391548 ]\n"
     ]
    }
   ],
   "source": [
    "for _ in range(5):\n",
    "    x, y = next(train_generator.build_data())\n",
    "    print(f'x.shape={x.shape}, y.shape={y.shape}')\n",
    "    #print(x)\n",
    "print(x[1,1,:])\n",
    "print(y[1,:])"
   ]
  },
  {
   "cell_type": "markdown",
   "id": "conservative-nowhere",
   "metadata": {},
   "source": [
    "## Keras Model"
   ]
  },
  {
   "cell_type": "markdown",
   "id": "realistic-clear",
   "metadata": {},
   "source": [
    "## Callbacks"
   ]
  },
  {
   "cell_type": "code",
   "execution_count": 77,
   "id": "encouraging-pound",
   "metadata": {},
   "outputs": [],
   "source": [
    "main_metric = 'mean_squared_error'\n",
    "#main_metric = 'root_mean_squared_error'\n",
    "#metrics = main_metric\n",
    "metrics = [main_metric, 'logcosh']"
   ]
  },
  {
   "cell_type": "markdown",
   "id": "returning-stamp",
   "metadata": {},
   "source": [
    "#### Early Stopping"
   ]
  },
  {
   "cell_type": "code",
   "execution_count": 78,
   "id": "tribal-annex",
   "metadata": {},
   "outputs": [],
   "source": [
    "#Early_Stopping = tf.keras.callbacks.EarlyStopping(monitor=f'val_{main_metric}', min_delta=0, patience=15, verbose=0, mode='auto')"
   ]
  },
  {
   "cell_type": "markdown",
   "id": "written-publicity",
   "metadata": {},
   "source": [
    "#### Plotting"
   ]
  },
  {
   "cell_type": "code",
   "execution_count": 79,
   "id": "dated-assumption",
   "metadata": {},
   "outputs": [],
   "source": [
    "class PlotLosses(tf.keras.callbacks.Callback):\n",
    "    def __init__(self, loss, figsize=(10,10)):\n",
    "        self.loss = loss\n",
    "        self.figsize = figsize\n",
    "        \n",
    "    def on_train_begin(self, logs={}):\n",
    "        self.i = 0\n",
    "        self.x = []\n",
    "        self.losses = []\n",
    "        self.val_losses = []\n",
    "        self.logs = []\n",
    "        self.fig = plt.figure(figsize=self.figsize)\n",
    "        if type(self.loss)==list:\n",
    "            self.N = len(self.loss)\n",
    "            for i in range(self.N):\n",
    "                self.losses.append([])\n",
    "                self.val_losses.append([])\n",
    "        else:\n",
    "            self.N = 1\n",
    "        \n",
    "    def on_epoch_end(self, epoch, logs={}):\n",
    "        self.logs.append(logs)\n",
    "        self.x.append(self.i+1)\n",
    "        if self.N>1:\n",
    "            for i, l in enumerate(self.loss):\n",
    "                self.losses[i].append(logs.get(f'{l}'))\n",
    "                self.val_losses[i].append(logs.get(f'val_{l}'))\n",
    "        else:\n",
    "            self.losses.append(logs.get(f'{self.loss}'))\n",
    "            self.val_losses.append(logs.get(f'val_{self.loss}'))\n",
    "        self.i += 1\n",
    "        \n",
    "        clear_output(wait=True)\n",
    "        if self.N>1:\n",
    "            self.fig, self.axs = plt.subplots(self.N, sharex=True, figsize=self.figsize)\n",
    "            for i, l in enumerate(self.loss):\n",
    "                self.axs[i].plot(self.x, self.losses[i], label=f\"Train\")\n",
    "                self.axs[i].plot(self.x, self.val_losses[i], label=f\"Validation\")\n",
    "                self.axs[i].set_title(f'{l}')\n",
    "                self.axs[i].set_yscale('log')\n",
    "                self.axs[i].grid()\n",
    "                self.axs[i].legend()\n",
    "            self.axs[i].set_xlabel('Epochs')\n",
    "        else:\n",
    "            plt.plot(self.x, self.losses, label=f\"Train\")\n",
    "            plt.plot(self.x, self.val_losses, label=f\"Validation\")\n",
    "            plt.suptitle(f'{self.loss}')\n",
    "            plt.yscale('log')\n",
    "            plt.xlabel('Epochs')\n",
    "            plt.grid()\n",
    "            plt.legend()\n",
    "        plt.show()"
   ]
  },
  {
   "cell_type": "markdown",
   "id": "therapeutic-finger",
   "metadata": {},
   "source": [
    "#### Checkpoints"
   ]
  },
  {
   "cell_type": "code",
   "execution_count": 80,
   "id": "floating-bibliography",
   "metadata": {},
   "outputs": [],
   "source": [
    "checkpoint_filepath = './tmp/checkpoint'\n",
    "model_checkpoint_callback = tf.keras.callbacks.ModelCheckpoint(\n",
    "    filepath=checkpoint_filepath,\n",
    "    save_weights_only=True,\n",
    "    monitor=f'val_{main_metric}',\n",
    "    mode='max',\n",
    "    save_best_only=True)"
   ]
  },
  {
   "cell_type": "code",
   "execution_count": 81,
   "id": "fresh-enlargement",
   "metadata": {},
   "outputs": [],
   "source": [
    "plot_losses = PlotLosses(loss=metrics)\n",
    "#callbacks = [model_checkpoint_callback, Early_Stopping, plot_losses]\n",
    "callbacks = [model_checkpoint_callback, plot_losses]"
   ]
  },
  {
   "cell_type": "markdown",
   "id": "delayed-neighborhood",
   "metadata": {},
   "source": [
    "#### Definición del Modelo"
   ]
  },
  {
   "cell_type": "code",
   "execution_count": 82,
   "id": "0427b5b5",
   "metadata": {},
   "outputs": [],
   "source": [
    "model = models.Sequential()\n",
    "model.add(layers.LSTM(192, input_shape=(window, input_dim), return_sequences=True))\n",
    "model.add(layers.LSTM(256, activation='tanh', return_sequences=True))\n",
    "model.add(layers.LSTM(64,  activation='tanh'))\n",
    "model.add(layers.Dense(320, activation='tanh'))\n",
    "model.add(layers.Dense(192, activation='tanh'))\n",
    "model.add(layers.Dense(480, activation='tanh'))\n",
    "model.add(layers.Dense(64, activation='tanh'))\n",
    "model.add(layers.Dense(128, activation='tanh'))\n",
    "model.add(layers.Dense(output_dim, activation='sigmoid'))#, activation='sigmoid'))"
   ]
  },
  {
   "cell_type": "markdown",
   "id": "destroyed-witness",
   "metadata": {},
   "source": [
    "#### Compilado el Modelo"
   ]
  },
  {
   "cell_type": "code",
   "execution_count": 83,
   "id": "unavailable-fight",
   "metadata": {},
   "outputs": [
    {
     "name": "stdout",
     "output_type": "stream",
     "text": [
      "Model: \"sequential_2\"\n",
      "_________________________________________________________________\n",
      "Layer (type)                 Output Shape              Param #   \n",
      "=================================================================\n",
      "lstm_6 (LSTM)                (None, 64, 192)           166656    \n",
      "_________________________________________________________________\n",
      "lstm_7 (LSTM)                (None, 64, 256)           459776    \n",
      "_________________________________________________________________\n",
      "lstm_8 (LSTM)                (None, 64)                82176     \n",
      "_________________________________________________________________\n",
      "dense_12 (Dense)             (None, 320)               20800     \n",
      "_________________________________________________________________\n",
      "dense_13 (Dense)             (None, 192)               61632     \n",
      "_________________________________________________________________\n",
      "dense_14 (Dense)             (None, 480)               92640     \n",
      "_________________________________________________________________\n",
      "dense_15 (Dense)             (None, 64)                30784     \n",
      "_________________________________________________________________\n",
      "dense_16 (Dense)             (None, 128)               8320      \n",
      "_________________________________________________________________\n",
      "dense_17 (Dense)             (None, 4)                 516       \n",
      "=================================================================\n",
      "Total params: 923,300\n",
      "Trainable params: 923,300\n",
      "Non-trainable params: 0\n",
      "_________________________________________________________________\n"
     ]
    }
   ],
   "source": [
    "opt = tf.keras.optimizers.Adam(learning_rate=0.00005, clipvalue=0.5)\n",
    "model.compile(loss=main_metric, optimizer=opt, metrics=metrics)\n",
    "#model.compile(loss=main_metric, optimizer=opt)\n",
    "model.summary()"
   ]
  },
  {
   "cell_type": "markdown",
   "id": "biological-keeping",
   "metadata": {},
   "source": [
    "#### Entrenamiento del Modelo"
   ]
  },
  {
   "cell_type": "code",
   "execution_count": 84,
   "id": "offshore-riverside",
   "metadata": {
    "scrolled": true
   },
   "outputs": [
    {
     "data": {
      "image/png": "[encoded data removed]",
      "text/plain": [
       "<Figure size 720x720 with 2 Axes>"
      ]
     },
     "metadata": {
      "needs_background": "light"
     },
     "output_type": "display_data"
    },
    {
     "name": "stdout",
     "output_type": "stream",
     "text": [
      "147/147 [==============================] - 40s 274ms/step - loss: 0.0014 - mean_squared_error: 0.0014 - logcosh: 7.0383e-04 - val_loss: 0.0013 - val_mean_squared_error: 0.0013 - val_logcosh: 6.4019e-04\n",
      "Wall time: 8h 44min 37s\n"
     ]
    }
   ],
   "source": [
    "%%time\n",
    "EPOCHS = 750\n",
    "#se usa el repeat para llamar al generador mas de una vez\n",
    "#steps_per_epoch  = numero de batches de los datos para determinar una epoca terminada \n",
    "#Por defecto -> number of samples in your dataset divided by the batch size (LEN_DT//BATCH_SIZE_TRAIN)\n",
    "#verbose = mostrar el avance del entrenamiento\n",
    "#validation_steps = numero de batches de datos para validar en cada epoca\n",
    "#workers?\n",
    "#max_queue_size?\n",
    "history = model.fit(dataset_train.repeat(), \n",
    "                    epochs=EPOCHS, \n",
    "                    steps_per_epoch = len(X_train),\n",
    "                    callbacks=callbacks, \n",
    "                    verbose=1,\n",
    "                    validation_data = dataset_val.repeat(),\n",
    "                    validation_steps= len(X_val))"
   ]
  },
  {
   "cell_type": "markdown",
   "id": "accepting-photography",
   "metadata": {},
   "source": [
    "#### Se guarda el Modelo"
   ]
  },
  {
   "cell_type": "code",
   "execution_count": 85,
   "id": "universal-fraud",
   "metadata": {},
   "outputs": [
    {
     "name": "stdout",
     "output_type": "stream",
     "text": [
      "../Models/DatasetXYZYaw_2022V2_2_64.h5\n"
     ]
    }
   ],
   "source": [
    "I = '2'\n",
    "file_name = f'../Models/{dataset_name}_{I}_{window}.h5'\n",
    "model.save(file_name)\n",
    "print(file_name)"
   ]
  },
  {
   "cell_type": "markdown",
   "id": "sized-differential",
   "metadata": {},
   "source": [
    "### Evaluación del Modelo"
   ]
  },
  {
   "cell_type": "markdown",
   "id": "pending-climate",
   "metadata": {},
   "source": [
    "#### Se carga el modelo"
   ]
  },
  {
   "cell_type": "code",
   "execution_count": 86,
   "id": "excessive-meaning",
   "metadata": {},
   "outputs": [
    {
     "name": "stdout",
     "output_type": "stream",
     "text": [
      "Model: \"sequential_2\"\n",
      "_________________________________________________________________\n",
      "Layer (type)                 Output Shape              Param #   \n",
      "=================================================================\n",
      "lstm_6 (LSTM)                (None, 64, 192)           166656    \n",
      "_________________________________________________________________\n",
      "lstm_7 (LSTM)                (None, 64, 256)           459776    \n",
      "_________________________________________________________________\n",
      "lstm_8 (LSTM)                (None, 64)                82176     \n",
      "_________________________________________________________________\n",
      "dense_12 (Dense)             (None, 320)               20800     \n",
      "_________________________________________________________________\n",
      "dense_13 (Dense)             (None, 192)               61632     \n",
      "_________________________________________________________________\n",
      "dense_14 (Dense)             (None, 480)               92640     \n",
      "_________________________________________________________________\n",
      "dense_15 (Dense)             (None, 64)                30784     \n",
      "_________________________________________________________________\n",
      "dense_16 (Dense)             (None, 128)               8320      \n",
      "_________________________________________________________________\n",
      "dense_17 (Dense)             (None, 4)                 516       \n",
      "=================================================================\n",
      "Total params: 923,300\n",
      "Trainable params: 923,300\n",
      "Non-trainable params: 0\n",
      "_________________________________________________________________\n"
     ]
    }
   ],
   "source": [
    "model = tf.keras.models.load_model(file_name)\n",
    "model.summary()"
   ]
  },
  {
   "cell_type": "markdown",
   "id": "monetary-commons",
   "metadata": {},
   "source": [
    "#### Evaluación con dataset de prueba"
   ]
  },
  {
   "cell_type": "code",
   "execution_count": 87,
   "id": "ahead-delhi",
   "metadata": {},
   "outputs": [
    {
     "name": "stdout",
     "output_type": "stream",
     "text": [
      "1/1 [==============================] - 1s 864ms/step - loss: 6.3095e-04 - mean_squared_error: 6.3095e-04 - logcosh: 3.1162e-04\n",
      "K=490.00\n",
      "loss: 6.31e-04 -> 3.09e-01 RPM\n",
      "mean_squared_error: 6.31e-04 -> 3.09e-01 RPM\n",
      "logcosh: 3.12e-04 -> 1.53e-01 RPM\n",
      "Wall time: 986 ms\n"
     ]
    }
   ],
   "source": [
    "%%time\n",
    "n_batches = np.ceil((len(X_test)*len(X_test[0])/N)/batch_size)\n",
    "losses = model.evaluate(dataset_test, steps = n_batches)\n",
    "K = df_desc[rpm_list[0]][\"max\"]-df_desc[rpm_list[0]][\"min\"] #Ganancia del actuador\n",
    "print(f'K={\"{:.2f}\".format(K)}')\n",
    "if not type(metrics) == list:\n",
    "    metrics = [metrics]\n",
    "for i, l in enumerate(['loss']+metrics):\n",
    "    print(f'{l}: {\"{:.2e}\".format(losses[i])} -> {\"{:.2e}\".format(losses[i]*K)} RPM')"
   ]
  },
  {
   "cell_type": "markdown",
   "id": "detected-grace",
   "metadata": {},
   "source": [
    "#### Evaluación con 1 trayectoria"
   ]
  },
  {
   "cell_type": "code",
   "execution_count": 88,
   "id": "outstanding-tower",
   "metadata": {},
   "outputs": [],
   "source": [
    "window_test = 3000\n",
    "test_traj_generator  = DataGenerator(X=X_test,  Y=Y_test,  batch_size=1, window=window_test, sequence_out=True)"
   ]
  },
  {
   "cell_type": "code",
   "execution_count": 89,
   "id": "lesbian-promotion",
   "metadata": {},
   "outputs": [
    {
     "name": "stdout",
     "output_type": "stream",
     "text": [
      "Wall time: 3min 46s\n"
     ]
    }
   ],
   "source": [
    "%%time\n",
    "X, Y = next(test_traj_generator.build_data())\n",
    "x = X[0]\n",
    "y = Y[0]\n",
    "y = y[window:]\n",
    "y_pred = []\n",
    "for i in range(window, len(x)):\n",
    "    x_temp = x[i-window:i].reshape(1,  window, X.shape[2])\n",
    "    y_temp = model.predict(x_temp)\n",
    "    y_pred.append(y_temp)\n",
    "y_pred = np.array(y_pred).reshape(y.shape)"
   ]
  },
  {
   "cell_type": "markdown",
   "id": "selected-habitat",
   "metadata": {},
   "source": [
    "#### Visualización con 1 trayectoria"
   ]
  },
  {
   "cell_type": "code",
   "execution_count": 90,
   "id": "critical-bleeding",
   "metadata": {},
   "outputs": [],
   "source": [
    "t = np.arange(0, len(y)*Ts, Ts)"
   ]
  },
  {
   "cell_type": "code",
   "execution_count": 91,
   "id": "advanced-greek",
   "metadata": {
    "scrolled": true
   },
   "outputs": [
    {
     "data": {
      "image/png": "[encoded data removed]",
      "text/plain": [
       "<Figure size 504x1080 with 4 Axes>"
      ]
     },
     "metadata": {
      "needs_background": "light"
     },
     "output_type": "display_data"
    }
   ],
   "source": [
    "fig, axs = plt.subplots(Y.shape[2], figsize = (7,15))\n",
    "for i in range(Y.shape[2]):\n",
    "    axs[i].plot(t, y_pred[:,i], t, y[:,i])\n",
    "    axs[i].grid()"
   ]
  },
  {
   "cell_type": "code",
   "execution_count": 92,
   "id": "contained-constitution",
   "metadata": {},
   "outputs": [
    {
     "data": {
      "image/png": "[encoded data removed]",
      "text/plain": [
       "<Figure size 504x1080 with 4 Axes>"
      ]
     },
     "metadata": {
      "needs_background": "light"
     },
     "output_type": "display_data"
    }
   ],
   "source": [
    "fig, axs = plt.subplots(Y.shape[2], figsize = (7,15))\n",
    "for i in range(Y.shape[2]):\n",
    "    axs[i].plot(t[0:1000], y_pred[0:1000,i], t[0:1000], y[0:1000,i])\n",
    "    axs[i].grid()"
   ]
  },
  {
   "cell_type": "markdown",
   "id": "experienced-gravity",
   "metadata": {},
   "source": [
    "#### Tiempo de inferencia tamaño entrada"
   ]
  },
  {
   "cell_type": "code",
   "execution_count": 43,
   "id": "knowing-appearance",
   "metadata": {},
   "outputs": [],
   "source": [
    "import time\n",
    "\n",
    "def MSE(y, y_pred):\n",
    "    return (y-y_pred)**2\n",
    "\n",
    "window_test = 1000\n",
    "test_traj_batch = 8192 \n",
    "test_traj_generator  = DataGenerator(X=X_test,  Y=Y_test,  batch_size=test_traj_batch, window=window_test, sequence_out=True)\n",
    "\n",
    "window_len = []\n",
    "inf_time = []\n",
    "loss = []\n",
    "\n",
    "x, y = next(test_traj_generator.build_data())"
   ]
  },
  {
   "cell_type": "code",
   "execution_count": 44,
   "id": "italic-demonstration",
   "metadata": {},
   "outputs": [
    {
     "ename": "ValueError",
     "evalue": "Error when checking input: expected lstm_input to have shape (64, 24) but got array with shape (1, 24)",
     "output_type": "error",
     "traceback": [
      "\u001b[1;31m---------------------------------------------------------------------------\u001b[0m",
      "\u001b[1;31mValueError\u001b[0m                                Traceback (most recent call last)",
      "\u001b[1;32m<timed exec>\u001b[0m in \u001b[0;36m<module>\u001b[1;34m\u001b[0m\n",
      "\u001b[1;32m~\\.conda\\envs\\drone-matlab\\lib\\site-packages\\tensorflow_core\\python\\keras\\engine\\training.py\u001b[0m in \u001b[0;36mpredict\u001b[1;34m(self, x, batch_size, verbose, steps, callbacks, max_queue_size, workers, use_multiprocessing)\u001b[0m\n\u001b[0;32m   1011\u001b[0m         \u001b[0mmax_queue_size\u001b[0m\u001b[1;33m=\u001b[0m\u001b[0mmax_queue_size\u001b[0m\u001b[1;33m,\u001b[0m\u001b[1;33m\u001b[0m\u001b[1;33m\u001b[0m\u001b[0m\n\u001b[0;32m   1012\u001b[0m         \u001b[0mworkers\u001b[0m\u001b[1;33m=\u001b[0m\u001b[0mworkers\u001b[0m\u001b[1;33m,\u001b[0m\u001b[1;33m\u001b[0m\u001b[1;33m\u001b[0m\u001b[0m\n\u001b[1;32m-> 1013\u001b[1;33m         use_multiprocessing=use_multiprocessing)\n\u001b[0m\u001b[0;32m   1014\u001b[0m \u001b[1;33m\u001b[0m\u001b[0m\n\u001b[0;32m   1015\u001b[0m   \u001b[1;32mdef\u001b[0m \u001b[0mreset_metrics\u001b[0m\u001b[1;33m(\u001b[0m\u001b[0mself\u001b[0m\u001b[1;33m)\u001b[0m\u001b[1;33m:\u001b[0m\u001b[1;33m\u001b[0m\u001b[1;33m\u001b[0m\u001b[0m\n",
      "\u001b[1;32m~\\.conda\\envs\\drone-matlab\\lib\\site-packages\\tensorflow_core\\python\\keras\\engine\\training_v2.py\u001b[0m in \u001b[0;36mpredict\u001b[1;34m(self, model, x, batch_size, verbose, steps, callbacks, max_queue_size, workers, use_multiprocessing, **kwargs)\u001b[0m\n\u001b[0;32m    496\u001b[0m         \u001b[0mmodel\u001b[0m\u001b[1;33m,\u001b[0m \u001b[0mModeKeys\u001b[0m\u001b[1;33m.\u001b[0m\u001b[0mPREDICT\u001b[0m\u001b[1;33m,\u001b[0m \u001b[0mx\u001b[0m\u001b[1;33m=\u001b[0m\u001b[0mx\u001b[0m\u001b[1;33m,\u001b[0m \u001b[0mbatch_size\u001b[0m\u001b[1;33m=\u001b[0m\u001b[0mbatch_size\u001b[0m\u001b[1;33m,\u001b[0m \u001b[0mverbose\u001b[0m\u001b[1;33m=\u001b[0m\u001b[0mverbose\u001b[0m\u001b[1;33m,\u001b[0m\u001b[1;33m\u001b[0m\u001b[1;33m\u001b[0m\u001b[0m\n\u001b[0;32m    497\u001b[0m         \u001b[0msteps\u001b[0m\u001b[1;33m=\u001b[0m\u001b[0msteps\u001b[0m\u001b[1;33m,\u001b[0m \u001b[0mcallbacks\u001b[0m\u001b[1;33m=\u001b[0m\u001b[0mcallbacks\u001b[0m\u001b[1;33m,\u001b[0m \u001b[0mmax_queue_size\u001b[0m\u001b[1;33m=\u001b[0m\u001b[0mmax_queue_size\u001b[0m\u001b[1;33m,\u001b[0m\u001b[1;33m\u001b[0m\u001b[1;33m\u001b[0m\u001b[0m\n\u001b[1;32m--> 498\u001b[1;33m         workers=workers, use_multiprocessing=use_multiprocessing, **kwargs)\n\u001b[0m\u001b[0;32m    499\u001b[0m \u001b[1;33m\u001b[0m\u001b[0m\n\u001b[0;32m    500\u001b[0m \u001b[1;33m\u001b[0m\u001b[0m\n",
      "\u001b[1;32m~\\.conda\\envs\\drone-matlab\\lib\\site-packages\\tensorflow_core\\python\\keras\\engine\\training_v2.py\u001b[0m in \u001b[0;36m_model_iteration\u001b[1;34m(self, model, mode, x, y, batch_size, verbose, sample_weight, steps, callbacks, max_queue_size, workers, use_multiprocessing, **kwargs)\u001b[0m\n\u001b[0;32m    424\u001b[0m           \u001b[0mmax_queue_size\u001b[0m\u001b[1;33m=\u001b[0m\u001b[0mmax_queue_size\u001b[0m\u001b[1;33m,\u001b[0m\u001b[1;33m\u001b[0m\u001b[1;33m\u001b[0m\u001b[0m\n\u001b[0;32m    425\u001b[0m           \u001b[0mworkers\u001b[0m\u001b[1;33m=\u001b[0m\u001b[0mworkers\u001b[0m\u001b[1;33m,\u001b[0m\u001b[1;33m\u001b[0m\u001b[1;33m\u001b[0m\u001b[0m\n\u001b[1;32m--> 426\u001b[1;33m           use_multiprocessing=use_multiprocessing)\n\u001b[0m\u001b[0;32m    427\u001b[0m       \u001b[0mtotal_samples\u001b[0m \u001b[1;33m=\u001b[0m \u001b[0m_get_total_number_of_samples\u001b[0m\u001b[1;33m(\u001b[0m\u001b[0madapter\u001b[0m\u001b[1;33m)\u001b[0m\u001b[1;33m\u001b[0m\u001b[1;33m\u001b[0m\u001b[0m\n\u001b[0;32m    428\u001b[0m       \u001b[0muse_sample\u001b[0m \u001b[1;33m=\u001b[0m \u001b[0mtotal_samples\u001b[0m \u001b[1;32mis\u001b[0m \u001b[1;32mnot\u001b[0m \u001b[1;32mNone\u001b[0m\u001b[1;33m\u001b[0m\u001b[1;33m\u001b[0m\u001b[0m\n",
      "\u001b[1;32m~\\.conda\\envs\\drone-matlab\\lib\\site-packages\\tensorflow_core\\python\\keras\\engine\\training_v2.py\u001b[0m in \u001b[0;36m_process_inputs\u001b[1;34m(model, mode, x, y, batch_size, epochs, sample_weights, class_weights, shuffle, steps, distribution_strategy, max_queue_size, workers, use_multiprocessing)\u001b[0m\n\u001b[0;32m    644\u001b[0m     \u001b[0mstandardize_function\u001b[0m \u001b[1;33m=\u001b[0m \u001b[1;32mNone\u001b[0m\u001b[1;33m\u001b[0m\u001b[1;33m\u001b[0m\u001b[0m\n\u001b[0;32m    645\u001b[0m     x, y, sample_weights = standardize(\n\u001b[1;32m--> 646\u001b[1;33m         x, y, sample_weight=sample_weights)\n\u001b[0m\u001b[0;32m    647\u001b[0m   \u001b[1;32melif\u001b[0m \u001b[0madapter_cls\u001b[0m \u001b[1;32mis\u001b[0m \u001b[0mdata_adapter\u001b[0m\u001b[1;33m.\u001b[0m\u001b[0mListsOfScalarsDataAdapter\u001b[0m\u001b[1;33m:\u001b[0m\u001b[1;33m\u001b[0m\u001b[1;33m\u001b[0m\u001b[0m\n\u001b[0;32m    648\u001b[0m     \u001b[0mstandardize_function\u001b[0m \u001b[1;33m=\u001b[0m \u001b[0mstandardize\u001b[0m\u001b[1;33m\u001b[0m\u001b[1;33m\u001b[0m\u001b[0m\n",
      "\u001b[1;32m~\\.conda\\envs\\drone-matlab\\lib\\site-packages\\tensorflow_core\\python\\keras\\engine\\training.py\u001b[0m in \u001b[0;36m_standardize_user_data\u001b[1;34m(self, x, y, sample_weight, class_weight, batch_size, check_steps, steps_name, steps, validation_split, shuffle, extract_tensors_from_dataset)\u001b[0m\n\u001b[0;32m   2381\u001b[0m         \u001b[0mis_dataset\u001b[0m\u001b[1;33m=\u001b[0m\u001b[0mis_dataset\u001b[0m\u001b[1;33m,\u001b[0m\u001b[1;33m\u001b[0m\u001b[1;33m\u001b[0m\u001b[0m\n\u001b[0;32m   2382\u001b[0m         \u001b[0mclass_weight\u001b[0m\u001b[1;33m=\u001b[0m\u001b[0mclass_weight\u001b[0m\u001b[1;33m,\u001b[0m\u001b[1;33m\u001b[0m\u001b[1;33m\u001b[0m\u001b[0m\n\u001b[1;32m-> 2383\u001b[1;33m         batch_size=batch_size)\n\u001b[0m\u001b[0;32m   2384\u001b[0m \u001b[1;33m\u001b[0m\u001b[0m\n\u001b[0;32m   2385\u001b[0m   def _standardize_tensors(self, x, y, sample_weight, run_eagerly, dict_inputs,\n",
      "\u001b[1;32m~\\.conda\\envs\\drone-matlab\\lib\\site-packages\\tensorflow_core\\python\\keras\\engine\\training.py\u001b[0m in \u001b[0;36m_standardize_tensors\u001b[1;34m(self, x, y, sample_weight, run_eagerly, dict_inputs, is_dataset, class_weight, batch_size)\u001b[0m\n\u001b[0;32m   2408\u001b[0m           \u001b[0mfeed_input_shapes\u001b[0m\u001b[1;33m,\u001b[0m\u001b[1;33m\u001b[0m\u001b[1;33m\u001b[0m\u001b[0m\n\u001b[0;32m   2409\u001b[0m           \u001b[0mcheck_batch_axis\u001b[0m\u001b[1;33m=\u001b[0m\u001b[1;32mFalse\u001b[0m\u001b[1;33m,\u001b[0m  \u001b[1;31m# Don't enforce the batch size.\u001b[0m\u001b[1;33m\u001b[0m\u001b[1;33m\u001b[0m\u001b[0m\n\u001b[1;32m-> 2410\u001b[1;33m           exception_prefix='input')\n\u001b[0m\u001b[0;32m   2411\u001b[0m \u001b[1;33m\u001b[0m\u001b[0m\n\u001b[0;32m   2412\u001b[0m     \u001b[1;31m# Get typespecs for the input data and sanitize it if necessary.\u001b[0m\u001b[1;33m\u001b[0m\u001b[1;33m\u001b[0m\u001b[1;33m\u001b[0m\u001b[0m\n",
      "\u001b[1;32m~\\.conda\\envs\\drone-matlab\\lib\\site-packages\\tensorflow_core\\python\\keras\\engine\\training_utils.py\u001b[0m in \u001b[0;36mstandardize_input_data\u001b[1;34m(data, names, shapes, check_batch_axis, exception_prefix)\u001b[0m\n\u001b[0;32m    580\u001b[0m                              \u001b[1;34m': expected '\u001b[0m \u001b[1;33m+\u001b[0m \u001b[0mnames\u001b[0m\u001b[1;33m[\u001b[0m\u001b[0mi\u001b[0m\u001b[1;33m]\u001b[0m \u001b[1;33m+\u001b[0m \u001b[1;34m' to have shape '\u001b[0m \u001b[1;33m+\u001b[0m\u001b[1;33m\u001b[0m\u001b[1;33m\u001b[0m\u001b[0m\n\u001b[0;32m    581\u001b[0m                              \u001b[0mstr\u001b[0m\u001b[1;33m(\u001b[0m\u001b[0mshape\u001b[0m\u001b[1;33m)\u001b[0m \u001b[1;33m+\u001b[0m \u001b[1;34m' but got array with shape '\u001b[0m \u001b[1;33m+\u001b[0m\u001b[1;33m\u001b[0m\u001b[1;33m\u001b[0m\u001b[0m\n\u001b[1;32m--> 582\u001b[1;33m                              str(data_shape))\n\u001b[0m\u001b[0;32m    583\u001b[0m   \u001b[1;32mreturn\u001b[0m \u001b[0mdata\u001b[0m\u001b[1;33m\u001b[0m\u001b[1;33m\u001b[0m\u001b[0m\n\u001b[0;32m    584\u001b[0m \u001b[1;33m\u001b[0m\u001b[0m\n",
      "\u001b[1;31mValueError\u001b[0m: Error when checking input: expected lstm_input to have shape (64, 24) but got array with shape (1, 24)"
     ]
    }
   ],
   "source": [
    "%%time\n",
    "accum_time = 0\n",
    "n_iter = 100\n",
    "#set -> conjunto de datos distribuidos de forma random\n",
    "#np.log10 -> logaritmo en base 10 de un array\n",
    "#np.logspace -> genera un rango de valores entre 0 y el tamaño de la ventana, con muestras de n_iter\n",
    "#np.rint -> aproxima los numeros al entero mas cercano\n",
    "# Se genera una distribucion de datos con espaciado logaritmico y aleatoria de tamaño n_iter\n",
    "test_range = list(set(np.rint(np.logspace(0, np.log10(x.shape[1]-1), num=n_iter, endpoint=True))))\n",
    "#ordena la lista de menor a mayor\n",
    "test_range.sort()\n",
    "n_iter = len(test_range)\n",
    "#map -> mapea cada elemento y lo convierte a entero\n",
    "for k, i in enumerate(list(map(int,test_range))):\n",
    "    inf_time_aux = []    # Tiempo de inferencia auxiliar\n",
    "    loss_aux = []    # Costo Auxiliar\n",
    "    init_time = time.time()\n",
    "    #se barre todo el batch\n",
    "    for j in range(len(x)):\n",
    "        #se toma una muestra del batch\n",
    "        x_5 = x[j][0:i].reshape(1,  i, x.shape[2])\n",
    "        start_time = time.time()\n",
    "        y_pred = model.predict(x_5)\n",
    "        finish_time = time.time() - start_time\n",
    "        inf_time_aux.append(finish_time)\n",
    "        loss_aux.append(\n",
    "            np.mean(\n",
    "                MSE(y[j][i], y_pred)\n",
    "            )\n",
    "        )\n",
    "    #Se guarda el tamaño de ventana, el tiempo y la perdida\n",
    "    window_len.append(i)\n",
    "    inf_time.append(np.mean(inf_time_aux))\n",
    "    loss.append(np.mean(loss_aux))\n",
    "    #Se limpia la salida impresa en pantalla\n",
    "    clear_output(wait=True)\n",
    "    #se guarda el tiempo total de ejecucion\n",
    "    accum_time += time.time()-init_time\n",
    "    print(f'iter = {k} de {test_range}, i = {i}, execution time = {\"{:.2f}\".format(np.max(accum_time))}s')"
   ]
  },
  {
   "cell_type": "code",
   "execution_count": 45,
   "id": "unnecessary-broadcast",
   "metadata": {},
   "outputs": [
    {
     "ename": "ValueError",
     "evalue": "max() arg is an empty sequence",
     "output_type": "error",
     "traceback": [
      "\u001b[1;31m---------------------------------------------------------------------------\u001b[0m",
      "\u001b[1;31mValueError\u001b[0m                                Traceback (most recent call last)",
      "\u001b[1;32m~\\AppData\\Local\\Temp/ipykernel_19304/1902924462.py\u001b[0m in \u001b[0;36m<module>\u001b[1;34m\u001b[0m\n\u001b[1;32m----> 1\u001b[1;33m \u001b[0minf_time_norm\u001b[0m \u001b[1;33m=\u001b[0m \u001b[0mnp\u001b[0m\u001b[1;33m.\u001b[0m\u001b[0marray\u001b[0m\u001b[1;33m(\u001b[0m\u001b[0minf_time\u001b[0m\u001b[1;33m)\u001b[0m\u001b[1;33m/\u001b[0m\u001b[0mmax\u001b[0m\u001b[1;33m(\u001b[0m\u001b[0minf_time\u001b[0m\u001b[1;33m)\u001b[0m\u001b[1;33m\u001b[0m\u001b[1;33m\u001b[0m\u001b[0m\n\u001b[0m\u001b[0;32m      2\u001b[0m \u001b[0mloss_norm\u001b[0m \u001b[1;33m=\u001b[0m \u001b[0mnp\u001b[0m\u001b[1;33m.\u001b[0m\u001b[0marray\u001b[0m\u001b[1;33m(\u001b[0m\u001b[0mloss\u001b[0m\u001b[1;33m)\u001b[0m\u001b[1;33m/\u001b[0m\u001b[0mmax\u001b[0m\u001b[1;33m(\u001b[0m\u001b[0mloss\u001b[0m\u001b[1;33m)\u001b[0m\u001b[1;33m\u001b[0m\u001b[1;33m\u001b[0m\u001b[0m\n\u001b[0;32m      3\u001b[0m \u001b[0mperformance\u001b[0m \u001b[1;33m=\u001b[0m \u001b[1;36m1\u001b[0m\u001b[1;33m/\u001b[0m\u001b[1;33m(\u001b[0m\u001b[0mnp\u001b[0m\u001b[1;33m.\u001b[0m\u001b[0marray\u001b[0m\u001b[1;33m(\u001b[0m\u001b[0mloss\u001b[0m\u001b[1;33m)\u001b[0m\u001b[1;33m*\u001b[0m\u001b[0mnp\u001b[0m\u001b[1;33m.\u001b[0m\u001b[0marray\u001b[0m\u001b[1;33m(\u001b[0m\u001b[0minf_time\u001b[0m\u001b[1;33m)\u001b[0m\u001b[1;33m)\u001b[0m\u001b[1;33m\u001b[0m\u001b[1;33m\u001b[0m\u001b[0m\n\u001b[0;32m      4\u001b[0m \u001b[0mperformance\u001b[0m \u001b[1;33m=\u001b[0m \u001b[0mnp\u001b[0m\u001b[1;33m.\u001b[0m\u001b[0marray\u001b[0m\u001b[1;33m(\u001b[0m\u001b[0mperformance\u001b[0m\u001b[1;33m)\u001b[0m\u001b[1;33m/\u001b[0m\u001b[0mmax\u001b[0m\u001b[1;33m(\u001b[0m\u001b[0mperformance\u001b[0m\u001b[1;33m)\u001b[0m\u001b[1;33m\u001b[0m\u001b[1;33m\u001b[0m\u001b[0m\n",
      "\u001b[1;31mValueError\u001b[0m: max() arg is an empty sequence"
     ]
    }
   ],
   "source": [
    "inf_time_norm = np.array(inf_time)/max(inf_time)\n",
    "loss_norm = np.array(loss)/max(loss)\n",
    "performance = 1/(np.array(loss)*np.array(inf_time))\n",
    "performance = np.array(performance)/max(performance)"
   ]
  },
  {
   "cell_type": "code",
   "execution_count": null,
   "id": "premium-advance",
   "metadata": {},
   "outputs": [],
   "source": [
    "plt.figure()\n",
    "plt.plot(window_len, inf_time_norm, label='Normalized inference time', alpha=0.7)\n",
    "plt.plot(window_len, loss_norm, label='Normalized average MSE', alpha=0.7)\n",
    "plt.plot(window_len, performance, label='Performance=1/(MSE*Time)', alpha=0.7)\n",
    "plt.xlabel(\"Window Size\")\n",
    "plt.legend(loc=1)\n",
    "plt.grid()\n",
    "\n",
    "print(f'Best window inference time={np.argmin(inf_time_norm)} steps, time={\"{:.2f}\".format(np.min(inf_time)*1000)} ms')\n",
    "print(f'Best window MSE loss={np.argmin(loss_norm)} steps, MSE={\"{:.2e}\".format(np.min(loss))}')\n",
    "print(f'Best window Performance (MSExTime)={np.argmax(performance)} steps, Value={\"{:.2e}\".format(np.max(loss)/np.min(inf_time))}')"
   ]
  },
  {
   "cell_type": "code",
   "execution_count": null,
   "id": "contrary-forest",
   "metadata": {},
   "outputs": [],
   "source": [
    "plt.figure()\n",
    "plt.semilogx(window_len, inf_time_norm, label='Normalized inference time', alpha=0.7)\n",
    "plt.semilogx(window_len, loss_norm, label='Normalized average MSE', alpha=0.7)\n",
    "plt.semilogx(window_len, performance, label='Performance=1/(MSE*Time)', alpha=0.7)\n",
    "plt.xlabel(\"Window Size\")\n",
    "plt.legend(loc=1)\n",
    "plt.grid()"
   ]
  },
  {
   "cell_type": "code",
   "execution_count": null,
   "id": "collective-alexandria",
   "metadata": {},
   "outputs": [],
   "source": [
    "session.close()"
   ]
  },
  {
   "cell_type": "code",
   "execution_count": null,
   "id": "f42c55f7",
   "metadata": {},
   "outputs": [],
   "source": []
  },
  {
   "cell_type": "code",
   "execution_count": null,
   "id": "085f6e2e",
   "metadata": {},
   "outputs": [],
   "source": [
    "     "
   ]
  }
 ],
 "metadata": {
  "kernelspec": {
   "display_name": "drone-matlab",
   "language": "python",
   "name": "drone-matlab"
  },
  "language_info": {
   "codemirror_mode": {
    "name": "ipython",
    "version": 3
   },
   "file_extension": ".py",
   "mimetype": "text/x-python",
   "name": "python",
   "nbconvert_exporter": "python",
   "pygments_lexer": "ipython3",
   "version": "3.7.11"
  }
 },
 "nbformat": 4,
 "nbformat_minor": 5
}
