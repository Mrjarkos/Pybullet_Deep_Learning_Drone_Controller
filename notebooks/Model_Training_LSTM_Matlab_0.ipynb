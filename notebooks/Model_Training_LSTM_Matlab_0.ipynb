{
 "cells": [
  {
   "cell_type": "markdown",
   "id": "relevant-director",
   "metadata": {},
   "source": [
    "# Controlador de vuelo para vehículos aéreos no tripulados multi-rotor basado en técnicas de aprendizaje profundo\n",
    "\n",
    "## Entrenamiento Red LSTM\n",
    "\n",
    "### Javier Cárdenas - Uriel Carrero"
   ]
  },
  {
   "cell_type": "markdown",
   "id": "binary-dodge",
   "metadata": {},
   "source": [
    "## 1. Descripción del Dataset"
   ]
  },
  {
   "cell_type": "markdown",
   "id": "korean-absorption",
   "metadata": {},
   "source": [
    "#### Importar Librerías"
   ]
  },
  {
   "cell_type": "code",
   "execution_count": 1,
   "id": "formal-genetics",
   "metadata": {},
   "outputs": [
    {
     "data": {
      "text/plain": [
       "{'divide': 'warn', 'over': 'warn', 'under': 'ignore', 'invalid': 'warn'}"
      ]
     },
     "execution_count": 1,
     "metadata": {},
     "output_type": "execute_result"
    }
   ],
   "source": [
    "import os\n",
    "import sys\n",
    "import random\n",
    "import csv\n",
    "\n",
    "import matplotlib.pyplot as plt     # Gráficos\n",
    "import pandas as pd\n",
    "pd.set_option('display.max_columns', None) #Para mostrar todas las columnas\n",
    "\n",
    "import numpy as np                  # Cómputo Numérico\n",
    "seed = 5\n",
    "np.random.seed(seed)\n",
    "np.seterr(divide = 'ignore')"
   ]
  },
  {
   "cell_type": "code",
   "execution_count": null,
   "id": "385b50eb",
   "metadata": {},
   "outputs": [],
   "source": []
  },
  {
   "cell_type": "code",
   "execution_count": 2,
   "id": "trained-source",
   "metadata": {},
   "outputs": [
    {
     "name": "stdout",
     "output_type": "stream",
     "text": [
      "2.5.0\n"
     ]
    },
    {
     "ename": "AssertionError",
     "evalue": "Versión incorrecta de Tensorflow, por favor instale 2.2.3r",
     "output_type": "error",
     "traceback": [
      "\u001b[1;31m---------------------------------------------------------------------------\u001b[0m",
      "\u001b[1;31mAssertionError\u001b[0m                            Traceback (most recent call last)",
      "\u001b[1;32m<ipython-input-2-e53a4db9dd7e>\u001b[0m in \u001b[0;36m<module>\u001b[1;34m\u001b[0m\n\u001b[0;32m      1\u001b[0m \u001b[1;32mimport\u001b[0m \u001b[0mtensorflow\u001b[0m \u001b[1;32mas\u001b[0m \u001b[0mtf\u001b[0m\u001b[1;33m\u001b[0m\u001b[1;33m\u001b[0m\u001b[0m\n\u001b[0;32m      2\u001b[0m \u001b[0mprint\u001b[0m\u001b[1;33m(\u001b[0m\u001b[0mtf\u001b[0m\u001b[1;33m.\u001b[0m\u001b[0m__version__\u001b[0m\u001b[1;33m)\u001b[0m\u001b[1;33m\u001b[0m\u001b[1;33m\u001b[0m\u001b[0m\n\u001b[1;32m----> 3\u001b[1;33m \u001b[1;32massert\u001b[0m \u001b[1;33m(\u001b[0m\u001b[0mtf\u001b[0m\u001b[1;33m.\u001b[0m\u001b[0m__version__\u001b[0m\u001b[1;33m==\u001b[0m\u001b[1;34m'2.2.3'\u001b[0m\u001b[1;33m)\u001b[0m\u001b[1;33m,\u001b[0m \u001b[1;34m'Versión incorrecta de Tensorflow, por favor instale 2.2.3r'\u001b[0m\u001b[1;33m\u001b[0m\u001b[1;33m\u001b[0m\u001b[0m\n\u001b[0m\u001b[0;32m      4\u001b[0m \u001b[1;31m#assert (tf.__version__=='2.4.1'), 'Versión incorrecta de Tensorflow, por favor instale 2.4.1'\u001b[0m\u001b[1;33m\u001b[0m\u001b[1;33m\u001b[0m\u001b[1;33m\u001b[0m\u001b[0m\n\u001b[0;32m      5\u001b[0m \u001b[0mprint\u001b[0m\u001b[1;33m(\u001b[0m\u001b[1;34m\"Num GPUs Available: \"\u001b[0m\u001b[1;33m,\u001b[0m \u001b[0mlen\u001b[0m\u001b[1;33m(\u001b[0m\u001b[0mtf\u001b[0m\u001b[1;33m.\u001b[0m\u001b[0mconfig\u001b[0m\u001b[1;33m.\u001b[0m\u001b[0mlist_physical_devices\u001b[0m\u001b[1;33m(\u001b[0m\u001b[1;34m'GPU'\u001b[0m\u001b[1;33m)\u001b[0m\u001b[1;33m)\u001b[0m\u001b[1;33m)\u001b[0m\u001b[1;33m\u001b[0m\u001b[1;33m\u001b[0m\u001b[0m\n",
      "\u001b[1;31mAssertionError\u001b[0m: Versión incorrecta de Tensorflow, por favor instale 2.2.3r"
     ]
    }
   ],
   "source": [
    "import tensorflow as tf\n",
    "print(tf.__version__)\n",
    "assert (tf.__version__=='2.2.3'), 'Versión incorrecta de Tensorflow, por favor instale 2.2.3r'\n",
    "#assert (tf.__version__=='2.4.1'), 'Versión incorrecta de Tensorflow, por favor instale 2.4.1'\n",
    "print(\"Num GPUs Available: \", len(tf.config.list_physical_devices('GPU')))\n",
    "\n",
    "from tensorflow.compat.v1 import ConfigProto\n",
    "from tensorflow.compat.v1 import InteractiveSession\n",
    "import keras as kr\n",
    "from tensorflow.keras import models, layers\n",
    "\n",
    "from sklearn.utils import shuffle\n",
    "from sklearn.model_selection import train_test_split\n",
    "\n",
    "from IPython.display import clear_output"
   ]
  },
  {
   "cell_type": "code",
   "execution_count": 1,
   "id": "changing-chain",
   "metadata": {},
   "outputs": [
    {
     "ename": "NameError",
     "evalue": "name 'tf' is not defined",
     "output_type": "error",
     "traceback": [
      "\u001b[1;31m---------------------------------------------------------------------------\u001b[0m",
      "\u001b[1;31mNameError\u001b[0m                                 Traceback (most recent call last)",
      "\u001b[1;32m<ipython-input-1-9e8e875205b4>\u001b[0m in \u001b[0;36m<module>\u001b[1;34m\u001b[0m\n\u001b[1;32m----> 1\u001b[1;33m \u001b[0mgpus\u001b[0m \u001b[1;33m=\u001b[0m \u001b[0mtf\u001b[0m\u001b[1;33m.\u001b[0m\u001b[0mconfig\u001b[0m\u001b[1;33m.\u001b[0m\u001b[0mlist_physical_devices\u001b[0m\u001b[1;33m(\u001b[0m\u001b[1;34m'GPU'\u001b[0m\u001b[1;33m)\u001b[0m\u001b[1;33m\u001b[0m\u001b[1;33m\u001b[0m\u001b[0m\n\u001b[0m\u001b[0;32m      2\u001b[0m \u001b[0mconfig\u001b[0m \u001b[1;33m=\u001b[0m \u001b[0mConfigProto\u001b[0m\u001b[1;33m(\u001b[0m\u001b[1;33m)\u001b[0m\u001b[1;33m\u001b[0m\u001b[1;33m\u001b[0m\u001b[0m\n\u001b[0;32m      3\u001b[0m \u001b[1;32mif\u001b[0m \u001b[0mgpus\u001b[0m\u001b[1;33m:\u001b[0m\u001b[1;33m\u001b[0m\u001b[1;33m\u001b[0m\u001b[0m\n\u001b[0;32m      4\u001b[0m     \u001b[1;32mtry\u001b[0m\u001b[1;33m:\u001b[0m\u001b[1;33m\u001b[0m\u001b[1;33m\u001b[0m\u001b[0m\n\u001b[0;32m      5\u001b[0m         \u001b[0mconfig\u001b[0m\u001b[1;33m.\u001b[0m\u001b[0mgpu_options\u001b[0m\u001b[1;33m.\u001b[0m\u001b[0mallow_growth\u001b[0m \u001b[1;33m=\u001b[0m \u001b[1;32mTrue\u001b[0m\u001b[1;33m\u001b[0m\u001b[1;33m\u001b[0m\u001b[0m\n",
      "\u001b[1;31mNameError\u001b[0m: name 'tf' is not defined"
     ]
    }
   ],
   "source": [
    "gpus = tf.config.list_physical_devices('GPU')\n",
    "config = ConfigProto()\n",
    "if gpus:\n",
    "    try:\n",
    "        config.gpu_options.allow_growth = True\n",
    "        tf.compat.v1.enable_eager_execution()\n",
    "\n",
    "        os.environ[\"TF_CPP_MIN_LOG_LEVEL\"] = \"2\"\n",
    "        # Currently, memory growth needs to be the same across GPUs\n",
    "        for gpu in gpus:\n",
    "            tf.config.experimental.set_memory_growth(gpu, True)\n",
    "        logical_gpus = tf.config.experimental.list_logical_devices('GPU')\n",
    "        print(len(gpus), \"Physical GPUs,\", len(logical_gpus), \"Logical GPUs\")\n",
    "    except RuntimeError as e:\n",
    "        # Memory growth must be set before GPUs have been initialized\n",
    "        print(e)\n",
    "session = InteractiveSession(config=config)"
   ]
  },
  {
   "cell_type": "code",
   "execution_count": 4,
   "id": "northern-shame",
   "metadata": {},
   "outputs": [],
   "source": [
    "import gc #garbage collector\n",
    "import gc; gc.enable()"
   ]
  },
  {
   "cell_type": "markdown",
   "id": "offensive-chambers",
   "metadata": {},
   "source": [
    "## Cargar Datos"
   ]
  },
  {
   "cell_type": "markdown",
   "id": "combined-generic",
   "metadata": {},
   "source": [
    "### Leemos el Dataset"
   ]
  },
  {
   "cell_type": "code",
   "execution_count": 5,
   "id": "continental-wheat",
   "metadata": {},
   "outputs": [],
   "source": [
    "root = '../logs/Datasets/'\n",
    "dataset_name = 'DatasetXYZ_Matlab'\n",
    "rootdir = root+dataset_name\n",
    "ext_csv = True\n",
    "if not os.path.exists(rootdir):\n",
    "    print(f\"{rootdir} not exist\")\n",
    "if ext_csv:\n",
    "    # Colocar la extensión csv porque ajá\n",
    "    for filename in os.listdir(rootdir):\n",
    "        if not filename.endswith(\".csv\"):\n",
    "            os.rename(f'{rootdir}/{filename}',f'{directory}/{filename+\".csv\"}')"
   ]
  },
  {
   "cell_type": "code",
   "execution_count": 6,
   "id": "given-relative",
   "metadata": {},
   "outputs": [],
   "source": [
    "df = pd.read_csv(os.path.join(rootdir, random.choice(os.listdir(rootdir))))\n",
    "delete_list =['Time', 'Bat_V','Bat_Percentage','P_r', 'Q_r', 'R_r', 'Flag_Pitch_Roll','Ac_Dx', 'Ac_Dy', 'Ac_Dz','Sonar Altitud','Pressure Altitud', 'Acceleracion P', 'Acceleracion Q', 'Acceleracion R']+['Yaw_r', 'Pitch_r','Roll_r']\n",
    "df_list = df.columns.to_list()\n",
    "rpm_list = [i for i in df_list if (\"Motor\" in i)]\n",
    "states_list = [i for i in df_list if not ((i in delete_list) or (i in rpm_list))]"
   ]
  },
  {
   "cell_type": "code",
   "execution_count": 7,
   "id": "thermal-weight",
   "metadata": {},
   "outputs": [],
   "source": [
    "df_desc = []\n",
    "for filename in os.listdir(rootdir):\n",
    "    if not filename.endswith(\".csv\"):\n",
    "        continue\n",
    "    df = pd.read_csv(os.path.join(rootdir, filename))\n",
    "    df =  df.drop(delete_list, axis=1)\n",
    "    df_desc.append(df)\n",
    "df_desc = pd.concat(df_desc)\n",
    "df_desc = df_desc.describe()"
   ]
  },
  {
   "cell_type": "code",
   "execution_count": 8,
   "id": "primary-variable",
   "metadata": {},
   "outputs": [],
   "source": [
    "dataset = []\n",
    "for filename in os.listdir(rootdir):\n",
    "    if not filename.endswith(\".csv\"):\n",
    "        continue\n",
    "        \n",
    "    df = pd.read_csv(os.path.join(rootdir, filename))\n",
    "    df =  df.drop(delete_list, axis=1)\n",
    "    x = df.drop(rpm_list, axis=1)\n",
    "    y = df.drop(states_list, axis=1)\n",
    "    dataset.append([x, y])\n",
    "\n",
    "df = None\n",
    "x = None\n",
    "y= None"
   ]
  },
  {
   "cell_type": "markdown",
   "id": "metric-sierra",
   "metadata": {},
   "source": [
    "#### Descripton del dataset "
   ]
  },
  {
   "cell_type": "code",
   "execution_count": 9,
   "id": "recognized-librarian",
   "metadata": {},
   "outputs": [
    {
     "data": {
      "text/html": [
       "<div>\n",
       "<style scoped>\n",
       "    .dataframe tbody tr th:only-of-type {\n",
       "        vertical-align: middle;\n",
       "    }\n",
       "\n",
       "    .dataframe tbody tr th {\n",
       "        vertical-align: top;\n",
       "    }\n",
       "\n",
       "    .dataframe thead th {\n",
       "        text-align: right;\n",
       "    }\n",
       "</style>\n",
       "<table border=\"1\" class=\"dataframe\">\n",
       "  <thead>\n",
       "    <tr style=\"text-align: right;\">\n",
       "      <th></th>\n",
       "      <th>X</th>\n",
       "      <th>Y</th>\n",
       "      <th>Z</th>\n",
       "      <th>Yaw</th>\n",
       "      <th>Roll</th>\n",
       "      <th>Pitch</th>\n",
       "      <th>Dx</th>\n",
       "      <th>Dy</th>\n",
       "      <th>Dz</th>\n",
       "      <th>P</th>\n",
       "      <th>Q</th>\n",
       "      <th>R</th>\n",
       "      <th>Motor1</th>\n",
       "      <th>Motor2</th>\n",
       "      <th>Motor3</th>\n",
       "      <th>Motor4</th>\n",
       "      <th>X_r</th>\n",
       "      <th>Y_r</th>\n",
       "      <th>Z_r</th>\n",
       "      <th>Dx_r</th>\n",
       "      <th>Dy_r</th>\n",
       "      <th>Dz_r</th>\n",
       "      <th>Gyro P</th>\n",
       "      <th>Gyro Q</th>\n",
       "      <th>Gyro R</th>\n",
       "      <th>Acceleracion X</th>\n",
       "      <th>Acceleracion Y</th>\n",
       "      <th>Acceleracion Z</th>\n",
       "    </tr>\n",
       "  </thead>\n",
       "  <tbody>\n",
       "    <tr>\n",
       "      <th>count</th>\n",
       "      <td>2.472712e+06</td>\n",
       "      <td>2.472712e+06</td>\n",
       "      <td>2.472712e+06</td>\n",
       "      <td>2.472712e+06</td>\n",
       "      <td>2.472712e+06</td>\n",
       "      <td>2.472712e+06</td>\n",
       "      <td>2.472712e+06</td>\n",
       "      <td>2.472712e+06</td>\n",
       "      <td>2.472712e+06</td>\n",
       "      <td>2.472712e+06</td>\n",
       "      <td>2.472712e+06</td>\n",
       "      <td>2.472712e+06</td>\n",
       "      <td>2.472712e+06</td>\n",
       "      <td>2.472712e+06</td>\n",
       "      <td>2.472712e+06</td>\n",
       "      <td>2.472712e+06</td>\n",
       "      <td>2.472712e+06</td>\n",
       "      <td>2.472712e+06</td>\n",
       "      <td>2.472712e+06</td>\n",
       "      <td>2.472712e+06</td>\n",
       "      <td>2.472712e+06</td>\n",
       "      <td>2.472712e+06</td>\n",
       "      <td>2.472712e+06</td>\n",
       "      <td>2.472712e+06</td>\n",
       "      <td>2.472712e+06</td>\n",
       "      <td>2.472712e+06</td>\n",
       "      <td>2.472712e+06</td>\n",
       "      <td>2.472712e+06</td>\n",
       "    </tr>\n",
       "    <tr>\n",
       "      <th>mean</th>\n",
       "      <td>9.833495e-03</td>\n",
       "      <td>-1.556140e-02</td>\n",
       "      <td>-1.542378e+00</td>\n",
       "      <td>-9.508851e-06</td>\n",
       "      <td>1.432449e-04</td>\n",
       "      <td>1.753021e-05</td>\n",
       "      <td>9.774424e-06</td>\n",
       "      <td>-1.245464e-04</td>\n",
       "      <td>-4.519551e-03</td>\n",
       "      <td>1.253656e-06</td>\n",
       "      <td>-1.777626e-06</td>\n",
       "      <td>1.018388e-05</td>\n",
       "      <td>2.364944e+02</td>\n",
       "      <td>-2.365144e+02</td>\n",
       "      <td>2.365036e+02</td>\n",
       "      <td>-2.365019e+02</td>\n",
       "      <td>9.762597e-03</td>\n",
       "      <td>-1.502060e-02</td>\n",
       "      <td>-1.533722e+00</td>\n",
       "      <td>7.279467e-06</td>\n",
       "      <td>-1.302214e-04</td>\n",
       "      <td>-1.351343e-02</td>\n",
       "      <td>-9.498748e-03</td>\n",
       "      <td>-7.501789e-03</td>\n",
       "      <td>1.510228e-03</td>\n",
       "      <td>-6.456851e-06</td>\n",
       "      <td>-4.945169e-05</td>\n",
       "      <td>-1.645668e-04</td>\n",
       "    </tr>\n",
       "    <tr>\n",
       "      <th>std</th>\n",
       "      <td>1.379407e-01</td>\n",
       "      <td>8.393116e-02</td>\n",
       "      <td>3.145502e-01</td>\n",
       "      <td>5.378968e-04</td>\n",
       "      <td>1.141644e-02</td>\n",
       "      <td>1.303408e-02</td>\n",
       "      <td>1.356381e-01</td>\n",
       "      <td>8.550414e-02</td>\n",
       "      <td>2.887440e-01</td>\n",
       "      <td>3.807025e-02</td>\n",
       "      <td>7.550894e-02</td>\n",
       "      <td>2.879643e-03</td>\n",
       "      <td>2.358383e+01</td>\n",
       "      <td>2.358397e+01</td>\n",
       "      <td>2.356496e+01</td>\n",
       "      <td>2.357689e+01</td>\n",
       "      <td>1.350825e-01</td>\n",
       "      <td>7.629898e-02</td>\n",
       "      <td>3.142020e-01</td>\n",
       "      <td>3.893195e-01</td>\n",
       "      <td>1.227141e-01</td>\n",
       "      <td>6.133520e+00</td>\n",
       "      <td>3.801734e-02</td>\n",
       "      <td>7.599522e-02</td>\n",
       "      <td>3.004052e-03</td>\n",
       "      <td>9.442529e-01</td>\n",
       "      <td>5.763878e-01</td>\n",
       "      <td>9.736049e-01</td>\n",
       "    </tr>\n",
       "    <tr>\n",
       "      <th>min</th>\n",
       "      <td>-1.391956e+00</td>\n",
       "      <td>-8.611585e-01</td>\n",
       "      <td>-3.318702e+00</td>\n",
       "      <td>-2.592636e-02</td>\n",
       "      <td>-1.766435e-01</td>\n",
       "      <td>-2.735551e-01</td>\n",
       "      <td>-3.435130e+00</td>\n",
       "      <td>-1.698784e+00</td>\n",
       "      <td>-4.524404e+00</td>\n",
       "      <td>-3.677774e+00</td>\n",
       "      <td>-2.278249e+00</td>\n",
       "      <td>-3.157852e-01</td>\n",
       "      <td>1.000000e+01</td>\n",
       "      <td>-4.613083e+02</td>\n",
       "      <td>1.000000e+01</td>\n",
       "      <td>-4.609848e+02</td>\n",
       "      <td>-1.230000e+00</td>\n",
       "      <td>-4.900000e-01</td>\n",
       "      <td>-2.774623e+00</td>\n",
       "      <td>-9.799999e+01</td>\n",
       "      <td>-7.400000e+01</td>\n",
       "      <td>-4.000000e+02</td>\n",
       "      <td>-3.682162e+00</td>\n",
       "      <td>-2.300421e+00</td>\n",
       "      <td>-3.116516e-01</td>\n",
       "      <td>-7.791275e+01</td>\n",
       "      <td>-1.226203e+02</td>\n",
       "      <td>-1.017578e+01</td>\n",
       "    </tr>\n",
       "    <tr>\n",
       "      <th>25%</th>\n",
       "      <td>-1.115418e-03</td>\n",
       "      <td>-3.061521e-03</td>\n",
       "      <td>-1.685227e+00</td>\n",
       "      <td>-1.774179e-05</td>\n",
       "      <td>-3.816560e-04</td>\n",
       "      <td>-3.025844e-04</td>\n",
       "      <td>-9.488551e-04</td>\n",
       "      <td>-3.165745e-03</td>\n",
       "      <td>-7.397021e-03</td>\n",
       "      <td>-1.921744e-03</td>\n",
       "      <td>-1.464281e-03</td>\n",
       "      <td>-9.217942e-04</td>\n",
       "      <td>2.356213e+02</td>\n",
       "      <td>-2.374752e+02</td>\n",
       "      <td>2.356235e+02</td>\n",
       "      <td>-2.374746e+02</td>\n",
       "      <td>0.000000e+00</td>\n",
       "      <td>0.000000e+00</td>\n",
       "      <td>-1.682275e+00</td>\n",
       "      <td>0.000000e+00</td>\n",
       "      <td>0.000000e+00</td>\n",
       "      <td>0.000000e+00</td>\n",
       "      <td>-1.141907e-02</td>\n",
       "      <td>-8.973711e-03</td>\n",
       "      <td>4.131773e-04</td>\n",
       "      <td>-1.010835e-02</td>\n",
       "      <td>-2.937366e-02</td>\n",
       "      <td>-1.166622e-01</td>\n",
       "    </tr>\n",
       "    <tr>\n",
       "      <th>50%</th>\n",
       "      <td>8.662618e-05</td>\n",
       "      <td>-6.380662e-04</td>\n",
       "      <td>-1.501099e+00</td>\n",
       "      <td>-1.657218e-07</td>\n",
       "      <td>1.142368e-04</td>\n",
       "      <td>9.260539e-06</td>\n",
       "      <td>-1.982498e-05</td>\n",
       "      <td>-6.900027e-06</td>\n",
       "      <td>3.641400e-04</td>\n",
       "      <td>1.972023e-06</td>\n",
       "      <td>-3.284808e-06</td>\n",
       "      <td>-2.365821e-06</td>\n",
       "      <td>2.365394e+02</td>\n",
       "      <td>-2.365381e+02</td>\n",
       "      <td>2.365418e+02</td>\n",
       "      <td>-2.365374e+02</td>\n",
       "      <td>0.000000e+00</td>\n",
       "      <td>0.000000e+00</td>\n",
       "      <td>-1.500000e+00</td>\n",
       "      <td>0.000000e+00</td>\n",
       "      <td>0.000000e+00</td>\n",
       "      <td>0.000000e+00</td>\n",
       "      <td>-9.498030e-03</td>\n",
       "      <td>-7.503306e-03</td>\n",
       "      <td>1.504728e-03</td>\n",
       "      <td>0.000000e+00</td>\n",
       "      <td>0.000000e+00</td>\n",
       "      <td>-5.827053e-04</td>\n",
       "    </tr>\n",
       "    <tr>\n",
       "      <th>75%</th>\n",
       "      <td>1.281199e-03</td>\n",
       "      <td>1.094484e-03</td>\n",
       "      <td>-1.428414e+00</td>\n",
       "      <td>1.793741e-05</td>\n",
       "      <td>6.739650e-04</td>\n",
       "      <td>2.987884e-04</td>\n",
       "      <td>9.320468e-04</td>\n",
       "      <td>3.195953e-03</td>\n",
       "      <td>7.929627e-03</td>\n",
       "      <td>1.931848e-03</td>\n",
       "      <td>1.451934e-03</td>\n",
       "      <td>9.227290e-04</td>\n",
       "      <td>2.374221e+02</td>\n",
       "      <td>-2.355701e+02</td>\n",
       "      <td>2.374210e+02</td>\n",
       "      <td>-2.355679e+02</td>\n",
       "      <td>0.000000e+00</td>\n",
       "      <td>0.000000e+00</td>\n",
       "      <td>-1.410000e+00</td>\n",
       "      <td>0.000000e+00</td>\n",
       "      <td>0.000000e+00</td>\n",
       "      <td>0.000000e+00</td>\n",
       "      <td>-7.570837e-03</td>\n",
       "      <td>-6.038715e-03</td>\n",
       "      <td>2.587983e-03</td>\n",
       "      <td>1.001506e-02</td>\n",
       "      <td>2.907393e-02</td>\n",
       "      <td>1.149229e-01</td>\n",
       "    </tr>\n",
       "    <tr>\n",
       "      <th>max</th>\n",
       "      <td>1.304069e+00</td>\n",
       "      <td>7.688133e-01</td>\n",
       "      <td>-4.311047e-02</td>\n",
       "      <td>2.609694e-02</td>\n",
       "      <td>1.636863e-01</td>\n",
       "      <td>2.819031e-01</td>\n",
       "      <td>3.232185e+00</td>\n",
       "      <td>1.410892e+00</td>\n",
       "      <td>3.718756e+00</td>\n",
       "      <td>3.680140e+00</td>\n",
       "      <td>3.494434e+00</td>\n",
       "      <td>1.693936e-01</td>\n",
       "      <td>4.609845e+02</td>\n",
       "      <td>-1.000000e+01</td>\n",
       "      <td>4.611932e+02</td>\n",
       "      <td>-1.000000e+01</td>\n",
       "      <td>1.120000e+00</td>\n",
       "      <td>2.200000e-01</td>\n",
       "      <td>0.000000e+00</td>\n",
       "      <td>9.600000e+01</td>\n",
       "      <td>8.600000e+01</td>\n",
       "      <td>3.807929e+02</td>\n",
       "      <td>3.665524e+00</td>\n",
       "      <td>3.509438e+00</td>\n",
       "      <td>1.732130e-01</td>\n",
       "      <td>1.157938e+02</td>\n",
       "      <td>1.021483e+02</td>\n",
       "      <td>1.456204e+01</td>\n",
       "    </tr>\n",
       "  </tbody>\n",
       "</table>\n",
       "</div>"
      ],
      "text/plain": [
       "                  X             Y             Z           Yaw          Roll  \\\n",
       "count  2.472712e+06  2.472712e+06  2.472712e+06  2.472712e+06  2.472712e+06   \n",
       "mean   9.833495e-03 -1.556140e-02 -1.542378e+00 -9.508851e-06  1.432449e-04   \n",
       "std    1.379407e-01  8.393116e-02  3.145502e-01  5.378968e-04  1.141644e-02   \n",
       "min   -1.391956e+00 -8.611585e-01 -3.318702e+00 -2.592636e-02 -1.766435e-01   \n",
       "25%   -1.115418e-03 -3.061521e-03 -1.685227e+00 -1.774179e-05 -3.816560e-04   \n",
       "50%    8.662618e-05 -6.380662e-04 -1.501099e+00 -1.657218e-07  1.142368e-04   \n",
       "75%    1.281199e-03  1.094484e-03 -1.428414e+00  1.793741e-05  6.739650e-04   \n",
       "max    1.304069e+00  7.688133e-01 -4.311047e-02  2.609694e-02  1.636863e-01   \n",
       "\n",
       "              Pitch            Dx            Dy            Dz             P  \\\n",
       "count  2.472712e+06  2.472712e+06  2.472712e+06  2.472712e+06  2.472712e+06   \n",
       "mean   1.753021e-05  9.774424e-06 -1.245464e-04 -4.519551e-03  1.253656e-06   \n",
       "std    1.303408e-02  1.356381e-01  8.550414e-02  2.887440e-01  3.807025e-02   \n",
       "min   -2.735551e-01 -3.435130e+00 -1.698784e+00 -4.524404e+00 -3.677774e+00   \n",
       "25%   -3.025844e-04 -9.488551e-04 -3.165745e-03 -7.397021e-03 -1.921744e-03   \n",
       "50%    9.260539e-06 -1.982498e-05 -6.900027e-06  3.641400e-04  1.972023e-06   \n",
       "75%    2.987884e-04  9.320468e-04  3.195953e-03  7.929627e-03  1.931848e-03   \n",
       "max    2.819031e-01  3.232185e+00  1.410892e+00  3.718756e+00  3.680140e+00   \n",
       "\n",
       "                  Q             R        Motor1        Motor2        Motor3  \\\n",
       "count  2.472712e+06  2.472712e+06  2.472712e+06  2.472712e+06  2.472712e+06   \n",
       "mean  -1.777626e-06  1.018388e-05  2.364944e+02 -2.365144e+02  2.365036e+02   \n",
       "std    7.550894e-02  2.879643e-03  2.358383e+01  2.358397e+01  2.356496e+01   \n",
       "min   -2.278249e+00 -3.157852e-01  1.000000e+01 -4.613083e+02  1.000000e+01   \n",
       "25%   -1.464281e-03 -9.217942e-04  2.356213e+02 -2.374752e+02  2.356235e+02   \n",
       "50%   -3.284808e-06 -2.365821e-06  2.365394e+02 -2.365381e+02  2.365418e+02   \n",
       "75%    1.451934e-03  9.227290e-04  2.374221e+02 -2.355701e+02  2.374210e+02   \n",
       "max    3.494434e+00  1.693936e-01  4.609845e+02 -1.000000e+01  4.611932e+02   \n",
       "\n",
       "             Motor4           X_r           Y_r           Z_r          Dx_r  \\\n",
       "count  2.472712e+06  2.472712e+06  2.472712e+06  2.472712e+06  2.472712e+06   \n",
       "mean  -2.365019e+02  9.762597e-03 -1.502060e-02 -1.533722e+00  7.279467e-06   \n",
       "std    2.357689e+01  1.350825e-01  7.629898e-02  3.142020e-01  3.893195e-01   \n",
       "min   -4.609848e+02 -1.230000e+00 -4.900000e-01 -2.774623e+00 -9.799999e+01   \n",
       "25%   -2.374746e+02  0.000000e+00  0.000000e+00 -1.682275e+00  0.000000e+00   \n",
       "50%   -2.365374e+02  0.000000e+00  0.000000e+00 -1.500000e+00  0.000000e+00   \n",
       "75%   -2.355679e+02  0.000000e+00  0.000000e+00 -1.410000e+00  0.000000e+00   \n",
       "max   -1.000000e+01  1.120000e+00  2.200000e-01  0.000000e+00  9.600000e+01   \n",
       "\n",
       "               Dy_r          Dz_r        Gyro P        Gyro Q        Gyro R  \\\n",
       "count  2.472712e+06  2.472712e+06  2.472712e+06  2.472712e+06  2.472712e+06   \n",
       "mean  -1.302214e-04 -1.351343e-02 -9.498748e-03 -7.501789e-03  1.510228e-03   \n",
       "std    1.227141e-01  6.133520e+00  3.801734e-02  7.599522e-02  3.004052e-03   \n",
       "min   -7.400000e+01 -4.000000e+02 -3.682162e+00 -2.300421e+00 -3.116516e-01   \n",
       "25%    0.000000e+00  0.000000e+00 -1.141907e-02 -8.973711e-03  4.131773e-04   \n",
       "50%    0.000000e+00  0.000000e+00 -9.498030e-03 -7.503306e-03  1.504728e-03   \n",
       "75%    0.000000e+00  0.000000e+00 -7.570837e-03 -6.038715e-03  2.587983e-03   \n",
       "max    8.600000e+01  3.807929e+02  3.665524e+00  3.509438e+00  1.732130e-01   \n",
       "\n",
       "       Acceleracion X  Acceleracion Y  Acceleracion Z  \n",
       "count    2.472712e+06    2.472712e+06    2.472712e+06  \n",
       "mean    -6.456851e-06   -4.945169e-05   -1.645668e-04  \n",
       "std      9.442529e-01    5.763878e-01    9.736049e-01  \n",
       "min     -7.791275e+01   -1.226203e+02   -1.017578e+01  \n",
       "25%     -1.010835e-02   -2.937366e-02   -1.166622e-01  \n",
       "50%      0.000000e+00    0.000000e+00   -5.827053e-04  \n",
       "75%      1.001506e-02    2.907393e-02    1.149229e-01  \n",
       "max      1.157938e+02    1.021483e+02    1.456204e+01  "
      ]
     },
     "execution_count": 9,
     "metadata": {},
     "output_type": "execute_result"
    }
   ],
   "source": [
    "df_desc.to_csv('data_description.csv', index=False)\n",
    "df_desc"
   ]
  },
  {
   "cell_type": "markdown",
   "id": "earlier-reasoning",
   "metadata": {},
   "source": [
    "Conteo de longitud de trayectorias"
   ]
  },
  {
   "cell_type": "code",
   "execution_count": 10,
   "id": "running-corrections",
   "metadata": {},
   "outputs": [
    {
     "name": "stdout",
     "output_type": "stream",
     "text": [
      "{20001: 44, 23201: 48, 42201: 10, 3001: 1, 4401: 1, 6201: 8}\n"
     ]
    },
    {
     "data": {
      "image/png": "[encoded data removed]",
      "text/plain": [
       "<Figure size 432x288 with 1 Axes>"
      ]
     },
     "metadata": {
      "needs_background": "light"
     },
     "output_type": "display_data"
    }
   ],
   "source": [
    "class Counter:\n",
    "    def __init__(self):\n",
    "        self.dict = {}\n",
    "    def add(self, item):\n",
    "        count = self.dict.get(item, 0)\n",
    "        self.dict[item] = count + 1\n",
    "        \n",
    "    def counts(self, desc=None):\n",
    "        result = [(val, key) for key, val in self.dict.items()]\n",
    "        result.sort()\n",
    "        if desc: result.reverse()\n",
    "        print(self.dict)\n",
    "        return result\n",
    "    \n",
    "    def mean(self):\n",
    "        result = [val*key for key, val in self.dict.items()]\n",
    "        return sum(result)/len(result)\n",
    "    \n",
    "    def total(self):\n",
    "        result = [val*key for key, val in self.dict.items()]\n",
    "        return sum(result)\n",
    "\n",
    "c = Counter()\n",
    "for data in dataset:\n",
    "    x, _ = data\n",
    "    c.add(len(x))\n",
    "c_hist = c.counts(desc=True)\n",
    "\n",
    "x = []\n",
    "y = [] \n",
    "for i in c_hist:\n",
    "    x.append(str(i[1]))\n",
    "    y.append(i[0])\n",
    "\n",
    "plt.bar(x, y, width = 0.8)\n",
    "plt.title('Number of steps per trayectory')\n",
    "plt.xlabel('N steps per trajectory')\n",
    "plt.ylabel('count')\n",
    "plt.show()"
   ]
  },
  {
   "cell_type": "code",
   "execution_count": 11,
   "id": "operating-plenty",
   "metadata": {},
   "outputs": [],
   "source": [
    "df = pd.read_csv(os.path.join(rootdir, random.choice(os.listdir(rootdir))))\n",
    "Ts = df['Time'].to_list()[1]-df['Time'].to_list()[0]    # Sample Time\n",
    "T = df['Time'].to_list()[-1]-df['Time'].to_list()[0]    # Signal Duration\n",
    "N = c.mean()                                   # Average Number of Samples\n",
    "df = None"
   ]
  },
  {
   "cell_type": "code",
   "execution_count": 12,
   "id": "flying-violence",
   "metadata": {},
   "outputs": [
    {
     "name": "stdout",
     "output_type": "stream",
     "text": [
      "Dataset Size: 0.46735382080078125 GB\n",
      "Dataset len: 112 Signals\n",
      "Inputs len: 24, Inputs: ['X', 'Y', 'Z', 'Yaw', 'Roll', 'Pitch', 'Dx', 'Dy', 'Dz', 'P', 'Q', 'R', 'X_r', 'Y_r', 'Z_r', 'Dx_r', 'Dy_r', 'Dz_r', 'Gyro P', 'Gyro Q', 'Gyro R', 'Acceleracion X', 'Acceleracion Y', 'Acceleracion Z']\n",
      "Outputs len: 4, Outputs: ['Motor1', 'Motor2', 'Motor3', 'Motor4']\n",
      "Sample Time: 5.00 ms, Sample Freq: 200.00 Hz\n",
      "Time Signal Duration: 116.00\n",
      "Number of Samples per Signal: 412119\n",
      "Number of Samples: 2472712\n"
     ]
    }
   ],
   "source": [
    "print(f'Dataset Size: {( ( (sys.getsizeof(dataset[0][0])+sys.getsizeof(dataset[0][1])) *len(dataset)/1024) /1024)/1024} GB')\n",
    "print(f'Dataset len: {len(dataset)} Signals')\n",
    "print(f'Inputs len: {len(states_list)}, Inputs: {states_list}')\n",
    "print(f'Outputs len: {len(rpm_list)}, Outputs: {rpm_list}')\n",
    "print(f'Sample Time: {\"{:.2f}\".format(Ts*1000)} ms, Sample Freq: {\"{:.2f}\".format(1/Ts)} Hz')\n",
    "print(f'Time Signal Duration: {\"{:.2f}\".format(T)}')\n",
    "print(f'Number of Samples per Signal: {\"{:.0f}\".format(N)}')\n",
    "print(f'Number of Samples: {\"{:.0f}\".format(c.total())}')"
   ]
  },
  {
   "cell_type": "markdown",
   "id": "signal-fireplace",
   "metadata": {},
   "source": [
    "#### Normalización de Estados (Entradas) y Acciones (Salidas)"
   ]
  },
  {
   "cell_type": "code",
   "execution_count": 13,
   "id": "commercial-asian",
   "metadata": {},
   "outputs": [],
   "source": [
    "def Norm(df, df_desc):\n",
    "    for prop in list(df.columns):\n",
    "        try:\n",
    "            df[prop] = (df[prop]-df_desc[prop][\"mean\"])/(df_desc[prop][\"max\"]-df_desc[prop][\"min\"])\n",
    "        except:\n",
    "            pass\n",
    "    return df"
   ]
  },
  {
   "cell_type": "code",
   "execution_count": 14,
   "id": "lesser-latino",
   "metadata": {},
   "outputs": [],
   "source": [
    "for i, data in enumerate(dataset):\n",
    "    x, y = data\n",
    "    x = Norm(x, df_desc)\n",
    "    y = Norm(y, df_desc)\n",
    "    dataset[i]=[x,y]"
   ]
  },
  {
   "cell_type": "code",
   "execution_count": 15,
   "id": "flying-variance",
   "metadata": {},
   "outputs": [
    {
     "data": {
      "text/html": [
       "<div>\n",
       "<style scoped>\n",
       "    .dataframe tbody tr th:only-of-type {\n",
       "        vertical-align: middle;\n",
       "    }\n",
       "\n",
       "    .dataframe tbody tr th {\n",
       "        vertical-align: top;\n",
       "    }\n",
       "\n",
       "    .dataframe thead th {\n",
       "        text-align: right;\n",
       "    }\n",
       "</style>\n",
       "<table border=\"1\" class=\"dataframe\">\n",
       "  <thead>\n",
       "    <tr style=\"text-align: right;\">\n",
       "      <th></th>\n",
       "      <th>X</th>\n",
       "      <th>Y</th>\n",
       "      <th>Z</th>\n",
       "      <th>Yaw</th>\n",
       "      <th>Roll</th>\n",
       "      <th>Pitch</th>\n",
       "      <th>Dx</th>\n",
       "      <th>Dy</th>\n",
       "      <th>Dz</th>\n",
       "      <th>P</th>\n",
       "      <th>Q</th>\n",
       "      <th>R</th>\n",
       "      <th>X_r</th>\n",
       "      <th>Y_r</th>\n",
       "      <th>Z_r</th>\n",
       "      <th>Dx_r</th>\n",
       "      <th>Dy_r</th>\n",
       "      <th>Dz_r</th>\n",
       "      <th>Gyro P</th>\n",
       "      <th>Gyro Q</th>\n",
       "      <th>Gyro R</th>\n",
       "      <th>Acceleracion X</th>\n",
       "      <th>Acceleracion Y</th>\n",
       "      <th>Acceleracion Z</th>\n",
       "    </tr>\n",
       "  </thead>\n",
       "  <tbody>\n",
       "    <tr>\n",
       "      <th>count</th>\n",
       "      <td>23201.000000</td>\n",
       "      <td>23201.000000</td>\n",
       "      <td>23201.000000</td>\n",
       "      <td>23201.000000</td>\n",
       "      <td>23201.000000</td>\n",
       "      <td>23201.000000</td>\n",
       "      <td>23201.000000</td>\n",
       "      <td>23201.000000</td>\n",
       "      <td>23201.000000</td>\n",
       "      <td>23201.000000</td>\n",
       "      <td>2.320100e+04</td>\n",
       "      <td>23201.000000</td>\n",
       "      <td>23201.000000</td>\n",
       "      <td>23201.000000</td>\n",
       "      <td>23201.000000</td>\n",
       "      <td>2.320100e+04</td>\n",
       "      <td>2.320100e+04</td>\n",
       "      <td>23201.000000</td>\n",
       "      <td>23201.000000</td>\n",
       "      <td>2.320100e+04</td>\n",
       "      <td>23201.000000</td>\n",
       "      <td>2.320100e+04</td>\n",
       "      <td>2.320100e+04</td>\n",
       "      <td>23201.000000</td>\n",
       "    </tr>\n",
       "    <tr>\n",
       "      <th>mean</th>\n",
       "      <td>-0.051516</td>\n",
       "      <td>-0.253376</td>\n",
       "      <td>-0.002824</td>\n",
       "      <td>0.000126</td>\n",
       "      <td>0.000637</td>\n",
       "      <td>0.000361</td>\n",
       "      <td>-0.000075</td>\n",
       "      <td>-0.001366</td>\n",
       "      <td>0.000777</td>\n",
       "      <td>0.000001</td>\n",
       "      <td>4.048801e-07</td>\n",
       "      <td>-0.000002</td>\n",
       "      <td>-0.059545</td>\n",
       "      <td>-0.582903</td>\n",
       "      <td>-0.006331</td>\n",
       "      <td>-1.814909e-06</td>\n",
       "      <td>-2.558584e-05</td>\n",
       "      <td>0.000001</td>\n",
       "      <td>0.000001</td>\n",
       "      <td>4.048911e-07</td>\n",
       "      <td>-0.000002</td>\n",
       "      <td>1.142971e-08</td>\n",
       "      <td>3.021466e-07</td>\n",
       "      <td>0.000002</td>\n",
       "    </tr>\n",
       "    <tr>\n",
       "      <th>std</th>\n",
       "      <td>0.064054</td>\n",
       "      <td>0.064855</td>\n",
       "      <td>0.049058</td>\n",
       "      <td>0.006406</td>\n",
       "      <td>0.066672</td>\n",
       "      <td>0.036580</td>\n",
       "      <td>0.026347</td>\n",
       "      <td>0.052322</td>\n",
       "      <td>0.006690</td>\n",
       "      <td>0.007226</td>\n",
       "      <td>1.560565e-02</td>\n",
       "      <td>0.003478</td>\n",
       "      <td>0.069152</td>\n",
       "      <td>0.101191</td>\n",
       "      <td>0.057954</td>\n",
       "      <td>4.603488e-03</td>\n",
       "      <td>3.192057e-03</td>\n",
       "      <td>0.002654</td>\n",
       "      <td>0.007226</td>\n",
       "      <td>1.560565e-02</td>\n",
       "      <td>0.003902</td>\n",
       "      <td>4.800864e-03</td>\n",
       "      <td>1.759773e-03</td>\n",
       "      <td>0.011120</td>\n",
       "    </tr>\n",
       "    <tr>\n",
       "      <th>min</th>\n",
       "      <td>-0.207869</td>\n",
       "      <td>-0.466110</td>\n",
       "      <td>-0.099392</td>\n",
       "      <td>-0.089671</td>\n",
       "      <td>-0.324709</td>\n",
       "      <td>-0.294197</td>\n",
       "      <td>-0.239547</td>\n",
       "      <td>-0.307015</td>\n",
       "      <td>-0.051732</td>\n",
       "      <td>-0.049667</td>\n",
       "      <td>-1.332194e-01</td>\n",
       "      <td>-0.024796</td>\n",
       "      <td>-0.170112</td>\n",
       "      <td>-0.668985</td>\n",
       "      <td>-0.113990</td>\n",
       "      <td>-3.814434e-01</td>\n",
       "      <td>-4.624992e-01</td>\n",
       "      <td>-0.384207</td>\n",
       "      <td>-0.049667</td>\n",
       "      <td>-1.332194e-01</td>\n",
       "      <td>-0.025527</td>\n",
       "      <td>-4.591475e-02</td>\n",
       "      <td>-1.031939e-02</td>\n",
       "      <td>-0.130398</td>\n",
       "    </tr>\n",
       "    <tr>\n",
       "      <th>25%</th>\n",
       "      <td>-0.118775</td>\n",
       "      <td>-0.292251</td>\n",
       "      <td>-0.022731</td>\n",
       "      <td>-0.000228</td>\n",
       "      <td>-0.007331</td>\n",
       "      <td>-0.001146</td>\n",
       "      <td>-0.000598</td>\n",
       "      <td>-0.006895</td>\n",
       "      <td>-0.000141</td>\n",
       "      <td>-0.000930</td>\n",
       "      <td>-4.056385e-04</td>\n",
       "      <td>-0.001983</td>\n",
       "      <td>-0.144580</td>\n",
       "      <td>-0.668985</td>\n",
       "      <td>-0.031095</td>\n",
       "      <td>-3.752303e-08</td>\n",
       "      <td>8.138837e-07</td>\n",
       "      <td>0.000017</td>\n",
       "      <td>-0.000930</td>\n",
       "      <td>-4.056386e-04</td>\n",
       "      <td>-0.002343</td>\n",
       "      <td>-8.463226e-05</td>\n",
       "      <td>-2.738479e-04</td>\n",
       "      <td>-0.004475</td>\n",
       "    </tr>\n",
       "    <tr>\n",
       "      <th>50%</th>\n",
       "      <td>-0.018555</td>\n",
       "      <td>-0.279155</td>\n",
       "      <td>0.004182</td>\n",
       "      <td>0.000161</td>\n",
       "      <td>0.000602</td>\n",
       "      <td>0.000176</td>\n",
       "      <td>-0.000048</td>\n",
       "      <td>-0.000029</td>\n",
       "      <td>0.000705</td>\n",
       "      <td>0.000006</td>\n",
       "      <td>3.988835e-06</td>\n",
       "      <td>-0.000037</td>\n",
       "      <td>-0.021176</td>\n",
       "      <td>-0.668985</td>\n",
       "      <td>0.001341</td>\n",
       "      <td>-3.752303e-08</td>\n",
       "      <td>8.138837e-07</td>\n",
       "      <td>0.000017</td>\n",
       "      <td>0.000006</td>\n",
       "      <td>3.988811e-06</td>\n",
       "      <td>-0.000021</td>\n",
       "      <td>2.748056e-06</td>\n",
       "      <td>-8.536240e-08</td>\n",
       "      <td>0.000006</td>\n",
       "    </tr>\n",
       "    <tr>\n",
       "      <th>75%</th>\n",
       "      <td>-0.000622</td>\n",
       "      <td>-0.219058</td>\n",
       "      <td>0.031380</td>\n",
       "      <td>0.000555</td>\n",
       "      <td>0.009880</td>\n",
       "      <td>0.001939</td>\n",
       "      <td>0.000495</td>\n",
       "      <td>0.006511</td>\n",
       "      <td>0.001585</td>\n",
       "      <td>0.000948</td>\n",
       "      <td>4.432086e-04</td>\n",
       "      <td>0.001926</td>\n",
       "      <td>0.000101</td>\n",
       "      <td>-0.499971</td>\n",
       "      <td>0.033778</td>\n",
       "      <td>-3.752303e-08</td>\n",
       "      <td>8.138837e-07</td>\n",
       "      <td>0.000017</td>\n",
       "      <td>0.000948</td>\n",
       "      <td>4.432086e-04</td>\n",
       "      <td>0.002279</td>\n",
       "      <td>9.261619e-05</td>\n",
       "      <td>2.664274e-04</td>\n",
       "      <td>0.004520</td>\n",
       "    </tr>\n",
       "    <tr>\n",
       "      <th>max</th>\n",
       "      <td>0.088984</td>\n",
       "      <td>0.067888</td>\n",
       "      <td>0.063842</td>\n",
       "      <td>0.062096</td>\n",
       "      <td>0.378415</td>\n",
       "      <td>0.316189</td>\n",
       "      <td>0.268253</td>\n",
       "      <td>0.263818</td>\n",
       "      <td>0.047012</td>\n",
       "      <td>0.038967</td>\n",
       "      <td>1.476582e-01</td>\n",
       "      <td>0.032860</td>\n",
       "      <td>0.017122</td>\n",
       "      <td>0.021156</td>\n",
       "      <td>0.069819</td>\n",
       "      <td>4.123711e-01</td>\n",
       "      <td>8.138837e-07</td>\n",
       "      <td>0.056370</td>\n",
       "      <td>0.038967</td>\n",
       "      <td>1.476582e-01</td>\n",
       "      <td>0.032189</td>\n",
       "      <td>4.956677e-02</td>\n",
       "      <td>2.672328e-02</td>\n",
       "      <td>0.107661</td>\n",
       "    </tr>\n",
       "  </tbody>\n",
       "</table>\n",
       "</div>"
      ],
      "text/plain": [
       "                  X             Y             Z           Yaw          Roll  \\\n",
       "count  23201.000000  23201.000000  23201.000000  23201.000000  23201.000000   \n",
       "mean      -0.051516     -0.253376     -0.002824      0.000126      0.000637   \n",
       "std        0.064054      0.064855      0.049058      0.006406      0.066672   \n",
       "min       -0.207869     -0.466110     -0.099392     -0.089671     -0.324709   \n",
       "25%       -0.118775     -0.292251     -0.022731     -0.000228     -0.007331   \n",
       "50%       -0.018555     -0.279155      0.004182      0.000161      0.000602   \n",
       "75%       -0.000622     -0.219058      0.031380      0.000555      0.009880   \n",
       "max        0.088984      0.067888      0.063842      0.062096      0.378415   \n",
       "\n",
       "              Pitch            Dx            Dy            Dz             P  \\\n",
       "count  23201.000000  23201.000000  23201.000000  23201.000000  23201.000000   \n",
       "mean       0.000361     -0.000075     -0.001366      0.000777      0.000001   \n",
       "std        0.036580      0.026347      0.052322      0.006690      0.007226   \n",
       "min       -0.294197     -0.239547     -0.307015     -0.051732     -0.049667   \n",
       "25%       -0.001146     -0.000598     -0.006895     -0.000141     -0.000930   \n",
       "50%        0.000176     -0.000048     -0.000029      0.000705      0.000006   \n",
       "75%        0.001939      0.000495      0.006511      0.001585      0.000948   \n",
       "max        0.316189      0.268253      0.263818      0.047012      0.038967   \n",
       "\n",
       "                  Q             R           X_r           Y_r           Z_r  \\\n",
       "count  2.320100e+04  23201.000000  23201.000000  23201.000000  23201.000000   \n",
       "mean   4.048801e-07     -0.000002     -0.059545     -0.582903     -0.006331   \n",
       "std    1.560565e-02      0.003478      0.069152      0.101191      0.057954   \n",
       "min   -1.332194e-01     -0.024796     -0.170112     -0.668985     -0.113990   \n",
       "25%   -4.056385e-04     -0.001983     -0.144580     -0.668985     -0.031095   \n",
       "50%    3.988835e-06     -0.000037     -0.021176     -0.668985      0.001341   \n",
       "75%    4.432086e-04      0.001926      0.000101     -0.499971      0.033778   \n",
       "max    1.476582e-01      0.032860      0.017122      0.021156      0.069819   \n",
       "\n",
       "               Dx_r          Dy_r          Dz_r        Gyro P        Gyro Q  \\\n",
       "count  2.320100e+04  2.320100e+04  23201.000000  23201.000000  2.320100e+04   \n",
       "mean  -1.814909e-06 -2.558584e-05      0.000001      0.000001  4.048911e-07   \n",
       "std    4.603488e-03  3.192057e-03      0.002654      0.007226  1.560565e-02   \n",
       "min   -3.814434e-01 -4.624992e-01     -0.384207     -0.049667 -1.332194e-01   \n",
       "25%   -3.752303e-08  8.138837e-07      0.000017     -0.000930 -4.056386e-04   \n",
       "50%   -3.752303e-08  8.138837e-07      0.000017      0.000006  3.988811e-06   \n",
       "75%   -3.752303e-08  8.138837e-07      0.000017      0.000948  4.432086e-04   \n",
       "max    4.123711e-01  8.138837e-07      0.056370      0.038967  1.476582e-01   \n",
       "\n",
       "             Gyro R  Acceleracion X  Acceleracion Y  Acceleracion Z  \n",
       "count  23201.000000    2.320100e+04    2.320100e+04    23201.000000  \n",
       "mean      -0.000002    1.142971e-08    3.021466e-07        0.000002  \n",
       "std        0.003902    4.800864e-03    1.759773e-03        0.011120  \n",
       "min       -0.025527   -4.591475e-02   -1.031939e-02       -0.130398  \n",
       "25%       -0.002343   -8.463226e-05   -2.738479e-04       -0.004475  \n",
       "50%       -0.000021    2.748056e-06   -8.536240e-08        0.000006  \n",
       "75%        0.002279    9.261619e-05    2.664274e-04        0.004520  \n",
       "max        0.032189    4.956677e-02    2.672328e-02        0.107661  "
      ]
     },
     "execution_count": 15,
     "metadata": {},
     "output_type": "execute_result"
    }
   ],
   "source": [
    "data[0].describe()"
   ]
  },
  {
   "cell_type": "code",
   "execution_count": 16,
   "id": "capable-thought",
   "metadata": {},
   "outputs": [
    {
     "data": {
      "text/html": [
       "<div>\n",
       "<style scoped>\n",
       "    .dataframe tbody tr th:only-of-type {\n",
       "        vertical-align: middle;\n",
       "    }\n",
       "\n",
       "    .dataframe tbody tr th {\n",
       "        vertical-align: top;\n",
       "    }\n",
       "\n",
       "    .dataframe thead th {\n",
       "        text-align: right;\n",
       "    }\n",
       "</style>\n",
       "<table border=\"1\" class=\"dataframe\">\n",
       "  <thead>\n",
       "    <tr style=\"text-align: right;\">\n",
       "      <th></th>\n",
       "      <th>Motor1</th>\n",
       "      <th>Motor2</th>\n",
       "      <th>Motor3</th>\n",
       "      <th>Motor4</th>\n",
       "    </tr>\n",
       "  </thead>\n",
       "  <tbody>\n",
       "    <tr>\n",
       "      <th>count</th>\n",
       "      <td>23201.000000</td>\n",
       "      <td>23201.000000</td>\n",
       "      <td>23201.000000</td>\n",
       "      <td>23201.000000</td>\n",
       "    </tr>\n",
       "    <tr>\n",
       "      <th>mean</th>\n",
       "      <td>0.000275</td>\n",
       "      <td>-0.000243</td>\n",
       "      <td>0.000265</td>\n",
       "      <td>-0.000258</td>\n",
       "    </tr>\n",
       "    <tr>\n",
       "      <th>std</th>\n",
       "      <td>0.011447</td>\n",
       "      <td>0.011446</td>\n",
       "      <td>0.011619</td>\n",
       "      <td>0.011703</td>\n",
       "    </tr>\n",
       "    <tr>\n",
       "      <th>min</th>\n",
       "      <td>-0.151179</td>\n",
       "      <td>-0.164330</td>\n",
       "      <td>-0.151051</td>\n",
       "      <td>-0.164727</td>\n",
       "    </tr>\n",
       "    <tr>\n",
       "      <th>25%</th>\n",
       "      <td>-0.001955</td>\n",
       "      <td>-0.002172</td>\n",
       "      <td>-0.001973</td>\n",
       "      <td>-0.002219</td>\n",
       "    </tr>\n",
       "    <tr>\n",
       "      <th>50%</th>\n",
       "      <td>0.000127</td>\n",
       "      <td>-0.000069</td>\n",
       "      <td>0.000095</td>\n",
       "      <td>-0.000092</td>\n",
       "    </tr>\n",
       "    <tr>\n",
       "      <th>75%</th>\n",
       "      <td>0.002110</td>\n",
       "      <td>0.002134</td>\n",
       "      <td>0.002092</td>\n",
       "      <td>0.002095</td>\n",
       "    </tr>\n",
       "    <tr>\n",
       "      <th>max</th>\n",
       "      <td>0.165055</td>\n",
       "      <td>0.150372</td>\n",
       "      <td>0.165294</td>\n",
       "      <td>0.150400</td>\n",
       "    </tr>\n",
       "  </tbody>\n",
       "</table>\n",
       "</div>"
      ],
      "text/plain": [
       "             Motor1        Motor2        Motor3        Motor4\n",
       "count  23201.000000  23201.000000  23201.000000  23201.000000\n",
       "mean       0.000275     -0.000243      0.000265     -0.000258\n",
       "std        0.011447      0.011446      0.011619      0.011703\n",
       "min       -0.151179     -0.164330     -0.151051     -0.164727\n",
       "25%       -0.001955     -0.002172     -0.001973     -0.002219\n",
       "50%        0.000127     -0.000069      0.000095     -0.000092\n",
       "75%        0.002110      0.002134      0.002092      0.002095\n",
       "max        0.165055      0.150372      0.165294      0.150400"
      ]
     },
     "execution_count": 16,
     "metadata": {},
     "output_type": "execute_result"
    }
   ],
   "source": [
    "data[1].describe()"
   ]
  },
  {
   "cell_type": "markdown",
   "id": "developing-administrator",
   "metadata": {},
   "source": [
    "#### División del dataset para entrenamiento, validación, prueba"
   ]
  },
  {
   "cell_type": "code",
   "execution_count": 17,
   "id": "intermediate-catch",
   "metadata": {},
   "outputs": [],
   "source": [
    "X = []\n",
    "Y = []\n",
    "\n",
    "for sample in dataset:\n",
    "    x, y = sample\n",
    "    X.append(x)\n",
    "    Y.append(y)\n",
    "\n",
    "X_train, X_test, Y_train, Y_test = train_test_split(X, Y, test_size=0.1, random_state=42)\n",
    "X_train,  X_val, Y_train, Y_val  = train_test_split(X_train, Y_train, test_size=0.15)\n",
    "\n",
    "del X\n",
    "del Y"
   ]
  },
  {
   "cell_type": "code",
   "execution_count": 18,
   "id": "metropolitan-object",
   "metadata": {},
   "outputs": [
    {
     "name": "stdout",
     "output_type": "stream",
     "text": [
      "Total=112, Entrenamiento=85 (76%),Validación=15 (13%),Prueba=12 (11%),\n"
     ]
    }
   ],
   "source": [
    "print(f'Total={len(dataset)}, Entrenamiento={len(X_train)} ({round(100*len(X_train)/len(dataset))}%),'\\\n",
    "      f'Validación={len(X_val)} ({round(100*len(X_val)/len(dataset))}%),'\\\n",
    "      f'Prueba={len(X_test)} ({round(100*len(X_test)/len(dataset))}%),')"
   ]
  },
  {
   "cell_type": "markdown",
   "id": "previous-bottom",
   "metadata": {},
   "source": [
    "#### Generador de Ejemplos de entrenamiento"
   ]
  },
  {
   "cell_type": "markdown",
   "id": "residential-baptist",
   "metadata": {},
   "source": [
    "Entrenar un modelo con una señal de 50000 datos en cada iteración sería una tarea que tomaría demasiado tiempo, así mismo, cuando se necesite realizar la inferencia del modelo, se necesitaría esa misma cantidad de datos, por lo que no se utiliza toda la señal de entrenamiento, sino pequeños segmentos de tamaño N, por lo que se generarán M-N (longitud de toda la señal, 50000) señales de longitud N para el entrenamiento, lo que aumentaría el consumo de memoria. Por tal motivo se define un generador."
   ]
  },
  {
   "cell_type": "code",
   "execution_count": 19,
   "id": "everyday-princeton",
   "metadata": {},
   "outputs": [],
   "source": [
    "class DataGenerator:\n",
    "    def __init__(self, X=[], Y=[], dataset = None, batch_size=512, window=512, sequence_out=False, variable_window=False, delta_window=1):\n",
    "        if dataset:\n",
    "            for data in dataset:\n",
    "                X.append(data[0])\n",
    "                Y.append(data[1])\n",
    "            self.X = X\n",
    "            self.Y = Y\n",
    "        elif X and Y:\n",
    "            if len(X)!=len(Y):\n",
    "                raise Exception(\"La longitud de datos de X e Y deben ser iguales\")\n",
    "            self.X = X\n",
    "            self.Y = Y\n",
    "        else:\n",
    "            raise Exception(\"Debe especificar dataset o X, Y\")\n",
    "            \n",
    "        self.n  = len(X)                 ### Número de ejemplos de entrenamiento\n",
    "        x_shape = X[0].shape\n",
    "        y_shape = Y[0].shape\n",
    "        self.i  = x_shape[1]             ### Número de características\n",
    "        self.j  = y_shape[1]             ### Número de salidas\n",
    "        self.batch_size = batch_size\n",
    "        self.window = window\n",
    "        self.variable_window = variable_window\n",
    "        self.delta_window = delta_window\n",
    "        if self.variable_window:\n",
    "            self.window_max = self.window+self.delta_window\n",
    "            self.window_min = self.window-self.delta_window\n",
    "            if self.window_min<1:\n",
    "                raise IndexError(f'delta_window no puede ser igual o mayor a la ventana')\n",
    "        self.sequence_out = sequence_out\n",
    "        self.set_sequence()\n",
    "        \n",
    "    def set_sequence(self):\n",
    "        if self.sequence_out:\n",
    "            self.shapes = ((self.batch_size, self.window, self.i),\n",
    "                           (self.batch_size, self.window, self.j))\n",
    "        else:\n",
    "            self.shapes = ((self.batch_size, self.window, self.i),\n",
    "                           (self.batch_size, self.j))\n",
    "\n",
    "    def buid_init(self):\n",
    "        if self.variable_window:\n",
    "            self.window = np.random.randint(self.window_min, self.window_max)\n",
    "            self.set_sequence()\n",
    "        self.samples = np.empty(shape= self.shapes[0], dtype='float32') \n",
    "        self.labels  = np.empty(shape= self.shapes[1], dtype='float32') \n",
    "        self.batchcount = 0\n",
    "        \n",
    "    def build_data(self):\n",
    "        self.buid_init()\n",
    "        while True:\n",
    "            try:\n",
    "                index = np.random.randint(0, self.n-1)            ### Trayectoria a seleccionar\n",
    "                m = len(self.X[index])          ### Número de steps por ejemplo\n",
    "                if m-self.window-1<=0:\n",
    "                    raise IndexError(f'El tamaño de la ventana es mayor a la trayectoria')\n",
    "                else:\n",
    "                    start_index = np.random.randint(0, int(m-self.window-1))\n",
    "                    final_index = start_index+self.window\n",
    "                    self.samples[self.batchcount] = self.X[index][start_index:final_index].to_numpy()\n",
    "                    if self.sequence_out:\n",
    "                        self.labels[self.batchcount] = self.Y[index][start_index:final_index].to_numpy()\n",
    "                    else:\n",
    "                        self.labels[self.batchcount] = self.Y[index].loc[final_index]\n",
    "            except IndexError as e:\n",
    "                print(f'ERROR: Ejemplo {self.batchcount}: {e}')\n",
    "                raise e\n",
    "                \n",
    "            self.batchcount += 1\n",
    "            if self.batchcount >= self.batch_size:\n",
    "                yield self.samples.astype(np.float32), self.labels.astype(np.float32)\n",
    "                self.buid_init()"
   ]
  },
  {
   "cell_type": "code",
   "execution_count": 20,
   "id": "artistic-cosmetic",
   "metadata": {},
   "outputs": [],
   "source": [
    "window = 64                    ### Número de steps por ejemplo\n",
    "batch_size = 128               ### Número de ejemplos por batch\n",
    "sequence_out = False\n",
    "variable_window=True\n",
    "delta_window=window/2"
   ]
  },
  {
   "cell_type": "code",
   "execution_count": 21,
   "id": "aerial-nicholas",
   "metadata": {},
   "outputs": [],
   "source": [
    "train_generator = DataGenerator(X=X_train, Y=Y_train, batch_size=batch_size, window=window, sequence_out=sequence_out, variable_window=variable_window, delta_window=delta_window)\n",
    "val_generator   = DataGenerator(X=X_val,   Y=Y_val,   batch_size=batch_size, window=window, sequence_out=sequence_out, variable_window=variable_window, delta_window=delta_window)\n",
    "test_generator  = DataGenerator(X=X_test,  Y=Y_test,  batch_size=batch_size, window=window, sequence_out=sequence_out, variable_window=variable_window, delta_window=delta_window)"
   ]
  },
  {
   "cell_type": "code",
   "execution_count": 22,
   "id": "strong-transsexual",
   "metadata": {},
   "outputs": [],
   "source": [
    "dataset_train = tf.data.Dataset.from_generator(train_generator.build_data,\n",
    "                                        output_types = (tf.float32, tf.float32))\n",
    "dataset_val = tf.data.Dataset.from_generator(val_generator.build_data,\n",
    "                                        output_types = (tf.float32, tf.float32))\n",
    "dataset_test = tf.data.Dataset.from_generator(test_generator.build_data,\n",
    "                                        output_types = (tf.float32, tf.float32))"
   ]
  },
  {
   "cell_type": "code",
   "execution_count": 23,
   "id": "fossil-problem",
   "metadata": {},
   "outputs": [
    {
     "name": "stdout",
     "output_type": "stream",
     "text": [
      "x.shape=(128, 43, 24), y.shape=(128, 4)\n",
      "x.shape=(128, 63, 24), y.shape=(128, 4)\n",
      "x.shape=(128, 56, 24), y.shape=(128, 4)\n",
      "x.shape=(128, 88, 24), y.shape=(128, 4)\n",
      "x.shape=(128, 67, 24), y.shape=(128, 4)\n"
     ]
    }
   ],
   "source": [
    "for _ in range(5):\n",
    "    x, y = next(train_generator.build_data())\n",
    "    print(f'x.shape={x.shape}, y.shape={y.shape}')"
   ]
  },
  {
   "cell_type": "markdown",
   "id": "conservative-nowhere",
   "metadata": {},
   "source": [
    "## Keras Model"
   ]
  },
  {
   "cell_type": "markdown",
   "id": "realistic-clear",
   "metadata": {},
   "source": [
    "## Callbacks"
   ]
  },
  {
   "cell_type": "code",
   "execution_count": 24,
   "id": "encouraging-pound",
   "metadata": {},
   "outputs": [],
   "source": [
    "main_metric = 'mean_squared_error'\n",
    "#metrics = [main_metric, 'cosine_similarity', 'logcosh']\n",
    "metrics = main_metric"
   ]
  },
  {
   "cell_type": "markdown",
   "id": "returning-stamp",
   "metadata": {},
   "source": [
    "#### Early Stopping"
   ]
  },
  {
   "cell_type": "code",
   "execution_count": 25,
   "id": "tribal-annex",
   "metadata": {},
   "outputs": [],
   "source": [
    "Early_Stopping = tf.keras.callbacks.EarlyStopping(monitor=f'val_{main_metric}', min_delta=0, patience=15, verbose=0, mode='auto')"
   ]
  },
  {
   "cell_type": "markdown",
   "id": "written-publicity",
   "metadata": {},
   "source": [
    "#### Plotting"
   ]
  },
  {
   "cell_type": "code",
   "execution_count": 26,
   "id": "dated-assumption",
   "metadata": {},
   "outputs": [],
   "source": [
    "class PlotLosses(tf.keras.callbacks.Callback):\n",
    "    def __init__(self, loss, figsize=(10,10)):\n",
    "        self.loss = loss\n",
    "        self.figsize = figsize\n",
    "        \n",
    "    def on_train_begin(self, logs={}):\n",
    "        self.i = 0\n",
    "        self.x = []\n",
    "        self.losses = []\n",
    "        self.val_losses = []\n",
    "        self.logs = []\n",
    "        self.fig = plt.figure(figsize=self.figsize)\n",
    "        if type(self.loss)==list:\n",
    "            self.N = len(self.loss)\n",
    "            for i in range(self.N):\n",
    "                self.losses.append([])\n",
    "                self.val_losses.append([])\n",
    "        else:\n",
    "            self.N = 1\n",
    "        \n",
    "    def on_epoch_end(self, epoch, logs={}):\n",
    "        self.logs.append(logs)\n",
    "        self.x.append(self.i+1)\n",
    "        if self.N>1:\n",
    "            for i, l in enumerate(self.loss):\n",
    "                self.losses[i].append(logs.get(f'{l}'))\n",
    "                self.val_losses[i].append(logs.get(f'val_{l}'))\n",
    "        else:\n",
    "            self.losses.append(logs.get(f'{self.loss}'))\n",
    "            self.val_losses.append(logs.get(f'val_{self.loss}'))\n",
    "        self.i += 1\n",
    "        \n",
    "        clear_output(wait=True)\n",
    "        if self.N>1:\n",
    "            self.fig, self.axs = plt.subplots(self.N, sharex=True, figsize=self.figsize)\n",
    "            for i, l in enumerate(self.loss):\n",
    "                self.axs[i].plot(self.x, self.losses[i], label=f\"Train\")\n",
    "                self.axs[i].plot(self.x, self.val_losses[i], label=f\"Validation\")\n",
    "                self.axs[i].set_title(f'{l}')\n",
    "                self.axs[i].set_yscale('log')\n",
    "                self.axs[i].grid()\n",
    "                self.axs[i].legend()\n",
    "            self.axs[i].set_xlabel('Epochs')\n",
    "        else:\n",
    "            plt.plot(self.x, self.losses, label=f\"Train\")\n",
    "            plt.plot(self.x, self.val_losses, label=f\"Validation\")\n",
    "            plt.suptitle(f'{self.loss}')\n",
    "            plt.yscale('log')\n",
    "            plt.xlabel('Epochs')\n",
    "            plt.grid()\n",
    "            plt.legend()\n",
    "        plt.show()"
   ]
  },
  {
   "cell_type": "markdown",
   "id": "therapeutic-finger",
   "metadata": {},
   "source": [
    "#### Checkpoints"
   ]
  },
  {
   "cell_type": "code",
   "execution_count": 27,
   "id": "floating-bibliography",
   "metadata": {},
   "outputs": [],
   "source": [
    "checkpoint_filepath = './tmp/checkpoint'\n",
    "model_checkpoint_callback = tf.keras.callbacks.ModelCheckpoint(\n",
    "    filepath=checkpoint_filepath,\n",
    "    save_weights_only=True,\n",
    "    monitor=f'val_{main_metric}',\n",
    "    mode='max',\n",
    "    save_best_only=True)"
   ]
  },
  {
   "cell_type": "code",
   "execution_count": 28,
   "id": "fresh-enlargement",
   "metadata": {},
   "outputs": [],
   "source": [
    "plot_losses = PlotLosses(loss=metrics)\n",
    "callbacks = [model_checkpoint_callback, Early_Stopping, plot_losses]"
   ]
  },
  {
   "cell_type": "markdown",
   "id": "delayed-neighborhood",
   "metadata": {},
   "source": [
    "#### Definición del Modelo"
   ]
  },
  {
   "cell_type": "code",
   "execution_count": 35,
   "id": "invisible-allergy",
   "metadata": {},
   "outputs": [],
   "source": [
    "model = models.Sequential()\n",
    "model.add(layers.LSTM(128, input_shape=(None, len(states_list)), return_sequences=True))\n",
    "model.add(kr.layers.convolutional.Conv1D(filters=128, kernel_size=7, padding='same', activation='relu'))\n",
    "model.add(layers.LSTM(64, return_sequences=True))\n",
    "model.add(kr.layers.convolutional.Conv1D(filters=64, kernel_size=7, padding='same', activation='relu'))\n",
    "model.add(layers.LSTM(32))\n",
    "#model.add(layers.LSTM(shapes[1][1]))#, return_sequences=True))\n",
    "model.add(layers.Dense(128, activation='relu'))\n",
    "model.add(layers.Dense(64, activation='relu'))\n",
    "model.add(layers.Dense(32, activation='relu'))\n",
    "model.add(layers.Dense(len(rpm_list)))"
   ]
  },
  {
   "cell_type": "markdown",
   "id": "destroyed-witness",
   "metadata": {},
   "source": [
    "#### Compilado el Modelo"
   ]
  },
  {
   "cell_type": "code",
   "execution_count": 36,
   "id": "unavailable-fight",
   "metadata": {},
   "outputs": [
    {
     "name": "stdout",
     "output_type": "stream",
     "text": [
      "Model: \"sequential_2\"\n",
      "_________________________________________________________________\n",
      "Layer (type)                 Output Shape              Param #   \n",
      "=================================================================\n",
      "lstm_6 (LSTM)                (None, None, 128)         78336     \n",
      "_________________________________________________________________\n",
      "conv1d_4 (Conv1D)            (None, None, 128)         114816    \n",
      "_________________________________________________________________\n",
      "lstm_7 (LSTM)                (None, None, 64)          49408     \n",
      "_________________________________________________________________\n",
      "conv1d_5 (Conv1D)            (None, None, 64)          28736     \n",
      "_________________________________________________________________\n",
      "lstm_8 (LSTM)                (None, 32)                12416     \n",
      "_________________________________________________________________\n",
      "dense_8 (Dense)              (None, 128)               4224      \n",
      "_________________________________________________________________\n",
      "dense_9 (Dense)              (None, 64)                8256      \n",
      "_________________________________________________________________\n",
      "dense_10 (Dense)             (None, 32)                2080      \n",
      "_________________________________________________________________\n",
      "dense_11 (Dense)             (None, 4)                 132       \n",
      "=================================================================\n",
      "Total params: 298,404\n",
      "Trainable params: 298,404\n",
      "Non-trainable params: 0\n",
      "_________________________________________________________________\n"
     ]
    }
   ],
   "source": [
    "opt = tf.keras.optimizers.Adam()\n",
    "model.compile(loss=main_metric, optimizer=opt, metrics=metrics)\n",
    "model.summary()"
   ]
  },
  {
   "cell_type": "markdown",
   "id": "biological-keeping",
   "metadata": {},
   "source": [
    "#### Entrenamiento del Modelo"
   ]
  },
  {
   "cell_type": "code",
   "execution_count": 37,
   "id": "offshore-riverside",
   "metadata": {},
   "outputs": [
    {
     "data": {
      "image/png": "[encoded data removed]",
      "text/plain": [
       "<Figure size 432x288 with 1 Axes>"
      ]
     },
     "metadata": {
      "needs_background": "light"
     },
     "output_type": "display_data"
    },
    {
     "name": "stdout",
     "output_type": "stream",
     "text": [
      "Epoch 15/120\n",
      "54/85 [==================>...........] - ETA: 3s - loss: 0.0010 - mean_squared_error: 0.0010      "
     ]
    },
    {
     "ename": "KeyboardInterrupt",
     "evalue": "",
     "output_type": "error",
     "traceback": [
      "\u001b[1;31m---------------------------------------------------------------------------\u001b[0m",
      "\u001b[1;31mKeyboardInterrupt\u001b[0m                         Traceback (most recent call last)",
      "\u001b[1;32m<timed exec>\u001b[0m in \u001b[0;36m<module>\u001b[1;34m\u001b[0m\n",
      "\u001b[1;32m~\\AppData\\Roaming\\Python\\Python38\\site-packages\\keras\\engine\\training.py\u001b[0m in \u001b[0;36mfit\u001b[1;34m(self, x, y, batch_size, epochs, verbose, callbacks, validation_split, validation_data, shuffle, class_weight, sample_weight, initial_epoch, steps_per_epoch, validation_steps, validation_batch_size, validation_freq, max_queue_size, workers, use_multiprocessing)\u001b[0m\n\u001b[0;32m   1187\u001b[0m                 _r=1):\n\u001b[0;32m   1188\u001b[0m               \u001b[0mcallbacks\u001b[0m\u001b[1;33m.\u001b[0m\u001b[0mon_train_batch_begin\u001b[0m\u001b[1;33m(\u001b[0m\u001b[0mstep\u001b[0m\u001b[1;33m)\u001b[0m\u001b[1;33m\u001b[0m\u001b[1;33m\u001b[0m\u001b[0m\n\u001b[1;32m-> 1189\u001b[1;33m               \u001b[0mtmp_logs\u001b[0m \u001b[1;33m=\u001b[0m \u001b[0mself\u001b[0m\u001b[1;33m.\u001b[0m\u001b[0mtrain_function\u001b[0m\u001b[1;33m(\u001b[0m\u001b[0miterator\u001b[0m\u001b[1;33m)\u001b[0m\u001b[1;33m\u001b[0m\u001b[1;33m\u001b[0m\u001b[0m\n\u001b[0m\u001b[0;32m   1190\u001b[0m               \u001b[1;32mif\u001b[0m \u001b[0mdata_handler\u001b[0m\u001b[1;33m.\u001b[0m\u001b[0mshould_sync\u001b[0m\u001b[1;33m:\u001b[0m\u001b[1;33m\u001b[0m\u001b[1;33m\u001b[0m\u001b[0m\n\u001b[0;32m   1191\u001b[0m                 \u001b[0mcontext\u001b[0m\u001b[1;33m.\u001b[0m\u001b[0masync_wait\u001b[0m\u001b[1;33m(\u001b[0m\u001b[1;33m)\u001b[0m\u001b[1;33m\u001b[0m\u001b[1;33m\u001b[0m\u001b[0m\n",
      "\u001b[1;32m~\\AppData\\Roaming\\Python\\Python38\\site-packages\\tensorflow\\python\\eager\\def_function.py\u001b[0m in \u001b[0;36m__call__\u001b[1;34m(self, *args, **kwds)\u001b[0m\n\u001b[0;32m    883\u001b[0m \u001b[1;33m\u001b[0m\u001b[0m\n\u001b[0;32m    884\u001b[0m       \u001b[1;32mwith\u001b[0m \u001b[0mOptionalXlaContext\u001b[0m\u001b[1;33m(\u001b[0m\u001b[0mself\u001b[0m\u001b[1;33m.\u001b[0m\u001b[0m_jit_compile\u001b[0m\u001b[1;33m)\u001b[0m\u001b[1;33m:\u001b[0m\u001b[1;33m\u001b[0m\u001b[1;33m\u001b[0m\u001b[0m\n\u001b[1;32m--> 885\u001b[1;33m         \u001b[0mresult\u001b[0m \u001b[1;33m=\u001b[0m \u001b[0mself\u001b[0m\u001b[1;33m.\u001b[0m\u001b[0m_call\u001b[0m\u001b[1;33m(\u001b[0m\u001b[1;33m*\u001b[0m\u001b[0margs\u001b[0m\u001b[1;33m,\u001b[0m \u001b[1;33m**\u001b[0m\u001b[0mkwds\u001b[0m\u001b[1;33m)\u001b[0m\u001b[1;33m\u001b[0m\u001b[1;33m\u001b[0m\u001b[0m\n\u001b[0m\u001b[0;32m    886\u001b[0m \u001b[1;33m\u001b[0m\u001b[0m\n\u001b[0;32m    887\u001b[0m       \u001b[0mnew_tracing_count\u001b[0m \u001b[1;33m=\u001b[0m \u001b[0mself\u001b[0m\u001b[1;33m.\u001b[0m\u001b[0mexperimental_get_tracing_count\u001b[0m\u001b[1;33m(\u001b[0m\u001b[1;33m)\u001b[0m\u001b[1;33m\u001b[0m\u001b[1;33m\u001b[0m\u001b[0m\n",
      "\u001b[1;32m~\\AppData\\Roaming\\Python\\Python38\\site-packages\\tensorflow\\python\\eager\\def_function.py\u001b[0m in \u001b[0;36m_call\u001b[1;34m(self, *args, **kwds)\u001b[0m\n\u001b[0;32m    915\u001b[0m       \u001b[1;31m# In this case we have created variables on the first call, so we run the\u001b[0m\u001b[1;33m\u001b[0m\u001b[1;33m\u001b[0m\u001b[1;33m\u001b[0m\u001b[0m\n\u001b[0;32m    916\u001b[0m       \u001b[1;31m# defunned version which is guaranteed to never create variables.\u001b[0m\u001b[1;33m\u001b[0m\u001b[1;33m\u001b[0m\u001b[1;33m\u001b[0m\u001b[0m\n\u001b[1;32m--> 917\u001b[1;33m       \u001b[1;32mreturn\u001b[0m \u001b[0mself\u001b[0m\u001b[1;33m.\u001b[0m\u001b[0m_stateless_fn\u001b[0m\u001b[1;33m(\u001b[0m\u001b[1;33m*\u001b[0m\u001b[0margs\u001b[0m\u001b[1;33m,\u001b[0m \u001b[1;33m**\u001b[0m\u001b[0mkwds\u001b[0m\u001b[1;33m)\u001b[0m  \u001b[1;31m# pylint: disable=not-callable\u001b[0m\u001b[1;33m\u001b[0m\u001b[1;33m\u001b[0m\u001b[0m\n\u001b[0m\u001b[0;32m    918\u001b[0m     \u001b[1;32melif\u001b[0m \u001b[0mself\u001b[0m\u001b[1;33m.\u001b[0m\u001b[0m_stateful_fn\u001b[0m \u001b[1;32mis\u001b[0m \u001b[1;32mnot\u001b[0m \u001b[1;32mNone\u001b[0m\u001b[1;33m:\u001b[0m\u001b[1;33m\u001b[0m\u001b[1;33m\u001b[0m\u001b[0m\n\u001b[0;32m    919\u001b[0m       \u001b[1;31m# Release the lock early so that multiple threads can perform the call\u001b[0m\u001b[1;33m\u001b[0m\u001b[1;33m\u001b[0m\u001b[1;33m\u001b[0m\u001b[0m\n",
      "\u001b[1;32m~\\AppData\\Roaming\\Python\\Python38\\site-packages\\tensorflow\\python\\eager\\function.py\u001b[0m in \u001b[0;36m__call__\u001b[1;34m(self, *args, **kwargs)\u001b[0m\n\u001b[0;32m   3037\u001b[0m       (graph_function,\n\u001b[0;32m   3038\u001b[0m        filtered_flat_args) = self._maybe_define_function(args, kwargs)\n\u001b[1;32m-> 3039\u001b[1;33m     return graph_function._call_flat(\n\u001b[0m\u001b[0;32m   3040\u001b[0m         filtered_flat_args, captured_inputs=graph_function.captured_inputs)  # pylint: disable=protected-access\n\u001b[0;32m   3041\u001b[0m \u001b[1;33m\u001b[0m\u001b[0m\n",
      "\u001b[1;32m~\\AppData\\Roaming\\Python\\Python38\\site-packages\\tensorflow\\python\\eager\\function.py\u001b[0m in \u001b[0;36m_call_flat\u001b[1;34m(self, args, captured_inputs, cancellation_manager)\u001b[0m\n\u001b[0;32m   1961\u001b[0m         and executing_eagerly):\n\u001b[0;32m   1962\u001b[0m       \u001b[1;31m# No tape is watching; skip to running the function.\u001b[0m\u001b[1;33m\u001b[0m\u001b[1;33m\u001b[0m\u001b[1;33m\u001b[0m\u001b[0m\n\u001b[1;32m-> 1963\u001b[1;33m       return self._build_call_outputs(self._inference_function.call(\n\u001b[0m\u001b[0;32m   1964\u001b[0m           ctx, args, cancellation_manager=cancellation_manager))\n\u001b[0;32m   1965\u001b[0m     forward_backward = self._select_forward_and_backward_functions(\n",
      "\u001b[1;32m~\\AppData\\Roaming\\Python\\Python38\\site-packages\\tensorflow\\python\\eager\\function.py\u001b[0m in \u001b[0;36mcall\u001b[1;34m(self, ctx, args, cancellation_manager)\u001b[0m\n\u001b[0;32m    589\u001b[0m       \u001b[1;32mwith\u001b[0m \u001b[0m_InterpolateFunctionError\u001b[0m\u001b[1;33m(\u001b[0m\u001b[0mself\u001b[0m\u001b[1;33m)\u001b[0m\u001b[1;33m:\u001b[0m\u001b[1;33m\u001b[0m\u001b[1;33m\u001b[0m\u001b[0m\n\u001b[0;32m    590\u001b[0m         \u001b[1;32mif\u001b[0m \u001b[0mcancellation_manager\u001b[0m \u001b[1;32mis\u001b[0m \u001b[1;32mNone\u001b[0m\u001b[1;33m:\u001b[0m\u001b[1;33m\u001b[0m\u001b[1;33m\u001b[0m\u001b[0m\n\u001b[1;32m--> 591\u001b[1;33m           outputs = execute.execute(\n\u001b[0m\u001b[0;32m    592\u001b[0m               \u001b[0mstr\u001b[0m\u001b[1;33m(\u001b[0m\u001b[0mself\u001b[0m\u001b[1;33m.\u001b[0m\u001b[0msignature\u001b[0m\u001b[1;33m.\u001b[0m\u001b[0mname\u001b[0m\u001b[1;33m)\u001b[0m\u001b[1;33m,\u001b[0m\u001b[1;33m\u001b[0m\u001b[1;33m\u001b[0m\u001b[0m\n\u001b[0;32m    593\u001b[0m               \u001b[0mnum_outputs\u001b[0m\u001b[1;33m=\u001b[0m\u001b[0mself\u001b[0m\u001b[1;33m.\u001b[0m\u001b[0m_num_outputs\u001b[0m\u001b[1;33m,\u001b[0m\u001b[1;33m\u001b[0m\u001b[1;33m\u001b[0m\u001b[0m\n",
      "\u001b[1;32m~\\AppData\\Roaming\\Python\\Python38\\site-packages\\tensorflow\\python\\eager\\execute.py\u001b[0m in \u001b[0;36mquick_execute\u001b[1;34m(op_name, num_outputs, inputs, attrs, ctx, name)\u001b[0m\n\u001b[0;32m     57\u001b[0m   \u001b[1;32mtry\u001b[0m\u001b[1;33m:\u001b[0m\u001b[1;33m\u001b[0m\u001b[1;33m\u001b[0m\u001b[0m\n\u001b[0;32m     58\u001b[0m     \u001b[0mctx\u001b[0m\u001b[1;33m.\u001b[0m\u001b[0mensure_initialized\u001b[0m\u001b[1;33m(\u001b[0m\u001b[1;33m)\u001b[0m\u001b[1;33m\u001b[0m\u001b[1;33m\u001b[0m\u001b[0m\n\u001b[1;32m---> 59\u001b[1;33m     tensors = pywrap_tfe.TFE_Py_Execute(ctx._handle, device_name, op_name,\n\u001b[0m\u001b[0;32m     60\u001b[0m                                         inputs, attrs, num_outputs)\n\u001b[0;32m     61\u001b[0m   \u001b[1;32mexcept\u001b[0m \u001b[0mcore\u001b[0m\u001b[1;33m.\u001b[0m\u001b[0m_NotOkStatusException\u001b[0m \u001b[1;32mas\u001b[0m \u001b[0me\u001b[0m\u001b[1;33m:\u001b[0m\u001b[1;33m\u001b[0m\u001b[1;33m\u001b[0m\u001b[0m\n",
      "\u001b[1;31mKeyboardInterrupt\u001b[0m: "
     ]
    }
   ],
   "source": [
    "%%time\n",
    "EPOCHS = 120\n",
    "#se usa el repeat para llamar al generador mas de una vez\n",
    "#steps_per_epoch  = numero de batches de los datos para determinar una epoca terminada \n",
    "#Por defecto -> number of samples in your dataset divided by the batch size (LEN_DT//BATCH_SIZE_TRAIN)\n",
    "#verbose = mostrar el avance del entrenamiento\n",
    "#validation_steps = numero de batches de datos para validar en cada epoca\n",
    "#workers?\n",
    "#max_queue_size?\n",
    "history = model.fit(dataset_train.repeat(), \n",
    "                    epochs=EPOCHS, \n",
    "                    steps_per_epoch = len(X_train),\n",
    "                    callbacks=callbacks, \n",
    "                    verbose=1,\n",
    "                    validation_data = dataset_val.repeat(),\n",
    "                    validation_steps= len(X_val))"
   ]
  },
  {
   "cell_type": "markdown",
   "id": "accepting-photography",
   "metadata": {},
   "source": [
    "#### Se guarda el Modelo"
   ]
  },
  {
   "cell_type": "code",
   "execution_count": 52,
   "id": "universal-fraud",
   "metadata": {},
   "outputs": [],
   "source": [
    "I = 0\n",
    "model.save(f'Modelos/{dataset_name}_{I}.h5')"
   ]
  },
  {
   "cell_type": "markdown",
   "id": "sized-differential",
   "metadata": {},
   "source": [
    "### Evaluación del Modelo"
   ]
  },
  {
   "cell_type": "markdown",
   "id": "pending-climate",
   "metadata": {},
   "source": [
    "#### Se carga el modelo"
   ]
  },
  {
   "cell_type": "code",
   "execution_count": 53,
   "id": "excessive-meaning",
   "metadata": {},
   "outputs": [
    {
     "name": "stdout",
     "output_type": "stream",
     "text": [
      "Model: \"sequential_1\"\n",
      "_________________________________________________________________\n",
      "Layer (type)                 Output Shape              Param #   \n",
      "=================================================================\n",
      "lstm_3 (LSTM)                (None, None, 128)         78336     \n",
      "_________________________________________________________________\n",
      "conv1d_2 (Conv1D)            (None, None, 128)         114816    \n",
      "_________________________________________________________________\n",
      "lstm_4 (LSTM)                (None, None, 64)          49408     \n",
      "_________________________________________________________________\n",
      "conv1d_3 (Conv1D)            (None, None, 64)          28736     \n",
      "_________________________________________________________________\n",
      "lstm_5 (LSTM)                (None, 32)                12416     \n",
      "_________________________________________________________________\n",
      "dense_4 (Dense)              (None, 128)               4224      \n",
      "_________________________________________________________________\n",
      "dense_5 (Dense)              (None, 64)                8256      \n",
      "_________________________________________________________________\n",
      "dense_6 (Dense)              (None, 32)                2080      \n",
      "_________________________________________________________________\n",
      "dense_7 (Dense)              (None, 4)                 132       \n",
      "=================================================================\n",
      "Total params: 298,404\n",
      "Trainable params: 298,404\n",
      "Non-trainable params: 0\n",
      "_________________________________________________________________\n"
     ]
    }
   ],
   "source": [
    "model = tf.keras.models.load_model(f'Modelos/{dataset_name}_{I}.h5')\n",
    "model.summary()"
   ]
  },
  {
   "cell_type": "markdown",
   "id": "monetary-commons",
   "metadata": {},
   "source": [
    "#### Evaluación con dataset de prueba"
   ]
  },
  {
   "cell_type": "code",
   "execution_count": 54,
   "id": "ahead-delhi",
   "metadata": {},
   "outputs": [
    {
     "name": "stdout",
     "output_type": "stream",
     "text": [
      "1/1 [==============================] - 1s 1s/step - loss: 1.0294e-05 - mean_squared_error: 1.0294e-05\n",
      "K=450.9845276\n",
      "loss: 1.03e-05 -> 4.64e-03 RPM\n",
      "mean_squared_error: 1.03e-05 -> 4.64e-03 RPM\n",
      "Wall time: 1.15 s\n"
     ]
    }
   ],
   "source": [
    "%%time\n",
    "n_batches = np.ceil((len(X_test)*len(X_test[0])/N)/batch_size)\n",
    "losses = model.evaluate(dataset_test, steps = n_batches)\n",
    "K = df_desc[rpm_list[0]][\"max\"]-df_desc[rpm_list[0]][\"min\"] #Ganancia del actuador\n",
    "print(f'K={\"{:.2f}\".format(K)}')\n",
    "if not type(metrics) == list:\n",
    "    metrics = [metrics]\n",
    "for i, l in enumerate(['loss']+metrics):\n",
    "    print(f'{l}: {\"{:.2e}\".format(losses[i])} -> {\"{:.2e}\".format(losses[i]*K)} RPM')"
   ]
  },
  {
   "cell_type": "markdown",
   "id": "detected-grace",
   "metadata": {},
   "source": [
    "#### Evaluación con 1 trayectoria"
   ]
  },
  {
   "cell_type": "code",
   "execution_count": 55,
   "id": "outstanding-tower",
   "metadata": {},
   "outputs": [],
   "source": [
    "window_test = 3000\n",
    "test_traj_generator  = DataGenerator(X=X_test,  Y=Y_test,  batch_size=1, window=window_test, sequence_out=True)"
   ]
  },
  {
   "cell_type": "code",
   "execution_count": 56,
   "id": "lesbian-promotion",
   "metadata": {},
   "outputs": [
    {
     "name": "stdout",
     "output_type": "stream",
     "text": [
      "Wall time: 2min 39s\n"
     ]
    }
   ],
   "source": [
    "%%time\n",
    "X, Y = next(test_traj_generator.build_data())\n",
    "x = X[0]\n",
    "y = Y[0]\n",
    "y_pred = []\n",
    "for i in range(0, len(x)):\n",
    "    if i == 0:\n",
    "        x_temp = x[0].reshape(1,  1, X.shape[2])\n",
    "    elif i<=window:\n",
    "        x_temp = x[0:i].reshape(1,  i, X.shape[2])\n",
    "    else:\n",
    "        x_temp = x[i-window:i].reshape(1,  window, X.shape[2])\n",
    "    y_temp = model.predict(x_temp)\n",
    "    y_pred.append(y_temp)\n",
    "y_pred = np.array(y_pred).reshape(y.shape)"
   ]
  },
  {
   "cell_type": "markdown",
   "id": "selected-habitat",
   "metadata": {},
   "source": [
    "#### Visualización con 1 trayectoria"
   ]
  },
  {
   "cell_type": "code",
   "execution_count": 57,
   "id": "critical-bleeding",
   "metadata": {},
   "outputs": [],
   "source": [
    "t = np.arange(0, len(y)*Ts, Ts)"
   ]
  },
  {
   "cell_type": "code",
   "execution_count": 58,
   "id": "advanced-greek",
   "metadata": {
    "scrolled": true
   },
   "outputs": [
    {
     "data": {
      "image/png": "[encoded data removed]",
      "text/plain": [
       "<Figure size 504x1080 with 4 Axes>"
      ]
     },
     "metadata": {
      "needs_background": "light"
     },
     "output_type": "display_data"
    }
   ],
   "source": [
    "fig, axs = plt.subplots(Y.shape[2], figsize = (7,15))\n",
    "for i in range(Y.shape[2]):\n",
    "    axs[i].plot(t, y_pred[:,i], t, y[:,i])\n",
    "    axs[i].grid()"
   ]
  },
  {
   "cell_type": "code",
   "execution_count": 59,
   "id": "contained-constitution",
   "metadata": {},
   "outputs": [
    {
     "data": {
      "image/png": "[encoded data removed]",
      "text/plain": [
       "<Figure size 504x1080 with 4 Axes>"
      ]
     },
     "metadata": {
      "needs_background": "light"
     },
     "output_type": "display_data"
    }
   ],
   "source": [
    "fig, axs = plt.subplots(Y.shape[2], figsize = (7,15))\n",
    "for i in range(Y.shape[2]):\n",
    "    axs[i].plot(t[500:1000], y_pred[500:1000,i], t[500:1000], y[500:1000,i])\n",
    "    axs[i].grid()"
   ]
  },
  {
   "cell_type": "markdown",
   "id": "experienced-gravity",
   "metadata": {},
   "source": [
    "#### Tiempo de inferencia tamaño entrada"
   ]
  },
  {
   "cell_type": "code",
   "execution_count": 60,
   "id": "knowing-appearance",
   "metadata": {},
   "outputs": [],
   "source": [
    "import time\n",
    "\n",
    "def MSE(y, y_pred):\n",
    "    return (y-y_pred)**2\n",
    "\n",
    "window_test = 1000\n",
    "test_traj_batch = 100\n",
    "test_traj_generator  = DataGenerator(X=X_test,  Y=Y_test,  batch_size=test_traj_batch, window=window_test, sequence_out=True)\n",
    "\n",
    "window_len = []\n",
    "inf_time = []\n",
    "loss = []\n",
    "\n",
    "x, y = next(test_traj_generator.build_data())"
   ]
  },
  {
   "cell_type": "code",
   "execution_count": 61,
   "id": "italic-demonstration",
   "metadata": {},
   "outputs": [
    {
     "name": "stdout",
     "output_type": "stream",
     "text": [
      "iter= 74 de 100, i= 999, execution time= 410.39s\n",
      "Wall time: 6min 50s\n"
     ]
    }
   ],
   "source": [
    "%%time\n",
    "accum_time = 0\n",
    "n_iter = 100\n",
    "test_range = list(set(np.rint(np.logspace(0, np.log10(x.shape[1]-1), num=n_iter, endpoint=True))))\n",
    "test_range.sort()\n",
    "n_iter = len(test_range)\n",
    "for k, i in enumerate(list(map(int,test_range))):\n",
    "    inf_time_aux = []    # Tiempo de inferencia auxiliar\n",
    "    loss_aux = []    # Costo Auxiliar\n",
    "    init_time = time.time()\n",
    "    for j in range(len(x)):\n",
    "        x_5 = x[j][0:i].reshape(1,  i, x.shape[2])\n",
    "        start_time = time.time()\n",
    "        y_pred = model.predict(x_5)\n",
    "        finish_time = time.time() - start_time\n",
    "        inf_time_aux.append(finish_time)\n",
    "        loss_aux.append(\n",
    "            np.mean(\n",
    "                MSE(y[j][i], y_pred)\n",
    "            )\n",
    "        )\n",
    "    \n",
    "    window_len.append(i)\n",
    "    inf_time.append(np.mean(inf_time_aux))\n",
    "    loss.append(np.mean(loss_aux))\n",
    "    clear_output(wait=True)\n",
    "    accum_time += time.time()-init_time\n",
    "    print(f'iter = {k} de {test_range}, i = {i}, execution time = {\"{:.2f}\".format(np.max(accum_time))}s')"
   ]
  },
  {
   "cell_type": "code",
   "execution_count": 62,
   "id": "unnecessary-broadcast",
   "metadata": {},
   "outputs": [],
   "source": [
    "inf_time_norm = np.array(inf_time)/max(inf_time)\n",
    "loss_norm = np.array(loss)/max(loss)\n",
    "performance = 1/(np.array(loss)*np.array(inf_time))\n",
    "performance = np.array(performance)/max(performance)"
   ]
  },
  {
   "cell_type": "code",
   "execution_count": 63,
   "id": "premium-advance",
   "metadata": {},
   "outputs": [
    {
     "name": "stdout",
     "output_type": "stream",
     "text": [
      "Best window inference time=1 steps, time=39.84 ms\n",
      "Best window MSE loss=60 steps, MSE=5.43e-06\n",
      "Best window Performance (MSExTime)=59 steps, Value=1.55e-01\n"
     ]
    },
    {
     "data": {
      "image/png": "[encoded data removed]",
      "text/plain": [
       "<Figure size 432x288 with 1 Axes>"
      ]
     },
     "metadata": {
      "needs_background": "light"
     },
     "output_type": "display_data"
    }
   ],
   "source": [
    "plt.figure()\n",
    "plt.plot(window_len, inf_time_norm, label='Normalized inference time', alpha=0.7)\n",
    "plt.plot(window_len, loss_norm, label='Normalized average MSE', alpha=0.7)\n",
    "plt.plot(window_len, performance, label='Performance=1/(MSE*Time)', alpha=0.7)\n",
    "plt.xlabel(\"Window Size\")\n",
    "plt.legend(loc=1)\n",
    "plt.grid()\n",
    "\n",
    "print(f'Best window inference time={np.argmin(inf_time_norm)} steps, time={\"{:.2f}\".format(np.min(inf_time)*1000)} ms')\n",
    "print(f'Best window MSE loss={np.argmin(loss_norm)} steps, MSE={\"{:.2e}\".format(np.min(loss))}')\n",
    "print(f'Best window Performance (MSExTime)={np.argmax(performance)} steps, Value={\"{:.2e}\".format(np.max(loss)/np.min(inf_time))}')"
   ]
  },
  {
   "cell_type": "code",
   "execution_count": 64,
   "id": "contrary-forest",
   "metadata": {},
   "outputs": [
    {
     "data": {
      "image/png": "[encoded data removed]",
      "text/plain": [
       "<Figure size 432x288 with 1 Axes>"
      ]
     },
     "metadata": {
      "needs_background": "light"
     },
     "output_type": "display_data"
    }
   ],
   "source": [
    "plt.figure()\n",
    "plt.semilogx(window_len, inf_time_norm, label='Normalized inference time', alpha=0.7)\n",
    "plt.semilogx(window_len, loss_norm, label='Normalized average MSE', alpha=0.7)\n",
    "plt.semilogx(window_len, performance, label='Performance=1/(MSE*Time)', alpha=0.7)\n",
    "plt.xlabel(\"Window Size\")\n",
    "plt.legend(loc=1)\n",
    "plt.grid()"
   ]
  },
  {
   "cell_type": "code",
   "execution_count": null,
   "id": "collective-alexandria",
   "metadata": {},
   "outputs": [],
   "source": []
  }
 ],
 "metadata": {
  "kernelspec": {
   "display_name": "drone-matlab",
   "language": "python",
   "name": "drone-matlab"
  },
  "language_info": {
   "codemirror_mode": {
    "name": "ipython",
    "version": 3
   },
   "file_extension": ".py",
   "mimetype": "text/x-python",
   "name": "python",
   "nbconvert_exporter": "python",
   "pygments_lexer": "ipython3",
   "version": "3.7.11"
  }
 },
 "nbformat": 4,
 "nbformat_minor": 5
}
