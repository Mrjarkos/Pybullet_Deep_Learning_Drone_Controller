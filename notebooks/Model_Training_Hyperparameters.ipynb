{
 "cells": [
  {
   "cell_type": "markdown",
   "id": "relevant-director",
   "metadata": {},
   "source": [
    "## Model Train 1 - Tesis Javier-Uriel"
   ]
  },
  {
   "cell_type": "markdown",
   "id": "binary-dodge",
   "metadata": {},
   "source": [
    "### Importamos algunas librerías que nos serán útiles más adelante"
   ]
  },
  {
   "cell_type": "code",
   "execution_count": 1,
   "id": "formal-genetics",
   "metadata": {},
   "outputs": [
    {
     "name": "stdout",
     "output_type": "stream",
     "text": [
      "Num GPUs Available:  1\n"
     ]
    }
   ],
   "source": [
    "import os\n",
    "import json\n",
    "import random\n",
    "import pandas as pd\n",
    "import matplotlib.pyplot as plt\n",
    "\n",
    "import tensorflow as tf\n",
    "from tensorflow.keras import models, layers\n",
    "assert (tf.__version__=='2.4.1'), 'Versión incorrecta de Tensorflow, por favor instale 2.4.1'\n",
    "print(\"Num GPUs Available: \", len(tf.config.list_physical_devices('GPU')))\n",
    "\n",
    "from sklearn.model_selection import train_test_split\n",
    "from sklearn.utils import shuffle\n",
    "from IPython.display import clear_output\n",
    "\n",
    "pd.set_option('display.max_columns', None) #Para mostrar todas las columnas\n",
    "\n",
    "import gc #garbage collector"
   ]
  },
  {
   "cell_type": "code",
   "execution_count": 2,
   "id": "ethical-sullivan",
   "metadata": {},
   "outputs": [
    {
     "name": "stdout",
     "output_type": "stream",
     "text": [
      "1 Physical GPUs, 1 Logical GPUs\n"
     ]
    }
   ],
   "source": [
    "gpus = tf.config.list_physical_devices('GPU') \n",
    "if gpus:\n",
    "  try:\n",
    "    # Currently, memory growth needs to be the same across GPUs\n",
    "    for gpu in gpus:\n",
    "      tf.config.experimental.set_memory_growth(gpu, True)\n",
    "    logical_gpus = tf.config.experimental.list_logical_devices('GPU')\n",
    "    print(len(gpus), \"Physical GPUs,\", len(logical_gpus), \"Logical GPUs\")\n",
    "  except RuntimeError as e:\n",
    "    # Memory growth must be set before GPUs have been initialized\n",
    "    print(e)"
   ]
  },
  {
   "cell_type": "markdown",
   "id": "combined-generic",
   "metadata": {},
   "source": [
    "### Leemos el Dataset"
   ]
  },
  {
   "cell_type": "code",
   "execution_count": 3,
   "id": "temporal-quebec",
   "metadata": {},
   "outputs": [],
   "source": [
    "#Dataset solo movimientos en Z\n",
    "dataset_name = \"Dataset_Z3\"\n",
    "directory = \"../logs/Datasets/\"+dataset_name\n",
    "ORDER = 3  #Número de estados retrasados\n",
    "rpm_list = ['RPM0', 'RPM1', 'RPM2', 'RPM3'] #Lista de Acciones\n",
    "states_list = [\"vz\",\"az\", \"uvz\"]#, #Lista de Estados\n",
    "#                    \"p\", \"q\",\n",
    "#                    \"wp\", \"wq\", \n",
    "#                    \"ap\", \"aq\"]"
   ]
  },
  {
   "cell_type": "code",
   "execution_count": 4,
   "id": "multiple-hawaiian",
   "metadata": {},
   "outputs": [],
   "source": [
    "def pandas_read():\n",
    "    dfs = []\n",
    "    global states_list\n",
    "    # reading train data\n",
    "    for filename in os.listdir(directory):\n",
    "        if not filename.endswith(\".csv\"):\n",
    "            continue\n",
    "        df = pd.read_csv(os.path.join(directory, filename))\n",
    "        a = []\n",
    "        ## Desplazamos estados anteriores        \n",
    "        for n in range(1,ORDER+1):\n",
    "            for column in states_list:\n",
    "                df[column+str(n)] = df[column].shift(periods=n, fill_value=0)\n",
    "                a.append(column+str(n))\n",
    "        dfs.append(df)\n",
    "    states_list+=a       \n",
    "\n",
    "    return pd.concat(dfs)"
   ]
  },
  {
   "cell_type": "code",
   "execution_count": 5,
   "id": "backed-overview",
   "metadata": {},
   "outputs": [
    {
     "data": {
      "text/plain": [
       "22"
      ]
     },
     "execution_count": 5,
     "metadata": {},
     "output_type": "execute_result"
    }
   ],
   "source": [
    "dataset = pandas_read()\n",
    "gc.collect()"
   ]
  },
  {
   "cell_type": "code",
   "execution_count": 6,
   "id": "professional-array",
   "metadata": {},
   "outputs": [
    {
     "data": {
      "text/html": [
       "<div>\n",
       "<style scoped>\n",
       "    .dataframe tbody tr th:only-of-type {\n",
       "        vertical-align: middle;\n",
       "    }\n",
       "\n",
       "    .dataframe tbody tr th {\n",
       "        vertical-align: top;\n",
       "    }\n",
       "\n",
       "    .dataframe thead th {\n",
       "        text-align: right;\n",
       "    }\n",
       "</style>\n",
       "<table border=\"1\" class=\"dataframe\">\n",
       "  <thead>\n",
       "    <tr style=\"text-align: right;\">\n",
       "      <th></th>\n",
       "      <th>timestamps</th>\n",
       "      <th>x</th>\n",
       "      <th>y</th>\n",
       "      <th>z</th>\n",
       "      <th>Q1</th>\n",
       "      <th>Q2</th>\n",
       "      <th>Q3</th>\n",
       "      <th>Q4</th>\n",
       "      <th>p</th>\n",
       "      <th>q</th>\n",
       "      <th>r</th>\n",
       "      <th>vx</th>\n",
       "      <th>vy</th>\n",
       "      <th>vz</th>\n",
       "      <th>wp</th>\n",
       "      <th>wq</th>\n",
       "      <th>wr</th>\n",
       "      <th>ax</th>\n",
       "      <th>ay</th>\n",
       "      <th>az</th>\n",
       "      <th>ap</th>\n",
       "      <th>aq</th>\n",
       "      <th>ar</th>\n",
       "      <th>RPM0</th>\n",
       "      <th>RPM1</th>\n",
       "      <th>RPM2</th>\n",
       "      <th>RPM3</th>\n",
       "      <th>ux</th>\n",
       "      <th>uy</th>\n",
       "      <th>uz</th>\n",
       "      <th>uvx</th>\n",
       "      <th>uvy</th>\n",
       "      <th>uvz</th>\n",
       "      <th>up</th>\n",
       "      <th>uq</th>\n",
       "      <th>ur</th>\n",
       "      <th>uwp</th>\n",
       "      <th>uwq</th>\n",
       "      <th>uwr</th>\n",
       "      <th>vz1</th>\n",
       "      <th>vz2</th>\n",
       "      <th>vz3</th>\n",
       "      <th>az1</th>\n",
       "      <th>az2</th>\n",
       "      <th>az3</th>\n",
       "      <th>uvz1</th>\n",
       "      <th>uvz2</th>\n",
       "      <th>uvz3</th>\n",
       "    </tr>\n",
       "  </thead>\n",
       "  <tbody>\n",
       "    <tr>\n",
       "      <th>0</th>\n",
       "      <td>0.000000</td>\n",
       "      <td>0.0</td>\n",
       "      <td>0.0</td>\n",
       "      <td>24.999830</td>\n",
       "      <td>0.0</td>\n",
       "      <td>0.0</td>\n",
       "      <td>0.0</td>\n",
       "      <td>1.0</td>\n",
       "      <td>0.0</td>\n",
       "      <td>-0.0</td>\n",
       "      <td>0.0</td>\n",
       "      <td>0.0</td>\n",
       "      <td>0.0</td>\n",
       "      <td>-0.040833</td>\n",
       "      <td>0.0</td>\n",
       "      <td>0.0</td>\n",
       "      <td>0.0</td>\n",
       "      <td>0.0</td>\n",
       "      <td>0.0</td>\n",
       "      <td>-9.800000</td>\n",
       "      <td>0.0</td>\n",
       "      <td>0.0</td>\n",
       "      <td>0.0</td>\n",
       "      <td>21666.4475</td>\n",
       "      <td>21666.4475</td>\n",
       "      <td>21666.4475</td>\n",
       "      <td>21666.4475</td>\n",
       "      <td>0.0</td>\n",
       "      <td>0.0</td>\n",
       "      <td>25.0</td>\n",
       "      <td>0.0</td>\n",
       "      <td>0.0</td>\n",
       "      <td>1.907893</td>\n",
       "      <td>0.0</td>\n",
       "      <td>0.0</td>\n",
       "      <td>0.0</td>\n",
       "      <td>0.0</td>\n",
       "      <td>0.0</td>\n",
       "      <td>0.0</td>\n",
       "      <td>0.000000</td>\n",
       "      <td>0.000000</td>\n",
       "      <td>0.000000</td>\n",
       "      <td>0.000000</td>\n",
       "      <td>0.00000</td>\n",
       "      <td>0.00000</td>\n",
       "      <td>0.000000</td>\n",
       "      <td>0.000000</td>\n",
       "      <td>0.000000</td>\n",
       "    </tr>\n",
       "    <tr>\n",
       "      <th>1</th>\n",
       "      <td>0.004167</td>\n",
       "      <td>0.0</td>\n",
       "      <td>0.0</td>\n",
       "      <td>24.999871</td>\n",
       "      <td>0.0</td>\n",
       "      <td>0.0</td>\n",
       "      <td>0.0</td>\n",
       "      <td>1.0</td>\n",
       "      <td>0.0</td>\n",
       "      <td>-0.0</td>\n",
       "      <td>0.0</td>\n",
       "      <td>0.0</td>\n",
       "      <td>0.0</td>\n",
       "      <td>0.009909</td>\n",
       "      <td>0.0</td>\n",
       "      <td>0.0</td>\n",
       "      <td>0.0</td>\n",
       "      <td>0.0</td>\n",
       "      <td>0.0</td>\n",
       "      <td>12.178210</td>\n",
       "      <td>0.0</td>\n",
       "      <td>0.0</td>\n",
       "      <td>0.0</td>\n",
       "      <td>21666.4475</td>\n",
       "      <td>21666.4475</td>\n",
       "      <td>21666.4475</td>\n",
       "      <td>21666.4475</td>\n",
       "      <td>0.0</td>\n",
       "      <td>0.0</td>\n",
       "      <td>25.0</td>\n",
       "      <td>0.0</td>\n",
       "      <td>0.0</td>\n",
       "      <td>1.907893</td>\n",
       "      <td>0.0</td>\n",
       "      <td>0.0</td>\n",
       "      <td>0.0</td>\n",
       "      <td>0.0</td>\n",
       "      <td>0.0</td>\n",
       "      <td>0.0</td>\n",
       "      <td>-0.040833</td>\n",
       "      <td>0.000000</td>\n",
       "      <td>0.000000</td>\n",
       "      <td>-9.800000</td>\n",
       "      <td>0.00000</td>\n",
       "      <td>0.00000</td>\n",
       "      <td>1.907893</td>\n",
       "      <td>0.000000</td>\n",
       "      <td>0.000000</td>\n",
       "    </tr>\n",
       "    <tr>\n",
       "      <th>2</th>\n",
       "      <td>0.008333</td>\n",
       "      <td>0.0</td>\n",
       "      <td>0.0</td>\n",
       "      <td>25.000124</td>\n",
       "      <td>0.0</td>\n",
       "      <td>0.0</td>\n",
       "      <td>0.0</td>\n",
       "      <td>1.0</td>\n",
       "      <td>0.0</td>\n",
       "      <td>-0.0</td>\n",
       "      <td>0.0</td>\n",
       "      <td>0.0</td>\n",
       "      <td>0.0</td>\n",
       "      <td>0.060643</td>\n",
       "      <td>0.0</td>\n",
       "      <td>0.0</td>\n",
       "      <td>0.0</td>\n",
       "      <td>0.0</td>\n",
       "      <td>0.0</td>\n",
       "      <td>12.176110</td>\n",
       "      <td>0.0</td>\n",
       "      <td>0.0</td>\n",
       "      <td>0.0</td>\n",
       "      <td>21666.4475</td>\n",
       "      <td>21666.4475</td>\n",
       "      <td>21666.4475</td>\n",
       "      <td>21666.4475</td>\n",
       "      <td>0.0</td>\n",
       "      <td>0.0</td>\n",
       "      <td>25.0</td>\n",
       "      <td>0.0</td>\n",
       "      <td>0.0</td>\n",
       "      <td>1.907893</td>\n",
       "      <td>0.0</td>\n",
       "      <td>0.0</td>\n",
       "      <td>0.0</td>\n",
       "      <td>0.0</td>\n",
       "      <td>0.0</td>\n",
       "      <td>0.0</td>\n",
       "      <td>0.009909</td>\n",
       "      <td>-0.040833</td>\n",
       "      <td>0.000000</td>\n",
       "      <td>12.178210</td>\n",
       "      <td>-9.80000</td>\n",
       "      <td>0.00000</td>\n",
       "      <td>1.907893</td>\n",
       "      <td>1.907893</td>\n",
       "      <td>0.000000</td>\n",
       "    </tr>\n",
       "    <tr>\n",
       "      <th>3</th>\n",
       "      <td>0.012500</td>\n",
       "      <td>0.0</td>\n",
       "      <td>0.0</td>\n",
       "      <td>25.000588</td>\n",
       "      <td>0.0</td>\n",
       "      <td>0.0</td>\n",
       "      <td>0.0</td>\n",
       "      <td>1.0</td>\n",
       "      <td>0.0</td>\n",
       "      <td>-0.0</td>\n",
       "      <td>0.0</td>\n",
       "      <td>0.0</td>\n",
       "      <td>0.0</td>\n",
       "      <td>0.111368</td>\n",
       "      <td>0.0</td>\n",
       "      <td>0.0</td>\n",
       "      <td>0.0</td>\n",
       "      <td>0.0</td>\n",
       "      <td>0.0</td>\n",
       "      <td>12.173937</td>\n",
       "      <td>0.0</td>\n",
       "      <td>0.0</td>\n",
       "      <td>0.0</td>\n",
       "      <td>21666.4475</td>\n",
       "      <td>21666.4475</td>\n",
       "      <td>21666.4475</td>\n",
       "      <td>21666.4475</td>\n",
       "      <td>0.0</td>\n",
       "      <td>0.0</td>\n",
       "      <td>25.0</td>\n",
       "      <td>0.0</td>\n",
       "      <td>0.0</td>\n",
       "      <td>1.907893</td>\n",
       "      <td>0.0</td>\n",
       "      <td>0.0</td>\n",
       "      <td>0.0</td>\n",
       "      <td>0.0</td>\n",
       "      <td>0.0</td>\n",
       "      <td>0.0</td>\n",
       "      <td>0.060643</td>\n",
       "      <td>0.009909</td>\n",
       "      <td>-0.040833</td>\n",
       "      <td>12.176110</td>\n",
       "      <td>12.17821</td>\n",
       "      <td>-9.80000</td>\n",
       "      <td>1.907893</td>\n",
       "      <td>1.907893</td>\n",
       "      <td>1.907893</td>\n",
       "    </tr>\n",
       "    <tr>\n",
       "      <th>4</th>\n",
       "      <td>0.016667</td>\n",
       "      <td>0.0</td>\n",
       "      <td>0.0</td>\n",
       "      <td>25.001263</td>\n",
       "      <td>0.0</td>\n",
       "      <td>0.0</td>\n",
       "      <td>0.0</td>\n",
       "      <td>1.0</td>\n",
       "      <td>0.0</td>\n",
       "      <td>-0.0</td>\n",
       "      <td>0.0</td>\n",
       "      <td>0.0</td>\n",
       "      <td>0.0</td>\n",
       "      <td>0.162083</td>\n",
       "      <td>0.0</td>\n",
       "      <td>0.0</td>\n",
       "      <td>0.0</td>\n",
       "      <td>0.0</td>\n",
       "      <td>0.0</td>\n",
       "      <td>12.171559</td>\n",
       "      <td>0.0</td>\n",
       "      <td>0.0</td>\n",
       "      <td>0.0</td>\n",
       "      <td>21666.4475</td>\n",
       "      <td>21666.4475</td>\n",
       "      <td>21666.4475</td>\n",
       "      <td>21666.4475</td>\n",
       "      <td>0.0</td>\n",
       "      <td>0.0</td>\n",
       "      <td>25.0</td>\n",
       "      <td>0.0</td>\n",
       "      <td>0.0</td>\n",
       "      <td>1.907893</td>\n",
       "      <td>0.0</td>\n",
       "      <td>0.0</td>\n",
       "      <td>0.0</td>\n",
       "      <td>0.0</td>\n",
       "      <td>0.0</td>\n",
       "      <td>0.0</td>\n",
       "      <td>0.111368</td>\n",
       "      <td>0.060643</td>\n",
       "      <td>0.009909</td>\n",
       "      <td>12.173937</td>\n",
       "      <td>12.17611</td>\n",
       "      <td>12.17821</td>\n",
       "      <td>1.907893</td>\n",
       "      <td>1.907893</td>\n",
       "      <td>1.907893</td>\n",
       "    </tr>\n",
       "  </tbody>\n",
       "</table>\n",
       "</div>"
      ],
      "text/plain": [
       "   timestamps    x    y          z   Q1   Q2   Q3   Q4    p    q    r   vx  \\\n",
       "0    0.000000  0.0  0.0  24.999830  0.0  0.0  0.0  1.0  0.0 -0.0  0.0  0.0   \n",
       "1    0.004167  0.0  0.0  24.999871  0.0  0.0  0.0  1.0  0.0 -0.0  0.0  0.0   \n",
       "2    0.008333  0.0  0.0  25.000124  0.0  0.0  0.0  1.0  0.0 -0.0  0.0  0.0   \n",
       "3    0.012500  0.0  0.0  25.000588  0.0  0.0  0.0  1.0  0.0 -0.0  0.0  0.0   \n",
       "4    0.016667  0.0  0.0  25.001263  0.0  0.0  0.0  1.0  0.0 -0.0  0.0  0.0   \n",
       "\n",
       "    vy        vz   wp   wq   wr   ax   ay         az   ap   aq   ar  \\\n",
       "0  0.0 -0.040833  0.0  0.0  0.0  0.0  0.0  -9.800000  0.0  0.0  0.0   \n",
       "1  0.0  0.009909  0.0  0.0  0.0  0.0  0.0  12.178210  0.0  0.0  0.0   \n",
       "2  0.0  0.060643  0.0  0.0  0.0  0.0  0.0  12.176110  0.0  0.0  0.0   \n",
       "3  0.0  0.111368  0.0  0.0  0.0  0.0  0.0  12.173937  0.0  0.0  0.0   \n",
       "4  0.0  0.162083  0.0  0.0  0.0  0.0  0.0  12.171559  0.0  0.0  0.0   \n",
       "\n",
       "         RPM0        RPM1        RPM2        RPM3   ux   uy    uz  uvx  uvy  \\\n",
       "0  21666.4475  21666.4475  21666.4475  21666.4475  0.0  0.0  25.0  0.0  0.0   \n",
       "1  21666.4475  21666.4475  21666.4475  21666.4475  0.0  0.0  25.0  0.0  0.0   \n",
       "2  21666.4475  21666.4475  21666.4475  21666.4475  0.0  0.0  25.0  0.0  0.0   \n",
       "3  21666.4475  21666.4475  21666.4475  21666.4475  0.0  0.0  25.0  0.0  0.0   \n",
       "4  21666.4475  21666.4475  21666.4475  21666.4475  0.0  0.0  25.0  0.0  0.0   \n",
       "\n",
       "        uvz   up   uq   ur  uwp  uwq  uwr       vz1       vz2       vz3  \\\n",
       "0  1.907893  0.0  0.0  0.0  0.0  0.0  0.0  0.000000  0.000000  0.000000   \n",
       "1  1.907893  0.0  0.0  0.0  0.0  0.0  0.0 -0.040833  0.000000  0.000000   \n",
       "2  1.907893  0.0  0.0  0.0  0.0  0.0  0.0  0.009909 -0.040833  0.000000   \n",
       "3  1.907893  0.0  0.0  0.0  0.0  0.0  0.0  0.060643  0.009909 -0.040833   \n",
       "4  1.907893  0.0  0.0  0.0  0.0  0.0  0.0  0.111368  0.060643  0.009909   \n",
       "\n",
       "         az1       az2       az3      uvz1      uvz2      uvz3  \n",
       "0   0.000000   0.00000   0.00000  0.000000  0.000000  0.000000  \n",
       "1  -9.800000   0.00000   0.00000  1.907893  0.000000  0.000000  \n",
       "2  12.178210  -9.80000   0.00000  1.907893  1.907893  0.000000  \n",
       "3  12.176110  12.17821  -9.80000  1.907893  1.907893  1.907893  \n",
       "4  12.173937  12.17611  12.17821  1.907893  1.907893  1.907893  "
      ]
     },
     "execution_count": 6,
     "metadata": {},
     "output_type": "execute_result"
    }
   ],
   "source": [
    "dataset.head()"
   ]
  },
  {
   "cell_type": "markdown",
   "id": "right-dating",
   "metadata": {},
   "source": [
    "### Estados repetidos\n",
    "\n",
    "En este caso se eliminan estados repetidos y estados que se encuentren en estado transitorio mientras el dron despega o se estabiliza antes de introducir la señal de control."
   ]
  },
  {
   "cell_type": "code",
   "execution_count": 7,
   "id": "simplified-seating",
   "metadata": {},
   "outputs": [
    {
     "name": "stdout",
     "output_type": "stream",
     "text": [
      "len (b4 drop) - len = 495630\n"
     ]
    }
   ],
   "source": [
    "shape_b4 = dataset.shape\n",
    "dataset = dataset.drop([\"timestamps\"], axis=1).drop_duplicates()\n",
    "print(f'len (b4 drop) - len = {shape_b4[0]-dataset.shape[0]}')"
   ]
  },
  {
   "cell_type": "markdown",
   "id": "developing-administrator",
   "metadata": {},
   "source": [
    "### División del dataset en estados y acciones"
   ]
  },
  {
   "cell_type": "code",
   "execution_count": 8,
   "id": "voluntary-opinion",
   "metadata": {},
   "outputs": [
    {
     "data": {
      "text/html": [
       "<div>\n",
       "<style scoped>\n",
       "    .dataframe tbody tr th:only-of-type {\n",
       "        vertical-align: middle;\n",
       "    }\n",
       "\n",
       "    .dataframe tbody tr th {\n",
       "        vertical-align: top;\n",
       "    }\n",
       "\n",
       "    .dataframe thead th {\n",
       "        text-align: right;\n",
       "    }\n",
       "</style>\n",
       "<table border=\"1\" class=\"dataframe\">\n",
       "  <thead>\n",
       "    <tr style=\"text-align: right;\">\n",
       "      <th></th>\n",
       "      <th>RPM0</th>\n",
       "      <th>RPM1</th>\n",
       "      <th>RPM2</th>\n",
       "      <th>RPM3</th>\n",
       "    </tr>\n",
       "  </thead>\n",
       "  <tbody>\n",
       "    <tr>\n",
       "      <th>count</th>\n",
       "      <td>8.791987e+06</td>\n",
       "      <td>8.791987e+06</td>\n",
       "      <td>8.791987e+06</td>\n",
       "      <td>8.791987e+06</td>\n",
       "    </tr>\n",
       "    <tr>\n",
       "      <th>mean</th>\n",
       "      <td>1.439225e+04</td>\n",
       "      <td>1.439225e+04</td>\n",
       "      <td>1.439225e+04</td>\n",
       "      <td>1.439224e+04</td>\n",
       "    </tr>\n",
       "    <tr>\n",
       "      <th>std</th>\n",
       "      <td>1.754389e+03</td>\n",
       "      <td>1.754389e+03</td>\n",
       "      <td>1.754391e+03</td>\n",
       "      <td>1.754391e+03</td>\n",
       "    </tr>\n",
       "    <tr>\n",
       "      <th>min</th>\n",
       "      <td>0.000000e+00</td>\n",
       "      <td>0.000000e+00</td>\n",
       "      <td>0.000000e+00</td>\n",
       "      <td>0.000000e+00</td>\n",
       "    </tr>\n",
       "    <tr>\n",
       "      <th>25%</th>\n",
       "      <td>1.436491e+04</td>\n",
       "      <td>1.436492e+04</td>\n",
       "      <td>1.436492e+04</td>\n",
       "      <td>1.436491e+04</td>\n",
       "    </tr>\n",
       "    <tr>\n",
       "      <th>50%</th>\n",
       "      <td>1.447017e+04</td>\n",
       "      <td>1.447017e+04</td>\n",
       "      <td>1.447017e+04</td>\n",
       "      <td>1.447017e+04</td>\n",
       "    </tr>\n",
       "    <tr>\n",
       "      <th>75%</th>\n",
       "      <td>1.465628e+04</td>\n",
       "      <td>1.465628e+04</td>\n",
       "      <td>1.465628e+04</td>\n",
       "      <td>1.465628e+04</td>\n",
       "    </tr>\n",
       "    <tr>\n",
       "      <th>max</th>\n",
       "      <td>2.166645e+04</td>\n",
       "      <td>2.166645e+04</td>\n",
       "      <td>2.166645e+04</td>\n",
       "      <td>2.166645e+04</td>\n",
       "    </tr>\n",
       "  </tbody>\n",
       "</table>\n",
       "</div>"
      ],
      "text/plain": [
       "               RPM0          RPM1          RPM2          RPM3\n",
       "count  8.791987e+06  8.791987e+06  8.791987e+06  8.791987e+06\n",
       "mean   1.439225e+04  1.439225e+04  1.439225e+04  1.439224e+04\n",
       "std    1.754389e+03  1.754389e+03  1.754391e+03  1.754391e+03\n",
       "min    0.000000e+00  0.000000e+00  0.000000e+00  0.000000e+00\n",
       "25%    1.436491e+04  1.436492e+04  1.436492e+04  1.436491e+04\n",
       "50%    1.447017e+04  1.447017e+04  1.447017e+04  1.447017e+04\n",
       "75%    1.465628e+04  1.465628e+04  1.465628e+04  1.465628e+04\n",
       "max    2.166645e+04  2.166645e+04  2.166645e+04  2.166645e+04"
      ]
     },
     "execution_count": 8,
     "metadata": {},
     "output_type": "execute_result"
    }
   ],
   "source": [
    "actions = dataset[rpm_list]\n",
    "actions.describe()"
   ]
  },
  {
   "cell_type": "markdown",
   "id": "broken-expression",
   "metadata": {},
   "source": [
    "#### Normalización de acciones"
   ]
  },
  {
   "cell_type": "code",
   "execution_count": 9,
   "id": "angry-metadata",
   "metadata": {},
   "outputs": [],
   "source": [
    "def normalize_df(df):\n",
    "    K = df.max().max()\n",
    "    df_norm = actions/K\n",
    "    return df_norm, {'K':K}"
   ]
  },
  {
   "cell_type": "code",
   "execution_count": 10,
   "id": "related-herald",
   "metadata": {},
   "outputs": [
    {
     "name": "stdout",
     "output_type": "stream",
     "text": [
      "{'K': 21666.4475}\n"
     ]
    }
   ],
   "source": [
    "actions, K = normalize_df(actions)\n",
    "print(K)\n",
    "#actions_norm.describe()"
   ]
  },
  {
   "cell_type": "markdown",
   "id": "polished-charm",
   "metadata": {},
   "source": [
    "#### Definimos los estados"
   ]
  },
  {
   "cell_type": "code",
   "execution_count": 11,
   "id": "neutral-stuff",
   "metadata": {},
   "outputs": [
    {
     "name": "stdout",
     "output_type": "stream",
     "text": [
      "columns = Index(['vz', 'az', 'uvz', 'vz1', 'vz2', 'vz3', 'az1', 'az2', 'az3', 'uvz1',\n",
      "       'uvz2', 'uvz3'],\n",
      "      dtype='object')\n",
      "shape = (8791987, 12)\n"
     ]
    }
   ],
   "source": [
    "states = dataset[states_list]\n",
    "print(f'columns = {states.columns}')\n",
    "print(f'shape = {states.shape}')\n",
    "#states.head()"
   ]
  },
  {
   "cell_type": "code",
   "execution_count": 12,
   "id": "unusual-sussex",
   "metadata": {},
   "outputs": [
    {
     "data": {
      "text/plain": [
       "80"
      ]
     },
     "execution_count": 12,
     "metadata": {},
     "output_type": "execute_result"
    }
   ],
   "source": [
    "del dataset\n",
    "gc.collect()"
   ]
  },
  {
   "cell_type": "markdown",
   "id": "adolescent-insertion",
   "metadata": {},
   "source": [
    "### Dividimos el dataset"
   ]
  },
  {
   "cell_type": "code",
   "execution_count": 13,
   "id": "adaptive-dressing",
   "metadata": {},
   "outputs": [
    {
     "data": {
      "text/plain": [
       "20"
      ]
     },
     "execution_count": 13,
     "metadata": {},
     "output_type": "execute_result"
    }
   ],
   "source": [
    "X_train, X_test, Y_train, Y_test = train_test_split(states, actions, test_size=0.1)\n",
    "del states, actions\n",
    "gc.collect()"
   ]
  },
  {
   "cell_type": "markdown",
   "id": "conservative-nowhere",
   "metadata": {},
   "source": [
    "## Keras Model"
   ]
  },
  {
   "cell_type": "markdown",
   "id": "realistic-clear",
   "metadata": {},
   "source": [
    "## Callbacks"
   ]
  },
  {
   "cell_type": "markdown",
   "id": "returning-stamp",
   "metadata": {},
   "source": [
    "#### Early Stopping"
   ]
  },
  {
   "cell_type": "code",
   "execution_count": 14,
   "id": "tribal-annex",
   "metadata": {},
   "outputs": [],
   "source": [
    "Early_Stopping = tf.keras.callbacks.EarlyStopping(monitor='val_loss', patience=5)"
   ]
  },
  {
   "cell_type": "markdown",
   "id": "frequent-faith",
   "metadata": {},
   "source": [
    "### Sintonización de Hyperparámetros"
   ]
  },
  {
   "cell_type": "code",
   "execution_count": 16,
   "id": "earlier-vermont",
   "metadata": {},
   "outputs": [],
   "source": [
    "from kerastuner import HyperModel\n",
    "from kerastuner.tuners import Hyperband"
   ]
  },
  {
   "cell_type": "markdown",
   "id": "spiritual-tactics",
   "metadata": {},
   "source": [
    "#### Definición del modelo"
   ]
  },
  {
   "cell_type": "code",
   "execution_count": 17,
   "id": "protecting-finder",
   "metadata": {},
   "outputs": [],
   "source": [
    "class ANNHyperModel(HyperModel):\n",
    "    def __init__(self, input_shape, output_shape):\n",
    "        self.input_shape = input_shape\n",
    "        self.output_shape = output_shape\n",
    "\n",
    "    def build(self, hp):\n",
    "        model = tf.keras.Sequential()\n",
    "        model.add( tf.keras.Input(shape=(self.input_shape, )) )\n",
    "        \n",
    "        model.add(\n",
    "            layers.Dense(\n",
    "                units=hp.Int('units', self.input_shape, 64, 8, default=self.input_shape),\n",
    "                activation='relu'\n",
    "            )\n",
    "        )\n",
    "        model.add(\n",
    "            layers.Dropout(rate=hp.Float(\n",
    "                'dropout',\n",
    "                min_value=0.0,\n",
    "                max_value=0.3,\n",
    "                default=0.2,\n",
    "                step=0.05,\n",
    "            ))\n",
    "        )\n",
    "        for i in range(hp.Int('num_layers', 1, 3)):\n",
    "            model.add(layers.Dense(units=hp.Int('units_' + str(i),\n",
    "                                            min_value=self.input_shape,\n",
    "                                            max_value=64,\n",
    "                                            step=8),\n",
    "                               activation='relu'))\n",
    "            \n",
    "        model.add(layers.Dense(self.output_shape, activation=tf.nn.sigmoid))\n",
    "        \n",
    "\n",
    "        model.compile(\n",
    "            optimizer=tf.keras.optimizers.Adam(\n",
    "                hp.Float(\n",
    "                    'learning_rate',\n",
    "                    min_value=1e-4,\n",
    "                    max_value=1e-2,\n",
    "                    sampling='LOG',\n",
    "                    default=1e-3\n",
    "                )\n",
    "            ),\n",
    "            loss='mean_squared_error',\n",
    "            metrics=['mean_squared_error']\n",
    "        )\n",
    "        return model"
   ]
  },
  {
   "cell_type": "markdown",
   "id": "apparent-actress",
   "metadata": {},
   "source": [
    "#### Compilado del Modelo"
   ]
  },
  {
   "cell_type": "code",
   "execution_count": 30,
   "id": "successful-regard",
   "metadata": {},
   "outputs": [],
   "source": [
    "HYPERBAND_MAX_EPOCHS = 40\n",
    "HYPERBAND_ITERATIONS = 20\n",
    "EXECUTION_PER_TRIAL = 2\n",
    "N_EPOCH_SEARCH = 40\n",
    "BATCH_SIZE = 50000\n",
    "SEED = 10"
   ]
  },
  {
   "cell_type": "code",
   "execution_count": 31,
   "id": "flying-eight",
   "metadata": {},
   "outputs": [
    {
     "name": "stdout",
     "output_type": "stream",
     "text": [
      "Search space summary\n",
      "Default search space size: 5\n",
      "units (Int)\n",
      "{'default': 12, 'conditions': [], 'min_value': 12, 'max_value': 64, 'step': 8, 'sampling': None}\n",
      "dropout (Float)\n",
      "{'default': 0.2, 'conditions': [], 'min_value': 0.0, 'max_value': 0.3, 'step': 0.05, 'sampling': None}\n",
      "num_layers (Int)\n",
      "{'default': None, 'conditions': [], 'min_value': 1, 'max_value': 3, 'step': 1, 'sampling': None}\n",
      "units_0 (Int)\n",
      "{'default': None, 'conditions': [], 'min_value': 12, 'max_value': 64, 'step': 8, 'sampling': None}\n",
      "learning_rate (Float)\n",
      "{'default': 0.001, 'conditions': [], 'min_value': 0.0001, 'max_value': 0.01, 'step': None, 'sampling': 'log'}\n"
     ]
    }
   ],
   "source": [
    "hypermodel = ANNHyperModel(input_shape=X_train.shape[1], output_shape=Y_train.shape[1])\n",
    "tuner = Hyperband(\n",
    "    hypermodel,\n",
    "    max_epochs=HYPERBAND_MAX_EPOCHS,\n",
    "    objective='val_mean_squared_error',\n",
    "    seed=SEED,\n",
    "    hyperband_iterations = HYPERBAND_ITERATIONS,\n",
    "    executions_per_trial= EXECUTION_PER_TRIAL,\n",
    "    directory=os.path.normpath('D:/'),\n",
    "    project_name='Controller '+dataset_name\n",
    ")\n",
    "tuner.search_space_summary()"
   ]
  },
  {
   "cell_type": "markdown",
   "id": "biological-keeping",
   "metadata": {},
   "source": [
    "#### Entrenamiento del Modelo"
   ]
  },
  {
   "cell_type": "code",
   "execution_count": 32,
   "id": "stone-mason",
   "metadata": {},
   "outputs": [
    {
     "name": "stdout",
     "output_type": "stream",
     "text": [
      "Trial 12 Complete [00h 00m 13s]\n",
      "val_mean_squared_error: 0.00017446925630792975\n",
      "\n",
      "Best val_mean_squared_error So Far: 9.66827356023714e-05\n",
      "Total elapsed time: 00h 03m 37s\n",
      "\n",
      "Search: Running Trial #13\n",
      "\n",
      "Hyperparameter    |Value             |Best Value So Far \n",
      "units             |28                |44                \n",
      "dropout           |0.25              |0                 \n",
      "num_layers        |3                 |2                 \n",
      "units_0           |20                |28                \n",
      "learning_rate     |0.00034913        |0.0090513         \n",
      "units_1           |36                |44                \n",
      "units_2           |20                |60                \n",
      "tuner/epochs      |2                 |5                 \n",
      "tuner/initial_e...|0                 |0                 \n",
      "tuner/bracket     |1                 |0                 \n",
      "tuner/round       |0                 |0                 \n",
      "\n",
      "Epoch 1/2\n",
      " 934/1126 [=======================>......] - ETA: 0s - loss: 0.0134 - mean_squared_error: 0.0134 ETA: 1s - loss: 0"
     ]
    },
    {
     "ename": "KeyboardInterrupt",
     "evalue": "",
     "output_type": "error",
     "traceback": [
      "\u001b[1;31m---------------------------------------------------------------------------\u001b[0m",
      "\u001b[1;31mKeyboardInterrupt\u001b[0m                         Traceback (most recent call last)",
      "\u001b[1;32m<timed eval>\u001b[0m in \u001b[0;36m<module>\u001b[1;34m\u001b[0m\n",
      "\u001b[1;32m~\\.conda\\envs\\tesis\\lib\\site-packages\\kerastuner\\engine\\base_tuner.py\u001b[0m in \u001b[0;36msearch\u001b[1;34m(self, *fit_args, **fit_kwargs)\u001b[0m\n\u001b[0;32m    129\u001b[0m \u001b[1;33m\u001b[0m\u001b[0m\n\u001b[0;32m    130\u001b[0m             \u001b[0mself\u001b[0m\u001b[1;33m.\u001b[0m\u001b[0mon_trial_begin\u001b[0m\u001b[1;33m(\u001b[0m\u001b[0mtrial\u001b[0m\u001b[1;33m)\u001b[0m\u001b[1;33m\u001b[0m\u001b[1;33m\u001b[0m\u001b[0m\n\u001b[1;32m--> 131\u001b[1;33m             \u001b[0mself\u001b[0m\u001b[1;33m.\u001b[0m\u001b[0mrun_trial\u001b[0m\u001b[1;33m(\u001b[0m\u001b[0mtrial\u001b[0m\u001b[1;33m,\u001b[0m \u001b[1;33m*\u001b[0m\u001b[0mfit_args\u001b[0m\u001b[1;33m,\u001b[0m \u001b[1;33m**\u001b[0m\u001b[0mfit_kwargs\u001b[0m\u001b[1;33m)\u001b[0m\u001b[1;33m\u001b[0m\u001b[1;33m\u001b[0m\u001b[0m\n\u001b[0m\u001b[0;32m    132\u001b[0m             \u001b[0mself\u001b[0m\u001b[1;33m.\u001b[0m\u001b[0mon_trial_end\u001b[0m\u001b[1;33m(\u001b[0m\u001b[0mtrial\u001b[0m\u001b[1;33m)\u001b[0m\u001b[1;33m\u001b[0m\u001b[1;33m\u001b[0m\u001b[0m\n\u001b[0;32m    133\u001b[0m         \u001b[0mself\u001b[0m\u001b[1;33m.\u001b[0m\u001b[0mon_search_end\u001b[0m\u001b[1;33m(\u001b[0m\u001b[1;33m)\u001b[0m\u001b[1;33m\u001b[0m\u001b[1;33m\u001b[0m\u001b[0m\n",
      "\u001b[1;32m~\\.conda\\envs\\tesis\\lib\\site-packages\\kerastuner\\tuners\\hyperband.py\u001b[0m in \u001b[0;36mrun_trial\u001b[1;34m(self, trial, *fit_args, **fit_kwargs)\u001b[0m\n\u001b[0;32m    352\u001b[0m             \u001b[0mfit_kwargs\u001b[0m\u001b[1;33m[\u001b[0m\u001b[1;34m'epochs'\u001b[0m\u001b[1;33m]\u001b[0m \u001b[1;33m=\u001b[0m \u001b[0mhp\u001b[0m\u001b[1;33m.\u001b[0m\u001b[0mvalues\u001b[0m\u001b[1;33m[\u001b[0m\u001b[1;34m'tuner/epochs'\u001b[0m\u001b[1;33m]\u001b[0m\u001b[1;33m\u001b[0m\u001b[1;33m\u001b[0m\u001b[0m\n\u001b[0;32m    353\u001b[0m             \u001b[0mfit_kwargs\u001b[0m\u001b[1;33m[\u001b[0m\u001b[1;34m'initial_epoch'\u001b[0m\u001b[1;33m]\u001b[0m \u001b[1;33m=\u001b[0m \u001b[0mhp\u001b[0m\u001b[1;33m.\u001b[0m\u001b[0mvalues\u001b[0m\u001b[1;33m[\u001b[0m\u001b[1;34m'tuner/initial_epoch'\u001b[0m\u001b[1;33m]\u001b[0m\u001b[1;33m\u001b[0m\u001b[1;33m\u001b[0m\u001b[0m\n\u001b[1;32m--> 354\u001b[1;33m         \u001b[0msuper\u001b[0m\u001b[1;33m(\u001b[0m\u001b[0mHyperband\u001b[0m\u001b[1;33m,\u001b[0m \u001b[0mself\u001b[0m\u001b[1;33m)\u001b[0m\u001b[1;33m.\u001b[0m\u001b[0mrun_trial\u001b[0m\u001b[1;33m(\u001b[0m\u001b[0mtrial\u001b[0m\u001b[1;33m,\u001b[0m \u001b[1;33m*\u001b[0m\u001b[0mfit_args\u001b[0m\u001b[1;33m,\u001b[0m \u001b[1;33m**\u001b[0m\u001b[0mfit_kwargs\u001b[0m\u001b[1;33m)\u001b[0m\u001b[1;33m\u001b[0m\u001b[1;33m\u001b[0m\u001b[0m\n\u001b[0m\u001b[0;32m    355\u001b[0m \u001b[1;33m\u001b[0m\u001b[0m\n\u001b[0;32m    356\u001b[0m     \u001b[1;32mdef\u001b[0m \u001b[0m_build_model\u001b[0m\u001b[1;33m(\u001b[0m\u001b[0mself\u001b[0m\u001b[1;33m,\u001b[0m \u001b[0mhp\u001b[0m\u001b[1;33m)\u001b[0m\u001b[1;33m:\u001b[0m\u001b[1;33m\u001b[0m\u001b[1;33m\u001b[0m\u001b[0m\n",
      "\u001b[1;32m~\\.conda\\envs\\tesis\\lib\\site-packages\\kerastuner\\engine\\multi_execution_tuner.py\u001b[0m in \u001b[0;36mrun_trial\u001b[1;34m(self, trial, *fit_args, **fit_kwargs)\u001b[0m\n\u001b[0;32m     94\u001b[0m             \u001b[0mcopied_fit_kwargs\u001b[0m\u001b[1;33m[\u001b[0m\u001b[1;34m'callbacks'\u001b[0m\u001b[1;33m]\u001b[0m \u001b[1;33m=\u001b[0m \u001b[0mcallbacks\u001b[0m\u001b[1;33m\u001b[0m\u001b[1;33m\u001b[0m\u001b[0m\n\u001b[0;32m     95\u001b[0m \u001b[1;33m\u001b[0m\u001b[0m\n\u001b[1;32m---> 96\u001b[1;33m             \u001b[0mhistory\u001b[0m \u001b[1;33m=\u001b[0m \u001b[0mself\u001b[0m\u001b[1;33m.\u001b[0m\u001b[0m_build_and_fit_model\u001b[0m\u001b[1;33m(\u001b[0m\u001b[0mtrial\u001b[0m\u001b[1;33m,\u001b[0m \u001b[0mfit_args\u001b[0m\u001b[1;33m,\u001b[0m \u001b[0mcopied_fit_kwargs\u001b[0m\u001b[1;33m)\u001b[0m\u001b[1;33m\u001b[0m\u001b[1;33m\u001b[0m\u001b[0m\n\u001b[0m\u001b[0;32m     97\u001b[0m             \u001b[1;32mfor\u001b[0m \u001b[0mmetric\u001b[0m\u001b[1;33m,\u001b[0m \u001b[0mepoch_values\u001b[0m \u001b[1;32min\u001b[0m \u001b[0mhistory\u001b[0m\u001b[1;33m.\u001b[0m\u001b[0mhistory\u001b[0m\u001b[1;33m.\u001b[0m\u001b[0mitems\u001b[0m\u001b[1;33m(\u001b[0m\u001b[1;33m)\u001b[0m\u001b[1;33m:\u001b[0m\u001b[1;33m\u001b[0m\u001b[1;33m\u001b[0m\u001b[0m\n\u001b[0;32m     98\u001b[0m                 \u001b[1;32mif\u001b[0m \u001b[0mself\u001b[0m\u001b[1;33m.\u001b[0m\u001b[0moracle\u001b[0m\u001b[1;33m.\u001b[0m\u001b[0mobjective\u001b[0m\u001b[1;33m.\u001b[0m\u001b[0mdirection\u001b[0m \u001b[1;33m==\u001b[0m \u001b[1;34m'min'\u001b[0m\u001b[1;33m:\u001b[0m\u001b[1;33m\u001b[0m\u001b[1;33m\u001b[0m\u001b[0m\n",
      "\u001b[1;32m~\\.conda\\envs\\tesis\\lib\\site-packages\\kerastuner\\engine\\tuner.py\u001b[0m in \u001b[0;36m_build_and_fit_model\u001b[1;34m(self, trial, fit_args, fit_kwargs)\u001b[0m\n\u001b[0;32m    139\u001b[0m         \"\"\"\n\u001b[0;32m    140\u001b[0m         \u001b[0mmodel\u001b[0m \u001b[1;33m=\u001b[0m \u001b[0mself\u001b[0m\u001b[1;33m.\u001b[0m\u001b[0mhypermodel\u001b[0m\u001b[1;33m.\u001b[0m\u001b[0mbuild\u001b[0m\u001b[1;33m(\u001b[0m\u001b[0mtrial\u001b[0m\u001b[1;33m.\u001b[0m\u001b[0mhyperparameters\u001b[0m\u001b[1;33m)\u001b[0m\u001b[1;33m\u001b[0m\u001b[1;33m\u001b[0m\u001b[0m\n\u001b[1;32m--> 141\u001b[1;33m         \u001b[1;32mreturn\u001b[0m \u001b[0mmodel\u001b[0m\u001b[1;33m.\u001b[0m\u001b[0mfit\u001b[0m\u001b[1;33m(\u001b[0m\u001b[1;33m*\u001b[0m\u001b[0mfit_args\u001b[0m\u001b[1;33m,\u001b[0m \u001b[1;33m**\u001b[0m\u001b[0mfit_kwargs\u001b[0m\u001b[1;33m)\u001b[0m\u001b[1;33m\u001b[0m\u001b[1;33m\u001b[0m\u001b[0m\n\u001b[0m\u001b[0;32m    142\u001b[0m \u001b[1;33m\u001b[0m\u001b[0m\n\u001b[0;32m    143\u001b[0m     \u001b[1;32mdef\u001b[0m \u001b[0mrun_trial\u001b[0m\u001b[1;33m(\u001b[0m\u001b[0mself\u001b[0m\u001b[1;33m,\u001b[0m \u001b[0mtrial\u001b[0m\u001b[1;33m,\u001b[0m \u001b[1;33m*\u001b[0m\u001b[0mfit_args\u001b[0m\u001b[1;33m,\u001b[0m \u001b[1;33m**\u001b[0m\u001b[0mfit_kwargs\u001b[0m\u001b[1;33m)\u001b[0m\u001b[1;33m:\u001b[0m\u001b[1;33m\u001b[0m\u001b[1;33m\u001b[0m\u001b[0m\n",
      "\u001b[1;32m~\\AppData\\Roaming\\Python\\Python38\\site-packages\\tensorflow\\python\\keras\\engine\\training.py\u001b[0m in \u001b[0;36mfit\u001b[1;34m(self, x, y, batch_size, epochs, verbose, callbacks, validation_split, validation_data, shuffle, class_weight, sample_weight, initial_epoch, steps_per_epoch, validation_steps, validation_batch_size, validation_freq, max_queue_size, workers, use_multiprocessing)\u001b[0m\n\u001b[0;32m   1098\u001b[0m                 _r=1):\n\u001b[0;32m   1099\u001b[0m               \u001b[0mcallbacks\u001b[0m\u001b[1;33m.\u001b[0m\u001b[0mon_train_batch_begin\u001b[0m\u001b[1;33m(\u001b[0m\u001b[0mstep\u001b[0m\u001b[1;33m)\u001b[0m\u001b[1;33m\u001b[0m\u001b[1;33m\u001b[0m\u001b[0m\n\u001b[1;32m-> 1100\u001b[1;33m               \u001b[0mtmp_logs\u001b[0m \u001b[1;33m=\u001b[0m \u001b[0mself\u001b[0m\u001b[1;33m.\u001b[0m\u001b[0mtrain_function\u001b[0m\u001b[1;33m(\u001b[0m\u001b[0miterator\u001b[0m\u001b[1;33m)\u001b[0m\u001b[1;33m\u001b[0m\u001b[1;33m\u001b[0m\u001b[0m\n\u001b[0m\u001b[0;32m   1101\u001b[0m               \u001b[1;32mif\u001b[0m \u001b[0mdata_handler\u001b[0m\u001b[1;33m.\u001b[0m\u001b[0mshould_sync\u001b[0m\u001b[1;33m:\u001b[0m\u001b[1;33m\u001b[0m\u001b[1;33m\u001b[0m\u001b[0m\n\u001b[0;32m   1102\u001b[0m                 \u001b[0mcontext\u001b[0m\u001b[1;33m.\u001b[0m\u001b[0masync_wait\u001b[0m\u001b[1;33m(\u001b[0m\u001b[1;33m)\u001b[0m\u001b[1;33m\u001b[0m\u001b[1;33m\u001b[0m\u001b[0m\n",
      "\u001b[1;32m~\\AppData\\Roaming\\Python\\Python38\\site-packages\\tensorflow\\python\\eager\\def_function.py\u001b[0m in \u001b[0;36m__call__\u001b[1;34m(self, *args, **kwds)\u001b[0m\n\u001b[0;32m    826\u001b[0m     \u001b[0mtracing_count\u001b[0m \u001b[1;33m=\u001b[0m \u001b[0mself\u001b[0m\u001b[1;33m.\u001b[0m\u001b[0mexperimental_get_tracing_count\u001b[0m\u001b[1;33m(\u001b[0m\u001b[1;33m)\u001b[0m\u001b[1;33m\u001b[0m\u001b[1;33m\u001b[0m\u001b[0m\n\u001b[0;32m    827\u001b[0m     \u001b[1;32mwith\u001b[0m \u001b[0mtrace\u001b[0m\u001b[1;33m.\u001b[0m\u001b[0mTrace\u001b[0m\u001b[1;33m(\u001b[0m\u001b[0mself\u001b[0m\u001b[1;33m.\u001b[0m\u001b[0m_name\u001b[0m\u001b[1;33m)\u001b[0m \u001b[1;32mas\u001b[0m \u001b[0mtm\u001b[0m\u001b[1;33m:\u001b[0m\u001b[1;33m\u001b[0m\u001b[1;33m\u001b[0m\u001b[0m\n\u001b[1;32m--> 828\u001b[1;33m       \u001b[0mresult\u001b[0m \u001b[1;33m=\u001b[0m \u001b[0mself\u001b[0m\u001b[1;33m.\u001b[0m\u001b[0m_call\u001b[0m\u001b[1;33m(\u001b[0m\u001b[1;33m*\u001b[0m\u001b[0margs\u001b[0m\u001b[1;33m,\u001b[0m \u001b[1;33m**\u001b[0m\u001b[0mkwds\u001b[0m\u001b[1;33m)\u001b[0m\u001b[1;33m\u001b[0m\u001b[1;33m\u001b[0m\u001b[0m\n\u001b[0m\u001b[0;32m    829\u001b[0m       \u001b[0mcompiler\u001b[0m \u001b[1;33m=\u001b[0m \u001b[1;34m\"xla\"\u001b[0m \u001b[1;32mif\u001b[0m \u001b[0mself\u001b[0m\u001b[1;33m.\u001b[0m\u001b[0m_experimental_compile\u001b[0m \u001b[1;32melse\u001b[0m \u001b[1;34m\"nonXla\"\u001b[0m\u001b[1;33m\u001b[0m\u001b[1;33m\u001b[0m\u001b[0m\n\u001b[0;32m    830\u001b[0m       \u001b[0mnew_tracing_count\u001b[0m \u001b[1;33m=\u001b[0m \u001b[0mself\u001b[0m\u001b[1;33m.\u001b[0m\u001b[0mexperimental_get_tracing_count\u001b[0m\u001b[1;33m(\u001b[0m\u001b[1;33m)\u001b[0m\u001b[1;33m\u001b[0m\u001b[1;33m\u001b[0m\u001b[0m\n",
      "\u001b[1;32m~\\AppData\\Roaming\\Python\\Python38\\site-packages\\tensorflow\\python\\eager\\def_function.py\u001b[0m in \u001b[0;36m_call\u001b[1;34m(self, *args, **kwds)\u001b[0m\n\u001b[0;32m    853\u001b[0m       \u001b[1;31m# In this case we have created variables on the first call, so we run the\u001b[0m\u001b[1;33m\u001b[0m\u001b[1;33m\u001b[0m\u001b[1;33m\u001b[0m\u001b[0m\n\u001b[0;32m    854\u001b[0m       \u001b[1;31m# defunned version which is guaranteed to never create variables.\u001b[0m\u001b[1;33m\u001b[0m\u001b[1;33m\u001b[0m\u001b[1;33m\u001b[0m\u001b[0m\n\u001b[1;32m--> 855\u001b[1;33m       \u001b[1;32mreturn\u001b[0m \u001b[0mself\u001b[0m\u001b[1;33m.\u001b[0m\u001b[0m_stateless_fn\u001b[0m\u001b[1;33m(\u001b[0m\u001b[1;33m*\u001b[0m\u001b[0margs\u001b[0m\u001b[1;33m,\u001b[0m \u001b[1;33m**\u001b[0m\u001b[0mkwds\u001b[0m\u001b[1;33m)\u001b[0m  \u001b[1;31m# pylint: disable=not-callable\u001b[0m\u001b[1;33m\u001b[0m\u001b[1;33m\u001b[0m\u001b[0m\n\u001b[0m\u001b[0;32m    856\u001b[0m     \u001b[1;32melif\u001b[0m \u001b[0mself\u001b[0m\u001b[1;33m.\u001b[0m\u001b[0m_stateful_fn\u001b[0m \u001b[1;32mis\u001b[0m \u001b[1;32mnot\u001b[0m \u001b[1;32mNone\u001b[0m\u001b[1;33m:\u001b[0m\u001b[1;33m\u001b[0m\u001b[1;33m\u001b[0m\u001b[0m\n\u001b[0;32m    857\u001b[0m       \u001b[1;31m# Release the lock early so that multiple threads can perform the call\u001b[0m\u001b[1;33m\u001b[0m\u001b[1;33m\u001b[0m\u001b[1;33m\u001b[0m\u001b[0m\n",
      "\u001b[1;32m~\\AppData\\Roaming\\Python\\Python38\\site-packages\\tensorflow\\python\\eager\\function.py\u001b[0m in \u001b[0;36m__call__\u001b[1;34m(self, *args, **kwargs)\u001b[0m\n\u001b[0;32m   2940\u001b[0m       (graph_function,\n\u001b[0;32m   2941\u001b[0m        filtered_flat_args) = self._maybe_define_function(args, kwargs)\n\u001b[1;32m-> 2942\u001b[1;33m     return graph_function._call_flat(\n\u001b[0m\u001b[0;32m   2943\u001b[0m         filtered_flat_args, captured_inputs=graph_function.captured_inputs)  # pylint: disable=protected-access\n\u001b[0;32m   2944\u001b[0m \u001b[1;33m\u001b[0m\u001b[0m\n",
      "\u001b[1;32m~\\AppData\\Roaming\\Python\\Python38\\site-packages\\tensorflow\\python\\eager\\function.py\u001b[0m in \u001b[0;36m_call_flat\u001b[1;34m(self, args, captured_inputs, cancellation_manager)\u001b[0m\n\u001b[0;32m   1916\u001b[0m         and executing_eagerly):\n\u001b[0;32m   1917\u001b[0m       \u001b[1;31m# No tape is watching; skip to running the function.\u001b[0m\u001b[1;33m\u001b[0m\u001b[1;33m\u001b[0m\u001b[1;33m\u001b[0m\u001b[0m\n\u001b[1;32m-> 1918\u001b[1;33m       return self._build_call_outputs(self._inference_function.call(\n\u001b[0m\u001b[0;32m   1919\u001b[0m           ctx, args, cancellation_manager=cancellation_manager))\n\u001b[0;32m   1920\u001b[0m     forward_backward = self._select_forward_and_backward_functions(\n",
      "\u001b[1;32m~\\AppData\\Roaming\\Python\\Python38\\site-packages\\tensorflow\\python\\eager\\function.py\u001b[0m in \u001b[0;36mcall\u001b[1;34m(self, ctx, args, cancellation_manager)\u001b[0m\n\u001b[0;32m    553\u001b[0m       \u001b[1;32mwith\u001b[0m \u001b[0m_InterpolateFunctionError\u001b[0m\u001b[1;33m(\u001b[0m\u001b[0mself\u001b[0m\u001b[1;33m)\u001b[0m\u001b[1;33m:\u001b[0m\u001b[1;33m\u001b[0m\u001b[1;33m\u001b[0m\u001b[0m\n\u001b[0;32m    554\u001b[0m         \u001b[1;32mif\u001b[0m \u001b[0mcancellation_manager\u001b[0m \u001b[1;32mis\u001b[0m \u001b[1;32mNone\u001b[0m\u001b[1;33m:\u001b[0m\u001b[1;33m\u001b[0m\u001b[1;33m\u001b[0m\u001b[0m\n\u001b[1;32m--> 555\u001b[1;33m           outputs = execute.execute(\n\u001b[0m\u001b[0;32m    556\u001b[0m               \u001b[0mstr\u001b[0m\u001b[1;33m(\u001b[0m\u001b[0mself\u001b[0m\u001b[1;33m.\u001b[0m\u001b[0msignature\u001b[0m\u001b[1;33m.\u001b[0m\u001b[0mname\u001b[0m\u001b[1;33m)\u001b[0m\u001b[1;33m,\u001b[0m\u001b[1;33m\u001b[0m\u001b[1;33m\u001b[0m\u001b[0m\n\u001b[0;32m    557\u001b[0m               \u001b[0mnum_outputs\u001b[0m\u001b[1;33m=\u001b[0m\u001b[0mself\u001b[0m\u001b[1;33m.\u001b[0m\u001b[0m_num_outputs\u001b[0m\u001b[1;33m,\u001b[0m\u001b[1;33m\u001b[0m\u001b[1;33m\u001b[0m\u001b[0m\n",
      "\u001b[1;32m~\\AppData\\Roaming\\Python\\Python38\\site-packages\\tensorflow\\python\\eager\\execute.py\u001b[0m in \u001b[0;36mquick_execute\u001b[1;34m(op_name, num_outputs, inputs, attrs, ctx, name)\u001b[0m\n\u001b[0;32m     57\u001b[0m   \u001b[1;32mtry\u001b[0m\u001b[1;33m:\u001b[0m\u001b[1;33m\u001b[0m\u001b[1;33m\u001b[0m\u001b[0m\n\u001b[0;32m     58\u001b[0m     \u001b[0mctx\u001b[0m\u001b[1;33m.\u001b[0m\u001b[0mensure_initialized\u001b[0m\u001b[1;33m(\u001b[0m\u001b[1;33m)\u001b[0m\u001b[1;33m\u001b[0m\u001b[1;33m\u001b[0m\u001b[0m\n\u001b[1;32m---> 59\u001b[1;33m     tensors = pywrap_tfe.TFE_Py_Execute(ctx._handle, device_name, op_name,\n\u001b[0m\u001b[0;32m     60\u001b[0m                                         inputs, attrs, num_outputs)\n\u001b[0;32m     61\u001b[0m   \u001b[1;32mexcept\u001b[0m \u001b[0mcore\u001b[0m\u001b[1;33m.\u001b[0m\u001b[0m_NotOkStatusException\u001b[0m \u001b[1;32mas\u001b[0m \u001b[0me\u001b[0m\u001b[1;33m:\u001b[0m\u001b[1;33m\u001b[0m\u001b[1;33m\u001b[0m\u001b[0m\n",
      "\u001b[1;31mKeyboardInterrupt\u001b[0m: "
     ]
    }
   ],
   "source": [
    "%%time\n",
    "tuner.search(X_train, Y_train, epochs=N_EPOCH_SEARCH, validation_split=0.2, batch_size=BATCH_SIZE, callbacks=[Early_Stopping], verbose=1)"
   ]
  },
  {
   "cell_type": "code",
   "execution_count": 33,
   "id": "conservative-germany",
   "metadata": {},
   "outputs": [
    {
     "name": "stdout",
     "output_type": "stream",
     "text": [
      "\n",
      "The hyperparameter search is complete. The optimal number of units in the first densely-connected\n",
      "layer is 44 and the optimal learning rate for the optimizer\n",
      "is 0.00905127409782462.\n",
      "\n"
     ]
    }
   ],
   "source": [
    "# Get the optimal hyperparameters\n",
    "best_hps=tuner.get_best_hyperparameters(num_trials=1)[0]\n",
    "\n",
    "print(f\"\"\"\n",
    "The hyperparameter search is complete. The optimal number of units in the first densely-connected\n",
    "layer is {best_hps.get('units')} and the optimal learning rate for the optimizer\n",
    "is {best_hps.get('learning_rate')}.\n",
    "\"\"\")"
   ]
  },
  {
   "cell_type": "code",
   "execution_count": 34,
   "id": "hydraulic-dublin",
   "metadata": {},
   "outputs": [
    {
     "name": "stdout",
     "output_type": "stream",
     "text": [
      "Epoch 1/5\n",
      "1126/1126 [==============================] - 6s 5ms/step - loss: 0.0012 - mean_squared_error: 0.0012 - val_loss: 1.0741e-04 - val_mean_squared_error: 1.0741e-04\n",
      "Epoch 2/5\n",
      "1126/1126 [==============================] - 5s 5ms/step - loss: 1.0191e-04 - mean_squared_error: 1.0191e-04 - val_loss: 9.5755e-05 - val_mean_squared_error: 9.5755e-05\n",
      "Epoch 3/5\n",
      "1126/1126 [==============================] - 6s 5ms/step - loss: 9.4938e-05 - mean_squared_error: 9.4938e-05 - val_loss: 9.4080e-05 - val_mean_squared_error: 9.4080e-05\n",
      "Epoch 4/5\n",
      "1126/1126 [==============================] - 5s 5ms/step - loss: 9.3294e-05 - mean_squared_error: 9.3294e-05 - val_loss: 9.2617e-05 - val_mean_squared_error: 9.2617e-05\n",
      "Epoch 5/5\n",
      "1126/1126 [==============================] - 6s 5ms/step - loss: 8.9040e-05 - mean_squared_error: 8.9040e-05 - val_loss: 9.6163e-05 - val_mean_squared_error: 9.6163e-05\n",
      "Best epoch: 1\n"
     ]
    }
   ],
   "source": [
    "models = tuner.get_best_models(num_models=3)"
   ]
  },
  {
   "cell_type": "code",
   "execution_count": null,
   "id": "center-recovery",
   "metadata": {},
   "outputs": [],
   "source": [
    "tuner.results_summary()"
   ]
  },
  {
   "cell_type": "markdown",
   "id": "sized-differential",
   "metadata": {},
   "source": [
    "#### Evaluación del Modelo"
   ]
  },
  {
   "cell_type": "code",
   "execution_count": 35,
   "id": "ahead-delhi",
   "metadata": {},
   "outputs": [
    {
     "name": "stdout",
     "output_type": "stream",
     "text": [
      "54950/54950 [==============================] - 115s 2ms/step - loss: 9.3020e-05 - mean_squared_error: 9.3020e-050s - loss: 9.3069e-05 - me\n",
      "[test_loss, test_mean_squared_error]: [9.30200912989676e-05, 9.30200912989676e-05]\n"
     ]
    }
   ],
   "source": [
    "eval_result = models[0].evaluate(X_test, Y_test)\n",
    "print(\"[test_loss, test_mean_squared_error]:\", eval_result)"
   ]
  },
  {
   "cell_type": "markdown",
   "id": "accepting-photography",
   "metadata": {},
   "source": [
    "#### Se guarda el Modelo"
   ]
  },
  {
   "cell_type": "code",
   "execution_count": 36,
   "id": "universal-fraud",
   "metadata": {},
   "outputs": [],
   "source": [
    "for i in models:    \n",
    "    I = \"Hp_Tunning_\"+str(i)\n",
    "    model.save(f'../Models/{dataset_name}_{I}.h5')"
   ]
  },
  {
   "cell_type": "code",
   "execution_count": 37,
   "id": "excessive-meaning",
   "metadata": {},
   "outputs": [
    {
     "name": "stdout",
     "output_type": "stream",
     "text": [
      "Model: \"sequential_1\"\n",
      "_________________________________________________________________\n",
      "Layer (type)                 Output Shape              Param #   \n",
      "=================================================================\n",
      "dense_5 (Dense)              (None, 44)                572       \n",
      "_________________________________________________________________\n",
      "dropout_1 (Dropout)          (None, 44)                0         \n",
      "_________________________________________________________________\n",
      "dense_6 (Dense)              (None, 28)                1260      \n",
      "_________________________________________________________________\n",
      "dense_7 (Dense)              (None, 44)                1276      \n",
      "_________________________________________________________________\n",
      "dense_8 (Dense)              (None, 4)                 180       \n",
      "=================================================================\n",
      "Total params: 3,288\n",
      "Trainable params: 3,288\n",
      "Non-trainable params: 0\n",
      "_________________________________________________________________\n"
     ]
    }
   ],
   "source": [
    "model = tf.keras.models.load_model(f'../Models/{dataset_name}_{I}.h5')\n",
    "model.summary()"
   ]
  },
  {
   "cell_type": "code",
   "execution_count": 38,
   "id": "outstanding-tower",
   "metadata": {},
   "outputs": [
    {
     "name": "stdout",
     "output_type": "stream",
     "text": [
      "[[14422.158 14432.703 14432.419 14439.1  ]]\n",
      "[[13194.632  13218.592  13181.004  13178.7295]]\n",
      "[[14610.773 14608.131 14613.357 14619.333]]\n",
      "Wall time: 254 ms\n"
     ]
    }
   ],
   "source": [
    "%%time\n",
    "x_test = X_test.sample(n=3, random_state=1)\n",
    "for index, sample in x_test.iterrows():\n",
    "    print(model.predict([list(sample)])*K['K'])"
   ]
  },
  {
   "cell_type": "code",
   "execution_count": 39,
   "id": "transparent-armor",
   "metadata": {},
   "outputs": [
    {
     "name": "stdout",
     "output_type": "stream",
     "text": [
      "[[21374.953 21337.012 21357.309 21373.518]]\n",
      "Wall time: 52 ms\n"
     ]
    }
   ],
   "source": [
    "%%time\n",
    "x_test = [0]*len(states_list)\n",
    "x_test[0] = 1\n",
    "x_test[1] = -9.8\n",
    "x_test[2] = 3\n",
    "print(model.predict([list(x_test)])*K['K'])"
   ]
  },
  {
   "cell_type": "code",
   "execution_count": null,
   "id": "subtle-miami",
   "metadata": {},
   "outputs": [],
   "source": []
  }
 ],
 "metadata": {
  "kernelspec": {
   "display_name": "Python 3",
   "language": "python",
   "name": "python3"
  },
  "language_info": {
   "codemirror_mode": {
    "name": "ipython",
    "version": 3
   },
   "file_extension": ".py",
   "mimetype": "text/x-python",
   "name": "python",
   "nbconvert_exporter": "python",
   "pygments_lexer": "ipython3",
   "version": "3.8.5"
  }
 },
 "nbformat": 4,
 "nbformat_minor": 5
}
